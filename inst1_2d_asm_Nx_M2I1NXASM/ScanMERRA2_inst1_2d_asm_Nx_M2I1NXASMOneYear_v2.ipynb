{
 "cells": [
  {
   "cell_type": "markdown",
   "metadata": {},
   "source": [
    "# Scan MERRA-2 atmospheric properties during one Year\n",
    "----------------------------------------------------------------------------------\n",
    "\n",
    "- author: Sylvie Dagoret-Campagne\n",
    "- creation January 12 2017\n",
    "- update January 16 2016\n",
    "\n",
    "Link:\n",
    "\n",
    "http://disc.sci.gsfc.nasa.gov/datareleases/merra_2_data_release\n",
    "\n",
    "### purpose:\n",
    "\n",
    "Scan One month of MERRA-2 predictions of the dataset inst1_2d_asm_Nx_M2I1NXASM. \n",
    "Extract the relevant atmospheric variables.\n",
    "Build the correcponding time series and dataset in pandas.\n",
    "Plot the variables. Save the pandas dataset into a file.\n",
    "Convert the pandas dataset into an astropy fits table and save into a fits file as well.\n",
    "\n"
   ]
  },
  {
   "cell_type": "markdown",
   "metadata": {},
   "source": [
    "## 1) python libraries\n",
    "---------------------------"
   ]
  },
  {
   "cell_type": "code",
   "execution_count": 59,
   "metadata": {
    "collapsed": false
   },
   "outputs": [],
   "source": [
    "# Set up matplotlib and use a nicer set of plot parameters\n",
    "%config InlineBackend.rc = {}\n",
    "import matplotlib\n",
    "import matplotlib as mpl\n",
    "matplotlib.rc_file(\"templates/matplotlibrc\")\n",
    "import matplotlib.pyplot as plt\n",
    "%matplotlib inline"
   ]
  },
  {
   "cell_type": "code",
   "execution_count": 60,
   "metadata": {
    "collapsed": true
   },
   "outputs": [],
   "source": [
    "import datetime"
   ]
  },
  {
   "cell_type": "code",
   "execution_count": 61,
   "metadata": {
    "collapsed": true
   },
   "outputs": [],
   "source": [
    "from matplotlib.dates import MonthLocator, WeekdayLocator,DateFormatter\n",
    "from matplotlib.dates import MONDAY"
   ]
  },
  {
   "cell_type": "code",
   "execution_count": 62,
   "metadata": {
    "collapsed": false
   },
   "outputs": [],
   "source": [
    "mondays = WeekdayLocator(MONDAY)\n",
    "months = MonthLocator(range(1, 13), bymonthday=1, interval=1)\n",
    "monthsFmt = DateFormatter(\"%b '%y\")"
   ]
  },
  {
   "cell_type": "code",
   "execution_count": 63,
   "metadata": {
    "collapsed": false
   },
   "outputs": [],
   "source": [
    "import os\n",
    "import re\n",
    "import numpy as np\n",
    "from mpl_toolkits.basemap import Basemap\n",
    "from matplotlib import colors\n",
    "from matplotlib.backends.backend_pdf import PdfPages\n",
    "import pandas as pd"
   ]
  },
  {
   "cell_type": "code",
   "execution_count": 64,
   "metadata": {
    "collapsed": true
   },
   "outputs": [],
   "source": [
    "from astropy import units as u\n",
    "from astropy.coordinates import SkyCoord\n",
    "\n",
    "from astropy.table import Table"
   ]
  },
  {
   "cell_type": "code",
   "execution_count": 65,
   "metadata": {
    "collapsed": true
   },
   "outputs": [],
   "source": [
    "import h5py"
   ]
  },
  {
   "cell_type": "code",
   "execution_count": 66,
   "metadata": {
    "collapsed": false
   },
   "outputs": [],
   "source": [
    "import libGMAOMERRA2Data as merra2  # My own library"
   ]
  },
  {
   "cell_type": "code",
   "execution_count": 67,
   "metadata": {
    "collapsed": false
   },
   "outputs": [],
   "source": [
    "############################################################################\n",
    "def ensure_dir(f):\n",
    "    d = os.path.dirname(f)\n",
    "    if not os.path.exists(f):\n",
    "        os.makedirs(f)\n",
    "#########################################################################"
   ]
  },
  {
   "cell_type": "markdown",
   "metadata": {},
   "source": [
    "## 2)  Configuration\n",
    "-------------------------"
   ]
  },
  {
   "cell_type": "code",
   "execution_count": null,
   "metadata": {
    "collapsed": true
   },
   "outputs": [],
   "source": []
  },
  {
   "cell_type": "code",
   "execution_count": 68,
   "metadata": {
    "collapsed": true
   },
   "outputs": [],
   "source": [
    "# SELECT OBSERVATORY\n",
    "OBS_NAME='ohp'"
   ]
  },
  {
   "cell_type": "code",
   "execution_count": 69,
   "metadata": {
    "collapsed": false
   },
   "outputs": [],
   "source": [
    "# where are the HDF files\n",
    "HDFEOS_ZOO_DIR=\"/Volumes/LaCie2/DATA/MERRA-2/inst1_2d_asm_Nx_M2I1NXASM\""
   ]
  },
  {
   "cell_type": "code",
   "execution_count": 70,
   "metadata": {
    "collapsed": false
   },
   "outputs": [],
   "source": [
    "path=HDFEOS_ZOO_DIR"
   ]
  },
  {
   "cell_type": "markdown",
   "metadata": {},
   "source": [
    "### Here I describe the content of the input files"
   ]
  },
  {
   "cell_type": "code",
   "execution_count": 71,
   "metadata": {
    "collapsed": true
   },
   "outputs": [],
   "source": [
    "DATA_TAG=['PS','T10M','T2M','TO3','TOX','TQI','TQL','TS','U10M','U2M','U50M','V10M','V2M','V50M' ]"
   ]
  },
  {
   "cell_type": "code",
   "execution_count": 72,
   "metadata": {
    "collapsed": true
   },
   "outputs": [],
   "source": [
    "DATA_TITLE=['Surface Pressure',\n",
    "            '10 meter air temperature',\n",
    "            '2 meter air temperature',\n",
    "            'total column ozone',\n",
    "            'total column odd oxygen',\n",
    "            'total precipitable ice water',\n",
    "            'total precipitable liquid water',\n",
    "            'Surface Temperature skin',\n",
    "            '10 meter eastward wind',\n",
    "            '2 meter eastward wind',\n",
    "            '50 meter eastward wind',\n",
    "            '10 meter northward wind',\n",
    "            '2 meter northward wind',\n",
    "            '50 meter northward wind'\n",
    "           ]"
   ]
  },
  {
   "cell_type": "code",
   "execution_count": 73,
   "metadata": {
    "collapsed": true
   },
   "outputs": [],
   "source": [
    "NB_DATAFIELDS=len(DATA_TAG)"
   ]
  },
  {
   "cell_type": "markdown",
   "metadata": {},
   "source": [
    "### List of output files"
   ]
  },
  {
   "cell_type": "code",
   "execution_count": 74,
   "metadata": {
    "collapsed": true
   },
   "outputs": [],
   "source": [
    "# The selected data field\n",
    "DATA_NAME =  'inst1_2d_asm_Nx_M2I1NXASM'   # "
   ]
  },
  {
   "cell_type": "code",
   "execution_count": 75,
   "metadata": {
    "collapsed": false
   },
   "outputs": [],
   "source": [
    "pandas_filename='MERRA2_2016_'+DATA_NAME+'_'+OBS_NAME+'_'+'AllYear'+'.csv'"
   ]
  },
  {
   "cell_type": "code",
   "execution_count": 76,
   "metadata": {
    "collapsed": true
   },
   "outputs": [],
   "source": [
    "fits_filename='MERRA2_2016_'+DATA_NAME+'_'+OBS_NAME+'_'+'AllYear' +'.fits'"
   ]
  },
  {
   "cell_type": "code",
   "execution_count": 77,
   "metadata": {
    "collapsed": true
   },
   "outputs": [],
   "source": [
    "# 14 output files for figures\n",
    "figfile_ps='GMAO_MERRA2_2016_'+DATA_NAME+'_'+OBS_NAME+'_'+'AllYear'+'_ps'+'.jpg'\n",
    "figfile_t10='GMAO_MERRA2_2016_'+DATA_NAME+'_'+OBS_NAME+'_'+'AllYear'+'_t10'+'.jpg'\n",
    "figfile_t2='GMAO_MERRA2_2016_'+DATA_NAME+'_'+OBS_NAME+'_'+'AllYear'+'_t2'+'.jpg'\n",
    "figfile_to3='GMAO_MERRA2_2016_'+DATA_NAME+'_'+OBS_NAME+'_'+'AllYear'+'_to3'+'.jpg'\n",
    "figfile_tox='GMAO_MERRA2_2016_'+DATA_NAME+'_'+OBS_NAME+'_'+'AllYear'+'_tox'+'.jpg'\n",
    "figfile_tqi='GMAO_MERRA2_2016_'+DATA_NAME+'_'+OBS_NAME+'_'+'AllYear'+'_tqi'+'.jpg'\n",
    "figfile_tql='GMAO_MERRA2_2016_'+DATA_NAME+'_'+OBS_NAME+'_'+'AllYear'+'_tql'+'.jpg'\n",
    "figfile_ts='GMAO_MERRA2_2016_'+DATA_NAME+'_'+OBS_NAME+'_'+'AllYear'+'_ts'+'.jpg'\n",
    "figfile_u10m='GMAO_MERRA2_2016_'+DATA_NAME+'_'+OBS_NAME+'_'+'AllYear'+'_u10m'+'.jpg'\n",
    "figfile_u2m='GMAO_MERRA2_2016_'+DATA_NAME+'_'+OBS_NAME+'_'+'AllYear'+'_u2m'+'.jpg'\n",
    "figfile_u50m='GMAO_MERRA2_2016_'+DATA_NAME+'_'+OBS_NAME+'_'+'AllYear'+'_u50m'+'.jpg'\n",
    "figfile_v10m='GMAO_MERRA2_2016_'+DATA_NAME+'_'+OBS_NAME+'_'+'AllYear'+'_v10m'+'.jpg'\n",
    "figfile_v2m='GMAO_MERRA2_2016_'+DATA_NAME+'_'+OBS_NAME+'_'+'AllYear'+'_v2m'+'.jpg'\n",
    "figfile_v50m='GMAO_MERRA2_2016_'+DATA_NAME+'_'+OBS_NAME+'_'+'AllYear'+'_v50m'+'.jpg'"
   ]
  },
  {
   "cell_type": "markdown",
   "metadata": {},
   "source": [
    "### Select where in the world"
   ]
  },
  {
   "cell_type": "code",
   "execution_count": 78,
   "metadata": {
    "collapsed": false
   },
   "outputs": [],
   "source": [
    "# Select observatory\n",
    "loc=merra2.observatory_location(OBS_NAME)"
   ]
  },
  {
   "cell_type": "code",
   "execution_count": 79,
   "metadata": {
    "collapsed": false
   },
   "outputs": [
    {
     "data": {
      "text/plain": [
       "(5.71222222222, 43.9316666667, 650.0)"
      ]
     },
     "execution_count": 79,
     "metadata": {},
     "output_type": "execute_result"
    }
   ],
   "source": [
    "loc"
   ]
  },
  {
   "cell_type": "markdown",
   "metadata": {},
   "source": [
    "### 2.2) Getting the list of the files\n",
    "------------------------------"
   ]
  },
  {
   "cell_type": "code",
   "execution_count": 80,
   "metadata": {
    "collapsed": true
   },
   "outputs": [],
   "source": [
    "nc4_files = [f for f in os.listdir(path) if f.endswith('.nc4')]  "
   ]
  },
  {
   "cell_type": "code",
   "execution_count": 81,
   "metadata": {
    "collapsed": false
   },
   "outputs": [
    {
     "data": {
      "text/plain": [
       "['MERRA2_400.inst1_2d_asm_Nx.20160101.nc4',\n",
       " 'MERRA2_400.inst1_2d_asm_Nx.20160102.nc4',\n",
       " 'MERRA2_400.inst1_2d_asm_Nx.20160103.nc4',\n",
       " 'MERRA2_400.inst1_2d_asm_Nx.20160104.nc4',\n",
       " 'MERRA2_400.inst1_2d_asm_Nx.20160105.nc4']"
      ]
     },
     "execution_count": 81,
     "metadata": {},
     "output_type": "execute_result"
    }
   ],
   "source": [
    "nc4_files[:5]"
   ]
  },
  {
   "cell_type": "markdown",
   "metadata": {},
   "source": [
    "### 2.3) Select files of a given month"
   ]
  },
  {
   "cell_type": "code",
   "execution_count": 82,
   "metadata": {
    "collapsed": true
   },
   "outputs": [],
   "source": [
    "keysel_filename='^MERRA2_400.inst1_2d_asm_Nx.2016.*'"
   ]
  },
  {
   "cell_type": "code",
   "execution_count": 83,
   "metadata": {
    "collapsed": false
   },
   "outputs": [
    {
     "name": "stdout",
     "output_type": "stream",
     "text": [
      "Selection key ^MERRA2_400.inst1_2d_asm_Nx.2016.*\n"
     ]
    }
   ],
   "source": [
    "print 'Selection key' ,keysel_filename"
   ]
  },
  {
   "cell_type": "code",
   "execution_count": 84,
   "metadata": {
    "collapsed": false
   },
   "outputs": [],
   "source": [
    "nc4_files2 = []\n",
    "for file in nc4_files:\n",
    "    if re.findall(keysel_filename,file):\n",
    "        nc4_files2.append(file)\n",
    "\n",
    "nc4_files2=np.array(nc4_files2)"
   ]
  },
  {
   "cell_type": "code",
   "execution_count": 85,
   "metadata": {
    "collapsed": false
   },
   "outputs": [
    {
     "data": {
      "text/plain": [
       "array(['MERRA2_400.inst1_2d_asm_Nx.20160101.nc4',\n",
       "       'MERRA2_400.inst1_2d_asm_Nx.20160102.nc4',\n",
       "       'MERRA2_400.inst1_2d_asm_Nx.20160103.nc4',\n",
       "       'MERRA2_400.inst1_2d_asm_Nx.20160104.nc4',\n",
       "       'MERRA2_400.inst1_2d_asm_Nx.20160105.nc4',\n",
       "       'MERRA2_400.inst1_2d_asm_Nx.20160106.nc4',\n",
       "       'MERRA2_400.inst1_2d_asm_Nx.20160107.nc4',\n",
       "       'MERRA2_400.inst1_2d_asm_Nx.20160108.nc4',\n",
       "       'MERRA2_400.inst1_2d_asm_Nx.20160109.nc4',\n",
       "       'MERRA2_400.inst1_2d_asm_Nx.20160110.nc4',\n",
       "       'MERRA2_400.inst1_2d_asm_Nx.20160111.nc4',\n",
       "       'MERRA2_400.inst1_2d_asm_Nx.20160112.nc4',\n",
       "       'MERRA2_400.inst1_2d_asm_Nx.20160113.nc4',\n",
       "       'MERRA2_400.inst1_2d_asm_Nx.20160114.nc4',\n",
       "       'MERRA2_400.inst1_2d_asm_Nx.20160115.nc4',\n",
       "       'MERRA2_400.inst1_2d_asm_Nx.20160116.nc4',\n",
       "       'MERRA2_400.inst1_2d_asm_Nx.20160117.nc4',\n",
       "       'MERRA2_400.inst1_2d_asm_Nx.20160118.nc4',\n",
       "       'MERRA2_400.inst1_2d_asm_Nx.20160119.nc4',\n",
       "       'MERRA2_400.inst1_2d_asm_Nx.20160120.nc4',\n",
       "       'MERRA2_400.inst1_2d_asm_Nx.20160121.nc4',\n",
       "       'MERRA2_400.inst1_2d_asm_Nx.20160122.nc4',\n",
       "       'MERRA2_400.inst1_2d_asm_Nx.20160123.nc4',\n",
       "       'MERRA2_400.inst1_2d_asm_Nx.20160124.nc4',\n",
       "       'MERRA2_400.inst1_2d_asm_Nx.20160125.nc4',\n",
       "       'MERRA2_400.inst1_2d_asm_Nx.20160126.nc4',\n",
       "       'MERRA2_400.inst1_2d_asm_Nx.20160127.nc4',\n",
       "       'MERRA2_400.inst1_2d_asm_Nx.20160128.nc4',\n",
       "       'MERRA2_400.inst1_2d_asm_Nx.20160129.nc4',\n",
       "       'MERRA2_400.inst1_2d_asm_Nx.20160130.nc4',\n",
       "       'MERRA2_400.inst1_2d_asm_Nx.20160131.nc4',\n",
       "       'MERRA2_400.inst1_2d_asm_Nx.20160201.nc4',\n",
       "       'MERRA2_400.inst1_2d_asm_Nx.20160202.nc4',\n",
       "       'MERRA2_400.inst1_2d_asm_Nx.20160203.nc4',\n",
       "       'MERRA2_400.inst1_2d_asm_Nx.20160204.nc4',\n",
       "       'MERRA2_400.inst1_2d_asm_Nx.20160205.nc4',\n",
       "       'MERRA2_400.inst1_2d_asm_Nx.20160206.nc4',\n",
       "       'MERRA2_400.inst1_2d_asm_Nx.20160207.nc4',\n",
       "       'MERRA2_400.inst1_2d_asm_Nx.20160208.nc4',\n",
       "       'MERRA2_400.inst1_2d_asm_Nx.20160209.nc4',\n",
       "       'MERRA2_400.inst1_2d_asm_Nx.20160210.nc4',\n",
       "       'MERRA2_400.inst1_2d_asm_Nx.20160211.nc4',\n",
       "       'MERRA2_400.inst1_2d_asm_Nx.20160212.nc4',\n",
       "       'MERRA2_400.inst1_2d_asm_Nx.20160213.nc4',\n",
       "       'MERRA2_400.inst1_2d_asm_Nx.20160214.nc4',\n",
       "       'MERRA2_400.inst1_2d_asm_Nx.20160215.nc4',\n",
       "       'MERRA2_400.inst1_2d_asm_Nx.20160216.nc4',\n",
       "       'MERRA2_400.inst1_2d_asm_Nx.20160217.nc4',\n",
       "       'MERRA2_400.inst1_2d_asm_Nx.20160218.nc4',\n",
       "       'MERRA2_400.inst1_2d_asm_Nx.20160219.nc4',\n",
       "       'MERRA2_400.inst1_2d_asm_Nx.20160220.nc4',\n",
       "       'MERRA2_400.inst1_2d_asm_Nx.20160221.nc4',\n",
       "       'MERRA2_400.inst1_2d_asm_Nx.20160222.nc4',\n",
       "       'MERRA2_400.inst1_2d_asm_Nx.20160223.nc4',\n",
       "       'MERRA2_400.inst1_2d_asm_Nx.20160224.nc4',\n",
       "       'MERRA2_400.inst1_2d_asm_Nx.20160225.nc4',\n",
       "       'MERRA2_400.inst1_2d_asm_Nx.20160226.nc4',\n",
       "       'MERRA2_400.inst1_2d_asm_Nx.20160227.nc4',\n",
       "       'MERRA2_400.inst1_2d_asm_Nx.20160228.nc4',\n",
       "       'MERRA2_400.inst1_2d_asm_Nx.20160229.nc4',\n",
       "       'MERRA2_400.inst1_2d_asm_Nx.20160301.nc4',\n",
       "       'MERRA2_400.inst1_2d_asm_Nx.20160302.nc4',\n",
       "       'MERRA2_400.inst1_2d_asm_Nx.20160303.nc4',\n",
       "       'MERRA2_400.inst1_2d_asm_Nx.20160304.nc4',\n",
       "       'MERRA2_400.inst1_2d_asm_Nx.20160305.nc4',\n",
       "       'MERRA2_400.inst1_2d_asm_Nx.20160306.nc4',\n",
       "       'MERRA2_400.inst1_2d_asm_Nx.20160307.nc4',\n",
       "       'MERRA2_400.inst1_2d_asm_Nx.20160308.nc4',\n",
       "       'MERRA2_400.inst1_2d_asm_Nx.20160309.nc4',\n",
       "       'MERRA2_400.inst1_2d_asm_Nx.20160310.nc4',\n",
       "       'MERRA2_400.inst1_2d_asm_Nx.20160311.nc4',\n",
       "       'MERRA2_400.inst1_2d_asm_Nx.20160312.nc4',\n",
       "       'MERRA2_400.inst1_2d_asm_Nx.20160313.nc4',\n",
       "       'MERRA2_400.inst1_2d_asm_Nx.20160314.nc4',\n",
       "       'MERRA2_400.inst1_2d_asm_Nx.20160315.nc4',\n",
       "       'MERRA2_400.inst1_2d_asm_Nx.20160316.nc4',\n",
       "       'MERRA2_400.inst1_2d_asm_Nx.20160317.nc4',\n",
       "       'MERRA2_400.inst1_2d_asm_Nx.20160318.nc4',\n",
       "       'MERRA2_400.inst1_2d_asm_Nx.20160319.nc4',\n",
       "       'MERRA2_400.inst1_2d_asm_Nx.20160320.nc4',\n",
       "       'MERRA2_400.inst1_2d_asm_Nx.20160321.nc4',\n",
       "       'MERRA2_400.inst1_2d_asm_Nx.20160322.nc4',\n",
       "       'MERRA2_400.inst1_2d_asm_Nx.20160323.nc4',\n",
       "       'MERRA2_400.inst1_2d_asm_Nx.20160324.nc4',\n",
       "       'MERRA2_400.inst1_2d_asm_Nx.20160325.nc4',\n",
       "       'MERRA2_400.inst1_2d_asm_Nx.20160326.nc4',\n",
       "       'MERRA2_400.inst1_2d_asm_Nx.20160327.nc4',\n",
       "       'MERRA2_400.inst1_2d_asm_Nx.20160328.nc4',\n",
       "       'MERRA2_400.inst1_2d_asm_Nx.20160329.nc4',\n",
       "       'MERRA2_400.inst1_2d_asm_Nx.20160330.nc4',\n",
       "       'MERRA2_400.inst1_2d_asm_Nx.20160331.nc4',\n",
       "       'MERRA2_400.inst1_2d_asm_Nx.20160401.nc4',\n",
       "       'MERRA2_400.inst1_2d_asm_Nx.20160402.nc4',\n",
       "       'MERRA2_400.inst1_2d_asm_Nx.20160403.nc4',\n",
       "       'MERRA2_400.inst1_2d_asm_Nx.20160404.nc4',\n",
       "       'MERRA2_400.inst1_2d_asm_Nx.20160405.nc4',\n",
       "       'MERRA2_400.inst1_2d_asm_Nx.20160406.nc4',\n",
       "       'MERRA2_400.inst1_2d_asm_Nx.20160407.nc4',\n",
       "       'MERRA2_400.inst1_2d_asm_Nx.20160408.nc4',\n",
       "       'MERRA2_400.inst1_2d_asm_Nx.20160409.nc4',\n",
       "       'MERRA2_400.inst1_2d_asm_Nx.20160410.nc4',\n",
       "       'MERRA2_400.inst1_2d_asm_Nx.20160411.nc4',\n",
       "       'MERRA2_400.inst1_2d_asm_Nx.20160412.nc4',\n",
       "       'MERRA2_400.inst1_2d_asm_Nx.20160413.nc4',\n",
       "       'MERRA2_400.inst1_2d_asm_Nx.20160414.nc4',\n",
       "       'MERRA2_400.inst1_2d_asm_Nx.20160415.nc4',\n",
       "       'MERRA2_400.inst1_2d_asm_Nx.20160416.nc4',\n",
       "       'MERRA2_400.inst1_2d_asm_Nx.20160417.nc4',\n",
       "       'MERRA2_400.inst1_2d_asm_Nx.20160418.nc4',\n",
       "       'MERRA2_400.inst1_2d_asm_Nx.20160419.nc4',\n",
       "       'MERRA2_400.inst1_2d_asm_Nx.20160420.nc4',\n",
       "       'MERRA2_400.inst1_2d_asm_Nx.20160421.nc4',\n",
       "       'MERRA2_400.inst1_2d_asm_Nx.20160422.nc4',\n",
       "       'MERRA2_400.inst1_2d_asm_Nx.20160423.nc4',\n",
       "       'MERRA2_400.inst1_2d_asm_Nx.20160424.nc4',\n",
       "       'MERRA2_400.inst1_2d_asm_Nx.20160425.nc4',\n",
       "       'MERRA2_400.inst1_2d_asm_Nx.20160426.nc4',\n",
       "       'MERRA2_400.inst1_2d_asm_Nx.20160427.nc4',\n",
       "       'MERRA2_400.inst1_2d_asm_Nx.20160428.nc4',\n",
       "       'MERRA2_400.inst1_2d_asm_Nx.20160429.nc4',\n",
       "       'MERRA2_400.inst1_2d_asm_Nx.20160430.nc4',\n",
       "       'MERRA2_400.inst1_2d_asm_Nx.20160501.nc4',\n",
       "       'MERRA2_400.inst1_2d_asm_Nx.20160502.nc4',\n",
       "       'MERRA2_400.inst1_2d_asm_Nx.20160503.nc4',\n",
       "       'MERRA2_400.inst1_2d_asm_Nx.20160504.nc4',\n",
       "       'MERRA2_400.inst1_2d_asm_Nx.20160505.nc4',\n",
       "       'MERRA2_400.inst1_2d_asm_Nx.20160506.nc4',\n",
       "       'MERRA2_400.inst1_2d_asm_Nx.20160507.nc4',\n",
       "       'MERRA2_400.inst1_2d_asm_Nx.20160508.nc4',\n",
       "       'MERRA2_400.inst1_2d_asm_Nx.20160509.nc4',\n",
       "       'MERRA2_400.inst1_2d_asm_Nx.20160510.nc4',\n",
       "       'MERRA2_400.inst1_2d_asm_Nx.20160511.nc4',\n",
       "       'MERRA2_400.inst1_2d_asm_Nx.20160512.nc4',\n",
       "       'MERRA2_400.inst1_2d_asm_Nx.20160513.nc4',\n",
       "       'MERRA2_400.inst1_2d_asm_Nx.20160514.nc4',\n",
       "       'MERRA2_400.inst1_2d_asm_Nx.20160515.nc4',\n",
       "       'MERRA2_400.inst1_2d_asm_Nx.20160516.nc4',\n",
       "       'MERRA2_400.inst1_2d_asm_Nx.20160517.nc4',\n",
       "       'MERRA2_400.inst1_2d_asm_Nx.20160518.nc4',\n",
       "       'MERRA2_400.inst1_2d_asm_Nx.20160519.nc4',\n",
       "       'MERRA2_400.inst1_2d_asm_Nx.20160520.nc4',\n",
       "       'MERRA2_400.inst1_2d_asm_Nx.20160521.nc4',\n",
       "       'MERRA2_400.inst1_2d_asm_Nx.20160522.nc4',\n",
       "       'MERRA2_400.inst1_2d_asm_Nx.20160523.nc4',\n",
       "       'MERRA2_400.inst1_2d_asm_Nx.20160524.nc4',\n",
       "       'MERRA2_400.inst1_2d_asm_Nx.20160525.nc4',\n",
       "       'MERRA2_400.inst1_2d_asm_Nx.20160526.nc4',\n",
       "       'MERRA2_400.inst1_2d_asm_Nx.20160527.nc4',\n",
       "       'MERRA2_400.inst1_2d_asm_Nx.20160528.nc4',\n",
       "       'MERRA2_400.inst1_2d_asm_Nx.20160529.nc4',\n",
       "       'MERRA2_400.inst1_2d_asm_Nx.20160530.nc4',\n",
       "       'MERRA2_400.inst1_2d_asm_Nx.20160531.nc4',\n",
       "       'MERRA2_400.inst1_2d_asm_Nx.20160601.nc4',\n",
       "       'MERRA2_400.inst1_2d_asm_Nx.20160602.nc4',\n",
       "       'MERRA2_400.inst1_2d_asm_Nx.20160603.nc4',\n",
       "       'MERRA2_400.inst1_2d_asm_Nx.20160604.nc4',\n",
       "       'MERRA2_400.inst1_2d_asm_Nx.20160605.nc4',\n",
       "       'MERRA2_400.inst1_2d_asm_Nx.20160606.nc4',\n",
       "       'MERRA2_400.inst1_2d_asm_Nx.20160607.nc4',\n",
       "       'MERRA2_400.inst1_2d_asm_Nx.20160608.nc4',\n",
       "       'MERRA2_400.inst1_2d_asm_Nx.20160609.nc4',\n",
       "       'MERRA2_400.inst1_2d_asm_Nx.20160610.nc4',\n",
       "       'MERRA2_400.inst1_2d_asm_Nx.20160611.nc4',\n",
       "       'MERRA2_400.inst1_2d_asm_Nx.20160612.nc4',\n",
       "       'MERRA2_400.inst1_2d_asm_Nx.20160613.nc4',\n",
       "       'MERRA2_400.inst1_2d_asm_Nx.20160614.nc4',\n",
       "       'MERRA2_400.inst1_2d_asm_Nx.20160615.nc4',\n",
       "       'MERRA2_400.inst1_2d_asm_Nx.20160616.nc4',\n",
       "       'MERRA2_400.inst1_2d_asm_Nx.20160617.nc4',\n",
       "       'MERRA2_400.inst1_2d_asm_Nx.20160618.nc4',\n",
       "       'MERRA2_400.inst1_2d_asm_Nx.20160619.nc4',\n",
       "       'MERRA2_400.inst1_2d_asm_Nx.20160620.nc4',\n",
       "       'MERRA2_400.inst1_2d_asm_Nx.20160621.nc4',\n",
       "       'MERRA2_400.inst1_2d_asm_Nx.20160622.nc4',\n",
       "       'MERRA2_400.inst1_2d_asm_Nx.20160623.nc4',\n",
       "       'MERRA2_400.inst1_2d_asm_Nx.20160624.nc4',\n",
       "       'MERRA2_400.inst1_2d_asm_Nx.20160625.nc4',\n",
       "       'MERRA2_400.inst1_2d_asm_Nx.20160626.nc4',\n",
       "       'MERRA2_400.inst1_2d_asm_Nx.20160627.nc4',\n",
       "       'MERRA2_400.inst1_2d_asm_Nx.20160628.nc4',\n",
       "       'MERRA2_400.inst1_2d_asm_Nx.20160629.nc4',\n",
       "       'MERRA2_400.inst1_2d_asm_Nx.20160630.nc4',\n",
       "       'MERRA2_400.inst1_2d_asm_Nx.20160701.nc4',\n",
       "       'MERRA2_400.inst1_2d_asm_Nx.20160702.nc4',\n",
       "       'MERRA2_400.inst1_2d_asm_Nx.20160703.nc4',\n",
       "       'MERRA2_400.inst1_2d_asm_Nx.20160704.nc4',\n",
       "       'MERRA2_400.inst1_2d_asm_Nx.20160705.nc4',\n",
       "       'MERRA2_400.inst1_2d_asm_Nx.20160706.nc4',\n",
       "       'MERRA2_400.inst1_2d_asm_Nx.20160707.nc4',\n",
       "       'MERRA2_400.inst1_2d_asm_Nx.20160708.nc4',\n",
       "       'MERRA2_400.inst1_2d_asm_Nx.20160709.nc4',\n",
       "       'MERRA2_400.inst1_2d_asm_Nx.20160710.nc4',\n",
       "       'MERRA2_400.inst1_2d_asm_Nx.20160711.nc4',\n",
       "       'MERRA2_400.inst1_2d_asm_Nx.20160712.nc4',\n",
       "       'MERRA2_400.inst1_2d_asm_Nx.20160713.nc4',\n",
       "       'MERRA2_400.inst1_2d_asm_Nx.20160714.nc4',\n",
       "       'MERRA2_400.inst1_2d_asm_Nx.20160715.nc4',\n",
       "       'MERRA2_400.inst1_2d_asm_Nx.20160716.nc4',\n",
       "       'MERRA2_400.inst1_2d_asm_Nx.20160717.nc4',\n",
       "       'MERRA2_400.inst1_2d_asm_Nx.20160718.nc4',\n",
       "       'MERRA2_400.inst1_2d_asm_Nx.20160719.nc4',\n",
       "       'MERRA2_400.inst1_2d_asm_Nx.20160720.nc4',\n",
       "       'MERRA2_400.inst1_2d_asm_Nx.20160721.nc4',\n",
       "       'MERRA2_400.inst1_2d_asm_Nx.20160722.nc4',\n",
       "       'MERRA2_400.inst1_2d_asm_Nx.20160723.nc4',\n",
       "       'MERRA2_400.inst1_2d_asm_Nx.20160724.nc4',\n",
       "       'MERRA2_400.inst1_2d_asm_Nx.20160725.nc4',\n",
       "       'MERRA2_400.inst1_2d_asm_Nx.20160726.nc4',\n",
       "       'MERRA2_400.inst1_2d_asm_Nx.20160727.nc4',\n",
       "       'MERRA2_400.inst1_2d_asm_Nx.20160728.nc4',\n",
       "       'MERRA2_400.inst1_2d_asm_Nx.20160729.nc4',\n",
       "       'MERRA2_400.inst1_2d_asm_Nx.20160730.nc4',\n",
       "       'MERRA2_400.inst1_2d_asm_Nx.20160731.nc4',\n",
       "       'MERRA2_400.inst1_2d_asm_Nx.20160801.nc4',\n",
       "       'MERRA2_400.inst1_2d_asm_Nx.20160802.nc4',\n",
       "       'MERRA2_400.inst1_2d_asm_Nx.20160803.nc4',\n",
       "       'MERRA2_400.inst1_2d_asm_Nx.20160804.nc4',\n",
       "       'MERRA2_400.inst1_2d_asm_Nx.20160805.nc4',\n",
       "       'MERRA2_400.inst1_2d_asm_Nx.20160806.nc4',\n",
       "       'MERRA2_400.inst1_2d_asm_Nx.20160807.nc4',\n",
       "       'MERRA2_400.inst1_2d_asm_Nx.20160808.nc4',\n",
       "       'MERRA2_400.inst1_2d_asm_Nx.20160809.nc4',\n",
       "       'MERRA2_400.inst1_2d_asm_Nx.20160810.nc4',\n",
       "       'MERRA2_400.inst1_2d_asm_Nx.20160811.nc4',\n",
       "       'MERRA2_400.inst1_2d_asm_Nx.20160812.nc4',\n",
       "       'MERRA2_400.inst1_2d_asm_Nx.20160813.nc4',\n",
       "       'MERRA2_400.inst1_2d_asm_Nx.20160814.nc4',\n",
       "       'MERRA2_400.inst1_2d_asm_Nx.20160815.nc4',\n",
       "       'MERRA2_400.inst1_2d_asm_Nx.20160816.nc4',\n",
       "       'MERRA2_400.inst1_2d_asm_Nx.20160817.nc4',\n",
       "       'MERRA2_400.inst1_2d_asm_Nx.20160818.nc4',\n",
       "       'MERRA2_400.inst1_2d_asm_Nx.20160819.nc4',\n",
       "       'MERRA2_400.inst1_2d_asm_Nx.20160820.nc4',\n",
       "       'MERRA2_400.inst1_2d_asm_Nx.20160821.nc4',\n",
       "       'MERRA2_400.inst1_2d_asm_Nx.20160822.nc4',\n",
       "       'MERRA2_400.inst1_2d_asm_Nx.20160823.nc4',\n",
       "       'MERRA2_400.inst1_2d_asm_Nx.20160824.nc4',\n",
       "       'MERRA2_400.inst1_2d_asm_Nx.20160825.nc4',\n",
       "       'MERRA2_400.inst1_2d_asm_Nx.20160826.nc4',\n",
       "       'MERRA2_400.inst1_2d_asm_Nx.20160827.nc4',\n",
       "       'MERRA2_400.inst1_2d_asm_Nx.20160828.nc4',\n",
       "       'MERRA2_400.inst1_2d_asm_Nx.20160829.nc4',\n",
       "       'MERRA2_400.inst1_2d_asm_Nx.20160830.nc4',\n",
       "       'MERRA2_400.inst1_2d_asm_Nx.20160831.nc4',\n",
       "       'MERRA2_400.inst1_2d_asm_Nx.20160901.nc4',\n",
       "       'MERRA2_400.inst1_2d_asm_Nx.20160902.nc4',\n",
       "       'MERRA2_400.inst1_2d_asm_Nx.20160903.nc4',\n",
       "       'MERRA2_400.inst1_2d_asm_Nx.20160904.nc4',\n",
       "       'MERRA2_400.inst1_2d_asm_Nx.20160905.nc4',\n",
       "       'MERRA2_400.inst1_2d_asm_Nx.20160906.nc4',\n",
       "       'MERRA2_400.inst1_2d_asm_Nx.20160907.nc4',\n",
       "       'MERRA2_400.inst1_2d_asm_Nx.20160908.nc4',\n",
       "       'MERRA2_400.inst1_2d_asm_Nx.20160909.nc4',\n",
       "       'MERRA2_400.inst1_2d_asm_Nx.20160910.nc4',\n",
       "       'MERRA2_400.inst1_2d_asm_Nx.20160911.nc4',\n",
       "       'MERRA2_400.inst1_2d_asm_Nx.20160912.nc4',\n",
       "       'MERRA2_400.inst1_2d_asm_Nx.20160913.nc4',\n",
       "       'MERRA2_400.inst1_2d_asm_Nx.20160914.nc4',\n",
       "       'MERRA2_400.inst1_2d_asm_Nx.20160915.nc4',\n",
       "       'MERRA2_400.inst1_2d_asm_Nx.20160916.nc4',\n",
       "       'MERRA2_400.inst1_2d_asm_Nx.20160917.nc4',\n",
       "       'MERRA2_400.inst1_2d_asm_Nx.20160918.nc4',\n",
       "       'MERRA2_400.inst1_2d_asm_Nx.20160919.nc4',\n",
       "       'MERRA2_400.inst1_2d_asm_Nx.20160920.nc4',\n",
       "       'MERRA2_400.inst1_2d_asm_Nx.20160921.nc4',\n",
       "       'MERRA2_400.inst1_2d_asm_Nx.20160922.nc4',\n",
       "       'MERRA2_400.inst1_2d_asm_Nx.20160923.nc4',\n",
       "       'MERRA2_400.inst1_2d_asm_Nx.20160924.nc4',\n",
       "       'MERRA2_400.inst1_2d_asm_Nx.20160925.nc4',\n",
       "       'MERRA2_400.inst1_2d_asm_Nx.20160926.nc4',\n",
       "       'MERRA2_400.inst1_2d_asm_Nx.20160927.nc4',\n",
       "       'MERRA2_400.inst1_2d_asm_Nx.20160928.nc4',\n",
       "       'MERRA2_400.inst1_2d_asm_Nx.20160929.nc4',\n",
       "       'MERRA2_400.inst1_2d_asm_Nx.20160930.nc4',\n",
       "       'MERRA2_400.inst1_2d_asm_Nx.20161001.nc4',\n",
       "       'MERRA2_400.inst1_2d_asm_Nx.20161002.nc4',\n",
       "       'MERRA2_400.inst1_2d_asm_Nx.20161003.nc4',\n",
       "       'MERRA2_400.inst1_2d_asm_Nx.20161004.nc4',\n",
       "       'MERRA2_400.inst1_2d_asm_Nx.20161005.nc4',\n",
       "       'MERRA2_400.inst1_2d_asm_Nx.20161006.nc4',\n",
       "       'MERRA2_400.inst1_2d_asm_Nx.20161007.nc4',\n",
       "       'MERRA2_400.inst1_2d_asm_Nx.20161008.nc4',\n",
       "       'MERRA2_400.inst1_2d_asm_Nx.20161009.nc4',\n",
       "       'MERRA2_400.inst1_2d_asm_Nx.20161010.nc4',\n",
       "       'MERRA2_400.inst1_2d_asm_Nx.20161011.nc4',\n",
       "       'MERRA2_400.inst1_2d_asm_Nx.20161012.nc4',\n",
       "       'MERRA2_400.inst1_2d_asm_Nx.20161013.nc4',\n",
       "       'MERRA2_400.inst1_2d_asm_Nx.20161014.nc4',\n",
       "       'MERRA2_400.inst1_2d_asm_Nx.20161015.nc4',\n",
       "       'MERRA2_400.inst1_2d_asm_Nx.20161016.nc4',\n",
       "       'MERRA2_400.inst1_2d_asm_Nx.20161017.nc4',\n",
       "       'MERRA2_400.inst1_2d_asm_Nx.20161018.nc4',\n",
       "       'MERRA2_400.inst1_2d_asm_Nx.20161019.nc4',\n",
       "       'MERRA2_400.inst1_2d_asm_Nx.20161020.nc4',\n",
       "       'MERRA2_400.inst1_2d_asm_Nx.20161021.nc4',\n",
       "       'MERRA2_400.inst1_2d_asm_Nx.20161022.nc4',\n",
       "       'MERRA2_400.inst1_2d_asm_Nx.20161023.nc4',\n",
       "       'MERRA2_400.inst1_2d_asm_Nx.20161024.nc4',\n",
       "       'MERRA2_400.inst1_2d_asm_Nx.20161025.nc4',\n",
       "       'MERRA2_400.inst1_2d_asm_Nx.20161026.nc4',\n",
       "       'MERRA2_400.inst1_2d_asm_Nx.20161027.nc4',\n",
       "       'MERRA2_400.inst1_2d_asm_Nx.20161028.nc4',\n",
       "       'MERRA2_400.inst1_2d_asm_Nx.20161029.nc4',\n",
       "       'MERRA2_400.inst1_2d_asm_Nx.20161030.nc4',\n",
       "       'MERRA2_400.inst1_2d_asm_Nx.20161031.nc4',\n",
       "       'MERRA2_400.inst1_2d_asm_Nx.20161101.nc4',\n",
       "       'MERRA2_400.inst1_2d_asm_Nx.20161102.nc4',\n",
       "       'MERRA2_400.inst1_2d_asm_Nx.20161103.nc4',\n",
       "       'MERRA2_400.inst1_2d_asm_Nx.20161104.nc4',\n",
       "       'MERRA2_400.inst1_2d_asm_Nx.20161105.nc4',\n",
       "       'MERRA2_400.inst1_2d_asm_Nx.20161106.nc4',\n",
       "       'MERRA2_400.inst1_2d_asm_Nx.20161107.nc4',\n",
       "       'MERRA2_400.inst1_2d_asm_Nx.20161108.nc4',\n",
       "       'MERRA2_400.inst1_2d_asm_Nx.20161109.nc4',\n",
       "       'MERRA2_400.inst1_2d_asm_Nx.20161110.nc4',\n",
       "       'MERRA2_400.inst1_2d_asm_Nx.20161111.nc4',\n",
       "       'MERRA2_400.inst1_2d_asm_Nx.20161112.nc4',\n",
       "       'MERRA2_400.inst1_2d_asm_Nx.20161113.nc4',\n",
       "       'MERRA2_400.inst1_2d_asm_Nx.20161114.nc4',\n",
       "       'MERRA2_400.inst1_2d_asm_Nx.20161115.nc4',\n",
       "       'MERRA2_400.inst1_2d_asm_Nx.20161116.nc4',\n",
       "       'MERRA2_400.inst1_2d_asm_Nx.20161117.nc4',\n",
       "       'MERRA2_400.inst1_2d_asm_Nx.20161118.nc4',\n",
       "       'MERRA2_400.inst1_2d_asm_Nx.20161119.nc4',\n",
       "       'MERRA2_400.inst1_2d_asm_Nx.20161120.nc4',\n",
       "       'MERRA2_400.inst1_2d_asm_Nx.20161121.nc4',\n",
       "       'MERRA2_400.inst1_2d_asm_Nx.20161122.nc4',\n",
       "       'MERRA2_400.inst1_2d_asm_Nx.20161123.nc4',\n",
       "       'MERRA2_400.inst1_2d_asm_Nx.20161124.nc4',\n",
       "       'MERRA2_400.inst1_2d_asm_Nx.20161125.nc4',\n",
       "       'MERRA2_400.inst1_2d_asm_Nx.20161126.nc4',\n",
       "       'MERRA2_400.inst1_2d_asm_Nx.20161127.nc4',\n",
       "       'MERRA2_400.inst1_2d_asm_Nx.20161128.nc4',\n",
       "       'MERRA2_400.inst1_2d_asm_Nx.20161129.nc4',\n",
       "       'MERRA2_400.inst1_2d_asm_Nx.20161130.nc4'], \n",
       "      dtype='|S39')"
      ]
     },
     "execution_count": 85,
     "metadata": {},
     "output_type": "execute_result"
    }
   ],
   "source": [
    "nc4_files2"
   ]
  },
  {
   "cell_type": "markdown",
   "metadata": {},
   "source": [
    "### 2.4) Sort files by increasing time"
   ]
  },
  {
   "cell_type": "code",
   "execution_count": 86,
   "metadata": {
    "collapsed": false
   },
   "outputs": [],
   "source": [
    "nc4_files=np.sort(nc4_files2)"
   ]
  },
  {
   "cell_type": "markdown",
   "metadata": {},
   "source": [
    "### 2.5) Build the full filename before reading"
   ]
  },
  {
   "cell_type": "code",
   "execution_count": null,
   "metadata": {
    "collapsed": false
   },
   "outputs": [],
   "source": [
    "NBFILES=len(nc4_files)\n",
    "full_nc4files=[]\n",
    "\n",
    "for file in nc4_files:\n",
    "    fname = os.path.join(path, file)\n",
    "    full_nc4files.append(fname)  "
   ]
  },
  {
   "cell_type": "markdown",
   "metadata": {},
   "source": [
    "## 3)  Extract data and write them into pandas dataset and time series\n",
    "--------------------------------------------------------------------------------------"
   ]
  },
  {
   "cell_type": "code",
   "execution_count": null,
   "metadata": {
    "collapsed": false
   },
   "outputs": [
    {
     "name": "stdout",
     "output_type": "stream",
     "text": [
      "start_time =  ['2016-01-01 00:00:00']\n",
      "start_time =  ['2016-01-02 00:00:00']\n",
      "start_time =  ['2016-01-03 00:00:00']\n",
      "start_time =  ['2016-01-04 00:00:00']\n",
      "start_time =  ['2016-01-05 00:00:00']\n",
      "start_time =  ['2016-01-06 00:00:00']\n",
      "start_time =  ['2016-01-07 00:00:00']\n",
      "start_time =  ['2016-01-08 00:00:00']\n",
      "start_time =  ['2016-01-09 00:00:00']\n",
      "start_time =  ['2016-01-10 00:00:00']\n",
      "start_time =  ['2016-01-11 00:00:00']\n",
      "start_time =  ['2016-01-12 00:00:00']\n",
      "start_time =  ['2016-01-13 00:00:00']\n",
      "start_time =  ['2016-01-14 00:00:00']\n",
      "start_time =  ['2016-01-15 00:00:00']\n",
      "start_time =  ['2016-01-16 00:00:00']\n",
      "start_time =  ['2016-01-17 00:00:00']\n",
      "start_time =  ['2016-01-18 00:00:00']\n",
      "start_time =  ['2016-01-19 00:00:00']\n",
      "start_time =  ['2016-01-20 00:00:00']\n",
      "start_time =  ['2016-01-21 00:00:00']\n",
      "start_time =  ['2016-01-22 00:00:00']\n",
      "start_time =  ['2016-01-23 00:00:00']\n",
      "start_time =  ['2016-01-24 00:00:00']\n",
      "start_time =  ['2016-01-25 00:00:00']\n",
      "start_time =  ['2016-01-26 00:00:00']\n",
      "start_time =  ['2016-01-27 00:00:00']\n",
      "start_time =  ['2016-01-28 00:00:00']\n",
      "start_time =  ['2016-01-29 00:00:00']\n",
      "start_time =  ['2016-01-30 00:00:00']\n",
      "start_time =  ['2016-01-31 00:00:00']\n",
      "start_time =  ['2016-02-01 00:00:00']\n",
      "start_time =  ['2016-02-02 00:00:00']\n",
      "start_time =  ['2016-02-03 00:00:00']\n",
      "start_time =  ['2016-02-04 00:00:00']\n",
      "start_time =  ['2016-02-05 00:00:00']\n",
      "start_time =  ['2016-02-06 00:00:00']\n",
      "start_time =  ['2016-02-07 00:00:00']\n",
      "start_time =  ['2016-02-08 00:00:00']\n",
      "start_time =  ['2016-02-09 00:00:00']\n",
      "start_time =  ['2016-02-10 00:00:00']\n",
      "start_time =  ['2016-02-11 00:00:00']\n",
      "start_time =  ['2016-02-12 00:00:00']\n",
      "start_time =  ['2016-02-13 00:00:00']\n",
      "start_time =  ['2016-02-14 00:00:00']\n",
      "start_time =  ['2016-02-15 00:00:00']\n",
      "start_time =  ['2016-02-16 00:00:00']\n",
      "start_time =  ['2016-02-17 00:00:00']\n",
      "start_time =  ['2016-02-18 00:00:00']\n",
      "start_time =  ['2016-02-19 00:00:00']\n",
      "start_time =  ['2016-02-20 00:00:00']\n",
      "start_time =  ['2016-02-21 00:00:00']\n",
      "start_time =  ['2016-02-22 00:00:00']\n",
      "start_time =  ['2016-02-23 00:00:00']\n",
      "start_time =  ['2016-02-24 00:00:00']\n",
      "start_time =  ['2016-02-25 00:00:00']\n",
      "start_time =  ['2016-02-26 00:00:00']\n",
      "start_time =  ['2016-02-27 00:00:00']\n",
      "start_time =  ['2016-02-28 00:00:00']\n",
      "start_time =  ['2016-02-29 00:00:00']\n",
      "start_time =  ['2016-03-01 00:00:00']\n",
      "start_time =  ['2016-03-02 00:00:00']\n",
      "start_time =  ['2016-03-03 00:00:00']\n",
      "start_time =  ['2016-03-04 00:00:00']\n",
      "start_time =  ['2016-03-05 00:00:00']\n",
      "start_time =  ['2016-03-06 00:00:00']\n",
      "start_time =  ['2016-03-07 00:00:00']\n",
      "start_time =  ['2016-03-08 00:00:00']\n",
      "start_time =  ['2016-03-09 00:00:00']\n",
      "start_time =  ['2016-03-10 00:00:00']\n",
      "start_time =  ['2016-03-11 00:00:00']\n",
      "start_time =  ['2016-03-12 00:00:00']\n",
      "start_time =  ['2016-03-13 00:00:00']\n",
      "start_time =  ['2016-03-14 00:00:00']\n",
      "start_time =  ['2016-03-15 00:00:00']\n",
      "start_time =  ['2016-03-16 00:00:00']\n",
      "start_time =  ['2016-03-17 00:00:00']\n",
      "start_time =  ['2016-03-18 00:00:00']\n",
      "start_time =  ['2016-03-19 00:00:00']\n",
      "start_time =  ['2016-03-20 00:00:00']\n",
      "start_time =  ['2016-03-21 00:00:00']\n",
      "start_time =  ['2016-03-22 00:00:00']\n",
      "start_time =  ['2016-03-23 00:00:00']\n",
      "start_time =  ['2016-03-24 00:00:00']\n",
      "start_time =  ['2016-03-25 00:00:00']\n",
      "start_time =  ['2016-03-26 00:00:00']\n",
      "start_time =  ['2016-03-27 00:00:00']\n",
      "start_time =  ['2016-03-28 00:00:00']\n",
      "start_time =  ['2016-03-29 00:00:00']\n",
      "start_time =  ['2016-03-30 00:00:00']\n",
      "start_time =  ['2016-03-31 00:00:00']\n",
      "start_time =  ['2016-04-01 00:00:00']\n",
      "start_time =  ['2016-04-02 00:00:00']\n",
      "start_time =  ['2016-04-03 00:00:00']\n",
      "start_time =  ['2016-04-04 00:00:00']\n",
      "start_time =  ['2016-04-05 00:00:00']\n",
      "start_time =  ['2016-04-06 00:00:00']\n",
      "start_time =  ['2016-04-07 00:00:00']\n",
      "start_time =  ['2016-04-08 00:00:00']\n",
      "start_time =  ['2016-04-09 00:00:00']\n",
      "start_time =  ['2016-04-10 00:00:00']\n",
      "start_time =  ['2016-04-11 00:00:00']\n",
      "start_time =  ['2016-04-12 00:00:00']\n",
      "start_time =  ['2016-04-13 00:00:00']\n",
      "start_time =  ['2016-04-14 00:00:00']\n",
      "start_time =  ['2016-04-15 00:00:00']\n",
      "start_time =  ['2016-04-16 00:00:00']\n",
      "start_time =  ['2016-04-17 00:00:00']\n",
      "start_time =  ['2016-04-18 00:00:00']\n",
      "start_time =  ['2016-04-19 00:00:00']\n",
      "start_time =  ['2016-04-20 00:00:00']\n",
      "start_time =  ['2016-04-21 00:00:00']\n",
      "start_time =  ['2016-04-22 00:00:00']\n",
      "start_time =  ['2016-04-23 00:00:00']\n",
      "start_time =  ['2016-04-24 00:00:00']\n",
      "start_time =  ['2016-04-25 00:00:00']\n",
      "start_time =  ['2016-04-26 00:00:00']\n",
      "start_time =  ['2016-04-27 00:00:00']\n",
      "start_time =  ['2016-04-28 00:00:00']\n",
      "start_time =  ['2016-04-29 00:00:00']\n",
      "start_time =  ['2016-04-30 00:00:00']\n",
      "start_time =  ['2016-05-01 00:00:00']\n",
      "start_time =  ['2016-05-02 00:00:00']\n",
      "start_time =  ['2016-05-03 00:00:00']\n",
      "start_time =  ['2016-05-04 00:00:00']\n",
      "start_time =  ['2016-05-05 00:00:00']\n",
      "start_time =  ['2016-05-06 00:00:00']\n",
      "start_time =  ['2016-05-07 00:00:00']\n",
      "start_time =  ['2016-05-08 00:00:00']\n"
     ]
    }
   ],
   "source": [
    "ts0=[]  # intermediate data series\n",
    "ts1=[]\n",
    "ts2=[]\n",
    "ts3=[]  # intermediate data series\n",
    "ts4=[]\n",
    "ts5=[]\n",
    "ts6=[]  # intermediate data series\n",
    "ts7=[]\n",
    "ts8=[]\n",
    "ts9=[]  # intermediate data series\n",
    "ts10=[]\n",
    "ts11=[]\n",
    "ts12=[]\n",
    "ts13=[]\n",
    "\n",
    "df_inst1_2d_asm_Nx=[] # final pandas dataset for all atmospheric quantities\n",
    "\n",
    "for file in full_nc4files: # loop on data file of each day of the month\n",
    "    \n",
    "    #Retrieve 1D parameters longitude, latitude, time\n",
    "    (m_lat,m_un_lat,m_nm_lat) = merra2.Get1DData(file,'lat') # latitude (array, unit, name)\n",
    "    m_latitude = m_lat[:]\n",
    "    (m_lon,m_un_lon,m_nm_lon) = merra2.Get1DData(file,'lon') # longitude(array, unit, name)\n",
    "    m_longitude = m_lon[:]\n",
    "    (m_tim,m_un_tim,m_nm_tim)= merra2.Get1DData(file,'time') # time (array, unit, name)\n",
    "    m_time=m_tim[:]\n",
    "       \n",
    "    NbDataPerFile=m_time.shape[0] # number of data sample per file\n",
    "    #start_time = re.findall(\"^minutes since[ ]([0-9.].+[0-9.].+[0-9.].+)[ ]00:00:00$\",m_un_tim) # extract start time\n",
    "    start_time = re.findall(\"^minutes since[ ]([0-9.].+[0-9.].+[0-9.].+)\",m_un_tim) # extract start time\n",
    "    \n",
    "    #print 'start_time = ', start_time\n",
    "    time_rng = pd.date_range(start_time[0], periods=NbDataPerFile, freq='H') # one data per hour\n",
    "    \n",
    "    print 'start_time = ', start_time\n",
    "    \n",
    "    m_X,m_Y=np.meshgrid(m_longitude,m_latitude) # build meash-grid in longitude and latitude\n",
    "    (sel_long, sel_lat)=merra2.GetBinIndex(m_X,m_Y,loc[0],loc[1]) # get bin in longitude and latitude for the site  \n",
    "    \n",
    " \n",
    "    # loop\n",
    "    for index in range(NB_DATAFIELDS):\n",
    "        (m_data,m_unit,m_longname)=merra2.GetGeoRefData(file,DATA_TAG[index]) # 3D array : time x longitude x latitude  \n",
    "        dt=m_data[:,sel_lat,sel_long]\n",
    "        if index==0:\n",
    "            ts0 = pd.Series(dt, index=time_rng)\n",
    "        elif index==1:\n",
    "            ts1 = pd.Series(dt, index=time_rng)\n",
    "        elif index==2:\n",
    "            ts2 = pd.Series(dt, index=time_rng)\n",
    "        elif index==3:\n",
    "            ts3 = pd.Series(dt, index=time_rng)\n",
    "\n",
    "        elif index==4:\n",
    "            ts4 = pd.Series(dt, index=time_rng)\n",
    "        elif index==5:\n",
    "            ts5 = pd.Series(dt, index=time_rng)\n",
    "        elif index==6:\n",
    "            ts6 = pd.Series(dt, index=time_rng)\n",
    "            \n",
    "        elif index==7:\n",
    "            ts7 = pd.Series(dt, index=time_rng)\n",
    "        elif index==8:\n",
    "            ts8 = pd.Series(dt, index=time_rng)\n",
    "        elif index==9:\n",
    "            ts9 = pd.Series(dt, index=time_rng)            \n",
    "            \n",
    "        elif index==10:\n",
    "            ts10 = pd.Series(dt, index=time_rng)\n",
    "        elif index==11:\n",
    "            ts11 = pd.Series(dt, index=time_rng)\n",
    "        elif index==12:\n",
    "            ts12 = pd.Series(dt, index=time_rng) \n",
    "            \n",
    "        elif index==13:\n",
    "            ts13 = pd.Series(dt, index=time_rng) \n",
    "            \n",
    "            \n",
    "        #clf_timeseries.append(ts)\n",
    "        # Create the dataframe\n",
    "    df = pd.DataFrame({DATA_TAG[0]: ts0, \n",
    "                       DATA_TAG[1]: ts1,\n",
    "                       DATA_TAG[2]: ts2,\n",
    "                       DATA_TAG[3]: ts3,\n",
    "                       \n",
    "                       DATA_TAG[4]: ts4,\n",
    "                       DATA_TAG[5]: ts5,\n",
    "                       DATA_TAG[6]: ts6,                       \n",
    "\n",
    "                       DATA_TAG[7]: ts7,\n",
    "                       DATA_TAG[8]: ts8,\n",
    "                       DATA_TAG[9]: ts9,\n",
    "                       \n",
    "                       DATA_TAG[10]: ts10,\n",
    "                       DATA_TAG[11]: ts11,\n",
    "                       DATA_TAG[12]: ts12,\n",
    "                       DATA_TAG[13]: ts13 }, index=time_rng)\n",
    "    df_inst1_2d_asm_Nx.append(df)  \n",
    "    "
   ]
  },
  {
   "cell_type": "markdown",
   "metadata": {},
   "source": [
    "### Concatenation"
   ]
  },
  {
   "cell_type": "code",
   "execution_count": null,
   "metadata": {
    "collapsed": false
   },
   "outputs": [],
   "source": [
    "df_inst1_2d_asm_Nx=pd.concat(df_inst1_2d_asm_Nx)"
   ]
  },
  {
   "cell_type": "code",
   "execution_count": null,
   "metadata": {
    "collapsed": false
   },
   "outputs": [],
   "source": [
    "df_inst1_2d_asm_Nx.info()"
   ]
  },
  {
   "cell_type": "markdown",
   "metadata": {},
   "source": [
    "## 4) Plot the time dependence of time series and dataset"
   ]
  },
  {
   "cell_type": "markdown",
   "metadata": {},
   "source": [
    "####  Fill information on years and months from the filenames"
   ]
  },
  {
   "cell_type": "code",
   "execution_count": null,
   "metadata": {
    "collapsed": true
   },
   "outputs": [],
   "source": [
    "def PlotTimeSeries(index,figfile):\n",
    "    plt.figure(figsize=(20,5))\n",
    "    df_inst1_2d_asm_Nx[DATA_TAG[index]].plot(lw=3,color='red')\n",
    "    plt.xlabel('time')\n",
    "    plt.ylabel(DATA_TAG[index])\n",
    "    title= \"Hourly {} at {} in 2016\".format(DATA_TITLE[index],OBS_NAME)\n",
    "    plt.title(title,fontsize=15)\n",
    "    plt.suptitle('NASA GMAO GES (MERRA-2)', y=1.02, fontsize=13)\n",
    "    plt.grid(True)\n",
    "    plt.savefig(figfile)"
   ]
  },
  {
   "cell_type": "markdown",
   "metadata": {},
   "source": [
    "### 4.1) Pressure"
   ]
  },
  {
   "cell_type": "code",
   "execution_count": null,
   "metadata": {
    "collapsed": false
   },
   "outputs": [],
   "source": [
    "PlotTimeSeries(0,figfile_ps)"
   ]
  },
  {
   "cell_type": "code",
   "execution_count": null,
   "metadata": {
    "collapsed": false
   },
   "outputs": [],
   "source": []
  },
  {
   "cell_type": "markdown",
   "metadata": {},
   "source": [
    "###  4.2)  T10\n",
    "----------------"
   ]
  },
  {
   "cell_type": "code",
   "execution_count": null,
   "metadata": {
    "collapsed": false
   },
   "outputs": [],
   "source": [
    "PlotTimeSeries(1,figfile_t10)"
   ]
  },
  {
   "cell_type": "markdown",
   "metadata": {},
   "source": [
    "### 4.3) t2"
   ]
  },
  {
   "cell_type": "code",
   "execution_count": null,
   "metadata": {
    "collapsed": false
   },
   "outputs": [],
   "source": [
    "PlotTimeSeries(2,figfile_t2)"
   ]
  },
  {
   "cell_type": "markdown",
   "metadata": {},
   "source": [
    "### 4.4) to3"
   ]
  },
  {
   "cell_type": "code",
   "execution_count": null,
   "metadata": {
    "collapsed": false
   },
   "outputs": [],
   "source": [
    "PlotTimeSeries(3,figfile_to3)"
   ]
  },
  {
   "cell_type": "markdown",
   "metadata": {},
   "source": [
    "### 4.5) tox"
   ]
  },
  {
   "cell_type": "code",
   "execution_count": null,
   "metadata": {
    "collapsed": false
   },
   "outputs": [],
   "source": [
    "PlotTimeSeries(4,figfile_tox)"
   ]
  },
  {
   "cell_type": "markdown",
   "metadata": {},
   "source": [
    "### 4.6 TQI"
   ]
  },
  {
   "cell_type": "code",
   "execution_count": null,
   "metadata": {
    "collapsed": false
   },
   "outputs": [],
   "source": [
    "PlotTimeSeries(5,figfile_tqi)"
   ]
  },
  {
   "cell_type": "markdown",
   "metadata": {},
   "source": [
    "### 4.7) TQL"
   ]
  },
  {
   "cell_type": "code",
   "execution_count": null,
   "metadata": {
    "collapsed": false
   },
   "outputs": [],
   "source": [
    "PlotTimeSeries(6,figfile_tql)"
   ]
  },
  {
   "cell_type": "markdown",
   "metadata": {},
   "source": [
    "### 4.8) TS"
   ]
  },
  {
   "cell_type": "code",
   "execution_count": null,
   "metadata": {
    "collapsed": false
   },
   "outputs": [],
   "source": [
    "PlotTimeSeries(7,figfile_ts)"
   ]
  },
  {
   "cell_type": "markdown",
   "metadata": {},
   "source": [
    "### 4.9) um10"
   ]
  },
  {
   "cell_type": "code",
   "execution_count": null,
   "metadata": {
    "collapsed": false
   },
   "outputs": [],
   "source": [
    "PlotTimeSeries(8,figfile_u10m)"
   ]
  },
  {
   "cell_type": "code",
   "execution_count": null,
   "metadata": {
    "collapsed": false
   },
   "outputs": [],
   "source": [
    "PlotTimeSeries(9,figfile_u2m)"
   ]
  },
  {
   "cell_type": "code",
   "execution_count": null,
   "metadata": {
    "collapsed": false
   },
   "outputs": [],
   "source": [
    "PlotTimeSeries(10,figfile_u50m)"
   ]
  },
  {
   "cell_type": "code",
   "execution_count": null,
   "metadata": {
    "collapsed": false
   },
   "outputs": [],
   "source": [
    "PlotTimeSeries(11,figfile_v10m)"
   ]
  },
  {
   "cell_type": "code",
   "execution_count": null,
   "metadata": {
    "collapsed": false
   },
   "outputs": [],
   "source": [
    "PlotTimeSeries(12,figfile_v2m)"
   ]
  },
  {
   "cell_type": "code",
   "execution_count": null,
   "metadata": {
    "collapsed": false
   },
   "outputs": [],
   "source": [
    "PlotTimeSeries(13,figfile_v50m)"
   ]
  },
  {
   "cell_type": "markdown",
   "metadata": {},
   "source": [
    "## 5) Output"
   ]
  },
  {
   "cell_type": "code",
   "execution_count": null,
   "metadata": {
    "collapsed": false
   },
   "outputs": [],
   "source": [
    "df_inst1_2d_asm_Nx.index.name='time'\n",
    "df_inst1_2d_asm_Nx.describe()"
   ]
  },
  {
   "cell_type": "code",
   "execution_count": null,
   "metadata": {
    "collapsed": true
   },
   "outputs": [],
   "source": []
  },
  {
   "cell_type": "markdown",
   "metadata": {
    "collapsed": true
   },
   "source": [
    "## 5)  Save dataset  in file pandas (csv)\n",
    "----------------------------------------"
   ]
  },
  {
   "cell_type": "code",
   "execution_count": null,
   "metadata": {
    "collapsed": false
   },
   "outputs": [],
   "source": [
    "dataset=df_inst1_2d_asm_Nx"
   ]
  },
  {
   "cell_type": "code",
   "execution_count": null,
   "metadata": {
    "collapsed": false
   },
   "outputs": [],
   "source": [
    "dataset.index.name='time'"
   ]
  },
  {
   "cell_type": "code",
   "execution_count": null,
   "metadata": {
    "collapsed": true
   },
   "outputs": [],
   "source": []
  },
  {
   "cell_type": "code",
   "execution_count": null,
   "metadata": {
    "collapsed": false
   },
   "outputs": [],
   "source": [
    "dataset.describe()"
   ]
  },
  {
   "cell_type": "code",
   "execution_count": null,
   "metadata": {
    "collapsed": false
   },
   "outputs": [],
   "source": [
    "dataset.head()"
   ]
  },
  {
   "cell_type": "code",
   "execution_count": null,
   "metadata": {
    "collapsed": true
   },
   "outputs": [],
   "source": [
    "dataset.to_csv(pandas_filename)"
   ]
  },
  {
   "cell_type": "code",
   "execution_count": null,
   "metadata": {
    "collapsed": true
   },
   "outputs": [],
   "source": [
    "saved_dataset=pd.read_csv(pandas_filename)"
   ]
  },
  {
   "cell_type": "code",
   "execution_count": null,
   "metadata": {
    "collapsed": false
   },
   "outputs": [],
   "source": [
    "saved_dataset.head()"
   ]
  },
  {
   "cell_type": "markdown",
   "metadata": {},
   "source": [
    "## 6) Convert dataset into a table and then save in a fits file\n",
    "--------------------------------------------------------------------------"
   ]
  },
  {
   "cell_type": "code",
   "execution_count": null,
   "metadata": {
    "collapsed": true
   },
   "outputs": [],
   "source": [
    "table = Table.from_pandas(saved_dataset)"
   ]
  },
  {
   "cell_type": "code",
   "execution_count": null,
   "metadata": {
    "collapsed": false
   },
   "outputs": [],
   "source": [
    "table"
   ]
  },
  {
   "cell_type": "code",
   "execution_count": null,
   "metadata": {
    "collapsed": false
   },
   "outputs": [],
   "source": [
    "table.write(fits_filename,format='fits',overwrite=True)"
   ]
  },
  {
   "cell_type": "code",
   "execution_count": null,
   "metadata": {
    "collapsed": true
   },
   "outputs": [],
   "source": []
  }
 ],
 "metadata": {
  "anaconda-cloud": {},
  "kernelspec": {
   "display_name": "Python [default]",
   "language": "python",
   "name": "python2"
  },
  "language_info": {
   "codemirror_mode": {
    "name": "ipython",
    "version": 2
   },
   "file_extension": ".py",
   "mimetype": "text/x-python",
   "name": "python",
   "nbconvert_exporter": "python",
   "pygments_lexer": "ipython2",
   "version": "2.7.12"
  }
 },
 "nbformat": 4,
 "nbformat_minor": 0
}
