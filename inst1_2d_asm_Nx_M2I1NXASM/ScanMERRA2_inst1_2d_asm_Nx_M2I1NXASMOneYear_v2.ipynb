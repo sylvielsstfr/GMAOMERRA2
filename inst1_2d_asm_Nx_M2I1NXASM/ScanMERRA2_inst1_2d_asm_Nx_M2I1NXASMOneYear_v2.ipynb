{
 "cells": [
  {
   "cell_type": "markdown",
   "metadata": {},
   "source": [
    "# Scan MERRA-2 atmospheric properties during one Year\n",
    "----------------------------------------------------------------------------------\n",
    "\n",
    "- author: Sylvie Dagoret-Campagne\n",
    "- creation January 12 2017\n",
    "- update April 25th 2018\n",
    "\n",
    "Link:\n",
    "\n",
    "http://disc.sci.gsfc.nasa.gov/datareleases/merra_2_data_release\n",
    "\n",
    "### purpose:\n",
    "\n",
    "Scan One month of MERRA-2 predictions of the dataset inst1_2d_asm_Nx_M2I1NXASM. \n",
    "Extract the relevant atmospheric variables.\n",
    "Build the correcponding time series and dataset in pandas.\n",
    "Plot the variables. Save the pandas dataset into a file.\n",
    "Convert the pandas dataset into an astropy fits table and save into a fits file as well."
   ]
  },
  {
   "cell_type": "markdown",
   "metadata": {},
   "source": [
    "## 1) python libraries\n",
    "---------------------------"
   ]
  },
  {
   "cell_type": "code",
   "execution_count": 37,
   "metadata": {
    "collapsed": false
   },
   "outputs": [],
   "source": [
    "# Set up matplotlib and use a nicer set of plot parameters\n",
    "%config InlineBackend.rc = {}\n",
    "import matplotlib\n",
    "import matplotlib as mpl\n",
    "matplotlib.rc_file(\"templates/matplotlibrc\")\n",
    "import matplotlib.pyplot as plt\n",
    "%matplotlib inline"
   ]
  },
  {
   "cell_type": "code",
   "execution_count": 38,
   "metadata": {
    "collapsed": true
   },
   "outputs": [],
   "source": [
    "import datetime"
   ]
  },
  {
   "cell_type": "code",
   "execution_count": 39,
   "metadata": {
    "collapsed": true
   },
   "outputs": [],
   "source": [
    "from matplotlib.dates import MonthLocator, WeekdayLocator,DateFormatter\n",
    "from matplotlib.dates import MONDAY"
   ]
  },
  {
   "cell_type": "code",
   "execution_count": 40,
   "metadata": {
    "collapsed": false
   },
   "outputs": [],
   "source": [
    "mondays = WeekdayLocator(MONDAY)\n",
    "months = MonthLocator(range(1, 13), bymonthday=1, interval=1)\n",
    "monthsFmt = DateFormatter(\"%b '%y\")"
   ]
  },
  {
   "cell_type": "code",
   "execution_count": 41,
   "metadata": {
    "collapsed": false
   },
   "outputs": [],
   "source": [
    "import os\n",
    "import re\n",
    "import numpy as np\n",
    "from mpl_toolkits.basemap import Basemap\n",
    "from matplotlib import colors\n",
    "from matplotlib.backends.backend_pdf import PdfPages\n",
    "import pandas as pd"
   ]
  },
  {
   "cell_type": "code",
   "execution_count": 42,
   "metadata": {
    "collapsed": true
   },
   "outputs": [],
   "source": [
    "from astropy import units as u\n",
    "from astropy.coordinates import SkyCoord\n",
    "\n",
    "from astropy.table import Table"
   ]
  },
  {
   "cell_type": "code",
   "execution_count": 43,
   "metadata": {
    "collapsed": true
   },
   "outputs": [],
   "source": [
    "import h5py"
   ]
  },
  {
   "cell_type": "code",
   "execution_count": 44,
   "metadata": {
    "collapsed": false
   },
   "outputs": [],
   "source": [
    "import libGMAOMERRA2Data as merra2  # My own library"
   ]
  },
  {
   "cell_type": "code",
   "execution_count": 45,
   "metadata": {
    "collapsed": false
   },
   "outputs": [],
   "source": [
    "############################################################################\n",
    "def ensure_dir(f):\n",
    "    d = os.path.dirname(f)\n",
    "    if not os.path.exists(f):\n",
    "        os.makedirs(f)\n",
    "#########################################################################"
   ]
  },
  {
   "cell_type": "markdown",
   "metadata": {},
   "source": [
    "## 2)  Configuration\n",
    "-------------------------"
   ]
  },
  {
   "cell_type": "code",
   "execution_count": null,
   "metadata": {
    "collapsed": true
   },
   "outputs": [],
   "source": []
  },
  {
   "cell_type": "code",
   "execution_count": 46,
   "metadata": {
    "collapsed": true
   },
   "outputs": [],
   "source": [
    "# SELECT OBSERVATORY\n",
    "OBS_NAME='ohp'"
   ]
  },
  {
   "cell_type": "code",
   "execution_count": 47,
   "metadata": {
    "collapsed": false
   },
   "outputs": [],
   "source": [
    "# where are the HDF files\n",
    "#HDFEOS_ZOO_DIR=\"/Volumes/LaCie2/DATA/MERRA-2/inst1_2d_asm_Nx_M2I1NXASM\"\n",
    "# For Simulation of CTIO atmosphere in May-Jun 2017\n",
    "#HDFEOS_ZOO_DIR=\"/sps/lsst/data/AtmosphericCalibration/MERRA-2/May-Jun-2017/subset_M2I1NXASM_V5.12.4_20180424_201411\"\n",
    "# Data 2018\n",
    "HDFEOS_ZOO_DIR=\"/sps/lsst/data/MERRA2/M2I1NXASM.5.12.4/2018\""
   ]
  },
  {
   "cell_type": "code",
   "execution_count": 48,
   "metadata": {
    "collapsed": false
   },
   "outputs": [],
   "source": [
    "path=HDFEOS_ZOO_DIR"
   ]
  },
  {
   "cell_type": "markdown",
   "metadata": {},
   "source": [
    "### Here I describe the content of the input files"
   ]
  },
  {
   "cell_type": "code",
   "execution_count": 49,
   "metadata": {
    "collapsed": true
   },
   "outputs": [],
   "source": [
    "DATA_TAG=['PS','T10M','T2M','TO3','TOX','TQI','TQV','TS','U10M','U2M','U50M','V10M','V2M','V50M' ]"
   ]
  },
  {
   "cell_type": "code",
   "execution_count": 50,
   "metadata": {
    "collapsed": true
   },
   "outputs": [],
   "source": [
    "DATA_TITLE=['Surface Pressure',\n",
    "            '10 meter air temperature',\n",
    "            '2 meter air temperature',\n",
    "            'total column ozone',\n",
    "            'total column odd oxygen',\n",
    "            'total precipitable ice water',\n",
    "            'total precipitable liquid water',\n",
    "            'Surface Temperature skin',\n",
    "            '10 meter eastward wind',\n",
    "            '2 meter eastward wind',\n",
    "            '50 meter eastward wind',\n",
    "            '10 meter northward wind',\n",
    "            '2 meter northward wind',\n",
    "            '50 meter northward wind'\n",
    "           ]"
   ]
  },
  {
   "cell_type": "code",
   "execution_count": 51,
   "metadata": {
    "collapsed": true
   },
   "outputs": [],
   "source": [
    "NB_DATAFIELDS=len(DATA_TAG)"
   ]
  },
  {
   "cell_type": "markdown",
   "metadata": {},
   "source": [
    "### List of output files"
   ]
  },
  {
   "cell_type": "code",
   "execution_count": 52,
   "metadata": {
    "collapsed": true
   },
   "outputs": [],
   "source": [
    "# The selected data field\n",
    "DATA_NAME =  'inst1_2d_asm_Nx_M2I1NXASM'   # "
   ]
  },
  {
   "cell_type": "code",
   "execution_count": 53,
   "metadata": {
    "collapsed": false
   },
   "outputs": [],
   "source": [
    "pandas_filename='MERRA2_2018_'+DATA_NAME+'_'+OBS_NAME+'_'+'AllYear'+'.csv'"
   ]
  },
  {
   "cell_type": "code",
   "execution_count": 54,
   "metadata": {
    "collapsed": true
   },
   "outputs": [],
   "source": [
    "fits_filename='MERRA2_2018_'+DATA_NAME+'_'+OBS_NAME+'_'+'AllYear' +'.fits'"
   ]
  },
  {
   "cell_type": "code",
   "execution_count": 55,
   "metadata": {},
   "outputs": [],
   "source": [
    "hdf5_filename='MERRA2_2018_'+DATA_NAME+'_'+OBS_NAME+'_'+'AllYear'+'.h5'"
   ]
  },
  {
   "cell_type": "code",
   "execution_count": 56,
   "metadata": {
    "collapsed": true
   },
   "outputs": [],
   "source": [
    "# 14 output files for figures\n",
    "figfile_ps='GMAO_MERRA2_2018_'+DATA_NAME+'_'+OBS_NAME+'_'+'AllYear'+'_ps'+'.jpg'\n",
    "figfile_t10='GMAO_MERRA2_2018_'+DATA_NAME+'_'+OBS_NAME+'_'+'AllYear'+'_t10'+'.jpg'\n",
    "figfile_t2='GMAO_MERRA2_2018_'+DATA_NAME+'_'+OBS_NAME+'_'+'AllYear'+'_t2'+'.jpg'\n",
    "figfile_to3='GMAO_MERRA2_2018_'+DATA_NAME+'_'+OBS_NAME+'_'+'AllYear'+'_to3'+'.jpg'\n",
    "figfile_tox='GMAO_MERRA2_2018_'+DATA_NAME+'_'+OBS_NAME+'_'+'AllYear'+'_tox'+'.jpg'\n",
    "figfile_tqi='GMAO_MERRA2_2018_'+DATA_NAME+'_'+OBS_NAME+'_'+'AllYear'+'_tqi'+'.jpg'\n",
    "figfile_tql='GMAO_MERRA2_2018_'+DATA_NAME+'_'+OBS_NAME+'_'+'AllYear'+'_tql'+'.jpg'\n",
    "figfile_ts='GMAO_MERRA2_2018_'+DATA_NAME+'_'+OBS_NAME+'_'+'AllYear'+'_ts'+'.jpg'\n",
    "figfile_u10m='GMAO_MERRA2_2018_'+DATA_NAME+'_'+OBS_NAME+'_'+'AllYear'+'_u10m'+'.jpg'\n",
    "figfile_u2m='GMAO_MERRA2_2018_'+DATA_NAME+'_'+OBS_NAME+'_'+'AllYear'+'_u2m'+'.jpg'\n",
    "figfile_u50m='GMAO_MERRA2_2018_'+DATA_NAME+'_'+OBS_NAME+'_'+'AllYear'+'_u50m'+'.jpg'\n",
    "figfile_v10m='GMAO_MERRA2_2018_'+DATA_NAME+'_'+OBS_NAME+'_'+'AllYear'+'_v10m'+'.jpg'\n",
    "figfile_v2m='GMAO_MERRA2_2018_'+DATA_NAME+'_'+OBS_NAME+'_'+'AllYear'+'_v2m'+'.jpg'\n",
    "figfile_v50m='GMAO_MERRA2_2018_'+DATA_NAME+'_'+OBS_NAME+'_'+'AllYear'+'_v50m'+'.jpg'"
   ]
  },
  {
   "cell_type": "markdown",
   "metadata": {},
   "source": [
    "### Select where in the world"
   ]
  },
  {
   "cell_type": "code",
   "execution_count": 57,
   "metadata": {
    "collapsed": false
   },
   "outputs": [],
   "source": [
    "# Select observatory\n",
    "loc=merra2.observatory_location(OBS_NAME)"
   ]
  },
  {
   "cell_type": "code",
   "execution_count": 58,
   "metadata": {
    "collapsed": false
   },
   "outputs": [
    {
     "data": {
      "text/plain": [
       "(5.71222222222, 43.9316666667, 650.0)"
      ]
     },
     "execution_count": 58,
     "metadata": {},
     "output_type": "execute_result"
    }
   ],
   "source": [
    "loc"
   ]
  },
  {
   "cell_type": "markdown",
   "metadata": {},
   "source": [
    "### 2.2) Getting the list of the files\n",
    "------------------------------"
   ]
  },
  {
   "cell_type": "code",
   "execution_count": 59,
   "metadata": {
    "collapsed": true
   },
   "outputs": [],
   "source": [
    "nc4_files = [f for f in os.listdir(path) if f.endswith('.nc4')]  "
   ]
  },
  {
   "cell_type": "code",
   "execution_count": 60,
   "metadata": {
    "collapsed": false
   },
   "outputs": [
    {
     "data": {
      "text/plain": [
       "['MERRA2_400.inst1_2d_asm_Nx.20180227.nc4',\n",
       " 'MERRA2_400.inst1_2d_asm_Nx.20180322.nc4',\n",
       " 'MERRA2_400.inst1_2d_asm_Nx.20180329.nc4',\n",
       " 'MERRA2_400.inst1_2d_asm_Nx.20180224.nc4',\n",
       " 'MERRA2_400.inst1_2d_asm_Nx.20180528.nc4']"
      ]
     },
     "execution_count": 60,
     "metadata": {},
     "output_type": "execute_result"
    }
   ],
   "source": [
    "nc4_files[:5]"
   ]
  },
  {
   "cell_type": "markdown",
   "metadata": {},
   "source": [
    "### 2.3) Select files of a given month"
   ]
  },
  {
   "cell_type": "code",
   "execution_count": 61,
   "metadata": {
    "collapsed": true
   },
   "outputs": [],
   "source": [
    "keysel_filename='^MERRA2_400.inst1_2d_asm_Nx.2018.*'"
   ]
  },
  {
   "cell_type": "code",
   "execution_count": 62,
   "metadata": {
    "collapsed": false
   },
   "outputs": [
    {
     "name": "stdout",
     "output_type": "stream",
     "text": [
      "Selection key ^MERRA2_400.inst1_2d_asm_Nx.2018.*\n"
     ]
    }
   ],
   "source": [
    "print 'Selection key' ,keysel_filename"
   ]
  },
  {
   "cell_type": "code",
   "execution_count": 63,
   "metadata": {
    "collapsed": false
   },
   "outputs": [],
   "source": [
    "nc4_files2 = []\n",
    "for file in nc4_files:\n",
    "    if re.findall(keysel_filename,file):\n",
    "        nc4_files2.append(file)\n",
    "\n",
    "nc4_files2=np.array(nc4_files2)"
   ]
  },
  {
   "cell_type": "code",
   "execution_count": 64,
   "metadata": {
    "collapsed": false
   },
   "outputs": [
    {
     "data": {
      "text/plain": [
       "array(['MERRA2_400.inst1_2d_asm_Nx.20180227.nc4',\n",
       "       'MERRA2_400.inst1_2d_asm_Nx.20180322.nc4',\n",
       "       'MERRA2_400.inst1_2d_asm_Nx.20180329.nc4',\n",
       "       'MERRA2_400.inst1_2d_asm_Nx.20180224.nc4',\n",
       "       'MERRA2_400.inst1_2d_asm_Nx.20180528.nc4',\n",
       "       'MERRA2_400.inst1_2d_asm_Nx.20180115.nc4',\n",
       "       'MERRA2_400.inst1_2d_asm_Nx.20180429.nc4',\n",
       "       'MERRA2_400.inst1_2d_asm_Nx.20180216.nc4',\n",
       "       'MERRA2_400.inst1_2d_asm_Nx.20180402.nc4',\n",
       "       'MERRA2_400.inst1_2d_asm_Nx.20180306.nc4',\n",
       "       'MERRA2_400.inst1_2d_asm_Nx.20180110.nc4',\n",
       "       'MERRA2_400.inst1_2d_asm_Nx.20180428.nc4',\n",
       "       'MERRA2_400.inst1_2d_asm_Nx.20180405.nc4',\n",
       "       'MERRA2_400.inst1_2d_asm_Nx.20180101.nc4',\n",
       "       'MERRA2_400.inst1_2d_asm_Nx.20180430.nc4',\n",
       "       'MERRA2_400.inst1_2d_asm_Nx.20180321.nc4',\n",
       "       'MERRA2_400.inst1_2d_asm_Nx.20180312.nc4',\n",
       "       'MERRA2_400.inst1_2d_asm_Nx.20180504.nc4',\n",
       "       'MERRA2_400.inst1_2d_asm_Nx.20180330.nc4',\n",
       "       'MERRA2_400.inst1_2d_asm_Nx.20180410.nc4',\n",
       "       'MERRA2_400.inst1_2d_asm_Nx.20180204.nc4',\n",
       "       'MERRA2_400.inst1_2d_asm_Nx.20180122.nc4',\n",
       "       'MERRA2_400.inst1_2d_asm_Nx.20180516.nc4',\n",
       "       'MERRA2_400.inst1_2d_asm_Nx.20180421.nc4',\n",
       "       'MERRA2_400.inst1_2d_asm_Nx.20180103.nc4',\n",
       "       'MERRA2_400.inst1_2d_asm_Nx.20180304.nc4',\n",
       "       'MERRA2_400.inst1_2d_asm_Nx.20180222.nc4',\n",
       "       'MERRA2_400.inst1_2d_asm_Nx.20180118.nc4',\n",
       "       'MERRA2_400.inst1_2d_asm_Nx.20180514.nc4',\n",
       "       'MERRA2_400.inst1_2d_asm_Nx.20180426.nc4',\n",
       "       'MERRA2_400.inst1_2d_asm_Nx.20180212.nc4',\n",
       "       'MERRA2_400.inst1_2d_asm_Nx.20180308.nc4',\n",
       "       'MERRA2_400.inst1_2d_asm_Nx.20180223.nc4',\n",
       "       'MERRA2_400.inst1_2d_asm_Nx.20180211.nc4',\n",
       "       'MERRA2_400.inst1_2d_asm_Nx.20180305.nc4',\n",
       "       'MERRA2_400.inst1_2d_asm_Nx.20180126.nc4',\n",
       "       'MERRA2_400.inst1_2d_asm_Nx.20180509.nc4',\n",
       "       'MERRA2_400.inst1_2d_asm_Nx.20180505.nc4',\n",
       "       'MERRA2_400.inst1_2d_asm_Nx.20180427.nc4',\n",
       "       'MERRA2_400.inst1_2d_asm_Nx.20180226.nc4',\n",
       "       'MERRA2_400.inst1_2d_asm_Nx.20180111.nc4',\n",
       "       'MERRA2_400.inst1_2d_asm_Nx.20180419.nc4',\n",
       "       'MERRA2_400.inst1_2d_asm_Nx.20180424.nc4',\n",
       "       'MERRA2_400.inst1_2d_asm_Nx.20180511.nc4',\n",
       "       'MERRA2_400.inst1_2d_asm_Nx.20180320.nc4',\n",
       "       'MERRA2_400.inst1_2d_asm_Nx.20180425.nc4',\n",
       "       'MERRA2_400.inst1_2d_asm_Nx.20180218.nc4',\n",
       "       'MERRA2_400.inst1_2d_asm_Nx.20180203.nc4',\n",
       "       'MERRA2_400.inst1_2d_asm_Nx.20180202.nc4',\n",
       "       'MERRA2_400.inst1_2d_asm_Nx.20180515.nc4',\n",
       "       'MERRA2_400.inst1_2d_asm_Nx.20180228.nc4',\n",
       "       'MERRA2_400.inst1_2d_asm_Nx.20180208.nc4',\n",
       "       'MERRA2_400.inst1_2d_asm_Nx.20180128.nc4',\n",
       "       'MERRA2_400.inst1_2d_asm_Nx.20180310.nc4',\n",
       "       'MERRA2_400.inst1_2d_asm_Nx.20180131.nc4',\n",
       "       'MERRA2_400.inst1_2d_asm_Nx.20180411.nc4',\n",
       "       'MERRA2_400.inst1_2d_asm_Nx.20180525.nc4',\n",
       "       'MERRA2_400.inst1_2d_asm_Nx.20180423.nc4',\n",
       "       'MERRA2_400.inst1_2d_asm_Nx.20180401.nc4',\n",
       "       'MERRA2_400.inst1_2d_asm_Nx.20180125.nc4',\n",
       "       'MERRA2_400.inst1_2d_asm_Nx.20180113.nc4',\n",
       "       'MERRA2_400.inst1_2d_asm_Nx.20180531.nc4',\n",
       "       'MERRA2_400.inst1_2d_asm_Nx.20180102.nc4',\n",
       "       'MERRA2_400.inst1_2d_asm_Nx.20180526.nc4',\n",
       "       'MERRA2_400.inst1_2d_asm_Nx.20180520.nc4',\n",
       "       'MERRA2_400.inst1_2d_asm_Nx.20180104.nc4',\n",
       "       'MERRA2_400.inst1_2d_asm_Nx.20180326.nc4',\n",
       "       'MERRA2_400.inst1_2d_asm_Nx.20180309.nc4',\n",
       "       'MERRA2_400.inst1_2d_asm_Nx.20180130.nc4',\n",
       "       'MERRA2_400.inst1_2d_asm_Nx.20180302.nc4',\n",
       "       'MERRA2_400.inst1_2d_asm_Nx.20180311.nc4',\n",
       "       'MERRA2_400.inst1_2d_asm_Nx.20180324.nc4',\n",
       "       'MERRA2_400.inst1_2d_asm_Nx.20180501.nc4',\n",
       "       'MERRA2_400.inst1_2d_asm_Nx.20180207.nc4',\n",
       "       'MERRA2_400.inst1_2d_asm_Nx.20180418.nc4',\n",
       "       'MERRA2_400.inst1_2d_asm_Nx.20180213.nc4',\n",
       "       'MERRA2_400.inst1_2d_asm_Nx.20180124.nc4',\n",
       "       'MERRA2_400.inst1_2d_asm_Nx.20180114.nc4',\n",
       "       'MERRA2_400.inst1_2d_asm_Nx.20180409.nc4',\n",
       "       'MERRA2_400.inst1_2d_asm_Nx.20180121.nc4',\n",
       "       'MERRA2_400.inst1_2d_asm_Nx.20180307.nc4',\n",
       "       'MERRA2_400.inst1_2d_asm_Nx.20180206.nc4',\n",
       "       'MERRA2_400.inst1_2d_asm_Nx.20180323.nc4',\n",
       "       'MERRA2_400.inst1_2d_asm_Nx.20180225.nc4',\n",
       "       'MERRA2_400.inst1_2d_asm_Nx.20180217.nc4',\n",
       "       'MERRA2_400.inst1_2d_asm_Nx.20180123.nc4',\n",
       "       'MERRA2_400.inst1_2d_asm_Nx.20180407.nc4',\n",
       "       'MERRA2_400.inst1_2d_asm_Nx.20180523.nc4',\n",
       "       'MERRA2_400.inst1_2d_asm_Nx.20180519.nc4',\n",
       "       'MERRA2_400.inst1_2d_asm_Nx.20180328.nc4',\n",
       "       'MERRA2_400.inst1_2d_asm_Nx.20180502.nc4',\n",
       "       'MERRA2_400.inst1_2d_asm_Nx.20180221.nc4',\n",
       "       'MERRA2_400.inst1_2d_asm_Nx.20180506.nc4',\n",
       "       'MERRA2_400.inst1_2d_asm_Nx.20180417.nc4',\n",
       "       'MERRA2_400.inst1_2d_asm_Nx.20180512.nc4',\n",
       "       'MERRA2_400.inst1_2d_asm_Nx.20180530.nc4',\n",
       "       'MERRA2_400.inst1_2d_asm_Nx.20180117.nc4',\n",
       "       'MERRA2_400.inst1_2d_asm_Nx.20180508.nc4',\n",
       "       'MERRA2_400.inst1_2d_asm_Nx.20180315.nc4',\n",
       "       'MERRA2_400.inst1_2d_asm_Nx.20180527.nc4',\n",
       "       'MERRA2_400.inst1_2d_asm_Nx.20180314.nc4',\n",
       "       'MERRA2_400.inst1_2d_asm_Nx.20180303.nc4',\n",
       "       'MERRA2_400.inst1_2d_asm_Nx.20180413.nc4',\n",
       "       'MERRA2_400.inst1_2d_asm_Nx.20180109.nc4',\n",
       "       'MERRA2_400.inst1_2d_asm_Nx.20180518.nc4',\n",
       "       'MERRA2_400.inst1_2d_asm_Nx.20180112.nc4',\n",
       "       'MERRA2_400.inst1_2d_asm_Nx.20180116.nc4',\n",
       "       'MERRA2_400.inst1_2d_asm_Nx.20180414.nc4',\n",
       "       'MERRA2_400.inst1_2d_asm_Nx.20180510.nc4',\n",
       "       'MERRA2_400.inst1_2d_asm_Nx.20180416.nc4',\n",
       "       'MERRA2_400.inst1_2d_asm_Nx.20180317.nc4',\n",
       "       'MERRA2_400.inst1_2d_asm_Nx.20180327.nc4',\n",
       "       'MERRA2_400.inst1_2d_asm_Nx.20180507.nc4',\n",
       "       'MERRA2_400.inst1_2d_asm_Nx.20180220.nc4',\n",
       "       'MERRA2_400.inst1_2d_asm_Nx.20180422.nc4',\n",
       "       'MERRA2_400.inst1_2d_asm_Nx.20180106.nc4',\n",
       "       'MERRA2_400.inst1_2d_asm_Nx.20180219.nc4',\n",
       "       'MERRA2_400.inst1_2d_asm_Nx.20180415.nc4',\n",
       "       'MERRA2_400.inst1_2d_asm_Nx.20180316.nc4',\n",
       "       'MERRA2_400.inst1_2d_asm_Nx.20180325.nc4',\n",
       "       'MERRA2_400.inst1_2d_asm_Nx.20180331.nc4',\n",
       "       'MERRA2_400.inst1_2d_asm_Nx.20180319.nc4',\n",
       "       'MERRA2_400.inst1_2d_asm_Nx.20180107.nc4',\n",
       "       'MERRA2_400.inst1_2d_asm_Nx.20180105.nc4',\n",
       "       'MERRA2_400.inst1_2d_asm_Nx.20180127.nc4',\n",
       "       'MERRA2_400.inst1_2d_asm_Nx.20180513.nc4',\n",
       "       'MERRA2_400.inst1_2d_asm_Nx.20180205.nc4',\n",
       "       'MERRA2_400.inst1_2d_asm_Nx.20180406.nc4',\n",
       "       'MERRA2_400.inst1_2d_asm_Nx.20180214.nc4',\n",
       "       'MERRA2_400.inst1_2d_asm_Nx.20180521.nc4',\n",
       "       'MERRA2_400.inst1_2d_asm_Nx.20180408.nc4',\n",
       "       'MERRA2_400.inst1_2d_asm_Nx.20180108.nc4',\n",
       "       'MERRA2_400.inst1_2d_asm_Nx.20180119.nc4',\n",
       "       'MERRA2_400.inst1_2d_asm_Nx.20180403.nc4',\n",
       "       'MERRA2_400.inst1_2d_asm_Nx.20180517.nc4',\n",
       "       'MERRA2_400.inst1_2d_asm_Nx.20180201.nc4',\n",
       "       'MERRA2_400.inst1_2d_asm_Nx.20180129.nc4',\n",
       "       'MERRA2_400.inst1_2d_asm_Nx.20180522.nc4',\n",
       "       'MERRA2_400.inst1_2d_asm_Nx.20180420.nc4',\n",
       "       'MERRA2_400.inst1_2d_asm_Nx.20180529.nc4',\n",
       "       'MERRA2_400.inst1_2d_asm_Nx.20180209.nc4',\n",
       "       'MERRA2_400.inst1_2d_asm_Nx.20180301.nc4',\n",
       "       'MERRA2_400.inst1_2d_asm_Nx.20180210.nc4',\n",
       "       'MERRA2_400.inst1_2d_asm_Nx.20180313.nc4',\n",
       "       'MERRA2_400.inst1_2d_asm_Nx.20180412.nc4',\n",
       "       'MERRA2_400.inst1_2d_asm_Nx.20180404.nc4',\n",
       "       'MERRA2_400.inst1_2d_asm_Nx.20180120.nc4',\n",
       "       'MERRA2_400.inst1_2d_asm_Nx.20180215.nc4',\n",
       "       'MERRA2_400.inst1_2d_asm_Nx.20180524.nc4',\n",
       "       'MERRA2_400.inst1_2d_asm_Nx.20180503.nc4',\n",
       "       'MERRA2_400.inst1_2d_asm_Nx.20180318.nc4'], \n",
       "      dtype='|S39')"
      ]
     },
     "execution_count": 64,
     "metadata": {},
     "output_type": "execute_result"
    }
   ],
   "source": [
    "nc4_files2"
   ]
  },
  {
   "cell_type": "markdown",
   "metadata": {},
   "source": [
    "### 2.4) Sort files by increasing time"
   ]
  },
  {
   "cell_type": "code",
   "execution_count": 65,
   "metadata": {
    "collapsed": false
   },
   "outputs": [],
   "source": [
    "nc4_files=np.sort(nc4_files2)"
   ]
  },
  {
   "cell_type": "markdown",
   "metadata": {},
   "source": [
    "### 2.5) Build the full filename before reading"
   ]
  },
  {
   "cell_type": "code",
   "execution_count": null,
   "metadata": {
    "collapsed": false
   },
   "outputs": [],
   "source": [
    "NBFILES=len(nc4_files)\n",
    "full_nc4files=[]\n",
    "\n",
    "for file in nc4_files:\n",
    "    fname = os.path.join(path, file)\n",
    "    full_nc4files.append(fname)  "
   ]
  },
  {
   "cell_type": "markdown",
   "metadata": {},
   "source": [
    "## 3)  Extract data and write them into pandas dataset and time series\n",
    "--------------------------------------------------------------------------------------"
   ]
  },
  {
   "cell_type": "code",
   "execution_count": null,
   "metadata": {
    "collapsed": false
   },
   "outputs": [],
   "source": [
    "ts0=[]  # intermediate data series\n",
    "ts1=[]\n",
    "ts2=[]\n",
    "ts3=[]  # intermediate data series\n",
    "ts4=[]\n",
    "ts5=[]\n",
    "ts6=[]  # intermediate data series\n",
    "ts7=[]\n",
    "ts8=[]\n",
    "ts9=[]  # intermediate data series\n",
    "ts10=[]\n",
    "ts11=[]\n",
    "ts12=[]\n",
    "ts13=[]\n",
    "\n",
    "df_inst1_2d_asm_Nx=[] # final pandas dataset for all atmospheric quantities\n",
    "\n",
    "for file in full_nc4files: # loop on data file of each day of the month\n",
    "    \n",
    "    #Retrieve 1D parameters longitude, latitude, time\n",
    "    (m_lat,m_un_lat,m_nm_lat) = merra2.Get1DData(file,'lat') # latitude (array, unit, name)\n",
    "    m_latitude = m_lat[:]\n",
    "    (m_lon,m_un_lon,m_nm_lon) = merra2.Get1DData(file,'lon') # longitude(array, unit, name)\n",
    "    m_longitude = m_lon[:]\n",
    "    (m_tim,m_un_tim,m_nm_tim)= merra2.Get1DData(file,'time') # time (array, unit, name)\n",
    "    m_time=m_tim[:]\n",
    "       \n",
    "    NbDataPerFile=m_time.shape[0] # number of data sample per file\n",
    "    #start_time = re.findall(\"^minutes since[ ]([0-9.].+[0-9.].+[0-9.].+)[ ]00:00:00$\",m_un_tim) # extract start time\n",
    "    start_time = re.findall(\"^minutes since[ ]([0-9.].+[0-9.].+[0-9.].+)\",m_un_tim) # extract start time\n",
    "    \n",
    "    #print 'start_time = ', start_time\n",
    "    time_rng = pd.date_range(start_time[0], periods=NbDataPerFile, freq='H') # one data per hour\n",
    "    \n",
    "\n",
    "    \n",
    "    m_X,m_Y=np.meshgrid(m_longitude,m_latitude) # build meash-grid in longitude and latitude\n",
    "    (sel_long, sel_lat)=merra2.GetBinIndex(m_X,m_Y,loc[0],loc[1]) # get bin in longitude and latitude for the site  \n",
    "    \n",
    " \n",
    "    # loop\n",
    "    for index in range(NB_DATAFIELDS):\n",
    "        (m_data,m_unit,m_longname)=merra2.GetGeoRefData(file,DATA_TAG[index]) # 3D array : time x longitude x latitude  \n",
    "        dt=m_data[:,sel_lat,sel_long]\n",
    "        if index==0:\n",
    "            ts0 = pd.Series(dt, index=time_rng)\n",
    "        elif index==1:\n",
    "            ts1 = pd.Series(dt, index=time_rng)\n",
    "        elif index==2:\n",
    "            ts2 = pd.Series(dt, index=time_rng)\n",
    "        elif index==3:\n",
    "            ts3 = pd.Series(dt, index=time_rng)\n",
    "\n",
    "        elif index==4:\n",
    "            ts4 = pd.Series(dt, index=time_rng)\n",
    "        elif index==5:\n",
    "            ts5 = pd.Series(dt, index=time_rng)\n",
    "        elif index==6:\n",
    "            ts6 = pd.Series(dt, index=time_rng)\n",
    "            \n",
    "        elif index==7:\n",
    "            ts7 = pd.Series(dt, index=time_rng)\n",
    "        elif index==8:\n",
    "            ts8 = pd.Series(dt, index=time_rng)\n",
    "        elif index==9:\n",
    "            ts9 = pd.Series(dt, index=time_rng)            \n",
    "            \n",
    "        elif index==10:\n",
    "            ts10 = pd.Series(dt, index=time_rng)\n",
    "        elif index==11:\n",
    "            ts11 = pd.Series(dt, index=time_rng)\n",
    "        elif index==12:\n",
    "            ts12 = pd.Series(dt, index=time_rng) \n",
    "            \n",
    "        elif index==13:\n",
    "            ts13 = pd.Series(dt, index=time_rng) \n",
    "            \n",
    "            \n",
    "        #clf_timeseries.append(ts)\n",
    "        # Create the dataframe\n",
    "    df = pd.DataFrame({DATA_TAG[0]: ts0, \n",
    "                       DATA_TAG[1]: ts1,\n",
    "                       DATA_TAG[2]: ts2,\n",
    "                       DATA_TAG[3]: ts3,\n",
    "                       \n",
    "                       DATA_TAG[4]: ts4,\n",
    "                       DATA_TAG[5]: ts5,\n",
    "                       DATA_TAG[6]: ts6,                       \n",
    "\n",
    "                       DATA_TAG[7]: ts7,\n",
    "                       DATA_TAG[8]: ts8,\n",
    "                       DATA_TAG[9]: ts9,\n",
    "                       \n",
    "                       DATA_TAG[10]: ts10,\n",
    "                       DATA_TAG[11]: ts11,\n",
    "                       DATA_TAG[12]: ts12,\n",
    "                       DATA_TAG[13]: ts13 }, index=time_rng)\n",
    "    df_inst1_2d_asm_Nx.append(df)  \n",
    "    "
   ]
  },
  {
   "cell_type": "markdown",
   "metadata": {},
   "source": [
    "### Concatenation"
   ]
  },
  {
   "cell_type": "code",
   "execution_count": null,
   "metadata": {
    "collapsed": false
   },
   "outputs": [],
   "source": [
    "df_inst1_2d_asm_Nx=pd.concat(df_inst1_2d_asm_Nx)"
   ]
  },
  {
   "cell_type": "code",
   "execution_count": null,
   "metadata": {
    "collapsed": false
   },
   "outputs": [],
   "source": [
    "df_inst1_2d_asm_Nx.info()"
   ]
  },
  {
   "cell_type": "markdown",
   "metadata": {},
   "source": [
    "## 4) Plot the time dependence of time series and dataset"
   ]
  },
  {
   "cell_type": "markdown",
   "metadata": {},
   "source": [
    "####  Fill information on years and months from the filenames"
   ]
  },
  {
   "cell_type": "code",
   "execution_count": null,
   "metadata": {
    "collapsed": true
   },
   "outputs": [],
   "source": [
    "def PlotTimeSeries(index,figfile):\n",
    "    plt.figure(figsize=(20,5))\n",
    "    df_inst1_2d_asm_Nx[DATA_TAG[index]].plot(lw=3,color='red')\n",
    "    plt.xlabel('time')\n",
    "    plt.ylabel(DATA_TAG[index])\n",
    "    title= \"Hourly {} at {} in 2018\".format(DATA_TITLE[index],OBS_NAME)\n",
    "    plt.title(title,fontsize=15)\n",
    "    plt.suptitle('NASA GMAO GES (MERRA-2)', y=1.02, fontsize=13)\n",
    "    plt.grid(True)\n",
    "#    plt.savefig(figfile)"
   ]
  },
  {
   "cell_type": "markdown",
   "metadata": {},
   "source": [
    "### 4.1) Pressure"
   ]
  },
  {
   "cell_type": "code",
   "execution_count": null,
   "metadata": {
    "collapsed": false
   },
   "outputs": [],
   "source": [
    "PlotTimeSeries(0,figfile_ps)"
   ]
  },
  {
   "cell_type": "code",
   "execution_count": null,
   "metadata": {
    "collapsed": false
   },
   "outputs": [],
   "source": []
  },
  {
   "cell_type": "markdown",
   "metadata": {},
   "source": [
    "###  4.2)  T10\n",
    "----------------"
   ]
  },
  {
   "cell_type": "code",
   "execution_count": null,
   "metadata": {
    "collapsed": false
   },
   "outputs": [],
   "source": [
    "PlotTimeSeries(1,figfile_t10)"
   ]
  },
  {
   "cell_type": "markdown",
   "metadata": {},
   "source": [
    "### 4.3) t2"
   ]
  },
  {
   "cell_type": "code",
   "execution_count": null,
   "metadata": {
    "collapsed": false
   },
   "outputs": [],
   "source": [
    "PlotTimeSeries(2,figfile_t2)"
   ]
  },
  {
   "cell_type": "markdown",
   "metadata": {},
   "source": [
    "### 4.4) to3"
   ]
  },
  {
   "cell_type": "code",
   "execution_count": null,
   "metadata": {
    "collapsed": false
   },
   "outputs": [],
   "source": [
    "PlotTimeSeries(3,figfile_to3)"
   ]
  },
  {
   "cell_type": "markdown",
   "metadata": {},
   "source": [
    "### 4.5) tox"
   ]
  },
  {
   "cell_type": "code",
   "execution_count": null,
   "metadata": {
    "collapsed": false
   },
   "outputs": [],
   "source": [
    "PlotTimeSeries(4,figfile_tox)"
   ]
  },
  {
   "cell_type": "markdown",
   "metadata": {},
   "source": [
    "### 4.6 TQI"
   ]
  },
  {
   "cell_type": "code",
   "execution_count": null,
   "metadata": {
    "collapsed": false
   },
   "outputs": [],
   "source": [
    "PlotTimeSeries(5,figfile_tqi)"
   ]
  },
  {
   "cell_type": "markdown",
   "metadata": {},
   "source": [
    "### 4.7) TQL"
   ]
  },
  {
   "cell_type": "code",
   "execution_count": null,
   "metadata": {
    "collapsed": false
   },
   "outputs": [],
   "source": [
    "PlotTimeSeries(6,figfile_tql)"
   ]
  },
  {
   "cell_type": "markdown",
   "metadata": {},
   "source": [
    "### 4.8) TS"
   ]
  },
  {
   "cell_type": "code",
   "execution_count": null,
   "metadata": {
    "collapsed": false
   },
   "outputs": [],
   "source": [
    "PlotTimeSeries(7,figfile_ts)"
   ]
  },
  {
   "cell_type": "markdown",
   "metadata": {},
   "source": [
    "### 4.9) um10"
   ]
  },
  {
   "cell_type": "code",
   "execution_count": null,
   "metadata": {
    "collapsed": false
   },
   "outputs": [],
   "source": [
    "PlotTimeSeries(8,figfile_u10m)"
   ]
  },
  {
   "cell_type": "code",
   "execution_count": null,
   "metadata": {
    "collapsed": false
   },
   "outputs": [],
   "source": [
    "PlotTimeSeries(9,figfile_u2m)"
   ]
  },
  {
   "cell_type": "code",
   "execution_count": null,
   "metadata": {
    "collapsed": false
   },
   "outputs": [],
   "source": [
    "PlotTimeSeries(10,figfile_u50m)"
   ]
  },
  {
   "cell_type": "code",
   "execution_count": null,
   "metadata": {
    "collapsed": false
   },
   "outputs": [],
   "source": [
    "PlotTimeSeries(11,figfile_v10m)"
   ]
  },
  {
   "cell_type": "code",
   "execution_count": null,
   "metadata": {
    "collapsed": false
   },
   "outputs": [],
   "source": [
    "PlotTimeSeries(12,figfile_v2m)"
   ]
  },
  {
   "cell_type": "code",
   "execution_count": null,
   "metadata": {
    "collapsed": false
   },
   "outputs": [],
   "source": [
    "PlotTimeSeries(13,figfile_v50m)"
   ]
  },
  {
   "cell_type": "markdown",
   "metadata": {},
   "source": [
    "## 5) Output"
   ]
  },
  {
   "cell_type": "code",
   "execution_count": null,
   "metadata": {
    "collapsed": false
   },
   "outputs": [],
   "source": [
    "df_inst1_2d_asm_Nx.index.name='time'\n",
    "df_inst1_2d_asm_Nx.describe()"
   ]
  },
  {
   "cell_type": "code",
   "execution_count": null,
   "metadata": {
    "collapsed": true
   },
   "outputs": [],
   "source": []
  },
  {
   "cell_type": "markdown",
   "metadata": {},
   "source": [
    "## 5)  Save dataset  in file pandas (csv)\n",
    "----------------------------------------"
   ]
  },
  {
   "cell_type": "code",
   "execution_count": null,
   "metadata": {
    "collapsed": false
   },
   "outputs": [],
   "source": [
    "dataset=df_inst1_2d_asm_Nx"
   ]
  },
  {
   "cell_type": "code",
   "execution_count": null,
   "metadata": {
    "collapsed": false
   },
   "outputs": [],
   "source": [
    "dataset.index.name='time'"
   ]
  },
  {
   "cell_type": "code",
   "execution_count": null,
   "metadata": {
    "collapsed": true
   },
   "outputs": [],
   "source": []
  },
  {
   "cell_type": "code",
   "execution_count": null,
   "metadata": {
    "collapsed": false
   },
   "outputs": [],
   "source": [
    "dataset.describe()"
   ]
  },
  {
   "cell_type": "code",
   "execution_count": null,
   "metadata": {
    "collapsed": false
   },
   "outputs": [],
   "source": [
    "dataset.head()"
   ]
  },
  {
   "cell_type": "markdown",
   "metadata": {},
   "source": [
    "### write pandas"
   ]
  },
  {
   "cell_type": "code",
   "execution_count": null,
   "metadata": {
    "collapsed": true
   },
   "outputs": [],
   "source": [
    "dataset.to_csv(pandas_filename)"
   ]
  },
  {
   "cell_type": "markdown",
   "metadata": {},
   "source": [
    "### write hdf5"
   ]
  },
  {
   "cell_type": "code",
   "execution_count": null,
   "metadata": {},
   "outputs": [],
   "source": [
    "dataset.to_hdf(hdf5_filename,key='df',mode=\"w\")"
   ]
  },
  {
   "cell_type": "markdown",
   "metadata": {},
   "source": [
    "### Check"
   ]
  },
  {
   "cell_type": "code",
   "execution_count": null,
   "metadata": {
    "collapsed": true
   },
   "outputs": [],
   "source": [
    "saved_dataset=pd.read_csv(pandas_filename)"
   ]
  },
  {
   "cell_type": "code",
   "execution_count": null,
   "metadata": {
    "collapsed": false
   },
   "outputs": [],
   "source": [
    "saved_dataset.head()"
   ]
  },
  {
   "cell_type": "markdown",
   "metadata": {},
   "source": [
    "## 6) Convert dataset into a table and then save in a fits file\n",
    "--------------------------------------------------------------------------"
   ]
  },
  {
   "cell_type": "code",
   "execution_count": null,
   "metadata": {
    "collapsed": true
   },
   "outputs": [],
   "source": [
    "table = Table.from_pandas(saved_dataset)"
   ]
  },
  {
   "cell_type": "code",
   "execution_count": null,
   "metadata": {
    "collapsed": false
   },
   "outputs": [],
   "source": [
    "table"
   ]
  },
  {
   "cell_type": "code",
   "execution_count": null,
   "metadata": {
    "collapsed": false
   },
   "outputs": [],
   "source": [
    "table.write(fits_filename,format='fits',overwrite=True)"
   ]
  },
  {
   "cell_type": "code",
   "execution_count": null,
   "metadata": {
    "collapsed": true
   },
   "outputs": [],
   "source": []
  }
 ],
 "metadata": {
  "anaconda-cloud": {},
  "kernelspec": {
   "display_name": "Python 2",
   "language": "python",
   "name": "python2"
  },
  "language_info": {
   "codemirror_mode": {
    "name": "ipython",
    "version": 2
   },
   "file_extension": ".py",
   "mimetype": "text/x-python",
   "name": "python",
   "nbconvert_exporter": "python",
   "pygments_lexer": "ipython2",
   "version": "2.7.14"
  }
 },
 "nbformat": 4,
 "nbformat_minor": 2
}
