{
 "cells": [
  {
   "cell_type": "code",
   "execution_count": 10,
   "metadata": {
    "collapsed": false
   },
   "outputs": [],
   "source": [
    "# Set up matplotlib and use a nicer set of plot parameters\n",
    "%config InlineBackend.rc = {}\n",
    "import matplotlib\n",
    "import matplotlib as mpl\n",
    "matplotlib.rc_file(\"templates/matplotlibrc\")\n",
    "import matplotlib.pyplot as plt\n",
    "import matplotlib.mlab as mlab\n",
    "%matplotlib inline"
   ]
  },
  {
   "cell_type": "code",
   "execution_count": 11,
   "metadata": {
    "collapsed": true
   },
   "outputs": [],
   "source": [
    "import os\n",
    "import re\n",
    "import numpy as np\n",
    "from mpl_toolkits.basemap import Basemap\n",
    "from matplotlib import colors\n",
    "from matplotlib.backends.backend_pdf import PdfPages\n",
    "import pandas as pd"
   ]
  },
  {
   "cell_type": "code",
   "execution_count": 12,
   "metadata": {
    "collapsed": true
   },
   "outputs": [],
   "source": [
    "monthfile='MERRA2_2016_inst1_2d_asm_Nx_M2I1NXASM_ctio_11.csv'\n",
    "yearfile='MERRA2_2016_inst1_2d_asm_Nx_M2I1NXASM_ctio_AllYear.csv'"
   ]
  },
  {
   "cell_type": "code",
   "execution_count": 13,
   "metadata": {
    "collapsed": true
   },
   "outputs": [],
   "source": [
    "df_month=pd.read_csv(monthfile)"
   ]
  },
  {
   "cell_type": "code",
   "execution_count": 14,
   "metadata": {
    "collapsed": true
   },
   "outputs": [],
   "source": [
    "df_year=pd.read_csv(yearfile)"
   ]
  },
  {
   "cell_type": "code",
   "execution_count": 15,
   "metadata": {
    "collapsed": false
   },
   "outputs": [
    {
     "data": {
      "text/html": [
       "<div>\n",
       "<table border=\"1\" class=\"dataframe\">\n",
       "  <thead>\n",
       "    <tr style=\"text-align: right;\">\n",
       "      <th></th>\n",
       "      <th>PS</th>\n",
       "      <th>T10M</th>\n",
       "      <th>T2M</th>\n",
       "      <th>TO3</th>\n",
       "      <th>TOX</th>\n",
       "      <th>TQI</th>\n",
       "      <th>TQL</th>\n",
       "      <th>TS</th>\n",
       "      <th>U10M</th>\n",
       "      <th>U2M</th>\n",
       "      <th>U50M</th>\n",
       "      <th>V10M</th>\n",
       "      <th>V2M</th>\n",
       "      <th>V50M</th>\n",
       "    </tr>\n",
       "  </thead>\n",
       "  <tbody>\n",
       "    <tr>\n",
       "      <th>count</th>\n",
       "      <td>720.000000</td>\n",
       "      <td>720.000000</td>\n",
       "      <td>720.000000</td>\n",
       "      <td>720.000000</td>\n",
       "      <td>720.000000</td>\n",
       "      <td>720.000000</td>\n",
       "      <td>720.000000</td>\n",
       "      <td>720.000000</td>\n",
       "      <td>720.000000</td>\n",
       "      <td>720.000000</td>\n",
       "      <td>720.000000</td>\n",
       "      <td>720.000000</td>\n",
       "      <td>720.000000</td>\n",
       "      <td>720.000000</td>\n",
       "    </tr>\n",
       "    <tr>\n",
       "      <th>mean</th>\n",
       "      <td>78476.568381</td>\n",
       "      <td>288.297993</td>\n",
       "      <td>288.345246</td>\n",
       "      <td>277.328675</td>\n",
       "      <td>0.005952</td>\n",
       "      <td>0.003948</td>\n",
       "      <td>0.001200</td>\n",
       "      <td>290.383071</td>\n",
       "      <td>1.872660</td>\n",
       "      <td>1.634642</td>\n",
       "      <td>1.166681</td>\n",
       "      <td>-0.571482</td>\n",
       "      <td>-0.428235</td>\n",
       "      <td>-0.744118</td>\n",
       "    </tr>\n",
       "    <tr>\n",
       "      <th>std</th>\n",
       "      <td>117.839642</td>\n",
       "      <td>4.310530</td>\n",
       "      <td>5.761474</td>\n",
       "      <td>15.151748</td>\n",
       "      <td>0.000325</td>\n",
       "      <td>0.014095</td>\n",
       "      <td>0.005061</td>\n",
       "      <td>12.096428</td>\n",
       "      <td>3.287258</td>\n",
       "      <td>2.553214</td>\n",
       "      <td>2.638312</td>\n",
       "      <td>1.466403</td>\n",
       "      <td>1.161258</td>\n",
       "      <td>1.657827</td>\n",
       "    </tr>\n",
       "    <tr>\n",
       "      <th>min</th>\n",
       "      <td>78130.453125</td>\n",
       "      <td>279.059082</td>\n",
       "      <td>277.367615</td>\n",
       "      <td>249.441330</td>\n",
       "      <td>0.005347</td>\n",
       "      <td>0.000000</td>\n",
       "      <td>0.000000</td>\n",
       "      <td>271.221283</td>\n",
       "      <td>-2.979433</td>\n",
       "      <td>-1.882657</td>\n",
       "      <td>-3.213983</td>\n",
       "      <td>-5.863996</td>\n",
       "      <td>-4.666296</td>\n",
       "      <td>-6.625673</td>\n",
       "    </tr>\n",
       "    <tr>\n",
       "      <th>25%</th>\n",
       "      <td>78415.888672</td>\n",
       "      <td>285.064713</td>\n",
       "      <td>283.802689</td>\n",
       "      <td>265.693291</td>\n",
       "      <td>0.005701</td>\n",
       "      <td>0.000000</td>\n",
       "      <td>0.000000</td>\n",
       "      <td>279.286430</td>\n",
       "      <td>-1.237721</td>\n",
       "      <td>-0.769381</td>\n",
       "      <td>-1.382703</td>\n",
       "      <td>-1.057961</td>\n",
       "      <td>-0.726652</td>\n",
       "      <td>-1.376753</td>\n",
       "    </tr>\n",
       "    <tr>\n",
       "      <th>50%</th>\n",
       "      <td>78503.906250</td>\n",
       "      <td>288.262207</td>\n",
       "      <td>287.525848</td>\n",
       "      <td>277.793488</td>\n",
       "      <td>0.005963</td>\n",
       "      <td>0.000000</td>\n",
       "      <td>0.000000</td>\n",
       "      <td>286.969833</td>\n",
       "      <td>0.882268</td>\n",
       "      <td>0.565395</td>\n",
       "      <td>0.900146</td>\n",
       "      <td>-0.332816</td>\n",
       "      <td>-0.205699</td>\n",
       "      <td>-0.449465</td>\n",
       "    </tr>\n",
       "    <tr>\n",
       "      <th>75%</th>\n",
       "      <td>78560.023438</td>\n",
       "      <td>291.103996</td>\n",
       "      <td>292.991219</td>\n",
       "      <td>288.134071</td>\n",
       "      <td>0.006182</td>\n",
       "      <td>0.001207</td>\n",
       "      <td>0.000007</td>\n",
       "      <td>301.967819</td>\n",
       "      <td>5.255034</td>\n",
       "      <td>4.319523</td>\n",
       "      <td>3.755058</td>\n",
       "      <td>0.270929</td>\n",
       "      <td>0.176251</td>\n",
       "      <td>0.272644</td>\n",
       "    </tr>\n",
       "    <tr>\n",
       "      <th>max</th>\n",
       "      <td>78674.703125</td>\n",
       "      <td>298.261444</td>\n",
       "      <td>300.752441</td>\n",
       "      <td>318.333374</td>\n",
       "      <td>0.006837</td>\n",
       "      <td>0.149719</td>\n",
       "      <td>0.043320</td>\n",
       "      <td>312.068298</td>\n",
       "      <td>7.751463</td>\n",
       "      <td>6.240096</td>\n",
       "      <td>6.544787</td>\n",
       "      <td>2.821164</td>\n",
       "      <td>2.268432</td>\n",
       "      <td>2.911801</td>\n",
       "    </tr>\n",
       "  </tbody>\n",
       "</table>\n",
       "</div>"
      ],
      "text/plain": [
       "                 PS        T10M         T2M         TO3         TOX  \\\n",
       "count    720.000000  720.000000  720.000000  720.000000  720.000000   \n",
       "mean   78476.568381  288.297993  288.345246  277.328675    0.005952   \n",
       "std      117.839642    4.310530    5.761474   15.151748    0.000325   \n",
       "min    78130.453125  279.059082  277.367615  249.441330    0.005347   \n",
       "25%    78415.888672  285.064713  283.802689  265.693291    0.005701   \n",
       "50%    78503.906250  288.262207  287.525848  277.793488    0.005963   \n",
       "75%    78560.023438  291.103996  292.991219  288.134071    0.006182   \n",
       "max    78674.703125  298.261444  300.752441  318.333374    0.006837   \n",
       "\n",
       "              TQI         TQL          TS        U10M         U2M        U50M  \\\n",
       "count  720.000000  720.000000  720.000000  720.000000  720.000000  720.000000   \n",
       "mean     0.003948    0.001200  290.383071    1.872660    1.634642    1.166681   \n",
       "std      0.014095    0.005061   12.096428    3.287258    2.553214    2.638312   \n",
       "min      0.000000    0.000000  271.221283   -2.979433   -1.882657   -3.213983   \n",
       "25%      0.000000    0.000000  279.286430   -1.237721   -0.769381   -1.382703   \n",
       "50%      0.000000    0.000000  286.969833    0.882268    0.565395    0.900146   \n",
       "75%      0.001207    0.000007  301.967819    5.255034    4.319523    3.755058   \n",
       "max      0.149719    0.043320  312.068298    7.751463    6.240096    6.544787   \n",
       "\n",
       "             V10M         V2M        V50M  \n",
       "count  720.000000  720.000000  720.000000  \n",
       "mean    -0.571482   -0.428235   -0.744118  \n",
       "std      1.466403    1.161258    1.657827  \n",
       "min     -5.863996   -4.666296   -6.625673  \n",
       "25%     -1.057961   -0.726652   -1.376753  \n",
       "50%     -0.332816   -0.205699   -0.449465  \n",
       "75%      0.270929    0.176251    0.272644  \n",
       "max      2.821164    2.268432    2.911801  "
      ]
     },
     "execution_count": 15,
     "metadata": {},
     "output_type": "execute_result"
    }
   ],
   "source": [
    "df_month.describe()"
   ]
  },
  {
   "cell_type": "code",
   "execution_count": 16,
   "metadata": {
    "collapsed": true
   },
   "outputs": [],
   "source": [
    "o3_month=df_month[\"TO3\"]"
   ]
  },
  {
   "cell_type": "code",
   "execution_count": 17,
   "metadata": {
    "collapsed": false
   },
   "outputs": [],
   "source": [
    "mean_O3_m = np.mean(o3_month)\n",
    "variance_O3_m = np.var(o3_month)\n",
    "sigma_O3_m = np.sqrt(variance_O3_m)"
   ]
  },
  {
   "cell_type": "code",
   "execution_count": 18,
   "metadata": {
    "collapsed": false
   },
   "outputs": [],
   "source": [
    "mean_O3_m=np.trunc(mean_O3_m*10)/10\n",
    "sigma_O3_m=np.trunc(sigma_O3_m*10)/10"
   ]
  },
  {
   "cell_type": "code",
   "execution_count": 19,
   "metadata": {
    "collapsed": false
   },
   "outputs": [
    {
     "name": "stdout",
     "output_type": "stream",
     "text": [
      "277.3\n",
      "229.256605401\n",
      "15.1\n"
     ]
    }
   ],
   "source": [
    "print mean_O3_m \n",
    "print variance_O3_m \n",
    "print sigma_O3_m "
   ]
  },
  {
   "cell_type": "code",
   "execution_count": null,
   "metadata": {
    "collapsed": true
   },
   "outputs": [],
   "source": [
    "variation_m = variance_O3_m/mean_O3_m  \n",
    "print 'monthly variation = '"
   ]
  },
  {
   "cell_type": "code",
   "execution_count": 20,
   "metadata": {
    "collapsed": false
   },
   "outputs": [],
   "source": [
    "title = \"Monthly variation of O3 (nov 2016), mean = {} std = {}\".format(mean_O3_m ,sigma_O3_m)"
   ]
  },
  {
   "cell_type": "code",
   "execution_count": 21,
   "metadata": {
    "collapsed": false
   },
   "outputs": [
    {
     "data": {
      "image/png": "[encoded data removed]",
      "text/plain": [
       "<matplotlib.figure.Figure at 0x10a3f8910>"
      ]
     },
     "metadata": {},
     "output_type": "display_data"
    }
   ],
   "source": [
    "n, bins, patches = plt.hist(o3_month, 50, normed=False, facecolor='blue', alpha=0.75)\n",
    "plt.title(title)\n",
    "plt.xlabel('$O_3$ in Dobson unit')\n",
    "plt.savefig('HistoO32016_11.pdf')"
   ]
  },
  {
   "cell_type": "code",
   "execution_count": 22,
   "metadata": {
    "collapsed": true
   },
   "outputs": [],
   "source": [
    "o3_year=df_year[\"TO3\"]"
   ]
  },
  {
   "cell_type": "code",
   "execution_count": 23,
   "metadata": {
    "collapsed": true
   },
   "outputs": [],
   "source": [
    "mean_O3_y = np.mean(o3_year)\n",
    "variance_O3_y = np.var(o3_year)\n",
    "sigma_O3_y = np.sqrt(variance_O3_y)"
   ]
  },
  {
   "cell_type": "code",
   "execution_count": 24,
   "metadata": {
    "collapsed": true
   },
   "outputs": [],
   "source": [
    "mean_O3_y=np.trunc(mean_O3_y*10)/10\n",
    "sigma_O3_y=np.trunc(sigma_O3_y*10)/10"
   ]
  },
  {
   "cell_type": "code",
   "execution_count": 25,
   "metadata": {
    "collapsed": false
   },
   "outputs": [
    {
     "name": "stdout",
     "output_type": "stream",
     "text": [
      "267.5\n",
      "247.789504719\n",
      "15.7\n"
     ]
    }
   ],
   "source": [
    "print mean_O3_y \n",
    "print variance_O3_y \n",
    "print sigma_O3_y "
   ]
  },
  {
   "cell_type": "code",
   "execution_count": 26,
   "metadata": {
    "collapsed": false
   },
   "outputs": [],
   "source": [
    "title = \"Yearly variation of O3 (year 2016), mean = {} std = {}\".format(mean_O3_y ,sigma_O3_y)"
   ]
  },
  {
   "cell_type": "code",
   "execution_count": 27,
   "metadata": {
    "collapsed": false
   },
   "outputs": [
    {
     "data": {
      "image/png": "[encoded data removed]",
      "text/plain": [
       "<matplotlib.figure.Figure at 0x109e54610>"
      ]
     },
     "metadata": {},
     "output_type": "display_data"
    }
   ],
   "source": [
    "n, bins, patches = plt.hist(o3_year, 50, normed=False, facecolor='blue', alpha=0.75)\n",
    "plt.title(title)\n",
    "plt.xlabel('$O_3$ in Dobson unit')\n",
    "plt.savefig('HistoO32016_allyear.pdf')"
   ]
  },
  {
   "cell_type": "code",
   "execution_count": null,
   "metadata": {
    "collapsed": true
   },
   "outputs": [],
   "source": []
  }
 ],
 "metadata": {
  "anaconda-cloud": {},
  "kernelspec": {
   "display_name": "Python [conda env:pyastrophys]",
   "language": "python",
   "name": "conda-env-pyastrophys-py"
  },
  "language_info": {
   "codemirror_mode": {
    "name": "ipython",
    "version": 2
   },
   "file_extension": ".py",
   "mimetype": "text/x-python",
   "name": "python",
   "nbconvert_exporter": "python",
   "pygments_lexer": "ipython2",
   "version": "2.7.12"
  }
 },
 "nbformat": 4,
 "nbformat_minor": 2
}
