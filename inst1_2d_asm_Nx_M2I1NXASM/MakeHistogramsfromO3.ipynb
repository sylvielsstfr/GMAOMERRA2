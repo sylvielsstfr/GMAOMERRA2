{
 "cells": [
  {
   "cell_type": "code",
   "execution_count": 22,
   "metadata": {
    "collapsed": false,
    "deletable": true,
    "editable": true
   },
   "outputs": [],
   "source": [
    "# Set up matplotlib and use a nicer set of plot parameters\n",
    "%config InlineBackend.rc = {}\n",
    "import matplotlib\n",
    "import matplotlib as mpl\n",
    "matplotlib.rc_file(\"templates/matplotlibrc\")\n",
    "import matplotlib.pyplot as plt\n",
    "import matplotlib.mlab as mlab\n",
    "%matplotlib inline"
   ]
  },
  {
   "cell_type": "code",
   "execution_count": 23,
   "metadata": {
    "collapsed": true,
    "deletable": true,
    "editable": true
   },
   "outputs": [],
   "source": [
    "import os\n",
    "import re\n",
    "import numpy as np\n",
    "from mpl_toolkits.basemap import Basemap\n",
    "from matplotlib import colors\n",
    "from matplotlib.backends.backend_pdf import PdfPages\n",
    "import pandas as pd"
   ]
  },
  {
   "cell_type": "code",
   "execution_count": 24,
   "metadata": {
    "collapsed": true,
    "deletable": true,
    "editable": true
   },
   "outputs": [],
   "source": [
    "#monthfile='MERRA2_2016_inst1_2d_asm_Nx_M2I1NXASM_ctio_11.csv'\n",
    "#yearfile='MERRA2_2016_inst1_2d_asm_Nx_M2I1NXASM_ctio_AllYear.csv'"
   ]
  },
  {
   "cell_type": "code",
   "execution_count": 25,
   "metadata": {
    "collapsed": true
   },
   "outputs": [],
   "source": [
    "monthfile='MERRA2_2016_inst1_2d_asm_Nx_M2I1NXASM_ohp_11.csv'\n",
    "yearfile='MERRA2_2016_inst1_2d_asm_Nx_M2I1NXASM_ohp_AllYear.csv'"
   ]
  },
  {
   "cell_type": "markdown",
   "metadata": {},
   "source": [
    "## Per month"
   ]
  },
  {
   "cell_type": "code",
   "execution_count": 26,
   "metadata": {
    "collapsed": true,
    "deletable": true,
    "editable": true
   },
   "outputs": [],
   "source": [
    "df_month=pd.read_csv(monthfile)"
   ]
  },
  {
   "cell_type": "code",
   "execution_count": 27,
   "metadata": {
    "collapsed": true,
    "deletable": true,
    "editable": true
   },
   "outputs": [],
   "source": [
    "df_year=pd.read_csv(yearfile)"
   ]
  },
  {
   "cell_type": "code",
   "execution_count": 28,
   "metadata": {
    "collapsed": false,
    "deletable": true,
    "editable": true
   },
   "outputs": [
    {
     "data": {
      "text/html": [
       "<div>\n",
       "<table border=\"1\" class=\"dataframe\">\n",
       "  <thead>\n",
       "    <tr style=\"text-align: right;\">\n",
       "      <th></th>\n",
       "      <th>PS</th>\n",
       "      <th>T10M</th>\n",
       "      <th>T2M</th>\n",
       "      <th>TO3</th>\n",
       "      <th>TOX</th>\n",
       "      <th>TQI</th>\n",
       "      <th>TQL</th>\n",
       "      <th>TS</th>\n",
       "      <th>U10M</th>\n",
       "      <th>U2M</th>\n",
       "      <th>U50M</th>\n",
       "      <th>V10M</th>\n",
       "      <th>V2M</th>\n",
       "      <th>V50M</th>\n",
       "    </tr>\n",
       "  </thead>\n",
       "  <tbody>\n",
       "    <tr>\n",
       "      <th>count</th>\n",
       "      <td>720.000000</td>\n",
       "      <td>720.000000</td>\n",
       "      <td>720.000000</td>\n",
       "      <td>720.000000</td>\n",
       "      <td>720.000000</td>\n",
       "      <td>720.000000</td>\n",
       "      <td>720.000000</td>\n",
       "      <td>720.000000</td>\n",
       "      <td>720.000000</td>\n",
       "      <td>720.000000</td>\n",
       "      <td>720.000000</td>\n",
       "      <td>720.000000</td>\n",
       "      <td>720.000000</td>\n",
       "      <td>720.000000</td>\n",
       "    </tr>\n",
       "    <tr>\n",
       "      <th>mean</th>\n",
       "      <td>93774.621853</td>\n",
       "      <td>280.562093</td>\n",
       "      <td>279.869139</td>\n",
       "      <td>290.661064</td>\n",
       "      <td>0.006237</td>\n",
       "      <td>0.024694</td>\n",
       "      <td>0.076577</td>\n",
       "      <td>279.057108</td>\n",
       "      <td>-0.873470</td>\n",
       "      <td>-0.522847</td>\n",
       "      <td>-1.231734</td>\n",
       "      <td>-0.020324</td>\n",
       "      <td>0.021955</td>\n",
       "      <td>-0.088090</td>\n",
       "    </tr>\n",
       "    <tr>\n",
       "      <th>std</th>\n",
       "      <td>632.780589</td>\n",
       "      <td>3.988254</td>\n",
       "      <td>4.453649</td>\n",
       "      <td>22.728856</td>\n",
       "      <td>0.000487</td>\n",
       "      <td>0.050989</td>\n",
       "      <td>0.095721</td>\n",
       "      <td>5.421780</td>\n",
       "      <td>3.182245</td>\n",
       "      <td>2.116561</td>\n",
       "      <td>4.338954</td>\n",
       "      <td>3.250351</td>\n",
       "      <td>2.160979</td>\n",
       "      <td>4.634925</td>\n",
       "    </tr>\n",
       "    <tr>\n",
       "      <th>min</th>\n",
       "      <td>92384.640625</td>\n",
       "      <td>270.773041</td>\n",
       "      <td>269.714844</td>\n",
       "      <td>251.922699</td>\n",
       "      <td>0.005408</td>\n",
       "      <td>0.000000</td>\n",
       "      <td>0.000000</td>\n",
       "      <td>268.463745</td>\n",
       "      <td>-11.487646</td>\n",
       "      <td>-7.753606</td>\n",
       "      <td>-15.580361</td>\n",
       "      <td>-8.264384</td>\n",
       "      <td>-5.709053</td>\n",
       "      <td>-10.511650</td>\n",
       "    </tr>\n",
       "    <tr>\n",
       "      <th>25%</th>\n",
       "      <td>93347.462891</td>\n",
       "      <td>278.168152</td>\n",
       "      <td>276.653923</td>\n",
       "      <td>274.927795</td>\n",
       "      <td>0.005900</td>\n",
       "      <td>0.000011</td>\n",
       "      <td>0.003048</td>\n",
       "      <td>274.719315</td>\n",
       "      <td>-2.262013</td>\n",
       "      <td>-1.166809</td>\n",
       "      <td>-3.400830</td>\n",
       "      <td>-1.955248</td>\n",
       "      <td>-1.065619</td>\n",
       "      <td>-2.806863</td>\n",
       "    </tr>\n",
       "    <tr>\n",
       "      <th>50%</th>\n",
       "      <td>93721.386719</td>\n",
       "      <td>280.346954</td>\n",
       "      <td>279.787888</td>\n",
       "      <td>287.496506</td>\n",
       "      <td>0.006166</td>\n",
       "      <td>0.000931</td>\n",
       "      <td>0.032837</td>\n",
       "      <td>279.007690</td>\n",
       "      <td>-0.822777</td>\n",
       "      <td>-0.472520</td>\n",
       "      <td>-1.214488</td>\n",
       "      <td>-0.075527</td>\n",
       "      <td>-0.029689</td>\n",
       "      <td>-0.108816</td>\n",
       "    </tr>\n",
       "    <tr>\n",
       "      <th>75%</th>\n",
       "      <td>94129.212891</td>\n",
       "      <td>283.772430</td>\n",
       "      <td>283.689270</td>\n",
       "      <td>306.159142</td>\n",
       "      <td>0.006568</td>\n",
       "      <td>0.018782</td>\n",
       "      <td>0.117317</td>\n",
       "      <td>283.492989</td>\n",
       "      <td>1.405577</td>\n",
       "      <td>0.783036</td>\n",
       "      <td>2.122082</td>\n",
       "      <td>1.640904</td>\n",
       "      <td>0.975344</td>\n",
       "      <td>2.463160</td>\n",
       "    </tr>\n",
       "    <tr>\n",
       "      <th>max</th>\n",
       "      <td>95422.078125</td>\n",
       "      <td>289.985931</td>\n",
       "      <td>290.595459</td>\n",
       "      <td>349.622040</td>\n",
       "      <td>0.007495</td>\n",
       "      <td>0.379395</td>\n",
       "      <td>0.394043</td>\n",
       "      <td>293.283752</td>\n",
       "      <td>5.909451</td>\n",
       "      <td>4.116533</td>\n",
       "      <td>7.237700</td>\n",
       "      <td>9.439109</td>\n",
       "      <td>6.428907</td>\n",
       "      <td>12.690127</td>\n",
       "    </tr>\n",
       "  </tbody>\n",
       "</table>\n",
       "</div>"
      ],
      "text/plain": [
       "                 PS        T10M         T2M         TO3         TOX  \\\n",
       "count    720.000000  720.000000  720.000000  720.000000  720.000000   \n",
       "mean   93774.621853  280.562093  279.869139  290.661064    0.006237   \n",
       "std      632.780589    3.988254    4.453649   22.728856    0.000487   \n",
       "min    92384.640625  270.773041  269.714844  251.922699    0.005408   \n",
       "25%    93347.462891  278.168152  276.653923  274.927795    0.005900   \n",
       "50%    93721.386719  280.346954  279.787888  287.496506    0.006166   \n",
       "75%    94129.212891  283.772430  283.689270  306.159142    0.006568   \n",
       "max    95422.078125  289.985931  290.595459  349.622040    0.007495   \n",
       "\n",
       "              TQI         TQL          TS        U10M         U2M        U50M  \\\n",
       "count  720.000000  720.000000  720.000000  720.000000  720.000000  720.000000   \n",
       "mean     0.024694    0.076577  279.057108   -0.873470   -0.522847   -1.231734   \n",
       "std      0.050989    0.095721    5.421780    3.182245    2.116561    4.338954   \n",
       "min      0.000000    0.000000  268.463745  -11.487646   -7.753606  -15.580361   \n",
       "25%      0.000011    0.003048  274.719315   -2.262013   -1.166809   -3.400830   \n",
       "50%      0.000931    0.032837  279.007690   -0.822777   -0.472520   -1.214488   \n",
       "75%      0.018782    0.117317  283.492989    1.405577    0.783036    2.122082   \n",
       "max      0.379395    0.394043  293.283752    5.909451    4.116533    7.237700   \n",
       "\n",
       "             V10M         V2M        V50M  \n",
       "count  720.000000  720.000000  720.000000  \n",
       "mean    -0.020324    0.021955   -0.088090  \n",
       "std      3.250351    2.160979    4.634925  \n",
       "min     -8.264384   -5.709053  -10.511650  \n",
       "25%     -1.955248   -1.065619   -2.806863  \n",
       "50%     -0.075527   -0.029689   -0.108816  \n",
       "75%      1.640904    0.975344    2.463160  \n",
       "max      9.439109    6.428907   12.690127  "
      ]
     },
     "execution_count": 28,
     "metadata": {},
     "output_type": "execute_result"
    }
   ],
   "source": [
    "df_month.describe()"
   ]
  },
  {
   "cell_type": "code",
   "execution_count": 29,
   "metadata": {
    "collapsed": true,
    "deletable": true,
    "editable": true
   },
   "outputs": [],
   "source": [
    "o3_month=df_month[\"TO3\"]"
   ]
  },
  {
   "cell_type": "code",
   "execution_count": 30,
   "metadata": {
    "collapsed": false,
    "deletable": true,
    "editable": true
   },
   "outputs": [],
   "source": [
    "mean_O3_m = np.mean(o3_month)\n",
    "variance_O3_m = np.var(o3_month)\n",
    "sigma_O3_m = np.sqrt(variance_O3_m)"
   ]
  },
  {
   "cell_type": "code",
   "execution_count": 31,
   "metadata": {
    "collapsed": false,
    "deletable": true,
    "editable": true
   },
   "outputs": [],
   "source": [
    "mean_O3_m=np.trunc(mean_O3_m*10)/10\n",
    "sigma_O3_m=np.trunc(sigma_O3_m*10)/10"
   ]
  },
  {
   "cell_type": "code",
   "execution_count": 32,
   "metadata": {
    "collapsed": false,
    "deletable": true,
    "editable": true
   },
   "outputs": [
    {
     "name": "stdout",
     "output_type": "stream",
     "text": [
      "290.6\n",
      "515.883379782\n",
      "22.7\n"
     ]
    }
   ],
   "source": [
    "print mean_O3_m \n",
    "print variance_O3_m \n",
    "print sigma_O3_m "
   ]
  },
  {
   "cell_type": "code",
   "execution_count": 33,
   "metadata": {
    "collapsed": false,
    "deletable": true,
    "editable": true
   },
   "outputs": [
    {
     "name": "stdout",
     "output_type": "stream",
     "text": [
      "monthly variation = \n"
     ]
    }
   ],
   "source": [
    "variation_m = variance_O3_m/mean_O3_m  \n",
    "print 'monthly variation = '"
   ]
  },
  {
   "cell_type": "code",
   "execution_count": 34,
   "metadata": {
    "collapsed": false,
    "deletable": true,
    "editable": true
   },
   "outputs": [],
   "source": [
    "title = \"Monthly variation of O3 (nov 2016), mean = {} std = {}\".format(mean_O3_m ,sigma_O3_m)"
   ]
  },
  {
   "cell_type": "code",
   "execution_count": null,
   "metadata": {
    "collapsed": true
   },
   "outputs": [],
   "source": []
  },
  {
   "cell_type": "code",
   "execution_count": 35,
   "metadata": {
    "collapsed": false,
    "deletable": true,
    "editable": true
   },
   "outputs": [
    {
     "data": {
      "image/png": "[encoded data removed]",
      "text/plain": [
       "<matplotlib.figure.Figure at 0x107c77610>"
      ]
     },
     "metadata": {},
     "output_type": "display_data"
    }
   ],
   "source": [
    "n, bins, patches = plt.hist(o3_month, 50, normed=False, facecolor='blue', alpha=0.75)\n",
    "plt.title(title)\n",
    "plt.xlabel('$O_3$ in Dobson unit')\n",
    "plt.savefig('HistoO32016_11.pdf')"
   ]
  },
  {
   "cell_type": "markdown",
   "metadata": {},
   "source": [
    "## Per year"
   ]
  },
  {
   "cell_type": "code",
   "execution_count": 36,
   "metadata": {
    "collapsed": false
   },
   "outputs": [
    {
     "data": {
      "text/html": [
       "<div>\n",
       "<table border=\"1\" class=\"dataframe\">\n",
       "  <thead>\n",
       "    <tr style=\"text-align: right;\">\n",
       "      <th></th>\n",
       "      <th>PS</th>\n",
       "      <th>T10M</th>\n",
       "      <th>T2M</th>\n",
       "      <th>TO3</th>\n",
       "      <th>TOX</th>\n",
       "      <th>TQI</th>\n",
       "      <th>TQL</th>\n",
       "      <th>TS</th>\n",
       "      <th>U10M</th>\n",
       "      <th>U2M</th>\n",
       "      <th>U50M</th>\n",
       "      <th>V10M</th>\n",
       "      <th>V2M</th>\n",
       "      <th>V50M</th>\n",
       "    </tr>\n",
       "  </thead>\n",
       "  <tbody>\n",
       "    <tr>\n",
       "      <th>count</th>\n",
       "      <td>8040.000000</td>\n",
       "      <td>8040.000000</td>\n",
       "      <td>8040.000000</td>\n",
       "      <td>8040.000000</td>\n",
       "      <td>8040.000000</td>\n",
       "      <td>8040.000000</td>\n",
       "      <td>8040.000000</td>\n",
       "      <td>8040.000000</td>\n",
       "      <td>8040.000000</td>\n",
       "      <td>8040.000000</td>\n",
       "      <td>8040.000000</td>\n",
       "      <td>8040.000000</td>\n",
       "      <td>8040.000000</td>\n",
       "      <td>8040.000000</td>\n",
       "    </tr>\n",
       "    <tr>\n",
       "      <th>mean</th>\n",
       "      <td>93809.452543</td>\n",
       "      <td>285.935426</td>\n",
       "      <td>285.656394</td>\n",
       "      <td>321.835242</td>\n",
       "      <td>0.006906</td>\n",
       "      <td>0.017245</td>\n",
       "      <td>0.049940</td>\n",
       "      <td>285.836614</td>\n",
       "      <td>0.454081</td>\n",
       "      <td>0.372585</td>\n",
       "      <td>0.369087</td>\n",
       "      <td>-1.090322</td>\n",
       "      <td>-0.680580</td>\n",
       "      <td>-1.588893</td>\n",
       "    </tr>\n",
       "    <tr>\n",
       "      <th>std</th>\n",
       "      <td>653.735984</td>\n",
       "      <td>7.917667</td>\n",
       "      <td>8.510791</td>\n",
       "      <td>38.482148</td>\n",
       "      <td>0.000825</td>\n",
       "      <td>0.036884</td>\n",
       "      <td>0.073383</td>\n",
       "      <td>10.125633</td>\n",
       "      <td>2.903603</td>\n",
       "      <td>1.962077</td>\n",
       "      <td>3.838416</td>\n",
       "      <td>3.518035</td>\n",
       "      <td>2.415751</td>\n",
       "      <td>4.663361</td>\n",
       "    </tr>\n",
       "    <tr>\n",
       "      <th>min</th>\n",
       "      <td>91520.632812</td>\n",
       "      <td>268.880249</td>\n",
       "      <td>267.727661</td>\n",
       "      <td>223.248962</td>\n",
       "      <td>0.004786</td>\n",
       "      <td>0.000000</td>\n",
       "      <td>0.000000</td>\n",
       "      <td>265.772308</td>\n",
       "      <td>-12.615171</td>\n",
       "      <td>-8.829633</td>\n",
       "      <td>-15.850012</td>\n",
       "      <td>-13.481551</td>\n",
       "      <td>-9.406287</td>\n",
       "      <td>-16.631704</td>\n",
       "    </tr>\n",
       "    <tr>\n",
       "      <th>25%</th>\n",
       "      <td>93478.111328</td>\n",
       "      <td>279.608444</td>\n",
       "      <td>278.927376</td>\n",
       "      <td>293.434036</td>\n",
       "      <td>0.006295</td>\n",
       "      <td>0.000002</td>\n",
       "      <td>0.000580</td>\n",
       "      <td>277.949799</td>\n",
       "      <td>-1.292345</td>\n",
       "      <td>-0.731405</td>\n",
       "      <td>-1.912107</td>\n",
       "      <td>-2.975563</td>\n",
       "      <td>-1.808103</td>\n",
       "      <td>-4.604850</td>\n",
       "    </tr>\n",
       "    <tr>\n",
       "      <th>50%</th>\n",
       "      <td>93864.261719</td>\n",
       "      <td>285.173965</td>\n",
       "      <td>284.759003</td>\n",
       "      <td>314.830032</td>\n",
       "      <td>0.006755</td>\n",
       "      <td>0.001140</td>\n",
       "      <td>0.015451</td>\n",
       "      <td>284.638397</td>\n",
       "      <td>0.641289</td>\n",
       "      <td>0.380750</td>\n",
       "      <td>0.827547</td>\n",
       "      <td>-0.877536</td>\n",
       "      <td>-0.501288</td>\n",
       "      <td>-1.226699</td>\n",
       "    </tr>\n",
       "    <tr>\n",
       "      <th>75%</th>\n",
       "      <td>94200.462891</td>\n",
       "      <td>291.680878</td>\n",
       "      <td>291.502731</td>\n",
       "      <td>349.708511</td>\n",
       "      <td>0.007503</td>\n",
       "      <td>0.015172</td>\n",
       "      <td>0.070595</td>\n",
       "      <td>291.890465</td>\n",
       "      <td>2.421775</td>\n",
       "      <td>1.648118</td>\n",
       "      <td>3.222328</td>\n",
       "      <td>1.158678</td>\n",
       "      <td>0.686007</td>\n",
       "      <td>1.642196</td>\n",
       "    </tr>\n",
       "    <tr>\n",
       "      <th>max</th>\n",
       "      <td>95663.421875</td>\n",
       "      <td>305.836182</td>\n",
       "      <td>307.543945</td>\n",
       "      <td>458.936279</td>\n",
       "      <td>0.009838</td>\n",
       "      <td>0.379395</td>\n",
       "      <td>0.521729</td>\n",
       "      <td>314.343536</td>\n",
       "      <td>8.411731</td>\n",
       "      <td>5.930426</td>\n",
       "      <td>10.456000</td>\n",
       "      <td>9.439109</td>\n",
       "      <td>6.563056</td>\n",
       "      <td>12.690127</td>\n",
       "    </tr>\n",
       "  </tbody>\n",
       "</table>\n",
       "</div>"
      ],
      "text/plain": [
       "                 PS         T10M          T2M          TO3          TOX  \\\n",
       "count   8040.000000  8040.000000  8040.000000  8040.000000  8040.000000   \n",
       "mean   93809.452543   285.935426   285.656394   321.835242     0.006906   \n",
       "std      653.735984     7.917667     8.510791    38.482148     0.000825   \n",
       "min    91520.632812   268.880249   267.727661   223.248962     0.004786   \n",
       "25%    93478.111328   279.608444   278.927376   293.434036     0.006295   \n",
       "50%    93864.261719   285.173965   284.759003   314.830032     0.006755   \n",
       "75%    94200.462891   291.680878   291.502731   349.708511     0.007503   \n",
       "max    95663.421875   305.836182   307.543945   458.936279     0.009838   \n",
       "\n",
       "               TQI          TQL           TS         U10M          U2M  \\\n",
       "count  8040.000000  8040.000000  8040.000000  8040.000000  8040.000000   \n",
       "mean      0.017245     0.049940   285.836614     0.454081     0.372585   \n",
       "std       0.036884     0.073383    10.125633     2.903603     1.962077   \n",
       "min       0.000000     0.000000   265.772308   -12.615171    -8.829633   \n",
       "25%       0.000002     0.000580   277.949799    -1.292345    -0.731405   \n",
       "50%       0.001140     0.015451   284.638397     0.641289     0.380750   \n",
       "75%       0.015172     0.070595   291.890465     2.421775     1.648118   \n",
       "max       0.379395     0.521729   314.343536     8.411731     5.930426   \n",
       "\n",
       "              U50M         V10M          V2M         V50M  \n",
       "count  8040.000000  8040.000000  8040.000000  8040.000000  \n",
       "mean      0.369087    -1.090322    -0.680580    -1.588893  \n",
       "std       3.838416     3.518035     2.415751     4.663361  \n",
       "min     -15.850012   -13.481551    -9.406287   -16.631704  \n",
       "25%      -1.912107    -2.975563    -1.808103    -4.604850  \n",
       "50%       0.827547    -0.877536    -0.501288    -1.226699  \n",
       "75%       3.222328     1.158678     0.686007     1.642196  \n",
       "max      10.456000     9.439109     6.563056    12.690127  "
      ]
     },
     "execution_count": 36,
     "metadata": {},
     "output_type": "execute_result"
    }
   ],
   "source": [
    "df_year.describe()"
   ]
  },
  {
   "cell_type": "code",
   "execution_count": 37,
   "metadata": {
    "collapsed": false
   },
   "outputs": [
    {
     "data": {
      "text/html": [
       "<div>\n",
       "<table border=\"1\" class=\"dataframe\">\n",
       "  <thead>\n",
       "    <tr style=\"text-align: right;\">\n",
       "      <th></th>\n",
       "      <th>PS</th>\n",
       "      <th>T10M</th>\n",
       "      <th>T2M</th>\n",
       "      <th>TO3</th>\n",
       "      <th>TOX</th>\n",
       "      <th>TQI</th>\n",
       "      <th>TQL</th>\n",
       "      <th>TS</th>\n",
       "      <th>U10M</th>\n",
       "      <th>U2M</th>\n",
       "      <th>U50M</th>\n",
       "      <th>V10M</th>\n",
       "      <th>V2M</th>\n",
       "      <th>V50M</th>\n",
       "    </tr>\n",
       "  </thead>\n",
       "  <tbody>\n",
       "    <tr>\n",
       "      <th>0.05</th>\n",
       "      <td>92574.650391</td>\n",
       "      <td>274.075981</td>\n",
       "      <td>273.163338</td>\n",
       "      <td>265.090863</td>\n",
       "      <td>0.005695</td>\n",
       "      <td>0.000000</td>\n",
       "      <td>0.000000</td>\n",
       "      <td>271.449785</td>\n",
       "      <td>-4.598129</td>\n",
       "      <td>-3.072688</td>\n",
       "      <td>-6.773836</td>\n",
       "      <td>-7.654765</td>\n",
       "      <td>-5.279693</td>\n",
       "      <td>-9.712290</td>\n",
       "    </tr>\n",
       "    <tr>\n",
       "      <th>0.10</th>\n",
       "      <td>92907.917969</td>\n",
       "      <td>276.153015</td>\n",
       "      <td>275.248370</td>\n",
       "      <td>278.535901</td>\n",
       "      <td>0.005978</td>\n",
       "      <td>0.000000</td>\n",
       "      <td>0.000000</td>\n",
       "      <td>273.558484</td>\n",
       "      <td>-2.894875</td>\n",
       "      <td>-1.710458</td>\n",
       "      <td>-4.552585</td>\n",
       "      <td>-5.958783</td>\n",
       "      <td>-4.095639</td>\n",
       "      <td>-8.102586</td>\n",
       "    </tr>\n",
       "    <tr>\n",
       "      <th>0.50</th>\n",
       "      <td>93864.261719</td>\n",
       "      <td>285.173965</td>\n",
       "      <td>284.759003</td>\n",
       "      <td>314.830032</td>\n",
       "      <td>0.006755</td>\n",
       "      <td>0.001140</td>\n",
       "      <td>0.015451</td>\n",
       "      <td>284.638397</td>\n",
       "      <td>0.641289</td>\n",
       "      <td>0.380750</td>\n",
       "      <td>0.827547</td>\n",
       "      <td>-0.877536</td>\n",
       "      <td>-0.501288</td>\n",
       "      <td>-1.226699</td>\n",
       "    </tr>\n",
       "    <tr>\n",
       "      <th>0.90</th>\n",
       "      <td>94587.218750</td>\n",
       "      <td>297.239581</td>\n",
       "      <td>297.995862</td>\n",
       "      <td>374.553598</td>\n",
       "      <td>0.008035</td>\n",
       "      <td>0.055392</td>\n",
       "      <td>0.157544</td>\n",
       "      <td>300.661566</td>\n",
       "      <td>3.988600</td>\n",
       "      <td>2.843696</td>\n",
       "      <td>4.782265</td>\n",
       "      <td>3.023747</td>\n",
       "      <td>2.147385</td>\n",
       "      <td>3.993668</td>\n",
       "    </tr>\n",
       "    <tr>\n",
       "      <th>0.95</th>\n",
       "      <td>94823.301953</td>\n",
       "      <td>300.444432</td>\n",
       "      <td>301.691092</td>\n",
       "      <td>388.425702</td>\n",
       "      <td>0.008332</td>\n",
       "      <td>0.100049</td>\n",
       "      <td>0.208261</td>\n",
       "      <td>305.816653</td>\n",
       "      <td>4.858291</td>\n",
       "      <td>3.480487</td>\n",
       "      <td>5.534537</td>\n",
       "      <td>4.328503</td>\n",
       "      <td>3.113887</td>\n",
       "      <td>5.507301</td>\n",
       "    </tr>\n",
       "  </tbody>\n",
       "</table>\n",
       "</div>"
      ],
      "text/plain": [
       "                PS        T10M         T2M         TO3       TOX       TQI  \\\n",
       "0.05  92574.650391  274.075981  273.163338  265.090863  0.005695  0.000000   \n",
       "0.10  92907.917969  276.153015  275.248370  278.535901  0.005978  0.000000   \n",
       "0.50  93864.261719  285.173965  284.759003  314.830032  0.006755  0.001140   \n",
       "0.90  94587.218750  297.239581  297.995862  374.553598  0.008035  0.055392   \n",
       "0.95  94823.301953  300.444432  301.691092  388.425702  0.008332  0.100049   \n",
       "\n",
       "           TQL          TS      U10M       U2M      U50M      V10M       V2M  \\\n",
       "0.05  0.000000  271.449785 -4.598129 -3.072688 -6.773836 -7.654765 -5.279693   \n",
       "0.10  0.000000  273.558484 -2.894875 -1.710458 -4.552585 -5.958783 -4.095639   \n",
       "0.50  0.015451  284.638397  0.641289  0.380750  0.827547 -0.877536 -0.501288   \n",
       "0.90  0.157544  300.661566  3.988600  2.843696  4.782265  3.023747  2.147385   \n",
       "0.95  0.208261  305.816653  4.858291  3.480487  5.534537  4.328503  3.113887   \n",
       "\n",
       "          V50M  \n",
       "0.05 -9.712290  \n",
       "0.10 -8.102586  \n",
       "0.50 -1.226699  \n",
       "0.90  3.993668  \n",
       "0.95  5.507301  "
      ]
     },
     "execution_count": 37,
     "metadata": {},
     "output_type": "execute_result"
    }
   ],
   "source": [
    "df_year.quantile([0.05,0.1,0.5,0.9,0.95])"
   ]
  },
  {
   "cell_type": "code",
   "execution_count": 38,
   "metadata": {
    "collapsed": true,
    "deletable": true,
    "editable": true
   },
   "outputs": [],
   "source": [
    "o3_year=df_year[\"TO3\"]"
   ]
  },
  {
   "cell_type": "code",
   "execution_count": 39,
   "metadata": {
    "collapsed": true,
    "deletable": true,
    "editable": true
   },
   "outputs": [],
   "source": [
    "mean_O3_y = np.mean(o3_year)\n",
    "variance_O3_y = np.var(o3_year)\n",
    "sigma_O3_y = np.sqrt(variance_O3_y)"
   ]
  },
  {
   "cell_type": "code",
   "execution_count": 40,
   "metadata": {
    "collapsed": true,
    "deletable": true,
    "editable": true
   },
   "outputs": [],
   "source": [
    "mean_O3_y=np.trunc(mean_O3_y*10)/10\n",
    "sigma_O3_y=np.trunc(sigma_O3_y*10)/10"
   ]
  },
  {
   "cell_type": "code",
   "execution_count": 41,
   "metadata": {
    "collapsed": false,
    "deletable": true,
    "editable": true
   },
   "outputs": [
    {
     "name": "stdout",
     "output_type": "stream",
     "text": [
      "321.8\n",
      "1480.69150512\n",
      "38.4\n"
     ]
    }
   ],
   "source": [
    "print mean_O3_y \n",
    "print variance_O3_y \n",
    "print sigma_O3_y "
   ]
  },
  {
   "cell_type": "code",
   "execution_count": 42,
   "metadata": {
    "collapsed": false,
    "deletable": true,
    "editable": true
   },
   "outputs": [],
   "source": [
    "title = \"Yearly variation of O3 (year 2016), mean = {} std = {}\".format(mean_O3_y ,sigma_O3_y)"
   ]
  },
  {
   "cell_type": "code",
   "execution_count": 43,
   "metadata": {
    "collapsed": false,
    "deletable": true,
    "editable": true
   },
   "outputs": [
    {
     "data": {
      "image/png": "[encoded data removed]",
      "text/plain": [
       "<matplotlib.figure.Figure at 0x10725c110>"
      ]
     },
     "metadata": {},
     "output_type": "display_data"
    }
   ],
   "source": [
    "n, bins, patches = plt.hist(o3_year, 50, normed=False, facecolor='blue', alpha=0.75)\n",
    "plt.title(title)\n",
    "plt.xlabel('$O_3$ in Dobson unit')\n",
    "plt.savefig('HistoO32016_allyear.pdf')"
   ]
  },
  {
   "cell_type": "code",
   "execution_count": null,
   "metadata": {
    "collapsed": true,
    "deletable": true,
    "editable": true
   },
   "outputs": [],
   "source": []
  }
 ],
 "metadata": {
  "anaconda-cloud": {},
  "kernelspec": {
   "display_name": "Python [conda env:pyastrophys]",
   "language": "python",
   "name": "conda-env-pyastrophys-py"
  },
  "language_info": {
   "codemirror_mode": {
    "name": "ipython",
    "version": 2
   },
   "file_extension": ".py",
   "mimetype": "text/x-python",
   "name": "python",
   "nbconvert_exporter": "python",
   "pygments_lexer": "ipython2",
   "version": "2.7.12"
  },
  "toc": {
   "colors": {
    "hover_highlight": "#DAA520",
    "running_highlight": "#FF0000",
    "selected_highlight": "#FFD700"
   },
   "moveMenuLeft": true,
   "nav_menu": {
    "height": "47px",
    "width": "252px"
   },
   "navigate_menu": true,
   "number_sections": true,
   "sideBar": true,
   "threshold": 4,
   "toc_cell": false,
   "toc_section_display": "block",
   "toc_window_display": false,
   "widenNotebook": false
  }
 },
 "nbformat": 4,
 "nbformat_minor": 2
}
