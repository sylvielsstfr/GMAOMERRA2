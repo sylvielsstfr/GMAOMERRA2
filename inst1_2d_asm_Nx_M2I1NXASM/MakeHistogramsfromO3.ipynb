{
 "cells": [
  {
   "cell_type": "code",
   "execution_count": 33,
   "metadata": {},
   "outputs": [
    {
     "name": "stderr",
     "output_type": "stream",
     "text": [
      "\n",
      "Bad key \"axes.color_cycle\" on line 215 in\n",
      "templates/matplotlibrc.\n",
      "You probably need to get an updated matplotlibrc file from\n",
      "http://github.com/matplotlib/matplotlib/blob/master/matplotlibrc.template\n",
      "or from the matplotlib source distribution\n"
     ]
    }
   ],
   "source": [
    "# Set up matplotlib and use a nicer set of plot parameters\n",
    "%config InlineBackend.rc = {}\n",
    "import matplotlib\n",
    "import matplotlib as mpl\n",
    "matplotlib.rc_file(\"templates/matplotlibrc\")\n",
    "import matplotlib.pyplot as plt\n",
    "import matplotlib.mlab as mlab\n",
    "%matplotlib inline"
   ]
  },
  {
   "cell_type": "code",
   "execution_count": 34,
   "metadata": {},
   "outputs": [],
   "source": [
    "import os\n",
    "import re\n",
    "import numpy as np\n",
    "from mpl_toolkits.basemap import Basemap\n",
    "from matplotlib import colors\n",
    "from matplotlib.backends.backend_pdf import PdfPages\n",
    "import pandas as pd"
   ]
  },
  {
   "cell_type": "code",
   "execution_count": 35,
   "metadata": {},
   "outputs": [],
   "source": [
    "YEARNUM=\"2018\"\n",
    "MONTHNUM=\"06\"\n",
    "OBS=\"ohp\""
   ]
  },
  {
   "cell_type": "code",
   "execution_count": 36,
   "metadata": {},
   "outputs": [],
   "source": [
    "#monthfile='MERRA2_2016_inst1_2d_asm_Nx_M2I1NXASM_ctio_11.csv'\n",
    "#yearfile='MERRA2_2016_inst1_2d_asm_Nx_M2I1NXASM_ctio_AllYear.csv'"
   ]
  },
  {
   "cell_type": "code",
   "execution_count": 37,
   "metadata": {},
   "outputs": [],
   "source": [
    "#monthfile='MERRA2_'+YEARNUM+'_inst1_2d_asm_Nx_M2I1NXASM_ohp_06.csv'\n",
    "yearfile='MERRA2_'+YEARNUM+'_inst1_2d_asm_Nx_M2I1NXASM_'+OBS+'_AllYear.csv'"
   ]
  },
  {
   "cell_type": "code",
   "execution_count": null,
   "metadata": {},
   "outputs": [],
   "source": []
  },
  {
   "cell_type": "markdown",
   "metadata": {},
   "source": [
    "## Per month"
   ]
  },
  {
   "cell_type": "code",
   "execution_count": 38,
   "metadata": {},
   "outputs": [
    {
     "ename": "NameError",
     "evalue": "name 'monthfile' is not defined",
     "output_type": "error",
     "traceback": [
      "\u001b[0;31m---------------------------------------------------------------------------\u001b[0m",
      "\u001b[0;31mNameError\u001b[0m                                 Traceback (most recent call last)",
      "\u001b[0;32m<ipython-input-38-64902bb674c0>\u001b[0m in \u001b[0;36m<module>\u001b[0;34m()\u001b[0m\n\u001b[0;32m----> 1\u001b[0;31m \u001b[0mdf_month\u001b[0m\u001b[0;34m=\u001b[0m\u001b[0mpd\u001b[0m\u001b[0;34m.\u001b[0m\u001b[0mread_csv\u001b[0m\u001b[0;34m(\u001b[0m\u001b[0mmonthfile\u001b[0m\u001b[0;34m)\u001b[0m\u001b[0;34m\u001b[0m\u001b[0m\n\u001b[0m",
      "\u001b[0;31mNameError\u001b[0m: name 'monthfile' is not defined"
     ]
    }
   ],
   "source": [
    "df_month=pd.read_csv(monthfile)"
   ]
  },
  {
   "cell_type": "code",
   "execution_count": null,
   "metadata": {},
   "outputs": [],
   "source": []
  },
  {
   "cell_type": "code",
   "execution_count": null,
   "metadata": {},
   "outputs": [],
   "source": []
  },
  {
   "cell_type": "code",
   "execution_count": null,
   "metadata": {},
   "outputs": [],
   "source": [
    "df_month.describe()"
   ]
  },
  {
   "cell_type": "code",
   "execution_count": null,
   "metadata": {},
   "outputs": [],
   "source": [
    "o3_month=df_month[\"ozone\"]"
   ]
  },
  {
   "cell_type": "code",
   "execution_count": null,
   "metadata": {},
   "outputs": [],
   "source": [
    "mean_O3_m = np.mean(o3_month)\n",
    "variance_O3_m = np.var(o3_month)\n",
    "sigma_O3_m = np.sqrt(variance_O3_m)"
   ]
  },
  {
   "cell_type": "code",
   "execution_count": null,
   "metadata": {},
   "outputs": [],
   "source": [
    "mean_O3_m=np.trunc(mean_O3_m*10)/10\n",
    "sigma_O3_m=np.trunc(sigma_O3_m*10)/10"
   ]
  },
  {
   "cell_type": "code",
   "execution_count": null,
   "metadata": {},
   "outputs": [],
   "source": [
    "print mean_O3_m \n",
    "print variance_O3_m \n",
    "print sigma_O3_m "
   ]
  },
  {
   "cell_type": "code",
   "execution_count": null,
   "metadata": {},
   "outputs": [],
   "source": [
    "variation_m = variance_O3_m/mean_O3_m  \n",
    "print 'monthly variation = '"
   ]
  },
  {
   "cell_type": "code",
   "execution_count": null,
   "metadata": {},
   "outputs": [],
   "source": [
    "title = \"Monthly variation of O3 (nov 2017), mean = {} std = {}\".format(mean_O3_m ,sigma_O3_m)"
   ]
  },
  {
   "cell_type": "code",
   "execution_count": null,
   "metadata": {},
   "outputs": [],
   "source": []
  },
  {
   "cell_type": "code",
   "execution_count": null,
   "metadata": {},
   "outputs": [],
   "source": [
    "n, bins, patches = plt.hist(o3_month, 50, normed=False, facecolor='blue', alpha=0.75)\n",
    "plt.title(title)\n",
    "plt.xlabel('$O_3$ in Dobson unit')\n",
    "plt.savefig('HistoO32017_06.pdf')"
   ]
  },
  {
   "cell_type": "markdown",
   "metadata": {},
   "source": [
    "## Per year"
   ]
  },
  {
   "cell_type": "code",
   "execution_count": 39,
   "metadata": {},
   "outputs": [],
   "source": [
    "df_year=pd.read_csv(yearfile)"
   ]
  },
  {
   "cell_type": "code",
   "execution_count": 40,
   "metadata": {},
   "outputs": [
    {
     "data": {
      "text/html": [
       "<div>\n",
       "<style scoped>\n",
       "    .dataframe tbody tr th:only-of-type {\n",
       "        vertical-align: middle;\n",
       "    }\n",
       "\n",
       "    .dataframe tbody tr th {\n",
       "        vertical-align: top;\n",
       "    }\n",
       "\n",
       "    .dataframe thead th {\n",
       "        text-align: right;\n",
       "    }\n",
       "</style>\n",
       "<table border=\"1\" class=\"dataframe\">\n",
       "  <thead>\n",
       "    <tr style=\"text-align: right;\">\n",
       "      <th></th>\n",
       "      <th>PS</th>\n",
       "      <th>T10M</th>\n",
       "      <th>T2M</th>\n",
       "      <th>TO3</th>\n",
       "      <th>TOX</th>\n",
       "      <th>TQI</th>\n",
       "      <th>TQV</th>\n",
       "      <th>TS</th>\n",
       "      <th>U10M</th>\n",
       "      <th>U2M</th>\n",
       "      <th>U50M</th>\n",
       "      <th>V10M</th>\n",
       "      <th>V2M</th>\n",
       "      <th>V50M</th>\n",
       "    </tr>\n",
       "  </thead>\n",
       "  <tbody>\n",
       "    <tr>\n",
       "      <th>count</th>\n",
       "      <td>5832.000000</td>\n",
       "      <td>5832.000000</td>\n",
       "      <td>5832.000000</td>\n",
       "      <td>5832.000000</td>\n",
       "      <td>5832.000000</td>\n",
       "      <td>5832.000000</td>\n",
       "      <td>5832.000000</td>\n",
       "      <td>5832.000000</td>\n",
       "      <td>5832.000000</td>\n",
       "      <td>5832.000000</td>\n",
       "      <td>5832.000000</td>\n",
       "      <td>5832.000000</td>\n",
       "      <td>5832.000000</td>\n",
       "      <td>5832.000000</td>\n",
       "    </tr>\n",
       "    <tr>\n",
       "      <th>mean</th>\n",
       "      <td>93605.010626</td>\n",
       "      <td>286.482574</td>\n",
       "      <td>286.156667</td>\n",
       "      <td>345.078004</td>\n",
       "      <td>0.007404</td>\n",
       "      <td>0.021813</td>\n",
       "      <td>17.708672</td>\n",
       "      <td>286.245535</td>\n",
       "      <td>0.021388</td>\n",
       "      <td>0.060915</td>\n",
       "      <td>-0.140465</td>\n",
       "      <td>-0.608788</td>\n",
       "      <td>-0.342864</td>\n",
       "      <td>-0.981685</td>\n",
       "    </tr>\n",
       "    <tr>\n",
       "      <th>std</th>\n",
       "      <td>642.563931</td>\n",
       "      <td>8.756767</td>\n",
       "      <td>9.196822</td>\n",
       "      <td>38.505628</td>\n",
       "      <td>0.000826</td>\n",
       "      <td>0.041721</td>\n",
       "      <td>8.039066</td>\n",
       "      <td>10.482519</td>\n",
       "      <td>3.024915</td>\n",
       "      <td>2.052015</td>\n",
       "      <td>4.064382</td>\n",
       "      <td>3.049534</td>\n",
       "      <td>2.088572</td>\n",
       "      <td>4.108916</td>\n",
       "    </tr>\n",
       "    <tr>\n",
       "      <th>min</th>\n",
       "      <td>91121.617188</td>\n",
       "      <td>266.681335</td>\n",
       "      <td>266.794922</td>\n",
       "      <td>260.325714</td>\n",
       "      <td>0.005581</td>\n",
       "      <td>0.000000</td>\n",
       "      <td>2.350126</td>\n",
       "      <td>266.385925</td>\n",
       "      <td>-13.590304</td>\n",
       "      <td>-9.430898</td>\n",
       "      <td>-16.700460</td>\n",
       "      <td>-11.513482</td>\n",
       "      <td>-8.019993</td>\n",
       "      <td>-14.637464</td>\n",
       "    </tr>\n",
       "    <tr>\n",
       "      <th>25%</th>\n",
       "      <td>93300.148438</td>\n",
       "      <td>279.055763</td>\n",
       "      <td>278.585747</td>\n",
       "      <td>315.535461</td>\n",
       "      <td>0.006771</td>\n",
       "      <td>0.000093</td>\n",
       "      <td>11.400371</td>\n",
       "      <td>278.140938</td>\n",
       "      <td>-1.552075</td>\n",
       "      <td>-0.858643</td>\n",
       "      <td>-2.266323</td>\n",
       "      <td>-2.273400</td>\n",
       "      <td>-1.280303</td>\n",
       "      <td>-3.459140</td>\n",
       "    </tr>\n",
       "    <tr>\n",
       "      <th>50%</th>\n",
       "      <td>93729.882812</td>\n",
       "      <td>286.627243</td>\n",
       "      <td>285.894913</td>\n",
       "      <td>333.168030</td>\n",
       "      <td>0.007149</td>\n",
       "      <td>0.003481</td>\n",
       "      <td>17.012116</td>\n",
       "      <td>285.614929</td>\n",
       "      <td>0.371513</td>\n",
       "      <td>0.218719</td>\n",
       "      <td>0.418060</td>\n",
       "      <td>-0.537979</td>\n",
       "      <td>-0.322029</td>\n",
       "      <td>-0.767486</td>\n",
       "    </tr>\n",
       "    <tr>\n",
       "      <th>75%</th>\n",
       "      <td>94017.107422</td>\n",
       "      <td>293.265198</td>\n",
       "      <td>293.074280</td>\n",
       "      <td>369.230484</td>\n",
       "      <td>0.007920</td>\n",
       "      <td>0.024576</td>\n",
       "      <td>24.237048</td>\n",
       "      <td>293.532425</td>\n",
       "      <td>1.971984</td>\n",
       "      <td>1.251754</td>\n",
       "      <td>2.708717</td>\n",
       "      <td>1.319634</td>\n",
       "      <td>0.831863</td>\n",
       "      <td>1.857141</td>\n",
       "    </tr>\n",
       "    <tr>\n",
       "      <th>max</th>\n",
       "      <td>95630.148438</td>\n",
       "      <td>307.667267</td>\n",
       "      <td>309.370941</td>\n",
       "      <td>476.769897</td>\n",
       "      <td>0.010235</td>\n",
       "      <td>0.507080</td>\n",
       "      <td>41.252686</td>\n",
       "      <td>315.242340</td>\n",
       "      <td>10.241591</td>\n",
       "      <td>6.991255</td>\n",
       "      <td>13.905725</td>\n",
       "      <td>11.095821</td>\n",
       "      <td>7.683163</td>\n",
       "      <td>13.775771</td>\n",
       "    </tr>\n",
       "  </tbody>\n",
       "</table>\n",
       "</div>"
      ],
      "text/plain": [
       "                 PS         T10M          T2M          TO3          TOX  \\\n",
       "count   5832.000000  5832.000000  5832.000000  5832.000000  5832.000000   \n",
       "mean   93605.010626   286.482574   286.156667   345.078004     0.007404   \n",
       "std      642.563931     8.756767     9.196822    38.505628     0.000826   \n",
       "min    91121.617188   266.681335   266.794922   260.325714     0.005581   \n",
       "25%    93300.148438   279.055763   278.585747   315.535461     0.006771   \n",
       "50%    93729.882812   286.627243   285.894913   333.168030     0.007149   \n",
       "75%    94017.107422   293.265198   293.074280   369.230484     0.007920   \n",
       "max    95630.148438   307.667267   309.370941   476.769897     0.010235   \n",
       "\n",
       "               TQI          TQV           TS         U10M          U2M  \\\n",
       "count  5832.000000  5832.000000  5832.000000  5832.000000  5832.000000   \n",
       "mean      0.021813    17.708672   286.245535     0.021388     0.060915   \n",
       "std       0.041721     8.039066    10.482519     3.024915     2.052015   \n",
       "min       0.000000     2.350126   266.385925   -13.590304    -9.430898   \n",
       "25%       0.000093    11.400371   278.140938    -1.552075    -0.858643   \n",
       "50%       0.003481    17.012116   285.614929     0.371513     0.218719   \n",
       "75%       0.024576    24.237048   293.532425     1.971984     1.251754   \n",
       "max       0.507080    41.252686   315.242340    10.241591     6.991255   \n",
       "\n",
       "              U50M         V10M          V2M         V50M  \n",
       "count  5832.000000  5832.000000  5832.000000  5832.000000  \n",
       "mean     -0.140465    -0.608788    -0.342864    -0.981685  \n",
       "std       4.064382     3.049534     2.088572     4.108916  \n",
       "min     -16.700460   -11.513482    -8.019993   -14.637464  \n",
       "25%      -2.266323    -2.273400    -1.280303    -3.459140  \n",
       "50%       0.418060    -0.537979    -0.322029    -0.767486  \n",
       "75%       2.708717     1.319634     0.831863     1.857141  \n",
       "max      13.905725    11.095821     7.683163    13.775771  "
      ]
     },
     "execution_count": 40,
     "metadata": {},
     "output_type": "execute_result"
    }
   ],
   "source": [
    "df_year.describe()"
   ]
  },
  {
   "cell_type": "code",
   "execution_count": 41,
   "metadata": {},
   "outputs": [
    {
     "data": {
      "text/html": [
       "<div>\n",
       "<style scoped>\n",
       "    .dataframe tbody tr th:only-of-type {\n",
       "        vertical-align: middle;\n",
       "    }\n",
       "\n",
       "    .dataframe tbody tr th {\n",
       "        vertical-align: top;\n",
       "    }\n",
       "\n",
       "    .dataframe thead th {\n",
       "        text-align: right;\n",
       "    }\n",
       "</style>\n",
       "<table border=\"1\" class=\"dataframe\">\n",
       "  <thead>\n",
       "    <tr style=\"text-align: right;\">\n",
       "      <th></th>\n",
       "      <th>PS</th>\n",
       "      <th>T10M</th>\n",
       "      <th>T2M</th>\n",
       "      <th>TO3</th>\n",
       "      <th>TOX</th>\n",
       "      <th>TQI</th>\n",
       "      <th>TQV</th>\n",
       "      <th>TS</th>\n",
       "      <th>U10M</th>\n",
       "      <th>U2M</th>\n",
       "      <th>U50M</th>\n",
       "      <th>V10M</th>\n",
       "      <th>V2M</th>\n",
       "      <th>V50M</th>\n",
       "    </tr>\n",
       "  </thead>\n",
       "  <tbody>\n",
       "    <tr>\n",
       "      <th>0.05</th>\n",
       "      <td>92302.062500</td>\n",
       "      <td>273.110608</td>\n",
       "      <td>271.944415</td>\n",
       "      <td>300.570044</td>\n",
       "      <td>0.006450</td>\n",
       "      <td>0.000000</td>\n",
       "      <td>5.619297</td>\n",
       "      <td>270.505684</td>\n",
       "      <td>-5.613892</td>\n",
       "      <td>-3.875367</td>\n",
       "      <td>-8.013594</td>\n",
       "      <td>-6.176801</td>\n",
       "      <td>-4.274966</td>\n",
       "      <td>-8.279870</td>\n",
       "    </tr>\n",
       "    <tr>\n",
       "      <th>0.10</th>\n",
       "      <td>92726.689063</td>\n",
       "      <td>275.120847</td>\n",
       "      <td>274.126968</td>\n",
       "      <td>306.248471</td>\n",
       "      <td>0.006568</td>\n",
       "      <td>0.000000</td>\n",
       "      <td>7.057070</td>\n",
       "      <td>272.605145</td>\n",
       "      <td>-3.382963</td>\n",
       "      <td>-2.225191</td>\n",
       "      <td>-5.243864</td>\n",
       "      <td>-4.598542</td>\n",
       "      <td>-3.170159</td>\n",
       "      <td>-6.778754</td>\n",
       "    </tr>\n",
       "    <tr>\n",
       "      <th>0.50</th>\n",
       "      <td>93729.882812</td>\n",
       "      <td>286.627243</td>\n",
       "      <td>285.894913</td>\n",
       "      <td>333.168030</td>\n",
       "      <td>0.007149</td>\n",
       "      <td>0.003481</td>\n",
       "      <td>17.012116</td>\n",
       "      <td>285.614929</td>\n",
       "      <td>0.371513</td>\n",
       "      <td>0.218719</td>\n",
       "      <td>0.418060</td>\n",
       "      <td>-0.537979</td>\n",
       "      <td>-0.322029</td>\n",
       "      <td>-0.767486</td>\n",
       "    </tr>\n",
       "    <tr>\n",
       "      <th>0.90</th>\n",
       "      <td>94195.792188</td>\n",
       "      <td>298.313348</td>\n",
       "      <td>298.947134</td>\n",
       "      <td>402.105991</td>\n",
       "      <td>0.008627</td>\n",
       "      <td>0.067557</td>\n",
       "      <td>28.010021</td>\n",
       "      <td>301.164572</td>\n",
       "      <td>3.421493</td>\n",
       "      <td>2.469278</td>\n",
       "      <td>4.260659</td>\n",
       "      <td>3.108744</td>\n",
       "      <td>2.218974</td>\n",
       "      <td>4.063940</td>\n",
       "    </tr>\n",
       "    <tr>\n",
       "      <th>0.95</th>\n",
       "      <td>94403.677344</td>\n",
       "      <td>300.995758</td>\n",
       "      <td>301.934918</td>\n",
       "      <td>421.593069</td>\n",
       "      <td>0.009042</td>\n",
       "      <td>0.104558</td>\n",
       "      <td>30.763211</td>\n",
       "      <td>305.357976</td>\n",
       "      <td>4.236855</td>\n",
       "      <td>3.011753</td>\n",
       "      <td>5.114908</td>\n",
       "      <td>4.205025</td>\n",
       "      <td>2.984312</td>\n",
       "      <td>5.398069</td>\n",
       "    </tr>\n",
       "  </tbody>\n",
       "</table>\n",
       "</div>"
      ],
      "text/plain": [
       "                PS        T10M         T2M         TO3       TOX       TQI  \\\n",
       "0.05  92302.062500  273.110608  271.944415  300.570044  0.006450  0.000000   \n",
       "0.10  92726.689063  275.120847  274.126968  306.248471  0.006568  0.000000   \n",
       "0.50  93729.882812  286.627243  285.894913  333.168030  0.007149  0.003481   \n",
       "0.90  94195.792188  298.313348  298.947134  402.105991  0.008627  0.067557   \n",
       "0.95  94403.677344  300.995758  301.934918  421.593069  0.009042  0.104558   \n",
       "\n",
       "            TQV          TS      U10M       U2M      U50M      V10M       V2M  \\\n",
       "0.05   5.619297  270.505684 -5.613892 -3.875367 -8.013594 -6.176801 -4.274966   \n",
       "0.10   7.057070  272.605145 -3.382963 -2.225191 -5.243864 -4.598542 -3.170159   \n",
       "0.50  17.012116  285.614929  0.371513  0.218719  0.418060 -0.537979 -0.322029   \n",
       "0.90  28.010021  301.164572  3.421493  2.469278  4.260659  3.108744  2.218974   \n",
       "0.95  30.763211  305.357976  4.236855  3.011753  5.114908  4.205025  2.984312   \n",
       "\n",
       "          V50M  \n",
       "0.05 -8.279870  \n",
       "0.10 -6.778754  \n",
       "0.50 -0.767486  \n",
       "0.90  4.063940  \n",
       "0.95  5.398069  "
      ]
     },
     "execution_count": 41,
     "metadata": {},
     "output_type": "execute_result"
    }
   ],
   "source": [
    "df_year.quantile([0.05,0.1,0.5,0.9,0.95])"
   ]
  },
  {
   "cell_type": "code",
   "execution_count": 42,
   "metadata": {},
   "outputs": [],
   "source": [
    "o3_year=df_year[\"TO3\"]"
   ]
  },
  {
   "cell_type": "code",
   "execution_count": 43,
   "metadata": {},
   "outputs": [],
   "source": [
    "mean_O3_y = np.mean(o3_year)\n",
    "variance_O3_y = np.var(o3_year)\n",
    "sigma_O3_y = np.sqrt(variance_O3_y)"
   ]
  },
  {
   "cell_type": "code",
   "execution_count": 44,
   "metadata": {},
   "outputs": [],
   "source": [
    "mean_O3_y=np.trunc(mean_O3_y*10)/10\n",
    "sigma_O3_y=np.trunc(sigma_O3_y*10)/10"
   ]
  },
  {
   "cell_type": "code",
   "execution_count": 45,
   "metadata": {},
   "outputs": [
    {
     "name": "stdout",
     "output_type": "stream",
     "text": [
      "345.0\n",
      "1482.42919172\n",
      "38.5\n"
     ]
    }
   ],
   "source": [
    "print mean_O3_y \n",
    "print variance_O3_y \n",
    "print sigma_O3_y "
   ]
  },
  {
   "cell_type": "code",
   "execution_count": 46,
   "metadata": {},
   "outputs": [],
   "source": [
    "title = \"Yearly variation of O3 (year {} at {} ), mean = {} std = {}\".format(YEARNUM,OBS,mean_O3_y ,sigma_O3_y)"
   ]
  },
  {
   "cell_type": "code",
   "execution_count": 47,
   "metadata": {},
   "outputs": [
    {
     "data": {
      "image/png": "[encoded data removed]",
      "text/plain": [
       "<Figure size 800x600 with 1 Axes>"
      ]
     },
     "metadata": {},
     "output_type": "display_data"
    }
   ],
   "source": [
    "n, bins, patches = plt.hist(o3_year, 50, normed=False, facecolor='blue', alpha=0.75)\n",
    "plt.title(title)\n",
    "plt.xlabel('$O_3$ in Dobson unit')\n",
    "plt.savefig('HistoO32018_allyear.pdf')"
   ]
  },
  {
   "cell_type": "code",
   "execution_count": null,
   "metadata": {},
   "outputs": [],
   "source": []
  }
 ],
 "metadata": {
  "anaconda-cloud": {},
  "kernelspec": {
   "display_name": "Python 2",
   "language": "python",
   "name": "python2"
  },
  "language_info": {
   "codemirror_mode": {
    "name": "ipython",
    "version": 2
   },
   "file_extension": ".py",
   "mimetype": "text/x-python",
   "name": "python",
   "nbconvert_exporter": "python",
   "pygments_lexer": "ipython2",
   "version": "2.7.15"
  },
  "toc": {
   "nav_menu": {
    "height": "47px",
    "width": "252px"
   },
   "number_sections": true,
   "sideBar": true,
   "skip_h1_title": false,
   "toc_cell": false,
   "toc_position": {},
   "toc_section_display": "block",
   "toc_window_display": false
  }
 },
 "nbformat": 4,
 "nbformat_minor": 2
}
