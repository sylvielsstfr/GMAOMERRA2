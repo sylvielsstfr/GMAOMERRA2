{
 "cells": [
  {
   "cell_type": "markdown",
   "metadata": {},
   "source": [
    "# Scan MERRA-2 atmospheric properties during one month\n",
    "------------------------------------------------------------------\n",
    "\n",
    "- author: Sylvie Dagoret-Campagne\n",
    "- creation November 26 Novembre 2016\n",
    "- update November 28 Novembre 2016\n",
    "\n",
    "Link:\n",
    "\n",
    "http://disc.sci.gsfc.nasa.gov/datareleases/merra_2_data_release\n",
    "\n",
    "### purpose:\n",
    "\n",
    "Scan One year of MERRA-2 predictions of the dataset inst1_2d_asm_Nx_M2I1NXASM over one month. \n",
    "Extract the relevant atmospheric variables.\n",
    "Build the correcponding time series and dataset in pandas.\n",
    "Plot the variables. Save the pandas dataset into a file.\n",
    "Convert the pandas dataset into an astropy fits table and save into a fits file as well.\n",
    "\n"
   ]
  },
  {
   "cell_type": "markdown",
   "metadata": {},
   "source": [
    "## 1) python libraries\n",
    "---------------------------"
   ]
  },
  {
   "cell_type": "code",
   "execution_count": 1,
   "metadata": {
    "collapsed": false
   },
   "outputs": [
    {
     "name": "stderr",
     "output_type": "stream",
     "text": [
      "/Users/dagoret-campagnesylvie/.local/lib/python2.7/site-packages/matplotlib/__init__.py:878: UserWarning: axes.color_cycle is deprecated and replaced with axes.prop_cycle; please use the latter.\n",
      "  warnings.warn(self.msg_depr % (key, alt_key))\n"
     ]
    }
   ],
   "source": [
    "# Set up matplotlib and use a nicer set of plot parameters\n",
    "%config InlineBackend.rc = {}\n",
    "import matplotlib\n",
    "import matplotlib as mpl\n",
    "matplotlib.rc_file(\"templates/matplotlibrc\")\n",
    "import matplotlib.pyplot as plt\n",
    "%matplotlib inline"
   ]
  },
  {
   "cell_type": "code",
   "execution_count": 2,
   "metadata": {
    "collapsed": true
   },
   "outputs": [],
   "source": [
    "import datetime"
   ]
  },
  {
   "cell_type": "code",
   "execution_count": 3,
   "metadata": {
    "collapsed": true
   },
   "outputs": [],
   "source": [
    "from matplotlib.dates import MonthLocator, WeekdayLocator,DateFormatter\n",
    "from matplotlib.dates import MONDAY"
   ]
  },
  {
   "cell_type": "code",
   "execution_count": 4,
   "metadata": {
    "collapsed": true
   },
   "outputs": [],
   "source": [
    "mondays = WeekdayLocator(MONDAY)\n",
    "months = MonthLocator(range(1, 13), bymonthday=1, interval=1)\n",
    "monthsFmt = DateFormatter(\"%b '%y\")"
   ]
  },
  {
   "cell_type": "code",
   "execution_count": 5,
   "metadata": {
    "collapsed": false
   },
   "outputs": [],
   "source": [
    "import os\n",
    "import re\n",
    "import numpy as np\n",
    "from mpl_toolkits.basemap import Basemap\n",
    "from matplotlib import colors\n",
    "from matplotlib.backends.backend_pdf import PdfPages\n",
    "import pandas as pd"
   ]
  },
  {
   "cell_type": "code",
   "execution_count": 6,
   "metadata": {
    "collapsed": true
   },
   "outputs": [],
   "source": [
    "from astropy import units as u\n",
    "from astropy.coordinates import SkyCoord\n",
    "\n",
    "from astropy.table import Table"
   ]
  },
  {
   "cell_type": "code",
   "execution_count": 7,
   "metadata": {
    "collapsed": true
   },
   "outputs": [],
   "source": [
    "import h5py"
   ]
  },
  {
   "cell_type": "code",
   "execution_count": 8,
   "metadata": {
    "collapsed": false
   },
   "outputs": [
    {
     "name": "stdout",
     "output_type": "stream",
     "text": [
      "MERRA2_2016_inst1_2d_asm_Nx_M2I1NXASM_ctio.csv\r\n",
      "MERRA2_2016_inst1_2d_asm_Nx_M2I1NXASM_ctio.fits\r\n",
      "MERRA2_inst1_2d_asm_Nx_M2I1NXASM.ipynb\r\n",
      "MERRA2_inst1_2d_asm_Nx_M2I1NXASM.py\r\n",
      "ScanMERRA2_inst1_2d_asm_Nx_M2I1NXASMOneMonth.ipynb\r\n",
      "SetupHDFOS_ZOO_DIR.sh\r\n",
      "\u001b[34mimages\u001b[m\u001b[m\r\n",
      "libGMAOMERRA2Data.py\r\n",
      "libGMAOMERRA2Data.pyc\r\n",
      "\u001b[35mlibjpeg.dylib\u001b[m\u001b[m\r\n",
      "\u001b[34mtemplates\u001b[m\u001b[m\r\n"
     ]
    }
   ],
   "source": [
    "!ls"
   ]
  },
  {
   "cell_type": "code",
   "execution_count": 9,
   "metadata": {
    "collapsed": false
   },
   "outputs": [],
   "source": [
    "import libGMAOMERRA2Data as merra2  # My own library"
   ]
  },
  {
   "cell_type": "code",
   "execution_count": 10,
   "metadata": {
    "collapsed": false
   },
   "outputs": [],
   "source": [
    "############################################################################\n",
    "def ensure_dir(f):\n",
    "    d = os.path.dirname(f)\n",
    "    if not os.path.exists(f):\n",
    "        os.makedirs(f)\n",
    "#########################################################################"
   ]
  },
  {
   "cell_type": "markdown",
   "metadata": {},
   "source": [
    "## 2)  Configuration\n",
    "-------------------------"
   ]
  },
  {
   "cell_type": "code",
   "execution_count": 11,
   "metadata": {
    "collapsed": false
   },
   "outputs": [],
   "source": [
    "# where are the HDF files\n",
    "HDFEOS_ZOO_DIR=\"/Volumes/DAGORETBACK/MERRA-2/inst1_2d_asm_Nx_M2I1NXASM/2016\""
   ]
  },
  {
   "cell_type": "code",
   "execution_count": 12,
   "metadata": {
    "collapsed": false
   },
   "outputs": [],
   "source": [
    "path=HDFEOS_ZOO_DIR"
   ]
  },
  {
   "cell_type": "code",
   "execution_count": 13,
   "metadata": {
    "collapsed": true
   },
   "outputs": [],
   "source": [
    "# The selected data field\n",
    "DATA_NAME =  'inst1_2d_asm_Nx_M2I1NXASM'   # Select Ozone column Depth"
   ]
  },
  {
   "cell_type": "code",
   "execution_count": 14,
   "metadata": {
    "collapsed": false
   },
   "outputs": [],
   "source": [
    "pandas_filename='MERRA2_2016_'+DATA_NAME+'_ctio'+'.csv'\n",
    "pandas_fieldname=['dates','average','ct','err','std','min','max']"
   ]
  },
  {
   "cell_type": "code",
   "execution_count": 15,
   "metadata": {
    "collapsed": true
   },
   "outputs": [],
   "source": [
    "fits_filename='MERRA2_2016_'+DATA_NAME+'_ctio'+'.fits'"
   ]
  },
  {
   "cell_type": "code",
   "execution_count": 16,
   "metadata": {
    "collapsed": false
   },
   "outputs": [],
   "source": [
    "# Select observatory\n",
    "loc=merra2.observatory_location('ctio')"
   ]
  },
  {
   "cell_type": "code",
   "execution_count": 17,
   "metadata": {
    "collapsed": false
   },
   "outputs": [
    {
     "data": {
      "text/plain": [
       "(-70.815, -30.165277777777778, 2214.9999999993697)"
      ]
     },
     "execution_count": 17,
     "metadata": {},
     "output_type": "execute_result"
    }
   ],
   "source": [
    "loc"
   ]
  },
  {
   "cell_type": "markdown",
   "metadata": {},
   "source": [
    "### 2.2) Getting the list of the files\n",
    "------------------------------"
   ]
  },
  {
   "cell_type": "code",
   "execution_count": 18,
   "metadata": {
    "collapsed": true
   },
   "outputs": [],
   "source": [
    "nc4_files = [f for f in os.listdir(path) if f.endswith('.nc4')]  "
   ]
  },
  {
   "cell_type": "markdown",
   "metadata": {},
   "source": [
    "### 2.3) Select files of a given month"
   ]
  },
  {
   "cell_type": "code",
   "execution_count": 19,
   "metadata": {
    "collapsed": true
   },
   "outputs": [],
   "source": [
    "month='10' # select october\n",
    "keysel_filename='^MERRA2_400.inst1_2d_asm_Nx.2016{}.*'.format(month)"
   ]
  },
  {
   "cell_type": "code",
   "execution_count": 20,
   "metadata": {
    "collapsed": false
   },
   "outputs": [
    {
     "name": "stdout",
     "output_type": "stream",
     "text": [
      "^MERRA2_400.inst1_2d_asm_Nx.201610.*\n"
     ]
    }
   ],
   "source": [
    "print keysel_filename"
   ]
  },
  {
   "cell_type": "code",
   "execution_count": 21,
   "metadata": {
    "collapsed": false
   },
   "outputs": [],
   "source": [
    "nc4_files2 = []\n",
    "for file in nc4_files:\n",
    "    if re.findall(keysel_filename,file):\n",
    "        nc4_files2.append(file)\n",
    "\n",
    "nc4_files2=np.array(nc4_files2)"
   ]
  },
  {
   "cell_type": "code",
   "execution_count": null,
   "metadata": {
    "collapsed": false
   },
   "outputs": [],
   "source": []
  },
  {
   "cell_type": "markdown",
   "metadata": {},
   "source": [
    "### 2.4) Sort files by increasing time"
   ]
  },
  {
   "cell_type": "code",
   "execution_count": 22,
   "metadata": {
    "collapsed": false
   },
   "outputs": [],
   "source": [
    "nc4_files=np.sort(nc4_files2)"
   ]
  },
  {
   "cell_type": "markdown",
   "metadata": {},
   "source": [
    "### 2.5) Build the full filename before reading"
   ]
  },
  {
   "cell_type": "code",
   "execution_count": 23,
   "metadata": {
    "collapsed": false
   },
   "outputs": [],
   "source": [
    "NBFILES=len(nc4_files)\n",
    "full_nc4files=[]\n",
    "\n",
    "for file in nc4_files:\n",
    "    fname = os.path.join(path, file)\n",
    "    full_nc4files.append(fname)  "
   ]
  },
  {
   "cell_type": "markdown",
   "metadata": {},
   "source": [
    "## 3)  Extract data and write them into pandas dataset and time series\n",
    "--------------------------------------------------------------------------------------"
   ]
  },
  {
   "cell_type": "code",
   "execution_count": 24,
   "metadata": {
    "collapsed": false
   },
   "outputs": [
    {
     "name": "stdout",
     "output_type": "stream",
     "text": [
      "start_time =  ['2016-10-01 00:00:00']\n",
      "start_time =  ['2016-10-02 00:00:00']\n",
      "start_time =  ['2016-10-03 00:00:00']\n",
      "start_time =  ['2016-10-04 00:00:00']\n",
      "start_time =  ['2016-10-05 00:00:00']\n",
      "start_time =  ['2016-10-06 00:00:00']\n",
      "start_time =  ['2016-10-07 00:00:00']\n",
      "start_time =  ['2016-10-08 00:00:00']\n",
      "start_time =  ['2016-10-09 00:00:00']\n",
      "start_time =  ['2016-10-10 00:00:00']\n",
      "start_time =  ['2016-10-11 00:00:00']\n",
      "start_time =  ['2016-10-12 00:00:00']\n",
      "start_time =  ['2016-10-13 00:00:00']\n",
      "start_time =  ['2016-10-14 00:00:00']\n",
      "start_time =  ['2016-10-15 00:00:00']\n",
      "start_time =  ['2016-10-16 00:00:00']\n",
      "start_time =  ['2016-10-17 00:00:00']\n",
      "start_time =  ['2016-10-18 00:00:00']\n",
      "start_time =  ['2016-10-19 00:00:00']\n",
      "start_time =  ['2016-10-20 00:00:00']\n",
      "start_time =  ['2016-10-21 00:00:00']\n",
      "start_time =  ['2016-10-22 00:00:00']\n",
      "start_time =  ['2016-10-23 00:00:00']\n",
      "start_time =  ['2016-10-24 00:00:00']\n",
      "start_time =  ['2016-10-25 00:00:00']\n",
      "start_time =  ['2016-10-26 00:00:00']\n",
      "start_time =  ['2016-10-27 00:00:00']\n",
      "start_time =  ['2016-10-28 00:00:00']\n",
      "start_time =  ['2016-10-29 00:00:00']\n",
      "start_time =  ['2016-10-30 00:00:00']\n",
      "start_time =  ['2016-10-31 00:00:00']\n"
     ]
    }
   ],
   "source": [
    "to3_timeseries=[] # example of time series for ozone\n",
    "pwv_timeseries=[] # time series for precipitable water vapor\n",
    "df_inst1_2d_asm_Nx=[] # dataset for all atmospheric quantities\n",
    "\n",
    "for file in full_nc4files:\n",
    "    \n",
    "    #Retrieve 1D parameters longitude, latitude, time\n",
    "    (m_lat,m_un_lat,m_nm_lat) = merra2.Get1DData(file,'lat') # latitude (array, unit, name)\n",
    "    m_latitude = m_lat[:]\n",
    "    (m_lon,m_un_lon,m_nm_lon) = merra2.Get1DData(file,'lon') # longitude(array, unit, name)\n",
    "    m_longitude = m_lon[:]\n",
    "    (m_tim,m_un_tim,m_nm_tim)= merra2.Get1DData(file,'time') # time (array, unit, name)\n",
    "    m_time=m_tim[:]\n",
    "       \n",
    "    NbDataPerFile=m_time.shape[0] # number of data sample per file\n",
    "    #start_time = re.findall(\"^minutes since[ ]([0-9.].+[0-9.].+[0-9.].+)[ ]00:00:00$\",m_un_tim) # extract start time\n",
    "    start_time = re.findall(\"^minutes since[ ]([0-9.].+[0-9.].+[0-9.].+)\",m_un_tim) # extract start time\n",
    "    \n",
    "    #print 'start_time = ', start_time\n",
    "    time_rng = pd.date_range(start_time[0], periods=NbDataPerFile, freq='H') # one data per hour\n",
    "    \n",
    "    print 'start_time = ', start_time\n",
    "    \n",
    "    m_X,m_Y=np.meshgrid(m_longitude,m_latitude) # build meash-grid in longitude and latitude\n",
    "    (sel_long, sel_lat)=merra2.GetBinIndex(m_X,m_Y,loc[0],loc[1]) # get bin in longitude and latitude for the site  \n",
    "    \n",
    "    # Retrieve Ozone\n",
    "    (m_to3_data,m_to3_unit,m_to3_longname)=merra2.GetGeoRefData(file,'TO3') # 3D array : time x longitude x latitude  \n",
    "    to3=m_to3_data[:,sel_lat,sel_long]\n",
    "    ts = pd.Series(to3, index=time_rng)\n",
    "    to3_timeseries.append(ts)\n",
    "    # Retrieve PWV\n",
    "    (m_pwv_data,m_pwv_unit,m_pwv_longname)=merra2.GetGeoRefData(file,'TQV')\n",
    "    pwv=m_pwv_data[:,sel_lat,sel_long]\n",
    "    ts = pd.Series(pwv, index=time_rng)\n",
    "    pwv_timeseries.append(ts)\n",
    "    \n",
    "    \n",
    "    # Create the dataframe\n",
    "    df = pd.DataFrame({'ozone': to3 , 'pwv' : pwv}, index=time_rng)\n",
    "    df_inst1_2d_asm_Nx.append(df)  \n",
    "    "
   ]
  },
  {
   "cell_type": "markdown",
   "metadata": {},
   "source": [
    "## 4) Plot the time dependence of time series and dataset"
   ]
  },
  {
   "cell_type": "markdown",
   "metadata": {},
   "source": [
    "####  Fill information on years and months from the filenames"
   ]
  },
  {
   "cell_type": "code",
   "execution_count": 25,
   "metadata": {
    "collapsed": false
   },
   "outputs": [],
   "source": [
    "result = pd.concat(to3_timeseries)"
   ]
  },
  {
   "cell_type": "code",
   "execution_count": 26,
   "metadata": {
    "collapsed": false
   },
   "outputs": [
    {
     "data": {
      "text/plain": [
       "<matplotlib.text.Text at 0x1195a6fd0>"
      ]
     },
     "execution_count": 26,
     "metadata": {},
     "output_type": "execute_result"
    },
    {
     "data": {
      "image/png": "[encoded data removed]",
      "text/plain": [
       "<matplotlib.figure.Figure at 0x117c77cd0>"
      ]
     },
     "metadata": {},
     "output_type": "display_data"
    }
   ],
   "source": [
    "plt.figure(figsize=(20,3))\n",
    "result.plot(grid=True)\n",
    "plt.xlabel('time')\n",
    "plt.ylabel('ozone')"
   ]
  },
  {
   "cell_type": "code",
   "execution_count": 27,
   "metadata": {
    "collapsed": true
   },
   "outputs": [],
   "source": [
    "result = pd.concat(pwv_timeseries)"
   ]
  },
  {
   "cell_type": "code",
   "execution_count": 28,
   "metadata": {
    "collapsed": false
   },
   "outputs": [
    {
     "data": {
      "image/png": "[encoded data removed]",
      "text/plain": [
       "<matplotlib.figure.Figure at 0x11e30ce10>"
      ]
     },
     "metadata": {},
     "output_type": "display_data"
    }
   ],
   "source": [
    "plt.figure(figsize=(20,3))\n",
    "result.plot()\n",
    "plt.xlabel('time')\n",
    "plt.ylabel('pwv')\n",
    "plt.grid(True)"
   ]
  },
  {
   "cell_type": "code",
   "execution_count": 29,
   "metadata": {
    "collapsed": true
   },
   "outputs": [],
   "source": [
    "df_inst1_2d_asm_Nx_tot=pd.concat(df_inst1_2d_asm_Nx)"
   ]
  },
  {
   "cell_type": "code",
   "execution_count": 30,
   "metadata": {
    "collapsed": false
   },
   "outputs": [
    {
     "name": "stdout",
     "output_type": "stream",
     "text": [
      "<class 'pandas.core.frame.DataFrame'>\n",
      "DatetimeIndex: 744 entries, 2016-10-01 00:00:00 to 2016-10-31 23:00:00\n",
      "Data columns (total 2 columns):\n",
      "ozone    744 non-null float32\n",
      "pwv      744 non-null float32\n",
      "dtypes: float32(2)\n",
      "memory usage: 11.6 KB\n"
     ]
    }
   ],
   "source": [
    "df_inst1_2d_asm_Nx_tot.info()"
   ]
  },
  {
   "cell_type": "code",
   "execution_count": 44,
   "metadata": {
    "collapsed": false
   },
   "outputs": [
    {
     "data": {
      "image/png": "[encoded data removed]",
      "text/plain": [
       "<matplotlib.figure.Figure at 0x11f065210>"
      ]
     },
     "metadata": {},
     "output_type": "display_data"
    }
   ],
   "source": [
    "plt.figure(figsize=(20,3))\n",
    "df_inst1_2d_asm_Nx_tot['ozone'].plot()\n",
    "plt.xlabel('time')\n",
    "plt.ylabel('ozone (Dobsons)')\n",
    "plt.grid(True)"
   ]
  },
  {
   "cell_type": "code",
   "execution_count": 45,
   "metadata": {
    "collapsed": false
   },
   "outputs": [
    {
     "data": {
      "image/png": "[encoded data removed]",
      "text/plain": [
       "<matplotlib.figure.Figure at 0x11f322e10>"
      ]
     },
     "metadata": {},
     "output_type": "display_data"
    }
   ],
   "source": [
    "plt.figure(figsize=(20,3))\n",
    "df_inst1_2d_asm_Nx_tot['pwv'].plot()\n",
    "plt.xlabel('time')\n",
    "plt.ylabel('pwv (kg/m2)')\n",
    "plt.grid(True)"
   ]
  },
  {
   "cell_type": "code",
   "execution_count": 47,
   "metadata": {
    "collapsed": false
   },
   "outputs": [
    {
     "data": {
      "text/html": [
       "<div>\n",
       "<table border=\"1\" class=\"dataframe\">\n",
       "  <thead>\n",
       "    <tr style=\"text-align: right;\">\n",
       "      <th></th>\n",
       "      <th>ozone</th>\n",
       "      <th>pwv</th>\n",
       "    </tr>\n",
       "  </thead>\n",
       "  <tbody>\n",
       "    <tr>\n",
       "      <th>count</th>\n",
       "      <td>744.000000</td>\n",
       "      <td>744.000000</td>\n",
       "    </tr>\n",
       "    <tr>\n",
       "      <th>mean</th>\n",
       "      <td>282.443451</td>\n",
       "      <td>4.829306</td>\n",
       "    </tr>\n",
       "    <tr>\n",
       "      <th>std</th>\n",
       "      <td>14.308105</td>\n",
       "      <td>1.959113</td>\n",
       "    </tr>\n",
       "    <tr>\n",
       "      <th>min</th>\n",
       "      <td>245.502945</td>\n",
       "      <td>1.317836</td>\n",
       "    </tr>\n",
       "    <tr>\n",
       "      <th>25%</th>\n",
       "      <td>274.260902</td>\n",
       "      <td>3.347014</td>\n",
       "    </tr>\n",
       "    <tr>\n",
       "      <th>50%</th>\n",
       "      <td>285.007507</td>\n",
       "      <td>4.616954</td>\n",
       "    </tr>\n",
       "    <tr>\n",
       "      <th>75%</th>\n",
       "      <td>292.405853</td>\n",
       "      <td>6.042603</td>\n",
       "    </tr>\n",
       "    <tr>\n",
       "      <th>max</th>\n",
       "      <td>311.901550</td>\n",
       "      <td>10.556185</td>\n",
       "    </tr>\n",
       "  </tbody>\n",
       "</table>\n",
       "</div>"
      ],
      "text/plain": [
       "            ozone         pwv\n",
       "count  744.000000  744.000000\n",
       "mean   282.443451    4.829306\n",
       "std     14.308105    1.959113\n",
       "min    245.502945    1.317836\n",
       "25%    274.260902    3.347014\n",
       "50%    285.007507    4.616954\n",
       "75%    292.405853    6.042603\n",
       "max    311.901550   10.556185"
      ]
     },
     "execution_count": 47,
     "metadata": {},
     "output_type": "execute_result"
    }
   ],
   "source": [
    "df_inst1_2d_asm_Nx_tot.index.name='time'\n",
    "df_inst1_2d_asm_Nx_tot.describe()"
   ]
  },
  {
   "cell_type": "markdown",
   "metadata": {
    "collapsed": true
   },
   "source": [
    "## 5)  Save dataset  in file pandas (csv)\n",
    "----------------------------------------"
   ]
  },
  {
   "cell_type": "code",
   "execution_count": 48,
   "metadata": {
    "collapsed": false
   },
   "outputs": [],
   "source": [
    "dataset=df_inst1_2d_asm_Nx_tot"
   ]
  },
  {
   "cell_type": "code",
   "execution_count": 49,
   "metadata": {
    "collapsed": false
   },
   "outputs": [],
   "source": [
    "dataset.index.name='time'"
   ]
  },
  {
   "cell_type": "code",
   "execution_count": null,
   "metadata": {
    "collapsed": true
   },
   "outputs": [],
   "source": []
  },
  {
   "cell_type": "code",
   "execution_count": 50,
   "metadata": {
    "collapsed": false
   },
   "outputs": [
    {
     "data": {
      "text/html": [
       "<div>\n",
       "<table border=\"1\" class=\"dataframe\">\n",
       "  <thead>\n",
       "    <tr style=\"text-align: right;\">\n",
       "      <th></th>\n",
       "      <th>ozone</th>\n",
       "      <th>pwv</th>\n",
       "    </tr>\n",
       "  </thead>\n",
       "  <tbody>\n",
       "    <tr>\n",
       "      <th>count</th>\n",
       "      <td>744.000000</td>\n",
       "      <td>744.000000</td>\n",
       "    </tr>\n",
       "    <tr>\n",
       "      <th>mean</th>\n",
       "      <td>282.443451</td>\n",
       "      <td>4.829306</td>\n",
       "    </tr>\n",
       "    <tr>\n",
       "      <th>std</th>\n",
       "      <td>14.308105</td>\n",
       "      <td>1.959113</td>\n",
       "    </tr>\n",
       "    <tr>\n",
       "      <th>min</th>\n",
       "      <td>245.502945</td>\n",
       "      <td>1.317836</td>\n",
       "    </tr>\n",
       "    <tr>\n",
       "      <th>25%</th>\n",
       "      <td>274.260902</td>\n",
       "      <td>3.347014</td>\n",
       "    </tr>\n",
       "    <tr>\n",
       "      <th>50%</th>\n",
       "      <td>285.007507</td>\n",
       "      <td>4.616954</td>\n",
       "    </tr>\n",
       "    <tr>\n",
       "      <th>75%</th>\n",
       "      <td>292.405853</td>\n",
       "      <td>6.042603</td>\n",
       "    </tr>\n",
       "    <tr>\n",
       "      <th>max</th>\n",
       "      <td>311.901550</td>\n",
       "      <td>10.556185</td>\n",
       "    </tr>\n",
       "  </tbody>\n",
       "</table>\n",
       "</div>"
      ],
      "text/plain": [
       "            ozone         pwv\n",
       "count  744.000000  744.000000\n",
       "mean   282.443451    4.829306\n",
       "std     14.308105    1.959113\n",
       "min    245.502945    1.317836\n",
       "25%    274.260902    3.347014\n",
       "50%    285.007507    4.616954\n",
       "75%    292.405853    6.042603\n",
       "max    311.901550   10.556185"
      ]
     },
     "execution_count": 50,
     "metadata": {},
     "output_type": "execute_result"
    }
   ],
   "source": [
    "dataset.describe()"
   ]
  },
  {
   "cell_type": "code",
   "execution_count": 51,
   "metadata": {
    "collapsed": false
   },
   "outputs": [
    {
     "data": {
      "text/html": [
       "<div>\n",
       "<table border=\"1\" class=\"dataframe\">\n",
       "  <thead>\n",
       "    <tr style=\"text-align: right;\">\n",
       "      <th></th>\n",
       "      <th>ozone</th>\n",
       "      <th>pwv</th>\n",
       "    </tr>\n",
       "    <tr>\n",
       "      <th>time</th>\n",
       "      <th></th>\n",
       "      <th></th>\n",
       "    </tr>\n",
       "  </thead>\n",
       "  <tbody>\n",
       "    <tr>\n",
       "      <th>2016-10-01 00:00:00</th>\n",
       "      <td>288.050507</td>\n",
       "      <td>3.143498</td>\n",
       "    </tr>\n",
       "    <tr>\n",
       "      <th>2016-10-01 01:00:00</th>\n",
       "      <td>288.553345</td>\n",
       "      <td>3.094689</td>\n",
       "    </tr>\n",
       "    <tr>\n",
       "      <th>2016-10-01 02:00:00</th>\n",
       "      <td>287.932251</td>\n",
       "      <td>3.075446</td>\n",
       "    </tr>\n",
       "    <tr>\n",
       "      <th>2016-10-01 03:00:00</th>\n",
       "      <td>286.356445</td>\n",
       "      <td>3.099679</td>\n",
       "    </tr>\n",
       "    <tr>\n",
       "      <th>2016-10-01 04:00:00</th>\n",
       "      <td>285.292908</td>\n",
       "      <td>3.186275</td>\n",
       "    </tr>\n",
       "  </tbody>\n",
       "</table>\n",
       "</div>"
      ],
      "text/plain": [
       "                          ozone       pwv\n",
       "time                                     \n",
       "2016-10-01 00:00:00  288.050507  3.143498\n",
       "2016-10-01 01:00:00  288.553345  3.094689\n",
       "2016-10-01 02:00:00  287.932251  3.075446\n",
       "2016-10-01 03:00:00  286.356445  3.099679\n",
       "2016-10-01 04:00:00  285.292908  3.186275"
      ]
     },
     "execution_count": 51,
     "metadata": {},
     "output_type": "execute_result"
    }
   ],
   "source": [
    "dataset.head()"
   ]
  },
  {
   "cell_type": "code",
   "execution_count": 52,
   "metadata": {
    "collapsed": true
   },
   "outputs": [],
   "source": [
    "dataset.to_csv(pandas_filename)"
   ]
  },
  {
   "cell_type": "code",
   "execution_count": 53,
   "metadata": {
    "collapsed": true
   },
   "outputs": [],
   "source": [
    "saved_dataset=pd.read_csv(pandas_filename)"
   ]
  },
  {
   "cell_type": "code",
   "execution_count": 54,
   "metadata": {
    "collapsed": false
   },
   "outputs": [
    {
     "data": {
      "text/html": [
       "<div>\n",
       "<table border=\"1\" class=\"dataframe\">\n",
       "  <thead>\n",
       "    <tr style=\"text-align: right;\">\n",
       "      <th></th>\n",
       "      <th>time</th>\n",
       "      <th>ozone</th>\n",
       "      <th>pwv</th>\n",
       "    </tr>\n",
       "  </thead>\n",
       "  <tbody>\n",
       "    <tr>\n",
       "      <th>0</th>\n",
       "      <td>2016-10-01 00:00:00</td>\n",
       "      <td>288.050507</td>\n",
       "      <td>3.143498</td>\n",
       "    </tr>\n",
       "    <tr>\n",
       "      <th>1</th>\n",
       "      <td>2016-10-01 01:00:00</td>\n",
       "      <td>288.553345</td>\n",
       "      <td>3.094689</td>\n",
       "    </tr>\n",
       "    <tr>\n",
       "      <th>2</th>\n",
       "      <td>2016-10-01 02:00:00</td>\n",
       "      <td>287.932251</td>\n",
       "      <td>3.075446</td>\n",
       "    </tr>\n",
       "    <tr>\n",
       "      <th>3</th>\n",
       "      <td>2016-10-01 03:00:00</td>\n",
       "      <td>286.356445</td>\n",
       "      <td>3.099679</td>\n",
       "    </tr>\n",
       "    <tr>\n",
       "      <th>4</th>\n",
       "      <td>2016-10-01 04:00:00</td>\n",
       "      <td>285.292908</td>\n",
       "      <td>3.186275</td>\n",
       "    </tr>\n",
       "  </tbody>\n",
       "</table>\n",
       "</div>"
      ],
      "text/plain": [
       "                  time       ozone       pwv\n",
       "0  2016-10-01 00:00:00  288.050507  3.143498\n",
       "1  2016-10-01 01:00:00  288.553345  3.094689\n",
       "2  2016-10-01 02:00:00  287.932251  3.075446\n",
       "3  2016-10-01 03:00:00  286.356445  3.099679\n",
       "4  2016-10-01 04:00:00  285.292908  3.186275"
      ]
     },
     "execution_count": 54,
     "metadata": {},
     "output_type": "execute_result"
    }
   ],
   "source": [
    "saved_dataset.head()"
   ]
  },
  {
   "cell_type": "markdown",
   "metadata": {},
   "source": [
    "## 6) Convert dataset into a table and then save in a fits file\n",
    "--------------------------------------------------------------------------"
   ]
  },
  {
   "cell_type": "code",
   "execution_count": 55,
   "metadata": {
    "collapsed": true
   },
   "outputs": [],
   "source": [
    "table = Table.from_pandas(saved_dataset)"
   ]
  },
  {
   "cell_type": "code",
   "execution_count": 56,
   "metadata": {
    "collapsed": false
   },
   "outputs": [
    {
     "data": {
      "text/html": [
       "&lt;Table length=744&gt;\n",
       "<table id=\"table4818348624\" class=\"table-striped table-bordered table-condensed\">\n",
       "<thead><tr><th>time</th><th>ozone</th><th>pwv</th></tr></thead>\n",
       "<thead><tr><th>str19</th><th>float64</th><th>float64</th></tr></thead>\n",
       "<tr><td>2016-10-01 00:00:00</td><td>288.050506592</td><td>3.14349842072</td></tr>\n",
       "<tr><td>2016-10-01 01:00:00</td><td>288.553344727</td><td>3.09468865395</td></tr>\n",
       "<tr><td>2016-10-01 02:00:00</td><td>287.932250977</td><td>3.07544612885</td></tr>\n",
       "<tr><td>2016-10-01 03:00:00</td><td>286.356445312</td><td>3.09967875481</td></tr>\n",
       "<tr><td>2016-10-01 04:00:00</td><td>285.292907715</td><td>3.18627500534</td></tr>\n",
       "<tr><td>2016-10-01 05:00:00</td><td>284.333496094</td><td>3.27932500839</td></tr>\n",
       "<tr><td>2016-10-01 06:00:00</td><td>283.6015625</td><td>3.41702413559</td></tr>\n",
       "<tr><td>2016-10-01 07:00:00</td><td>283.438171387</td><td>3.59618020058</td></tr>\n",
       "<tr><td>2016-10-01 08:00:00</td><td>283.999572754</td><td>3.79254746437</td></tr>\n",
       "<tr><td>2016-10-01 09:00:00</td><td>284.514831543</td><td>3.95898723602</td></tr>\n",
       "<tr><td>...</td><td>...</td><td>...</td></tr>\n",
       "<tr><td>2016-10-31 14:00:00</td><td>289.019775391</td><td>4.31483459473</td></tr>\n",
       "<tr><td>2016-10-31 15:00:00</td><td>288.562683105</td><td>4.71918678284</td></tr>\n",
       "<tr><td>2016-10-31 16:00:00</td><td>285.162506104</td><td>5.4624915123</td></tr>\n",
       "<tr><td>2016-10-31 17:00:00</td><td>283.113189697</td><td>6.48765850067</td></tr>\n",
       "<tr><td>2016-10-31 18:00:00</td><td>282.504943848</td><td>7.27593326569</td></tr>\n",
       "<tr><td>2016-10-31 19:00:00</td><td>280.968902588</td><td>7.78390550613</td></tr>\n",
       "<tr><td>2016-10-31 20:00:00</td><td>279.461700439</td><td>7.84849023819</td></tr>\n",
       "<tr><td>2016-10-31 21:00:00</td><td>280.274169922</td><td>7.74659538269</td></tr>\n",
       "<tr><td>2016-10-31 22:00:00</td><td>282.303344727</td><td>7.82006645203</td></tr>\n",
       "<tr><td>2016-10-31 23:00:00</td><td>283.691894531</td><td>7.76734447479</td></tr>\n",
       "</table>"
      ],
      "text/plain": [
       "<Table length=744>\n",
       "        time            ozone          pwv     \n",
       "       str19           float64       float64   \n",
       "------------------- ------------- -------------\n",
       "2016-10-01 00:00:00 288.050506592 3.14349842072\n",
       "2016-10-01 01:00:00 288.553344727 3.09468865395\n",
       "2016-10-01 02:00:00 287.932250977 3.07544612885\n",
       "2016-10-01 03:00:00 286.356445312 3.09967875481\n",
       "2016-10-01 04:00:00 285.292907715 3.18627500534\n",
       "2016-10-01 05:00:00 284.333496094 3.27932500839\n",
       "2016-10-01 06:00:00   283.6015625 3.41702413559\n",
       "2016-10-01 07:00:00 283.438171387 3.59618020058\n",
       "2016-10-01 08:00:00 283.999572754 3.79254746437\n",
       "2016-10-01 09:00:00 284.514831543 3.95898723602\n",
       "                ...           ...           ...\n",
       "2016-10-31 14:00:00 289.019775391 4.31483459473\n",
       "2016-10-31 15:00:00 288.562683105 4.71918678284\n",
       "2016-10-31 16:00:00 285.162506104  5.4624915123\n",
       "2016-10-31 17:00:00 283.113189697 6.48765850067\n",
       "2016-10-31 18:00:00 282.504943848 7.27593326569\n",
       "2016-10-31 19:00:00 280.968902588 7.78390550613\n",
       "2016-10-31 20:00:00 279.461700439 7.84849023819\n",
       "2016-10-31 21:00:00 280.274169922 7.74659538269\n",
       "2016-10-31 22:00:00 282.303344727 7.82006645203\n",
       "2016-10-31 23:00:00 283.691894531 7.76734447479"
      ]
     },
     "execution_count": 56,
     "metadata": {},
     "output_type": "execute_result"
    }
   ],
   "source": [
    "table"
   ]
  },
  {
   "cell_type": "code",
   "execution_count": 43,
   "metadata": {
    "collapsed": false
   },
   "outputs": [],
   "source": [
    "table.write(fits_filename,format='fits',overwrite=True)"
   ]
  },
  {
   "cell_type": "code",
   "execution_count": null,
   "metadata": {
    "collapsed": true
   },
   "outputs": [],
   "source": []
  }
 ],
 "metadata": {
  "anaconda-cloud": {},
  "kernelspec": {
   "display_name": "Python [default]",
   "language": "python",
   "name": "python2"
  },
  "language_info": {
   "codemirror_mode": {
    "name": "ipython",
    "version": 2
   },
   "file_extension": ".py",
   "mimetype": "text/x-python",
   "name": "python",
   "nbconvert_exporter": "python",
   "pygments_lexer": "ipython2",
   "version": "2.7.11"
  }
 },
 "nbformat": 4,
 "nbformat_minor": 0
}
