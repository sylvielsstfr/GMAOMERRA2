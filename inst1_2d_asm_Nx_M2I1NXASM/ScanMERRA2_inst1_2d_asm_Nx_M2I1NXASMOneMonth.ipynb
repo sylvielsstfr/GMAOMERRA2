{
 "cells": [
  {
   "cell_type": "markdown",
   "metadata": {},
   "source": [
    "# Scan MERRA-2 atmospheric properties during one month\n",
    "------------------------------------------------------------------\n",
    "\n",
    "- author: Sylvie Dagoret-Campagne\n",
    "- creation November 26 Novembre 2016\n",
    "- update November 28 Novembre 2016\n",
    "\n",
    "Link:\n",
    "\n",
    "http://disc.sci.gsfc.nasa.gov/datareleases/merra_2_data_release\n",
    "\n",
    "### purpose:\n",
    "\n",
    "Scan One year of MERRA-2 predictions of the dataset inst1_2d_asm_Nx_M2I1NXASM over one month. \n",
    "Extract the relevant atmospheric variables.\n",
    "Build the correcponding time series and dataset in pandas.\n",
    "Plot the variables. Save the pandas dataset into a file.\n",
    "Convert the pandas dataset into an astropy fits table and save into a fits file as well.\n",
    "\n"
   ]
  },
  {
   "cell_type": "markdown",
   "metadata": {},
   "source": [
    "## 1) python libraries\n",
    "---------------------------"
   ]
  },
  {
   "cell_type": "code",
   "execution_count": 67,
   "metadata": {
    "collapsed": false
   },
   "outputs": [],
   "source": [
    "# Set up matplotlib and use a nicer set of plot parameters\n",
    "%config InlineBackend.rc = {}\n",
    "import matplotlib\n",
    "import matplotlib as mpl\n",
    "matplotlib.rc_file(\"templates/matplotlibrc\")\n",
    "import matplotlib.pyplot as plt\n",
    "%matplotlib inline"
   ]
  },
  {
   "cell_type": "code",
   "execution_count": 68,
   "metadata": {
    "collapsed": true
   },
   "outputs": [],
   "source": [
    "import datetime"
   ]
  },
  {
   "cell_type": "code",
   "execution_count": 69,
   "metadata": {
    "collapsed": true
   },
   "outputs": [],
   "source": [
    "from matplotlib.dates import MonthLocator, WeekdayLocator,DateFormatter\n",
    "from matplotlib.dates import MONDAY"
   ]
  },
  {
   "cell_type": "code",
   "execution_count": 70,
   "metadata": {
    "collapsed": true
   },
   "outputs": [],
   "source": [
    "mondays = WeekdayLocator(MONDAY)\n",
    "months = MonthLocator(range(1, 13), bymonthday=1, interval=1)\n",
    "monthsFmt = DateFormatter(\"%b '%y\")"
   ]
  },
  {
   "cell_type": "code",
   "execution_count": 71,
   "metadata": {
    "collapsed": false
   },
   "outputs": [],
   "source": [
    "import os\n",
    "import re\n",
    "import numpy as np\n",
    "from mpl_toolkits.basemap import Basemap\n",
    "from matplotlib import colors\n",
    "from matplotlib.backends.backend_pdf import PdfPages\n",
    "import pandas as pd"
   ]
  },
  {
   "cell_type": "code",
   "execution_count": 72,
   "metadata": {
    "collapsed": true
   },
   "outputs": [],
   "source": [
    "from astropy import units as u\n",
    "from astropy.coordinates import SkyCoord\n",
    "\n",
    "from astropy.table import Table"
   ]
  },
  {
   "cell_type": "code",
   "execution_count": 73,
   "metadata": {
    "collapsed": true
   },
   "outputs": [],
   "source": [
    "import h5py"
   ]
  },
  {
   "cell_type": "code",
   "execution_count": 75,
   "metadata": {
    "collapsed": false
   },
   "outputs": [],
   "source": [
    "import libGMAOMERRA2Data as merra2  # My own library"
   ]
  },
  {
   "cell_type": "code",
   "execution_count": 76,
   "metadata": {
    "collapsed": false
   },
   "outputs": [],
   "source": [
    "############################################################################\n",
    "def ensure_dir(f):\n",
    "    d = os.path.dirname(f)\n",
    "    if not os.path.exists(f):\n",
    "        os.makedirs(f)\n",
    "#########################################################################"
   ]
  },
  {
   "cell_type": "markdown",
   "metadata": {},
   "source": [
    "## 2)  Configuration\n",
    "-------------------------"
   ]
  },
  {
   "cell_type": "code",
   "execution_count": 77,
   "metadata": {
    "collapsed": true
   },
   "outputs": [],
   "source": [
    "# SELECT MONTH IN 2016\n",
    "MONTH_NAME='03' # select october"
   ]
  },
  {
   "cell_type": "code",
   "execution_count": 78,
   "metadata": {
    "collapsed": true
   },
   "outputs": [],
   "source": [
    "# SELECT OBSERVATORY\n",
    "OBS_NAME='ctio'"
   ]
  },
  {
   "cell_type": "code",
   "execution_count": 79,
   "metadata": {
    "collapsed": false
   },
   "outputs": [],
   "source": [
    "# where are the HDF files\n",
    "HDFEOS_ZOO_DIR=\"/Volumes/DAGORETBACK/MERRA-2/inst1_2d_asm_Nx_M2I1NXASM/2016\""
   ]
  },
  {
   "cell_type": "code",
   "execution_count": 80,
   "metadata": {
    "collapsed": false
   },
   "outputs": [],
   "source": [
    "path=HDFEOS_ZOO_DIR"
   ]
  },
  {
   "cell_type": "code",
   "execution_count": 81,
   "metadata": {
    "collapsed": true
   },
   "outputs": [],
   "source": [
    "# The selected data field\n",
    "DATA_NAME =  'inst1_2d_asm_Nx_M2I1NXASM'   # Select Ozone column Depth"
   ]
  },
  {
   "cell_type": "code",
   "execution_count": 82,
   "metadata": {
    "collapsed": false
   },
   "outputs": [],
   "source": [
    "pandas_filename='MERRA2_2016_'+DATA_NAME+'_'+OBS_NAME+'_'+MONTH_NAME+'.csv'"
   ]
  },
  {
   "cell_type": "code",
   "execution_count": 83,
   "metadata": {
    "collapsed": true
   },
   "outputs": [],
   "source": [
    "fits_filename='MERRA2_2016_'+DATA_NAME+'_'+OBS_NAME+'_'+MONTH_NAME +'.fits'"
   ]
  },
  {
   "cell_type": "code",
   "execution_count": 84,
   "metadata": {
    "collapsed": false
   },
   "outputs": [],
   "source": [
    "# Select observatory\n",
    "loc=merra2.observatory_location(OBS_NAME)"
   ]
  },
  {
   "cell_type": "code",
   "execution_count": 85,
   "metadata": {
    "collapsed": false
   },
   "outputs": [
    {
     "data": {
      "text/plain": [
       "(-70.815, -30.165277777777778, 2214.9999999993697)"
      ]
     },
     "execution_count": 85,
     "metadata": {},
     "output_type": "execute_result"
    }
   ],
   "source": [
    "loc"
   ]
  },
  {
   "cell_type": "markdown",
   "metadata": {},
   "source": [
    "### 2.2) Getting the list of the files\n",
    "------------------------------"
   ]
  },
  {
   "cell_type": "code",
   "execution_count": 86,
   "metadata": {
    "collapsed": true
   },
   "outputs": [],
   "source": [
    "nc4_files = [f for f in os.listdir(path) if f.endswith('.nc4')]  "
   ]
  },
  {
   "cell_type": "markdown",
   "metadata": {},
   "source": [
    "### 2.3) Select files of a given month"
   ]
  },
  {
   "cell_type": "code",
   "execution_count": 87,
   "metadata": {
    "collapsed": true
   },
   "outputs": [],
   "source": [
    "keysel_filename='^MERRA2_400.inst1_2d_asm_Nx.2016{}.*'.format(MONTH_NAME)"
   ]
  },
  {
   "cell_type": "code",
   "execution_count": 88,
   "metadata": {
    "collapsed": false
   },
   "outputs": [
    {
     "name": "stdout",
     "output_type": "stream",
     "text": [
      "Selection key ^MERRA2_400.inst1_2d_asm_Nx.201602.*\n"
     ]
    }
   ],
   "source": [
    "print 'Selection key' ,keysel_filename"
   ]
  },
  {
   "cell_type": "code",
   "execution_count": 89,
   "metadata": {
    "collapsed": false
   },
   "outputs": [],
   "source": [
    "nc4_files2 = []\n",
    "for file in nc4_files:\n",
    "    if re.findall(keysel_filename,file):\n",
    "        nc4_files2.append(file)\n",
    "\n",
    "nc4_files2=np.array(nc4_files2)"
   ]
  },
  {
   "cell_type": "code",
   "execution_count": null,
   "metadata": {
    "collapsed": false
   },
   "outputs": [],
   "source": []
  },
  {
   "cell_type": "markdown",
   "metadata": {},
   "source": [
    "### 2.4) Sort files by increasing time"
   ]
  },
  {
   "cell_type": "code",
   "execution_count": 90,
   "metadata": {
    "collapsed": false
   },
   "outputs": [],
   "source": [
    "nc4_files=np.sort(nc4_files2)"
   ]
  },
  {
   "cell_type": "markdown",
   "metadata": {},
   "source": [
    "### 2.5) Build the full filename before reading"
   ]
  },
  {
   "cell_type": "code",
   "execution_count": 91,
   "metadata": {
    "collapsed": false
   },
   "outputs": [],
   "source": [
    "NBFILES=len(nc4_files)\n",
    "full_nc4files=[]\n",
    "\n",
    "for file in nc4_files:\n",
    "    fname = os.path.join(path, file)\n",
    "    full_nc4files.append(fname)  "
   ]
  },
  {
   "cell_type": "markdown",
   "metadata": {},
   "source": [
    "## 3)  Extract data and write them into pandas dataset and time series\n",
    "--------------------------------------------------------------------------------------"
   ]
  },
  {
   "cell_type": "code",
   "execution_count": 92,
   "metadata": {
    "collapsed": false
   },
   "outputs": [
    {
     "name": "stdout",
     "output_type": "stream",
     "text": [
      "start_time =  ['2016-02-01 00:00:00']\n",
      "start_time =  ['2016-02-02 00:00:00']\n",
      "start_time =  ['2016-02-03 00:00:00']\n",
      "start_time =  ['2016-02-04 00:00:00']\n",
      "start_time =  ['2016-02-05 00:00:00']\n",
      "start_time =  ['2016-02-06 00:00:00']\n",
      "start_time =  ['2016-02-07 00:00:00']\n",
      "start_time =  ['2016-02-08 00:00:00']\n",
      "start_time =  ['2016-02-09 00:00:00']\n",
      "start_time =  ['2016-02-10 00:00:00']\n",
      "start_time =  ['2016-02-11 00:00:00']\n",
      "start_time =  ['2016-02-12 00:00:00']\n",
      "start_time =  ['2016-02-13 00:00:00']\n",
      "start_time =  ['2016-02-14 00:00:00']\n",
      "start_time =  ['2016-02-15 00:00:00']\n",
      "start_time =  ['2016-02-16 00:00:00']\n",
      "start_time =  ['2016-02-17 00:00:00']\n",
      "start_time =  ['2016-02-18 00:00:00']\n",
      "start_time =  ['2016-02-19 00:00:00']\n",
      "start_time =  ['2016-02-20 00:00:00']\n",
      "start_time =  ['2016-02-21 00:00:00']\n",
      "start_time =  ['2016-02-22 00:00:00']\n",
      "start_time =  ['2016-02-23 00:00:00']\n",
      "start_time =  ['2016-02-24 00:00:00']\n",
      "start_time =  ['2016-02-25 00:00:00']\n",
      "start_time =  ['2016-02-26 00:00:00']\n",
      "start_time =  ['2016-02-27 00:00:00']\n",
      "start_time =  ['2016-02-28 00:00:00']\n",
      "start_time =  ['2016-02-29 00:00:00']\n"
     ]
    }
   ],
   "source": [
    "to3_timeseries=[] # example of time series for ozone\n",
    "pwv_timeseries=[] # time series for precipitable water vapor\n",
    "df_inst1_2d_asm_Nx=[] # dataset for all atmospheric quantities\n",
    "\n",
    "for file in full_nc4files:\n",
    "    \n",
    "    #Retrieve 1D parameters longitude, latitude, time\n",
    "    (m_lat,m_un_lat,m_nm_lat) = merra2.Get1DData(file,'lat') # latitude (array, unit, name)\n",
    "    m_latitude = m_lat[:]\n",
    "    (m_lon,m_un_lon,m_nm_lon) = merra2.Get1DData(file,'lon') # longitude(array, unit, name)\n",
    "    m_longitude = m_lon[:]\n",
    "    (m_tim,m_un_tim,m_nm_tim)= merra2.Get1DData(file,'time') # time (array, unit, name)\n",
    "    m_time=m_tim[:]\n",
    "       \n",
    "    NbDataPerFile=m_time.shape[0] # number of data sample per file\n",
    "    #start_time = re.findall(\"^minutes since[ ]([0-9.].+[0-9.].+[0-9.].+)[ ]00:00:00$\",m_un_tim) # extract start time\n",
    "    start_time = re.findall(\"^minutes since[ ]([0-9.].+[0-9.].+[0-9.].+)\",m_un_tim) # extract start time\n",
    "    \n",
    "    #print 'start_time = ', start_time\n",
    "    time_rng = pd.date_range(start_time[0], periods=NbDataPerFile, freq='H') # one data per hour\n",
    "    \n",
    "    print 'start_time = ', start_time\n",
    "    \n",
    "    m_X,m_Y=np.meshgrid(m_longitude,m_latitude) # build meash-grid in longitude and latitude\n",
    "    (sel_long, sel_lat)=merra2.GetBinIndex(m_X,m_Y,loc[0],loc[1]) # get bin in longitude and latitude for the site  \n",
    "    \n",
    "    # Retrieve Ozone\n",
    "    (m_to3_data,m_to3_unit,m_to3_longname)=merra2.GetGeoRefData(file,'TO3') # 3D array : time x longitude x latitude  \n",
    "    to3=m_to3_data[:,sel_lat,sel_long]\n",
    "    ts = pd.Series(to3, index=time_rng)\n",
    "    to3_timeseries.append(ts)\n",
    "    # Retrieve PWV\n",
    "    (m_pwv_data,m_pwv_unit,m_pwv_longname)=merra2.GetGeoRefData(file,'TQV')\n",
    "    pwv=m_pwv_data[:,sel_lat,sel_long]\n",
    "    ts = pd.Series(pwv, index=time_rng)\n",
    "    pwv_timeseries.append(ts)\n",
    "    \n",
    "    \n",
    "    # Create the dataframe\n",
    "    df = pd.DataFrame({'ozone': to3 , 'pwv' : pwv}, index=time_rng)\n",
    "    df_inst1_2d_asm_Nx.append(df)  \n",
    "    "
   ]
  },
  {
   "cell_type": "markdown",
   "metadata": {},
   "source": [
    "## 4) Plot the time dependence of time series and dataset"
   ]
  },
  {
   "cell_type": "markdown",
   "metadata": {},
   "source": [
    "####  Fill information on years and months from the filenames"
   ]
  },
  {
   "cell_type": "code",
   "execution_count": 93,
   "metadata": {
    "collapsed": false
   },
   "outputs": [],
   "source": [
    "result = pd.concat(to3_timeseries)"
   ]
  },
  {
   "cell_type": "code",
   "execution_count": 94,
   "metadata": {
    "collapsed": false
   },
   "outputs": [
    {
     "data": {
      "text/plain": [
       "<matplotlib.text.Text at 0x11ea9ff90>"
      ]
     },
     "execution_count": 94,
     "metadata": {},
     "output_type": "execute_result"
    },
    {
     "data": {
      "image/png": "[encoded data removed]",
      "text/plain": [
       "<matplotlib.figure.Figure at 0x11e64a6d0>"
      ]
     },
     "metadata": {},
     "output_type": "display_data"
    }
   ],
   "source": [
    "plt.figure(figsize=(20,3))\n",
    "result.plot(grid=True)\n",
    "plt.xlabel('time')\n",
    "plt.ylabel('ozone')"
   ]
  },
  {
   "cell_type": "code",
   "execution_count": 95,
   "metadata": {
    "collapsed": true
   },
   "outputs": [],
   "source": [
    "result = pd.concat(pwv_timeseries)"
   ]
  },
  {
   "cell_type": "code",
   "execution_count": 96,
   "metadata": {
    "collapsed": false
   },
   "outputs": [
    {
     "data": {
      "image/png": "[encoded data removed]",
      "text/plain": [
       "<matplotlib.figure.Figure at 0x11e5f5990>"
      ]
     },
     "metadata": {},
     "output_type": "display_data"
    }
   ],
   "source": [
    "plt.figure(figsize=(20,3))\n",
    "result.plot()\n",
    "plt.xlabel('time')\n",
    "plt.ylabel('pwv')\n",
    "plt.grid(True)"
   ]
  },
  {
   "cell_type": "code",
   "execution_count": 97,
   "metadata": {
    "collapsed": true
   },
   "outputs": [],
   "source": [
    "df_inst1_2d_asm_Nx_tot=pd.concat(df_inst1_2d_asm_Nx)"
   ]
  },
  {
   "cell_type": "code",
   "execution_count": 98,
   "metadata": {
    "collapsed": false
   },
   "outputs": [
    {
     "name": "stdout",
     "output_type": "stream",
     "text": [
      "<class 'pandas.core.frame.DataFrame'>\n",
      "DatetimeIndex: 696 entries, 2016-02-01 00:00:00 to 2016-02-29 23:00:00\n",
      "Data columns (total 2 columns):\n",
      "ozone    696 non-null float32\n",
      "pwv      696 non-null float32\n",
      "dtypes: float32(2)\n",
      "memory usage: 10.9 KB\n"
     ]
    }
   ],
   "source": [
    "df_inst1_2d_asm_Nx_tot.info()"
   ]
  },
  {
   "cell_type": "code",
   "execution_count": 99,
   "metadata": {
    "collapsed": false
   },
   "outputs": [
    {
     "data": {
      "image/png": "[encoded data removed]",
      "text/plain": [
       "<matplotlib.figure.Figure at 0x11ea953d0>"
      ]
     },
     "metadata": {},
     "output_type": "display_data"
    }
   ],
   "source": [
    "plt.figure(figsize=(20,3))\n",
    "df_inst1_2d_asm_Nx_tot['ozone'].plot()\n",
    "plt.xlabel('time')\n",
    "plt.ylabel('ozone (Dobsons)')\n",
    "plt.grid(True)"
   ]
  },
  {
   "cell_type": "code",
   "execution_count": 100,
   "metadata": {
    "collapsed": false
   },
   "outputs": [
    {
     "data": {
      "image/png": "[encoded data removed]",
      "text/plain": [
       "<matplotlib.figure.Figure at 0x120105350>"
      ]
     },
     "metadata": {},
     "output_type": "display_data"
    }
   ],
   "source": [
    "plt.figure(figsize=(20,3))\n",
    "df_inst1_2d_asm_Nx_tot['pwv'].plot()\n",
    "plt.xlabel('time')\n",
    "plt.ylabel('pwv (kg/m2)')\n",
    "plt.grid(True)"
   ]
  },
  {
   "cell_type": "code",
   "execution_count": 101,
   "metadata": {
    "collapsed": false
   },
   "outputs": [
    {
     "data": {
      "text/html": [
       "<div>\n",
       "<table border=\"1\" class=\"dataframe\">\n",
       "  <thead>\n",
       "    <tr style=\"text-align: right;\">\n",
       "      <th></th>\n",
       "      <th>ozone</th>\n",
       "      <th>pwv</th>\n",
       "    </tr>\n",
       "  </thead>\n",
       "  <tbody>\n",
       "    <tr>\n",
       "      <th>count</th>\n",
       "      <td>696.000000</td>\n",
       "      <td>696.000000</td>\n",
       "    </tr>\n",
       "    <tr>\n",
       "      <th>mean</th>\n",
       "      <td>254.362946</td>\n",
       "      <td>6.728043</td>\n",
       "    </tr>\n",
       "    <tr>\n",
       "      <th>std</th>\n",
       "      <td>7.886025</td>\n",
       "      <td>3.581663</td>\n",
       "    </tr>\n",
       "    <tr>\n",
       "      <th>min</th>\n",
       "      <td>234.677155</td>\n",
       "      <td>1.653024</td>\n",
       "    </tr>\n",
       "    <tr>\n",
       "      <th>25%</th>\n",
       "      <td>248.695698</td>\n",
       "      <td>3.841610</td>\n",
       "    </tr>\n",
       "    <tr>\n",
       "      <th>50%</th>\n",
       "      <td>252.600037</td>\n",
       "      <td>5.763191</td>\n",
       "    </tr>\n",
       "    <tr>\n",
       "      <th>75%</th>\n",
       "      <td>259.085579</td>\n",
       "      <td>8.689217</td>\n",
       "    </tr>\n",
       "    <tr>\n",
       "      <th>max</th>\n",
       "      <td>275.891846</td>\n",
       "      <td>16.452242</td>\n",
       "    </tr>\n",
       "  </tbody>\n",
       "</table>\n",
       "</div>"
      ],
      "text/plain": [
       "            ozone         pwv\n",
       "count  696.000000  696.000000\n",
       "mean   254.362946    6.728043\n",
       "std      7.886025    3.581663\n",
       "min    234.677155    1.653024\n",
       "25%    248.695698    3.841610\n",
       "50%    252.600037    5.763191\n",
       "75%    259.085579    8.689217\n",
       "max    275.891846   16.452242"
      ]
     },
     "execution_count": 101,
     "metadata": {},
     "output_type": "execute_result"
    }
   ],
   "source": [
    "df_inst1_2d_asm_Nx_tot.index.name='time'\n",
    "df_inst1_2d_asm_Nx_tot.describe()"
   ]
  },
  {
   "cell_type": "markdown",
   "metadata": {
    "collapsed": true
   },
   "source": [
    "## 5)  Save dataset  in file pandas (csv)\n",
    "----------------------------------------"
   ]
  },
  {
   "cell_type": "code",
   "execution_count": 102,
   "metadata": {
    "collapsed": false
   },
   "outputs": [],
   "source": [
    "dataset=df_inst1_2d_asm_Nx_tot"
   ]
  },
  {
   "cell_type": "code",
   "execution_count": 103,
   "metadata": {
    "collapsed": false
   },
   "outputs": [],
   "source": [
    "dataset.index.name='time'"
   ]
  },
  {
   "cell_type": "code",
   "execution_count": null,
   "metadata": {
    "collapsed": true
   },
   "outputs": [],
   "source": []
  },
  {
   "cell_type": "code",
   "execution_count": 104,
   "metadata": {
    "collapsed": false
   },
   "outputs": [
    {
     "data": {
      "text/html": [
       "<div>\n",
       "<table border=\"1\" class=\"dataframe\">\n",
       "  <thead>\n",
       "    <tr style=\"text-align: right;\">\n",
       "      <th></th>\n",
       "      <th>ozone</th>\n",
       "      <th>pwv</th>\n",
       "    </tr>\n",
       "  </thead>\n",
       "  <tbody>\n",
       "    <tr>\n",
       "      <th>count</th>\n",
       "      <td>696.000000</td>\n",
       "      <td>696.000000</td>\n",
       "    </tr>\n",
       "    <tr>\n",
       "      <th>mean</th>\n",
       "      <td>254.362946</td>\n",
       "      <td>6.728043</td>\n",
       "    </tr>\n",
       "    <tr>\n",
       "      <th>std</th>\n",
       "      <td>7.886025</td>\n",
       "      <td>3.581663</td>\n",
       "    </tr>\n",
       "    <tr>\n",
       "      <th>min</th>\n",
       "      <td>234.677155</td>\n",
       "      <td>1.653024</td>\n",
       "    </tr>\n",
       "    <tr>\n",
       "      <th>25%</th>\n",
       "      <td>248.695698</td>\n",
       "      <td>3.841610</td>\n",
       "    </tr>\n",
       "    <tr>\n",
       "      <th>50%</th>\n",
       "      <td>252.600037</td>\n",
       "      <td>5.763191</td>\n",
       "    </tr>\n",
       "    <tr>\n",
       "      <th>75%</th>\n",
       "      <td>259.085579</td>\n",
       "      <td>8.689217</td>\n",
       "    </tr>\n",
       "    <tr>\n",
       "      <th>max</th>\n",
       "      <td>275.891846</td>\n",
       "      <td>16.452242</td>\n",
       "    </tr>\n",
       "  </tbody>\n",
       "</table>\n",
       "</div>"
      ],
      "text/plain": [
       "            ozone         pwv\n",
       "count  696.000000  696.000000\n",
       "mean   254.362946    6.728043\n",
       "std      7.886025    3.581663\n",
       "min    234.677155    1.653024\n",
       "25%    248.695698    3.841610\n",
       "50%    252.600037    5.763191\n",
       "75%    259.085579    8.689217\n",
       "max    275.891846   16.452242"
      ]
     },
     "execution_count": 104,
     "metadata": {},
     "output_type": "execute_result"
    }
   ],
   "source": [
    "dataset.describe()"
   ]
  },
  {
   "cell_type": "code",
   "execution_count": 105,
   "metadata": {
    "collapsed": false
   },
   "outputs": [
    {
     "data": {
      "text/html": [
       "<div>\n",
       "<table border=\"1\" class=\"dataframe\">\n",
       "  <thead>\n",
       "    <tr style=\"text-align: right;\">\n",
       "      <th></th>\n",
       "      <th>ozone</th>\n",
       "      <th>pwv</th>\n",
       "    </tr>\n",
       "    <tr>\n",
       "      <th>time</th>\n",
       "      <th></th>\n",
       "      <th></th>\n",
       "    </tr>\n",
       "  </thead>\n",
       "  <tbody>\n",
       "    <tr>\n",
       "      <th>2016-02-01 00:00:00</th>\n",
       "      <td>263.062561</td>\n",
       "      <td>13.009927</td>\n",
       "    </tr>\n",
       "    <tr>\n",
       "      <th>2016-02-01 01:00:00</th>\n",
       "      <td>264.118042</td>\n",
       "      <td>12.711447</td>\n",
       "    </tr>\n",
       "    <tr>\n",
       "      <th>2016-02-01 02:00:00</th>\n",
       "      <td>265.171326</td>\n",
       "      <td>12.698030</td>\n",
       "    </tr>\n",
       "    <tr>\n",
       "      <th>2016-02-01 03:00:00</th>\n",
       "      <td>265.944275</td>\n",
       "      <td>12.912094</td>\n",
       "    </tr>\n",
       "    <tr>\n",
       "      <th>2016-02-01 04:00:00</th>\n",
       "      <td>266.765381</td>\n",
       "      <td>13.151652</td>\n",
       "    </tr>\n",
       "  </tbody>\n",
       "</table>\n",
       "</div>"
      ],
      "text/plain": [
       "                          ozone        pwv\n",
       "time                                      \n",
       "2016-02-01 00:00:00  263.062561  13.009927\n",
       "2016-02-01 01:00:00  264.118042  12.711447\n",
       "2016-02-01 02:00:00  265.171326  12.698030\n",
       "2016-02-01 03:00:00  265.944275  12.912094\n",
       "2016-02-01 04:00:00  266.765381  13.151652"
      ]
     },
     "execution_count": 105,
     "metadata": {},
     "output_type": "execute_result"
    }
   ],
   "source": [
    "dataset.head()"
   ]
  },
  {
   "cell_type": "code",
   "execution_count": 106,
   "metadata": {
    "collapsed": true
   },
   "outputs": [],
   "source": [
    "dataset.to_csv(pandas_filename)"
   ]
  },
  {
   "cell_type": "code",
   "execution_count": 107,
   "metadata": {
    "collapsed": true
   },
   "outputs": [],
   "source": [
    "saved_dataset=pd.read_csv(pandas_filename)"
   ]
  },
  {
   "cell_type": "code",
   "execution_count": 108,
   "metadata": {
    "collapsed": false
   },
   "outputs": [
    {
     "data": {
      "text/html": [
       "<div>\n",
       "<table border=\"1\" class=\"dataframe\">\n",
       "  <thead>\n",
       "    <tr style=\"text-align: right;\">\n",
       "      <th></th>\n",
       "      <th>time</th>\n",
       "      <th>ozone</th>\n",
       "      <th>pwv</th>\n",
       "    </tr>\n",
       "  </thead>\n",
       "  <tbody>\n",
       "    <tr>\n",
       "      <th>0</th>\n",
       "      <td>2016-02-01 00:00:00</td>\n",
       "      <td>263.062561</td>\n",
       "      <td>13.009927</td>\n",
       "    </tr>\n",
       "    <tr>\n",
       "      <th>1</th>\n",
       "      <td>2016-02-01 01:00:00</td>\n",
       "      <td>264.118042</td>\n",
       "      <td>12.711447</td>\n",
       "    </tr>\n",
       "    <tr>\n",
       "      <th>2</th>\n",
       "      <td>2016-02-01 02:00:00</td>\n",
       "      <td>265.171326</td>\n",
       "      <td>12.698030</td>\n",
       "    </tr>\n",
       "    <tr>\n",
       "      <th>3</th>\n",
       "      <td>2016-02-01 03:00:00</td>\n",
       "      <td>265.944275</td>\n",
       "      <td>12.912094</td>\n",
       "    </tr>\n",
       "    <tr>\n",
       "      <th>4</th>\n",
       "      <td>2016-02-01 04:00:00</td>\n",
       "      <td>266.765381</td>\n",
       "      <td>13.151652</td>\n",
       "    </tr>\n",
       "  </tbody>\n",
       "</table>\n",
       "</div>"
      ],
      "text/plain": [
       "                  time       ozone        pwv\n",
       "0  2016-02-01 00:00:00  263.062561  13.009927\n",
       "1  2016-02-01 01:00:00  264.118042  12.711447\n",
       "2  2016-02-01 02:00:00  265.171326  12.698030\n",
       "3  2016-02-01 03:00:00  265.944275  12.912094\n",
       "4  2016-02-01 04:00:00  266.765381  13.151652"
      ]
     },
     "execution_count": 108,
     "metadata": {},
     "output_type": "execute_result"
    }
   ],
   "source": [
    "saved_dataset.head()"
   ]
  },
  {
   "cell_type": "markdown",
   "metadata": {},
   "source": [
    "## 6) Convert dataset into a table and then save in a fits file\n",
    "--------------------------------------------------------------------------"
   ]
  },
  {
   "cell_type": "code",
   "execution_count": 109,
   "metadata": {
    "collapsed": true
   },
   "outputs": [],
   "source": [
    "table = Table.from_pandas(saved_dataset)"
   ]
  },
  {
   "cell_type": "code",
   "execution_count": 110,
   "metadata": {
    "collapsed": false
   },
   "outputs": [
    {
     "data": {
      "text/html": [
       "&lt;Table length=696&gt;\n",
       "<table id=\"table4807461904\" class=\"table-striped table-bordered table-condensed\">\n",
       "<thead><tr><th>time</th><th>ozone</th><th>pwv</th></tr></thead>\n",
       "<thead><tr><th>str19</th><th>float64</th><th>float64</th></tr></thead>\n",
       "<tr><td>2016-02-01 00:00:00</td><td>263.062561035</td><td>13.009926796</td></tr>\n",
       "<tr><td>2016-02-01 01:00:00</td><td>264.118041992</td><td>12.7114467621</td></tr>\n",
       "<tr><td>2016-02-01 02:00:00</td><td>265.171325684</td><td>12.6980295181</td></tr>\n",
       "<tr><td>2016-02-01 03:00:00</td><td>265.944274902</td><td>12.9120941162</td></tr>\n",
       "<tr><td>2016-02-01 04:00:00</td><td>266.765380859</td><td>13.1516523361</td></tr>\n",
       "<tr><td>2016-02-01 05:00:00</td><td>267.735046387</td><td>13.2306184769</td></tr>\n",
       "<tr><td>2016-02-01 06:00:00</td><td>269.098052979</td><td>13.2730617523</td></tr>\n",
       "<tr><td>2016-02-01 07:00:00</td><td>270.790283203</td><td>13.3753566742</td></tr>\n",
       "<tr><td>2016-02-01 08:00:00</td><td>272.344543457</td><td>13.4796152115</td></tr>\n",
       "<tr><td>2016-02-01 09:00:00</td><td>273.606536865</td><td>13.4934406281</td></tr>\n",
       "<tr><td>...</td><td>...</td><td>...</td></tr>\n",
       "<tr><td>2016-02-29 14:00:00</td><td>260.060119629</td><td>3.91175270081</td></tr>\n",
       "<tr><td>2016-02-29 15:00:00</td><td>260.186035156</td><td>4.19920492172</td></tr>\n",
       "<tr><td>2016-02-29 16:00:00</td><td>259.304046631</td><td>4.73072195053</td></tr>\n",
       "<tr><td>2016-02-29 17:00:00</td><td>258.401611328</td><td>5.31583786011</td></tr>\n",
       "<tr><td>2016-02-29 18:00:00</td><td>257.294036865</td><td>5.78223657608</td></tr>\n",
       "<tr><td>2016-02-29 19:00:00</td><td>255.942352295</td><td>6.0283446312</td></tr>\n",
       "<tr><td>2016-02-29 20:00:00</td><td>254.375946045</td><td>6.02199935913</td></tr>\n",
       "<tr><td>2016-02-29 21:00:00</td><td>252.948028564</td><td>5.77019643784</td></tr>\n",
       "<tr><td>2016-02-29 22:00:00</td><td>252.490692139</td><td>5.33212184906</td></tr>\n",
       "<tr><td>2016-02-29 23:00:00</td><td>252.281799316</td><td>4.88669681549</td></tr>\n",
       "</table>"
      ],
      "text/plain": [
       "<Table length=696>\n",
       "        time            ozone          pwv     \n",
       "       str19           float64       float64   \n",
       "------------------- ------------- -------------\n",
       "2016-02-01 00:00:00 263.062561035  13.009926796\n",
       "2016-02-01 01:00:00 264.118041992 12.7114467621\n",
       "2016-02-01 02:00:00 265.171325684 12.6980295181\n",
       "2016-02-01 03:00:00 265.944274902 12.9120941162\n",
       "2016-02-01 04:00:00 266.765380859 13.1516523361\n",
       "2016-02-01 05:00:00 267.735046387 13.2306184769\n",
       "2016-02-01 06:00:00 269.098052979 13.2730617523\n",
       "2016-02-01 07:00:00 270.790283203 13.3753566742\n",
       "2016-02-01 08:00:00 272.344543457 13.4796152115\n",
       "2016-02-01 09:00:00 273.606536865 13.4934406281\n",
       "                ...           ...           ...\n",
       "2016-02-29 14:00:00 260.060119629 3.91175270081\n",
       "2016-02-29 15:00:00 260.186035156 4.19920492172\n",
       "2016-02-29 16:00:00 259.304046631 4.73072195053\n",
       "2016-02-29 17:00:00 258.401611328 5.31583786011\n",
       "2016-02-29 18:00:00 257.294036865 5.78223657608\n",
       "2016-02-29 19:00:00 255.942352295  6.0283446312\n",
       "2016-02-29 20:00:00 254.375946045 6.02199935913\n",
       "2016-02-29 21:00:00 252.948028564 5.77019643784\n",
       "2016-02-29 22:00:00 252.490692139 5.33212184906\n",
       "2016-02-29 23:00:00 252.281799316 4.88669681549"
      ]
     },
     "execution_count": 110,
     "metadata": {},
     "output_type": "execute_result"
    }
   ],
   "source": [
    "table"
   ]
  },
  {
   "cell_type": "code",
   "execution_count": 111,
   "metadata": {
    "collapsed": false
   },
   "outputs": [],
   "source": [
    "table.write(fits_filename,format='fits',overwrite=True)"
   ]
  },
  {
   "cell_type": "code",
   "execution_count": null,
   "metadata": {
    "collapsed": true
   },
   "outputs": [],
   "source": []
  }
 ],
 "metadata": {
  "anaconda-cloud": {},
  "kernelspec": {
   "display_name": "Python [default]",
   "language": "python",
   "name": "python2"
  },
  "language_info": {
   "codemirror_mode": {
    "name": "ipython",
    "version": 2
   },
   "file_extension": ".py",
   "mimetype": "text/x-python",
   "name": "python",
   "nbconvert_exporter": "python",
   "pygments_lexer": "ipython2",
   "version": "2.7.11"
  }
 },
 "nbformat": 4,
 "nbformat_minor": 0
}
