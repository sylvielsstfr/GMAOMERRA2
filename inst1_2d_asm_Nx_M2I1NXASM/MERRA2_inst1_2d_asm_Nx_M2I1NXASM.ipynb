{
 "cells": [
  {
   "cell_type": "markdown",
   "metadata": {},
   "source": [
    "# Exploration MERRA2 simulation from GMAO\n",
    "------------------------------------------------\n",
    "\n",
    "- author: Sylvie Dagoret-Campagne\n",
    "- creation Friday 25 Novembre 2016\n",
    "- checked : 0K January 6th 2017 with pyearth conda environnment\n",
    "\n",
    "\n",
    "### purpose:\n",
    "\n",
    "Analyse MERRA2 run for LSST air transparency simulation\n",
    "\n",
    "\n",
    "http://disc.sci.gsfc.nasa.gov/datareleases/merra_2_data_release\n"
   ]
  },
  {
   "cell_type": "code",
   "execution_count": null,
   "metadata": {},
   "outputs": [],
   "source": [
    "# Set up matplotlib and use a nicer set of plot parameters\n",
    "%config InlineBackend.rc = {}\n",
    "import matplotlib\n",
    "import matplotlib as mpl\n",
    "matplotlib.rc_file(\"templates/matplotlibrc\")\n",
    "import matplotlib.pyplot as plt\n",
    "%matplotlib inline"
   ]
  },
  {
   "cell_type": "code",
   "execution_count": null,
   "metadata": {},
   "outputs": [],
   "source": [
    "import os\n",
    "import re\n",
    "import numpy as np\n",
    "from mpl_toolkits.basemap import Basemap\n",
    "from matplotlib import colors\n",
    "from matplotlib.backends.backend_pdf import PdfPages\n",
    "import pandas as pd"
   ]
  },
  {
   "cell_type": "code",
   "execution_count": null,
   "metadata": {},
   "outputs": [],
   "source": [
    "from astropy import units as u\n",
    "from astropy.coordinates import SkyCoord"
   ]
  },
  {
   "cell_type": "code",
   "execution_count": null,
   "metadata": {},
   "outputs": [],
   "source": [
    "from datetime import datetime, timedelta"
   ]
  },
  {
   "cell_type": "code",
   "execution_count": null,
   "metadata": {},
   "outputs": [],
   "source": [
    "import h5py"
   ]
  },
  {
   "cell_type": "code",
   "execution_count": null,
   "metadata": {},
   "outputs": [],
   "source": [
    "import libGMAOMERRA2Data as merra2  # My own library"
   ]
  },
  {
   "cell_type": "code",
   "execution_count": null,
   "metadata": {},
   "outputs": [],
   "source": [
    "now=datetime.utcnow()  # choose UTC time\n",
    "datestr=str(now)\n",
    "print 'standard date format for the analysis :',datestr\n",
    "#  want the following format '2016-05-10T11:55:27.267'\n",
    "date_of_analysis=now.strftime('%Y-%m-%dT%H:%M:%S')\n",
    "print 'fits date format for the analysis : ',date_of_analysis"
   ]
  },
  {
   "cell_type": "code",
   "execution_count": null,
   "metadata": {},
   "outputs": [],
   "source": [
    "############################################################################\n",
    "def ensure_dir(f):\n",
    "    d = os.path.dirname(f)\n",
    "    if not os.path.exists(f):\n",
    "        os.makedirs(f)\n",
    "#########################################################################"
   ]
  },
  {
   "cell_type": "markdown",
   "metadata": {},
   "source": [
    "## 1) Access to the file through pyhdf\n",
    "-------------------------"
   ]
  },
  {
   "cell_type": "markdown",
   "metadata": {},
   "source": [
    "### 1.1 Setting the path to the data\n",
    "--------------------------------"
   ]
  },
  {
   "cell_type": "code",
   "execution_count": null,
   "metadata": {},
   "outputs": [],
   "source": [
    "#os.environ[\"HDFEOS_ZOO_DIR\"] = \"/Users/dagoret-campagnesylvie/MacOSX/LSST/MyWork/GitHub/GMAOMERRA2data/inst1_2d_asm_Nx_M2I1NXASM\"\n",
    "os.environ[\"HDFEOS_ZOO_DIR\"] = \"/sps/lsst/data/AtmosphericCalibration/MERRA-2/May-Jun-2017/subset_M2I1NXASM_V5.12.4_20180424_201411\""
   ]
  },
  {
   "cell_type": "code",
   "execution_count": null,
   "metadata": {},
   "outputs": [],
   "source": [
    "#HDFEOS_ZOO_DIR=\"/Users/dagoret-campagnesylvie/MacOSX/LSST/MyWork/GitHub/GMAOMERRA2data/inst1_2d_asm_Nx_M2I1NXASM\"\n",
    "HDFEOS_ZOO_DIR=\"/sps/lsst/data/AtmosphericCalibration/MERRA-2/May-Jun-2017/subset_M2I1NXASM_V5.12.4_20180424_201411\""
   ]
  },
  {
   "cell_type": "code",
   "execution_count": null,
   "metadata": {},
   "outputs": [],
   "source": [
    "path=HDFEOS_ZOO_DIR"
   ]
  },
  {
   "cell_type": "code",
   "execution_count": null,
   "metadata": {},
   "outputs": [],
   "source": [
    "DATAFIELD_NAME =  'TO3'"
   ]
  },
  {
   "cell_type": "code",
   "execution_count": null,
   "metadata": {},
   "outputs": [],
   "source": [
    "DATAFIELD_UNIT =  'Db'"
   ]
  },
  {
   "cell_type": "markdown",
   "metadata": {},
   "source": [
    "### 1.2 Getting the list of the files\n",
    "------------------------------"
   ]
  },
  {
   "cell_type": "code",
   "execution_count": null,
   "metadata": {},
   "outputs": [],
   "source": [
    "nc4_files = [f for f in os.listdir(path) if f.endswith('.nc4')]  \n",
    "print nc4_files\n",
    "full_nc4file=nc4_files\n",
    "ix=0\n",
    "for file in nc4_files:\n",
    "    fname = os.path.join(path, file)\n",
    "    full_nc4file[ix]=fname\n",
    "    ix=ix+1    \n",
    "print full_nc4file[0]"
   ]
  },
  {
   "cell_type": "markdown",
   "metadata": {},
   "source": [
    "### 1.3 Select a given file and open it"
   ]
  },
  {
   "cell_type": "code",
   "execution_count": null,
   "metadata": {},
   "outputs": [],
   "source": [
    "fileindex=0 # selecting the file to open : August 2016 "
   ]
  },
  {
   "cell_type": "code",
   "execution_count": null,
   "metadata": {},
   "outputs": [],
   "source": [
    "FILE_NAME=full_nc4file[fileindex] "
   ]
  },
  {
   "cell_type": "code",
   "execution_count": null,
   "metadata": {},
   "outputs": [],
   "source": [
    "nc4f= h5py.File(FILE_NAME, mode='r')"
   ]
  },
  {
   "cell_type": "code",
   "execution_count": null,
   "metadata": {},
   "outputs": [],
   "source": [
    "nc4f.items()"
   ]
  },
  {
   "cell_type": "code",
   "execution_count": null,
   "metadata": {},
   "outputs": [],
   "source": [
    "#nc4f??"
   ]
  },
  {
   "cell_type": "markdown",
   "metadata": {},
   "source": [
    "## Build Top directory and figure filename"
   ]
  },
  {
   "cell_type": "code",
   "execution_count": null,
   "metadata": {},
   "outputs": [],
   "source": [
    "base_filename=os.path.basename(FILE_NAME).split('.nc4')[0]"
   ]
  },
  {
   "cell_type": "code",
   "execution_count": null,
   "metadata": {},
   "outputs": [],
   "source": [
    "print base_filename"
   ]
  },
  {
   "cell_type": "code",
   "execution_count": null,
   "metadata": {},
   "outputs": [],
   "source": [
    "p = re.compile('[.]')\n",
    "root_filename=p.sub('_',base_filename)    \n",
    "rootimg_dir=os.path.join('images',root_filename)"
   ]
  },
  {
   "cell_type": "code",
   "execution_count": null,
   "metadata": {},
   "outputs": [],
   "source": [
    "rootimg_dir"
   ]
  },
  {
   "cell_type": "code",
   "execution_count": null,
   "metadata": {},
   "outputs": [],
   "source": [
    "ensure_dir(rootimg_dir)"
   ]
  },
  {
   "cell_type": "code",
   "execution_count": null,
   "metadata": {},
   "outputs": [],
   "source": [
    "pegfile = \"{0}_{1}.jpg\".format(root_filename, DATAFIELD_NAME)"
   ]
  },
  {
   "cell_type": "code",
   "execution_count": null,
   "metadata": {},
   "outputs": [],
   "source": [
    "figfilename=root_filename+'_'+ DATAFIELD_NAME+\".pdf\"\n",
    "print figfilename"
   ]
  },
  {
   "cell_type": "code",
   "execution_count": null,
   "metadata": {},
   "outputs": [],
   "source": [
    "fullfigfilename=os.path.join(rootimg_dir,figfilename)"
   ]
  },
  {
   "cell_type": "code",
   "execution_count": null,
   "metadata": {},
   "outputs": [],
   "source": [
    "fullfigfilename"
   ]
  },
  {
   "cell_type": "markdown",
   "metadata": {},
   "source": [
    "### 1.4 retrieve the 3D Data"
   ]
  },
  {
   "cell_type": "code",
   "execution_count": null,
   "metadata": {},
   "outputs": [],
   "source": [
    "name = '/TO3'\n",
    "data = nc4f[name][0,:,:]\n",
    "units = nc4f[name].attrs['units']\n",
    "long_name = nc4f[name].attrs['long_name']\n",
    "_FillValue = nc4f[name].attrs['_FillValue']\n",
    "data[data == _FillValue] = np.nan\n",
    "data = np.ma.masked_where(np.isnan(data), data)    "
   ]
  },
  {
   "cell_type": "code",
   "execution_count": null,
   "metadata": {},
   "outputs": [],
   "source": [
    "time_long_name = nc4f['/time'].attrs['long_name']  "
   ]
  },
  {
   "cell_type": "code",
   "execution_count": null,
   "metadata": {},
   "outputs": [],
   "source": [
    "# Get the geolocation data.\n",
    "latitude = nc4f['/lat'][:]\n",
    "longitude = nc4f['/lon'][:]\n",
    "\n",
    "# Get the time data.\n",
    "time = nc4f['/time'][:]\n",
    "time_units = nc4f['/time'].attrs['units']"
   ]
  },
  {
   "cell_type": "code",
   "execution_count": null,
   "metadata": {},
   "outputs": [],
   "source": [
    "time"
   ]
  },
  {
   "cell_type": "code",
   "execution_count": null,
   "metadata": {},
   "outputs": [],
   "source": [
    "print time_units"
   ]
  },
  {
   "cell_type": "code",
   "execution_count": null,
   "metadata": {},
   "outputs": [],
   "source": [
    "start_time = re.findall(\"^minutes since[ ]([0-9.].+[0-9.].+[0-9.].+)[ ]00:00:00$\",time_units)"
   ]
  },
  {
   "cell_type": "code",
   "execution_count": null,
   "metadata": {},
   "outputs": [],
   "source": [
    "print start_time"
   ]
  },
  {
   "cell_type": "code",
   "execution_count": null,
   "metadata": {},
   "outputs": [],
   "source": [
    "time_rng = pd.date_range(start_time[0], periods=time.shape[0], freq='H')"
   ]
  },
  {
   "cell_type": "code",
   "execution_count": null,
   "metadata": {},
   "outputs": [],
   "source": [
    "time_rng"
   ]
  },
  {
   "cell_type": "code",
   "execution_count": null,
   "metadata": {},
   "outputs": [],
   "source": [
    "ts = pd.Series(np.random.randn(len(time_rng)), index=time_rng)"
   ]
  },
  {
   "cell_type": "code",
   "execution_count": null,
   "metadata": {},
   "outputs": [],
   "source": [
    "plt.figure(figsize=(15,4))\n",
    "ts.plot()"
   ]
  },
  {
   "cell_type": "code",
   "execution_count": null,
   "metadata": {},
   "outputs": [],
   "source": [
    "pd.to_datetime(ts, format='%Y-%m-%d %H:%M:%S.%f')"
   ]
  },
  {
   "cell_type": "code",
   "execution_count": null,
   "metadata": {},
   "outputs": [],
   "source": [
    "pp = PdfPages(fullfigfilename)"
   ]
  },
  {
   "cell_type": "markdown",
   "metadata": {},
   "source": [
    "### 1.4 Data analysis\n",
    "----------------------"
   ]
  },
  {
   "cell_type": "markdown",
   "metadata": {},
   "source": [
    "#### 1.4.1 list of quantities to analyse"
   ]
  },
  {
   "cell_type": "code",
   "execution_count": null,
   "metadata": {},
   "outputs": [],
   "source": []
  },
  {
   "cell_type": "markdown",
   "metadata": {},
   "source": [
    "### Location of the CTIO site\n",
    "------------------------------------\n",
    "- Longitude = -70.815 deg\n",
    "- Latitude  = -30.165277777777778 deg\n",
    "- Quantity  = 2214.9999999993697 m"
   ]
  },
  {
   "cell_type": "code",
   "execution_count": null,
   "metadata": {},
   "outputs": [],
   "source": [
    "#CTIO site\n",
    "Longitude_ctio = -70.815  # deg\n",
    "Latitude_ctio = -30.165277777777778 #deg\n",
    "Altitude_ctio = 2214.9999999993697 #m"
   ]
  },
  {
   "cell_type": "markdown",
   "metadata": {},
   "source": [
    "## 2 Analysis of Ozone\n",
    "--------------------------------------"
   ]
  },
  {
   "cell_type": "code",
   "execution_count": null,
   "metadata": {},
   "outputs": [],
   "source": [
    "fig=plt.figure(figsize=(14,6))\n",
    "#X,Y=np.meshgrid(all_longitude,all_latitude)\n",
    "im = plt.pcolormesh(longitude,latitude,data, cmap='hot')\n",
    "plt.colorbar(im, orientation='vertical')\n",
    "plt.axis([-180., 180., -90, 90 ])\n",
    "plt.xlabel('longitude')\n",
    "plt.ylabel('latitude')\n",
    "plt.plot([Longitude_ctio],[Latitude_ctio],'bo',markersize=10)\n",
    "title=root_filename\n",
    "plt.title(title)\n",
    "plt.tight_layout()\n",
    "plt.savefig(pp, format='pdf')\n",
    "plt.show()"
   ]
  },
  {
   "cell_type": "markdown",
   "metadata": {},
   "source": [
    "##### Using basemap"
   ]
  },
  {
   "cell_type": "code",
   "execution_count": null,
   "metadata": {},
   "outputs": [],
   "source": [
    "X,Y=np.meshgrid(longitude,latitude)"
   ]
  },
  {
   "cell_type": "code",
   "execution_count": null,
   "metadata": {},
   "outputs": [],
   "source": [
    "from mpl_toolkits.basemap import Basemap\n",
    "import matplotlib.pyplot as plt\n",
    "plt.figure(figsize=(14,14))\n",
    "map = Basemap()\n",
    "map.drawcoastlines(color=\"white\")\n",
    "map.drawcountries(color=\"black\")\n",
    "img=map.contourf(X,Y, data,100)\n",
    "cbar=map.colorbar(img,\"right\", size=\"5%\", pad=\"2%\")\n",
    "cbar.set_label(DATAFIELD_UNIT)\n",
    "map.drawparallels(np.arange(-40,61.,15.),labels=[True,False,False,False])\n",
    "map.drawmeridians(np.arange(-180.,180.,15.),labels=[True,False,False,True])\n",
    "xpt_ctio,ypt_ctio = map(Longitude_ctio,Latitude_ctio)\n",
    "map.plot(xpt_ctio,ypt_ctio,marker='o',color='r',markersize=8)  # plot a red dot there\n",
    "title=root_filename+'_'+ DATAFIELD_NAME\n",
    "plt.title(title)\n",
    "#plt.tight_layout() \n",
    "plt.savefig(pp, format='pdf')\n",
    "plt.show()"
   ]
  },
  {
   "cell_type": "code",
   "execution_count": null,
   "metadata": {},
   "outputs": [],
   "source": [
    "from mpl_toolkits.basemap import Basemap\n",
    "import matplotlib.pyplot as plt\n",
    "plt.figure(figsize=(14,6))\n",
    "map = Basemap()\n",
    "map.drawcoastlines(color=\"blue\")\n",
    "map.drawcountries(color=\"black\")\n",
    "#img=map.contourf(X, Y, aod_clean,100)\n",
    "img = plt.pcolormesh(longitude,latitude,data)\n",
    "map.colorbar(img,\"right\", size=\"5%\", pad=\"2%\")\n",
    "map.drawparallels(np.arange(-40,61.,15.),labels=[True,False,False,False])\n",
    "map.drawmeridians(np.arange(-180.,180.,15.),labels=[True,False,False,True])\n",
    "xpt_ctio,ypt_ctio = map(Longitude_ctio,Latitude_ctio)\n",
    "map.plot(xpt_ctio,ypt_ctio,'ro',markersize=8)  # plot a red dot there\n",
    "#plt.text(xpt_lsst-100000,ypt_lsst-200000,'LSST (%5.1fW,%3.1fN)' % (Longitude_lsst,Latitude_lsst),color='red', fontsize=15)\n",
    "title=root_filename\n",
    "plt.title(title)\n",
    "plt.tight_layout() \n",
    "plt.savefig(pp, format='pdf')\n",
    "plt.show()"
   ]
  },
  {
   "cell_type": "markdown",
   "metadata": {},
   "source": [
    "#### South America\n",
    "-----------------"
   ]
  },
  {
   "cell_type": "code",
   "execution_count": null,
   "metadata": {},
   "outputs": [],
   "source": [
    "#LSST site\n",
    "Longitude_lsst = -70.7366833333333 # deg\n",
    "Latitude_lsst = -30.240741666666672 #deg\n",
    "Altitude_lsst = 2749.999999999238 #m\n",
    "\n",
    "#CTIO Site\n",
    "Longitude_ctio = -70.815 # deg\n",
    "Latitude_ctio = -30.165277777777778 #deg\n",
    "Altitude_ctio = 2214.9999999993697 #m\n",
    "\n",
    "# Cerro Paranal\n",
    "Longitude_paranal = -70.40300000000002 #deg\n",
    "Latitude_paranal  = -24.625199999999996 #deg\n",
    "Altitude_paranal = 2635.0000000009704 #m\n",
    "\n",
    "# Observatoire de Haute Provence\n",
    "Longitude_ohp=5.71222222222\n",
    "Latitude_ohp=43.9316666667\n",
    "Altitude_ohp=650."
   ]
  },
  {
   "cell_type": "markdown",
   "metadata": {},
   "source": [
    "#### define south america\n",
    "\n",
    "- longitude -100° to -30°\n",
    "- latitude -55° to 15°"
   ]
  },
  {
   "cell_type": "code",
   "execution_count": null,
   "metadata": {},
   "outputs": [],
   "source": [
    "from mpl_toolkits.basemap import Basemap\n",
    "import matplotlib.pyplot as plt\n",
    "plt.figure(figsize=(10,10))\n",
    "#map = Basemap(llcrnrlon=-100,llcrnrlat=-60,urcrnrlon=-25.,urcrnrlat=15.,resolution='i', projection='tmerc', lat_0 = -30, lon_0 = -70)\n",
    "\n",
    "map = Basemap(llcrnrlon=-100,llcrnrlat=-55,urcrnrlon=-30.,urcrnrlat=15., projection='tmerc', lat_0 = -30, lon_0 = -70)\n",
    "\n",
    "map.drawmapboundary(fill_color='aqua')\n",
    "map.fillcontinents(color='peachpuff',lake_color='lightskyblue')\n",
    "map.drawcoastlines()\n",
    "map.drawcountries()\n",
    "map.drawparallels(np.arange(-50,10,5.),labels=[True,True,True,True])\n",
    "map.drawmeridians(np.arange(-90.,-40.,5.),labels=[True,True,True,True])\n",
    "\n",
    "xpt_ctio,ypt_ctio = map(Longitude_ctio,Latitude_ctio)\n",
    "# convert back to lat/lon\n",
    "#lonpt, latpt = map(xpt_lsst,ypt_lsst,inverse=True)\n",
    "map.plot(xpt_ctio,ypt_ctio,'ro')  # plot a red dot there\n",
    "# put some text next to the dot, offset a little bit\n",
    "# (the offset is in map projection coordinates)\n",
    "plt.text(xpt_ctio-100000,ypt_ctio-200000,'CTIO (%5.1fW,%3.1fN)' % (Longitude_ctio,Latitude_ctio),color='red', fontsize=15)\n",
    "plt.tight_layout()\n",
    "plt.savefig(pp, format='pdf')\n",
    "plt.show()\n"
   ]
  },
  {
   "cell_type": "markdown",
   "metadata": {},
   "source": [
    "### Region and Data selection for South America"
   ]
  },
  {
   "cell_type": "code",
   "execution_count": null,
   "metadata": {},
   "outputs": [],
   "source": [
    "LongMin=-100\n",
    "LongMax=-30\n",
    "LatMin=-55\n",
    "LatMax=15"
   ]
  },
  {
   "cell_type": "code",
   "execution_count": null,
   "metadata": {},
   "outputs": [],
   "source": []
  },
  {
   "cell_type": "code",
   "execution_count": null,
   "metadata": {},
   "outputs": [],
   "source": [
    "X.shape"
   ]
  },
  {
   "cell_type": "code",
   "execution_count": null,
   "metadata": {},
   "outputs": [],
   "source": [
    "plt.pcolormesh(X, cmap='hot')\n",
    "plt.colorbar(im, orientation='vertical')"
   ]
  },
  {
   "cell_type": "code",
   "execution_count": null,
   "metadata": {},
   "outputs": [],
   "source": [
    "plt.pcolormesh(Y, cmap='hot')\n",
    "plt.colorbar(im, orientation='vertical')"
   ]
  },
  {
   "cell_type": "code",
   "execution_count": null,
   "metadata": {},
   "outputs": [],
   "source": [
    "longitude=X\n",
    "latitude=Y"
   ]
  },
  {
   "cell_type": "code",
   "execution_count": null,
   "metadata": {},
   "outputs": [],
   "source": [
    "flags_long=np.logical_and(X>=LongMin, X<=LongMax)   # flags in X where are the selected longitudes\n",
    "flags_lat=np.logical_and(Y>=LatMin, Y<=LatMax)      # flags in Y where are the selected longitudes\n",
    "flags_longlat=np.logical_and(flags_long,flags_lat)  # flags where the region is selected in the long-lat matrix\n",
    "\n",
    "(selected_lat_indexes,selected_long_indexes)=np.where(flags_longlat==True) # list of indexes\n",
    "\n",
    "\n",
    "selected_long=longitude[:,selected_long_indexes] # all selected longitudes\n",
    "selected_lat=latitude[selected_lat_indexes,:]    # all selected latitudes\n",
    "\n",
    "min_long_index=np.min(selected_long_indexes)\n",
    "max_long_index=np.max(selected_long_indexes)\n",
    "\n",
    "min_lat_index=np.min(selected_lat_indexes)\n",
    "max_lat_index=np.max(selected_lat_indexes)\n",
    "\n",
    "extracted_data=data[min_lat_index:max_lat_index,min_long_index:max_long_index] # extract the data\n",
    "\n",
    "Xsel=X[min_lat_index:max_lat_index,min_long_index:max_long_index] # extract the Long\n",
    "Ysel=Y[min_lat_index:max_lat_index,min_long_index:max_long_index] # extract the lat"
   ]
  },
  {
   "cell_type": "code",
   "execution_count": null,
   "metadata": {},
   "outputs": [],
   "source": [
    "im=plt.pcolormesh(X,Y,flags_longlat, cmap='gray')\n",
    "plt.colorbar(im, orientation='vertical')"
   ]
  },
  {
   "cell_type": "code",
   "execution_count": null,
   "metadata": {},
   "outputs": [],
   "source": [
    "(index_lat,index_long)=np.where(flags_longlat==True)"
   ]
  },
  {
   "cell_type": "code",
   "execution_count": null,
   "metadata": {},
   "outputs": [],
   "source": [
    "print selected_long"
   ]
  },
  {
   "cell_type": "code",
   "execution_count": null,
   "metadata": {},
   "outputs": [],
   "source": [
    "print np.where(flags_longlat==True)\n",
    "selected_long_indexes=np.where(flags_longlat==True)[0]\n",
    "selected_lat_indexes=np.where(flags_longlat==True)[1]"
   ]
  },
  {
   "cell_type": "code",
   "execution_count": null,
   "metadata": {},
   "outputs": [],
   "source": [
    "selected_long_indexes"
   ]
  },
  {
   "cell_type": "code",
   "execution_count": null,
   "metadata": {},
   "outputs": [],
   "source": [
    "selected_lat_indexes"
   ]
  },
  {
   "cell_type": "code",
   "execution_count": null,
   "metadata": {},
   "outputs": [],
   "source": [
    "im=plt.pcolormesh(Xsel,Ysel,extracted_data, cmap='hot')\n",
    "plt.colorbar(im, orientation='vertical')"
   ]
  },
  {
   "cell_type": "code",
   "execution_count": null,
   "metadata": {},
   "outputs": [],
   "source": [
    "# check what has been done\n",
    "print('selected_long_indexes=',selected_long_indexes)\n",
    "print('selected_lat_indexes=',selected_lat_indexes)\n",
    "print('selected_long=',selected_long)\n",
    "print('selected_lat=',selected_lat)\n",
    "print(\"flags_longlat.shape=\",flags_longlat.shape)\n",
    "print(\"flags_long.shape=\",flags_long.shape)\n",
    "print(\"flags_lat.shape=\",flags_lat.shape)\n",
    "print(\"total number of ll bins\",flags_longlat.shape[0]*flags_longlat.shape[1])\n",
    "print(\"min_long_index=\",min_long_index)\n",
    "print(\"max_long_index=\",max_long_index)\n",
    "print(\"min_lat_index=\",min_lat_index)\n",
    "print(\"max_lat_index=\",max_lat_index)\n",
    "print(\"extracted_data.shape=\",extracted_data.shape)\n",
    "print(\"extracted_data.size=\",extracted_data.shape[0]*extracted_data.shape[1])\n",
    "#print(\"extracted_aod=\",extracted_aod)"
   ]
  },
  {
   "cell_type": "code",
   "execution_count": null,
   "metadata": {},
   "outputs": [],
   "source": [
    "plt.figure(figsize=(10,8))\n",
    "#newdata=np.where(flags_longlat,data  , 0 )  # clean the aod from creazy data\n",
    "#image = plt.pcolormesh(X,Y,newdata, cmap='hot')\n",
    "image = plt.pcolormesh(Xsel,Ysel,extracted_data)\n",
    "plt.xlim(LongMin,LongMax)\n",
    "plt.ylim(LatMin,LatMax)\n",
    "plt.plot([Longitude_ctio],[Latitude_ctio],'ro',markersize=10)\n",
    "plt.xlabel('longitude')\n",
    "plt.ylabel('latitude')\n",
    "title=root_filename\n",
    "plt.title(title)\n",
    "plt.tight_layout()\n",
    "plt.colorbar(image, orientation='vertical')\n",
    "plt.savefig(pp, format='pdf')\n",
    "plt.show()"
   ]
  },
  {
   "cell_type": "code",
   "execution_count": null,
   "metadata": {},
   "outputs": [],
   "source": [
    "plt.figure(figsize=(10,8))\n",
    "#Xsel,Ysel=np.meshgrid(selected_long,selected_lat)\n",
    "im = plt.pcolormesh(Xsel,Ysel,extracted_data, cmap='hot')\n",
    "plt.colorbar(im, orientation='vertical')\n",
    "plt.axis([Xsel.min(), Xsel.max(), Ysel.min(), Ysel.max()])\n",
    "plt.xlabel('longitude')\n",
    "plt.ylabel('latitude')\n",
    "plt.plot([Longitude_ctio],[Latitude_ctio],marker='o',color='b',markersize=8)\n",
    "#title=\"Aerosol Optical Depth AOD above europe\"\n",
    "title=root_filename\n",
    "plt.title(title)\n",
    "plt.tight_layout()\n",
    "plt.savefig(pp, format='pdf')\n",
    "plt.show()"
   ]
  },
  {
   "cell_type": "code",
   "execution_count": null,
   "metadata": {},
   "outputs": [],
   "source": [
    "from mpl_toolkits.basemap import Basemap\n",
    "import matplotlib.pyplot as plt\n",
    "plt.figure(figsize=(10,10))\n",
    "map = Basemap(llcrnrlon=LongMin,llcrnrlat=LatMin,urcrnrlon=LongMax,urcrnrlat=LatMax, projection='tmerc', lat_0 = Latitude_ctio, lon_0 = Longitude_ctio)\n",
    "#map.drawmapboundary(fill_color='aqua') # No fill color\n",
    "#map.fillcontinents(color='peachpuff',lake_color='lightskyblue') # No fill color\n",
    "xpt_ctio,ypt_ctio = map(Longitude_ctio,Latitude_ctio)\n",
    "# convert back to lat/lon\n",
    "#lonpt, latpt = map(xpt_lsst,ypt_lsst,inverse=True)\n",
    "map.plot(xpt_ctio,ypt_ctio,'ro')  # plot a red dot there\n",
    "\n",
    "img=map.pcolormesh(Xsel,Ysel,extracted_data,shading='flat',latlon=True)\n",
    "#img=map.contourf(Xsel, Ysel, extracted_aod,100)\n",
    "map.colorbar(img,\"right\", size=\"5%\", pad=\"2%\")\n",
    "map.drawparallels(np.arange(LatMin,LatMax,5.),labels=[True,False,False,False])\n",
    "map.drawmeridians(np.arange(LongMin,LongMax,5.),labels=[True,True,False,True])\n",
    "map.drawcoastlines(color='yellow')\n",
    "map.drawcountries(color='white')\n",
    "xpt_ctio,ypt_ctio = map(Longitude_ctio,Latitude_ctio)\n",
    "map.plot(xpt_ctio,ypt_ctio,'ro',markersize=10)  # plot a red dot there\n",
    "plt.text(xpt_ctio-1000,ypt_ctio-1000,'CTIO (%5.1fW,%3.1fN)' % (Longitude_ctio,Latitude_ctio),color='yellow', fontsize=15)\n",
    "title=\"O3 column depth South America \" + root_filename\n",
    "plt.title(title)\n",
    "plt.tight_layout()\n",
    "plt.savefig(pp, format='pdf')\n",
    "plt.show()"
   ]
  },
  {
   "cell_type": "code",
   "execution_count": null,
   "metadata": {},
   "outputs": [],
   "source": [
    "from mpl_toolkits.basemap import Basemap\n",
    "import matplotlib.pyplot as plt\n",
    "plt.figure(figsize=(10,10))\n",
    "map = Basemap(llcrnrlon=LongMin,llcrnrlat=LatMin,urcrnrlon=LongMax,urcrnrlat=LatMax, projection='tmerc', lat_0 = Latitude_ctio, lon_0 = Longitude_ctio)\n",
    "xpt_ctio,ypt_ctio = map(Longitude_ctio,Latitude_ctio)\n",
    "# convert back to lat/lon\n",
    "#lonpt, latpt = map(xpt_lsst,ypt_lsst,inverse=True)\n",
    "map.plot(xpt_ctio,ypt_ctio,'ro')  # plot a red dot there\n",
    "img=map.pcolormesh(Xsel,Ysel,extracted_data,shading='flat',cmap=\"hot\",latlon=True)\n",
    "#img=map.contourf(Xsel, Ysel, extracted_aod,20)\n",
    "map.colorbar(img,\"right\", size=\"5%\", pad=\"2%\")\n",
    "map.drawparallels(np.arange(LatMin,LatMax,5.),labels=[True,False,False,False])\n",
    "map.drawmeridians(np.arange(LongMin,LongMax,5.),labels=[True,True,False,True])\n",
    "map.drawcoastlines(color='yellow')\n",
    "map.drawcountries(color='white')\n",
    "xpt_ctio,ypt_ctio = map(Longitude_ctio,Latitude_ctio)\n",
    "map.plot(xpt_ctio,ypt_ctio,'bo',markersize=10)  # plot a red dot there\n",
    "plt.text(xpt_ctio-1000,ypt_ctio-1000,'CTIO (%5.1fW,%3.1fN)' % (Longitude_ctio,Latitude_ctio),color='green', fontsize=15)\n",
    "title=\"O3 column depth South America \"+root_filename\n",
    "plt.title(title)\n",
    "plt.tight_layout()\n",
    "plt.savefig(pp, format='pdf')\n",
    "plt.show()"
   ]
  },
  {
   "cell_type": "markdown",
   "metadata": {},
   "source": [
    "#### Find O3 data for CTIO site\n",
    "------------------------------"
   ]
  },
  {
   "cell_type": "code",
   "execution_count": null,
   "metadata": {},
   "outputs": [],
   "source": [
    "(NbBinLat,NbBinLong)=longitude.shape"
   ]
  },
  {
   "cell_type": "code",
   "execution_count": null,
   "metadata": {},
   "outputs": [],
   "source": [
    "DeltaBinLat=180./float(NbBinLat)\n",
    "DeltaBinLong=360./float(NbBinLong)"
   ]
  },
  {
   "cell_type": "code",
   "execution_count": null,
   "metadata": {},
   "outputs": [],
   "source": [
    "print \"dlat = \",DeltaBinLat\n",
    "print \"dlong = \",DeltaBinLong"
   ]
  },
  {
   "cell_type": "code",
   "execution_count": null,
   "metadata": {},
   "outputs": [],
   "source": [
    "ctio_flags_long=np.logical_and(X>=Longitude_ctio-DeltaBinLong/2., X<=Longitude_ctio+DeltaBinLong/2.)   # flags in X where are the selected longitudes\n",
    "ctio_flags_lat=np.logical_and(Y>=Latitude_ctio-DeltaBinLat/2., Y<=Latitude_ctio+DeltaBinLat/2.)      # flags in Y where are the selected longitudes\n",
    "ctio_flags_longlat=np.logical_and(ctio_flags_long,ctio_flags_lat)  # flags where the region is selected in the long-lat matrix\n",
    "\n",
    "(ctio_selected_lat_indexes,ctio_selected_long_indexes)=np.where(ctio_flags_longlat==True) # list of indexes\n",
    "\n",
    "\n",
    "ctio_selected_long=longitude[:,ctio_selected_long_indexes] # all selected longitudes\n",
    "ctio_selected_lat=latitude[ctio_selected_lat_indexes,:] \n",
    "\n",
    "ctio_min_long_index=np.min(ctio_selected_long_indexes)\n",
    "ctio_max_long_index=np.max(ctio_selected_long_indexes)\n",
    "\n",
    "ctio_min_lat_index=np.min(ctio_selected_lat_indexes)\n",
    "ctio_max_lat_index=np.max(ctio_selected_lat_indexes)\n",
    "\n",
    "ctio_extracted_data=data[ctio_min_lat_index:ctio_max_lat_index+1,ctio_min_long_index:ctio_max_long_index+1] # extract the data"
   ]
  },
  {
   "cell_type": "code",
   "execution_count": null,
   "metadata": {},
   "outputs": [],
   "source": [
    "print('ctio_selected_long_indexes=',ctio_selected_long_indexes)\n",
    "print('ctio_selected_lat_indexes=',ctio_selected_lat_indexes)\n",
    "print('ctio_min_lat_index=',ctio_min_lat_index)\n",
    "print('ctio_max_lat_index=',ctio_max_lat_index)\n",
    "print('ctio_min_long_index=',ctio_min_long_index)\n",
    "print('ctio_max_long_index=',ctio_max_long_index)\n",
    "#print('ctio_selected_lat=',ctio_selected_lat)\n",
    "\n",
    "print('A) ctio_data = ',ctio_extracted_data[0][0],' Db Unit')\n",
    "print('B) ctio_data = ',data[ctio_min_lat_index,ctio_min_long_index],' Db Unit')"
   ]
  },
  {
   "cell_type": "code",
   "execution_count": null,
   "metadata": {},
   "outputs": [],
   "source": [
    "data.shape"
   ]
  },
  {
   "cell_type": "code",
   "execution_count": null,
   "metadata": {},
   "outputs": [],
   "source": [
    "im=plt.pcolormesh(X,Y,ctio_flags_longlat, cmap='gray')\n",
    "plt.colorbar(im, orientation='vertical')"
   ]
  },
  {
   "cell_type": "markdown",
   "metadata": {},
   "source": [
    "### Test library libGMAOMERRA2Data"
   ]
  },
  {
   "cell_type": "code",
   "execution_count": null,
   "metadata": {},
   "outputs": [],
   "source": [
    "fullfigfilename"
   ]
  },
  {
   "cell_type": "code",
   "execution_count": null,
   "metadata": {},
   "outputs": [],
   "source": [
    "(data3D,unit,longname)=merra2.GetGeoRefData(FILE_NAME,DATAFIELD_NAME)\n",
    "m_data= data3D[:,:,:] ## Ozone has no additional dimensions\n",
    "(m_lat,m_un_lat,m_nm_lat) = merra2.Get1DData(FILE_NAME,'lat')\n",
    "m_latitude = m_lat[:]\n",
    "(m_lon,m_un_lon,m_nm_lon) = merra2.Get1DData(FILE_NAME,'lon')\n",
    "m_longitude = m_lon[:]\n",
    "(m_tim,m_un_tim,m_nm_tim)= merra2.Get1DData(FILE_NAME,'time')\n",
    "m_time=m_tim[:]"
   ]
  },
  {
   "cell_type": "code",
   "execution_count": null,
   "metadata": {},
   "outputs": [],
   "source": [
    "m_X,m_Y=np.meshgrid(m_longitude,m_latitude)"
   ]
  },
  {
   "cell_type": "code",
   "execution_count": null,
   "metadata": {},
   "outputs": [],
   "source": [
    "loc=merra2.observatory_location('ctio')"
   ]
  },
  {
   "cell_type": "code",
   "execution_count": null,
   "metadata": {},
   "outputs": [],
   "source": [
    "(sel_long,sel_lat)=merra2.GetBinIndex(m_X,m_Y,loc[0],loc[1],DLong=DeltaBinLong,DLat=DeltaBinLong)"
   ]
  },
  {
   "cell_type": "code",
   "execution_count": null,
   "metadata": {},
   "outputs": [],
   "source": [
    "m_data[:,sel_lat,sel_long]"
   ]
  },
  {
   "cell_type": "markdown",
   "metadata": {},
   "source": [
    "### Find size of MERRA2 box at CTIO location"
   ]
  },
  {
   "cell_type": "code",
   "execution_count": null,
   "metadata": {},
   "outputs": [],
   "source": [
    "(NbBinLat,NbBinLong)=longitude.shape"
   ]
  },
  {
   "cell_type": "code",
   "execution_count": null,
   "metadata": {},
   "outputs": [],
   "source": [
    "DeltaBinLat=180./float(NbBinLat)\n",
    "DeltaBinLong=360./float(NbBinLong)"
   ]
  },
  {
   "cell_type": "code",
   "execution_count": null,
   "metadata": {},
   "outputs": [],
   "source": [
    "DeltaBinLat"
   ]
  },
  {
   "cell_type": "code",
   "execution_count": null,
   "metadata": {},
   "outputs": [],
   "source": [
    "#distance along longitude\n",
    "x1,y1 = map(Longitude_ctio-DeltaBinLong/2.,Latitude_ctio)\n",
    "x2,y2 = map(Longitude_ctio+DeltaBinLong/2.,Latitude_ctio)\n",
    "d_long=np.sqrt((x2-x1)**2+(y2-y1)**2)/1000"
   ]
  },
  {
   "cell_type": "code",
   "execution_count": null,
   "metadata": {},
   "outputs": [],
   "source": [
    "print x1,x2,y1,y2\n",
    "print d_long,' km'"
   ]
  },
  {
   "cell_type": "code",
   "execution_count": null,
   "metadata": {},
   "outputs": [],
   "source": [
    "#distance along latitude\n",
    "x1,y1 = map(Longitude_ctio,Latitude_ctio-DeltaBinLat/2.)\n",
    "x2,y2 = map(Longitude_ctio,Latitude_ctio+DeltaBinLat/2.)\n",
    "d_lat=np.sqrt((x2-x1)**2+(y2-y1)**2)/1000"
   ]
  },
  {
   "cell_type": "code",
   "execution_count": null,
   "metadata": {},
   "outputs": [],
   "source": [
    "print x1,x2,y1,y2\n",
    "print d_lat,' km'"
   ]
  },
  {
   "cell_type": "markdown",
   "metadata": {},
   "source": [
    "## Close the pdf file\n",
    "-------------------------"
   ]
  },
  {
   "cell_type": "code",
   "execution_count": null,
   "metadata": {},
   "outputs": [],
   "source": [
    "pp.close()"
   ]
  },
  {
   "cell_type": "code",
   "execution_count": null,
   "metadata": {},
   "outputs": [],
   "source": [
    "X.shape"
   ]
  },
  {
   "cell_type": "code",
   "execution_count": null,
   "metadata": {},
   "outputs": [],
   "source": [
    "180./361"
   ]
  },
  {
   "cell_type": "code",
   "execution_count": null,
   "metadata": {},
   "outputs": [],
   "source": [
    "360./576"
   ]
  },
  {
   "cell_type": "code",
   "execution_count": null,
   "metadata": {},
   "outputs": [],
   "source": []
  },
  {
   "cell_type": "code",
   "execution_count": null,
   "metadata": {},
   "outputs": [],
   "source": []
  }
 ],
 "metadata": {
  "anaconda-cloud": {},
  "kernelspec": {
   "display_name": "Python 2",
   "language": "python",
   "name": "python2"
  },
  "language_info": {
   "codemirror_mode": {
    "name": "ipython",
    "version": 2
   },
   "file_extension": ".py",
   "mimetype": "text/x-python",
   "name": "python",
   "nbconvert_exporter": "python",
   "pygments_lexer": "ipython2",
   "version": "2.7.14"
  }
 },
 "nbformat": 4,
 "nbformat_minor": 2
}
