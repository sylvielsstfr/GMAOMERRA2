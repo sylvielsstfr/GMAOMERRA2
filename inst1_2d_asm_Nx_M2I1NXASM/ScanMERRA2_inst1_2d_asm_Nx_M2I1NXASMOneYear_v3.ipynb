{
 "cells": [
  {
   "cell_type": "markdown",
   "metadata": {},
   "source": [
    "# Scan MERRA-2 atmospheric properties during one Year\n",
    "----------------------------------------------------------------------------------\n",
    "\n",
    "- author: Sylvie Dagoret-Campagne\n",
    "- creation January 12 2017\n",
    "- last update February 17 2023 on imac\n",
    "- last update January 2024/01/28 at CC with kernel ``conda_jax0325_py310``\n",
    "- last update January 2024/10/15 at CC with kernel ``conda_jax0325_py310``\n",
    "- at CCIN2P3 anaconda3_py39_auxtel kernel (kernel not working anymore)\n",
    "- loal Python 3 kernel\n",
    "\n",
    "Link:\n",
    "\n",
    "http://disc.sci.gsfc.nasa.gov/datareleases/merra_2_data_release\n",
    "\n",
    "### purpose:\n",
    "\n",
    "Scan One month of MERRA-2 predictions of the dataset inst1_2d_asm_Nx_M2I1NXASM. \n",
    "Extract the relevant atmospheric variables.\n",
    "Build the correcponding time series and dataset in pandas.\n",
    "Plot the variables. Save the pandas dataset into a file.\n",
    "Convert the pandas dataset into an astropy fits table and save into a fits file as well."
   ]
  },
  {
   "cell_type": "markdown",
   "metadata": {},
   "source": [
    "## 1) python libraries\n",
    "---------------------------"
   ]
  },
  {
   "cell_type": "code",
   "execution_count": null,
   "metadata": {},
   "outputs": [],
   "source": [
    "# Set up matplotlib and use a nicer set of plot parameters\n",
    "%config InlineBackend.rc = {}\n",
    "import matplotlib\n",
    "import matplotlib as mpl\n",
    "matplotlib.rc_file(\"templates/matplotlibrc\")\n",
    "import matplotlib.pyplot as plt\n",
    "%matplotlib inline"
   ]
  },
  {
   "cell_type": "code",
   "execution_count": null,
   "metadata": {},
   "outputs": [],
   "source": [
    "import datetime"
   ]
  },
  {
   "cell_type": "code",
   "execution_count": null,
   "metadata": {},
   "outputs": [],
   "source": [
    "from matplotlib.dates import MonthLocator, WeekdayLocator,DateFormatter\n",
    "from matplotlib.dates import MONDAY"
   ]
  },
  {
   "cell_type": "code",
   "execution_count": null,
   "metadata": {},
   "outputs": [],
   "source": [
    "mondays = WeekdayLocator(MONDAY)\n",
    "months = MonthLocator(range(1, 13), bymonthday=1, interval=1)\n",
    "monthsFmt = DateFormatter(\"%b '%y\")"
   ]
  },
  {
   "cell_type": "code",
   "execution_count": null,
   "metadata": {},
   "outputs": [],
   "source": [
    "import os\n",
    "\n",
    "def default_proj_lib():\n",
    "    proj_lib = os.getenv('PROJ_LIB')\n",
    "    if proj_lib not in (None, 'PROJ_LIB'):\n",
    "        return proj_lib\n",
    "    try:\n",
    "        import conda\n",
    "    except ImportError:\n",
    "        conda = None\n",
    "    if conda is not None or os.getenv('CONDA_PREFIX') is None:\n",
    "        conda_file_dir = conda.__file__\n",
    "        conda_dir = conda_file_dir.split('lib')[0]\n",
    "        proj_lib = os.path.join(os.path.join(conda_dir, 'share'), 'proj')\n",
    "        if os.path.exists(proj_lib):\n",
    "            return proj_lib\n",
    "        return None\n",
    "    return None\n"
   ]
  },
  {
   "cell_type": "code",
   "execution_count": null,
   "metadata": {},
   "outputs": [],
   "source": [
    "theprojlib=default_proj_lib()\n",
    "print(\"The PROJ_LIB={}\".format(theprojlib))"
   ]
  },
  {
   "cell_type": "code",
   "execution_count": null,
   "metadata": {},
   "outputs": [],
   "source": [
    "#os.environ[\"PROJ_LIB\"] = theprojlib\n",
    "#print os.environ[\"PROJ_LIB\"]"
   ]
  },
  {
   "cell_type": "code",
   "execution_count": null,
   "metadata": {},
   "outputs": [],
   "source": [
    "# Do conda update --all"
   ]
  },
  {
   "cell_type": "code",
   "execution_count": null,
   "metadata": {},
   "outputs": [],
   "source": [
    "import os\n",
    "import re\n",
    "import numpy as np\n",
    "#from mpl_toolkits.basemap import Basemap\n",
    "from matplotlib import colors\n",
    "from matplotlib.backends.backend_pdf import PdfPages\n",
    "import pandas as pd"
   ]
  },
  {
   "cell_type": "code",
   "execution_count": null,
   "metadata": {},
   "outputs": [],
   "source": []
  },
  {
   "cell_type": "code",
   "execution_count": null,
   "metadata": {},
   "outputs": [],
   "source": [
    "from astropy import units as u\n",
    "from astropy.coordinates import SkyCoord\n",
    "\n",
    "from astropy.table import Table"
   ]
  },
  {
   "cell_type": "code",
   "execution_count": null,
   "metadata": {},
   "outputs": [],
   "source": [
    "import h5py"
   ]
  },
  {
   "cell_type": "code",
   "execution_count": null,
   "metadata": {},
   "outputs": [],
   "source": [
    "import libGMAOMERRA2Data as merra2  # My own library"
   ]
  },
  {
   "cell_type": "code",
   "execution_count": null,
   "metadata": {},
   "outputs": [],
   "source": [
    "############################################################################\n",
    "def ensure_dir(f):\n",
    "    d = os.path.dirname(f)\n",
    "    if not os.path.exists(f):\n",
    "        os.makedirs(f)\n",
    "#########################################################################"
   ]
  },
  {
   "cell_type": "markdown",
   "metadata": {},
   "source": [
    "## 2)  Configuration\n",
    "-------------------------"
   ]
  },
  {
   "cell_type": "code",
   "execution_count": null,
   "metadata": {},
   "outputs": [],
   "source": [
    "#YEARNUM=\"2023\"\n",
    "YEARNUM=\"2024\""
   ]
  },
  {
   "cell_type": "code",
   "execution_count": null,
   "metadata": {},
   "outputs": [],
   "source": [
    "# SELECT OBSERVATORY\n",
    "OBS_NAME='lsst'"
   ]
  },
  {
   "cell_type": "code",
   "execution_count": null,
   "metadata": {},
   "outputs": [],
   "source": [
    "# where are the HDF files\n",
    "#HDFEOS_ZOO_DIR=\"/Volumes/LaCie2/DATA/MERRA-2/inst1_2d_asm_Nx_M2I1NXASM\"\n",
    "# For Simulation of CTIO atmosphere in May-Jun 2017\n",
    "#HDFEOS_ZOO_DIR=\"/sps/lsst/data/AtmosphericCalibration/MERRA-2/May-Jun-2017/subset_M2I1NXASM_V5.12.4_20180424_201411\"\n",
    "# Data 2018\n",
    "#HDFEOS_ZOO_DIR=\"/sps/lsst/data/MERRA2/M2I1NXASM.5.12.4/\"+YEARNUM\n",
    "#HDFEOS_ZOO_DIR=\"/Users/dagoret/DATA/MERRA-2/M2I1NXASM_V5.12.4/\"+YEARNUM\n",
    "#HDFEOS_ZOO_DIR=os.path.join(\"/Users/dagoret/DATA/MERRA-2/M2I1NXASM_V5.12.4\",YEARNUM)\n",
    "HDFEOS_ZOO_DIR=os.path.join(\"/sps/lsst/groups/auxtel/MERRA2/data/inst1_2d_asm_Nx_M2I1NXASM\",YEARNUM)\n",
    "#HDFEOS_ZOO_DIR=os.path.join(\"/Users/dagoret/DATA/merra-2import/M2I1NXASM.5.12.4\",YEARNUM)\n",
    "#HDFEOS_ZOO_DIR=os.path.join(\"/Users/sylvie/DATA/MERRA2/data/inst1_2d_asm_Nx_M2I1NXASM\",YEARNUM)"
   ]
  },
  {
   "cell_type": "code",
   "execution_count": null,
   "metadata": {},
   "outputs": [],
   "source": [
    "path=HDFEOS_ZOO_DIR"
   ]
  },
  {
   "cell_type": "markdown",
   "metadata": {},
   "source": [
    "### Here I describe the content of the input files"
   ]
  },
  {
   "cell_type": "code",
   "execution_count": null,
   "metadata": {},
   "outputs": [],
   "source": [
    "DATA_TAG=['PS','T10M','T2M','TO3','TOX','TQI','TQL','TQV','TS','U10M','U2M','U50M','V10M','V2M','V50M' ]"
   ]
  },
  {
   "cell_type": "code",
   "execution_count": null,
   "metadata": {},
   "outputs": [],
   "source": [
    "DATA_TITLE=['Surface Pressure',\n",
    "            '10 meter air temperature',\n",
    "            '2 meter air temperature',\n",
    "            'total column ozone',\n",
    "            'total column odd oxygen',\n",
    "            'total precipitable ice water',\n",
    "            'total precipitable liquid water',\n",
    "            'total precipitable water vapor',\n",
    "            'Surface Temperature skin',\n",
    "            '10 meter eastward wind',\n",
    "            '2 meter eastward wind',\n",
    "            '50 meter eastward wind',\n",
    "            '10 meter northward wind',\n",
    "            '2 meter northward wind',\n",
    "            '50 meter northward wind'\n",
    "           ]"
   ]
  },
  {
   "cell_type": "code",
   "execution_count": null,
   "metadata": {},
   "outputs": [],
   "source": [
    "NB_DATAFIELDS=len(DATA_TAG)"
   ]
  },
  {
   "cell_type": "markdown",
   "metadata": {},
   "source": [
    "### List of output files"
   ]
  },
  {
   "cell_type": "code",
   "execution_count": null,
   "metadata": {},
   "outputs": [],
   "source": [
    "# The selected data field\n",
    "DATA_NAME =  'inst1_2d_asm_Nx_M2I1NXASM'   # "
   ]
  },
  {
   "cell_type": "code",
   "execution_count": null,
   "metadata": {},
   "outputs": [],
   "source": [
    "pandas_filename='MERRA2_'+YEARNUM+'_'+DATA_NAME+'_'+OBS_NAME+'_'+'AllYear'+'.csv'"
   ]
  },
  {
   "cell_type": "code",
   "execution_count": null,
   "metadata": {},
   "outputs": [],
   "source": [
    "fits_filename='MERRA2_'+YEARNUM+'_'+DATA_NAME+'_'+OBS_NAME+'_'+'AllYear' +'.fits'"
   ]
  },
  {
   "cell_type": "code",
   "execution_count": null,
   "metadata": {},
   "outputs": [],
   "source": [
    "hdf5_filename='MERRA2_'+YEARNUM+'_'+DATA_NAME+'_'+OBS_NAME+'_'+'AllYear'+'.h5'"
   ]
  },
  {
   "cell_type": "code",
   "execution_count": null,
   "metadata": {},
   "outputs": [],
   "source": [
    "# 15 output files for figures\n",
    "figfile_ps='GMAO_MERRA2_'+YEARNUM+'_'+DATA_NAME+'_'+OBS_NAME+'_'+'AllYear'+'_ps'+'.jpg'\n",
    "figfile_t10='GMAO_MERRA2_'+YEARNUM+'_'+DATA_NAME+'_'+OBS_NAME+'_'+'AllYear'+'_t10'+'.jpg'\n",
    "figfile_t2='GMAO_MERRA2_'+YEARNUM+'_'+DATA_NAME+'_'+OBS_NAME+'_'+'AllYear'+'_t2'+'.jpg'\n",
    "figfile_to3='GMAO_MERRA2_'+YEARNUM+'_'+DATA_NAME+'_'+OBS_NAME+'_'+'AllYear'+'_to3'+'.jpg'\n",
    "figfile_tox='GMAO_MERRA2_'+YEARNUM+'_'+DATA_NAME+'_'+OBS_NAME+'_'+'AllYear'+'_tox'+'.jpg'\n",
    "figfile_tqi='GMAO_MERRA2_'+YEARNUM+'_'+DATA_NAME+'_'+OBS_NAME+'_'+'AllYear'+'_tqi'+'.jpg'\n",
    "figfile_tql='GMAO_MERRA2_'+YEARNUM+'_'+DATA_NAME+'_'+OBS_NAME+'_'+'AllYear'+'_tql'+'.jpg'\n",
    "figfile_tqv='GMAO_MERRA2_'+YEARNUM+'_'+DATA_NAME+'_'+OBS_NAME+'_'+'AllYear'+'_tqv'+'.jpg'\n",
    "figfile_ts='GMAO_MERRA2_'+YEARNUM+'_'+DATA_NAME+'_'+OBS_NAME+'_'+'AllYear'+'_ts'+'.jpg'\n",
    "figfile_u10m='GMAO_MERRA2_'+YEARNUM+'_'+DATA_NAME+'_'+OBS_NAME+'_'+'AllYear'+'_u10m'+'.jpg'\n",
    "figfile_u2m='GMAO_MERRA2_'+YEARNUM+'_'+DATA_NAME+'_'+OBS_NAME+'_'+'AllYear'+'_u2m'+'.jpg'\n",
    "figfile_u50m='GMAO_MERRA2_'+YEARNUM+'_'+DATA_NAME+'_'+OBS_NAME+'_'+'AllYear'+'_u50m'+'.jpg'\n",
    "figfile_v10m='GMAO_MERRA2_'+YEARNUM+'_'+DATA_NAME+'_'+OBS_NAME+'_'+'AllYear'+'_v10m'+'.jpg'\n",
    "figfile_v2m='GMAO_MERRA2_'+YEARNUM+'_'+DATA_NAME+'_'+OBS_NAME+'_'+'AllYear'+'_v2m'+'.jpg'\n",
    "figfile_v50m='GMAO_MERRA2_'+YEARNUM+'_'+DATA_NAME+'_'+OBS_NAME+'_'+'AllYear'+'_v50m'+'.jpg'"
   ]
  },
  {
   "cell_type": "code",
   "execution_count": null,
   "metadata": {},
   "outputs": [],
   "source": [
    "# 15 output files for figures\n",
    "figfile_ps='GMAO_MERRA2_'+YEARNUM+'_'+DATA_NAME+'_'+OBS_NAME+'_'+'AllYear'+'_ps'+'.png'\n",
    "figfile_t10='GMAO_MERRA2_'+YEARNUM+'_'+DATA_NAME+'_'+OBS_NAME+'_'+'AllYear'+'_t10'+'.png'\n",
    "figfile_t2='GMAO_MERRA2_'+YEARNUM+'_'+DATA_NAME+'_'+OBS_NAME+'_'+'AllYear'+'_t2'+'.png'\n",
    "figfile_to3='GMAO_MERRA2_'+YEARNUM+'_'+DATA_NAME+'_'+OBS_NAME+'_'+'AllYear'+'_to3'+'.png'\n",
    "figfile_tox='GMAO_MERRA2_'+YEARNUM+'_'+DATA_NAME+'_'+OBS_NAME+'_'+'AllYear'+'_tox'+'.png'\n",
    "figfile_tqi='GMAO_MERRA2_'+YEARNUM+'_'+DATA_NAME+'_'+OBS_NAME+'_'+'AllYear'+'_tqi'+'.png'\n",
    "figfile_tql='GMAO_MERRA2_'+YEARNUM+'_'+DATA_NAME+'_'+OBS_NAME+'_'+'AllYear'+'_tql'+'.png'\n",
    "figfile_tqv='GMAO_MERRA2_'+YEARNUM+'_'+DATA_NAME+'_'+OBS_NAME+'_'+'AllYear'+'_tqv'+'.png'\n",
    "figfile_ts='GMAO_MERRA2_'+YEARNUM+'_'+DATA_NAME+'_'+OBS_NAME+'_'+'AllYear'+'_ts'+'.png'\n",
    "figfile_u10m='GMAO_MERRA2_'+YEARNUM+'_'+DATA_NAME+'_'+OBS_NAME+'_'+'AllYear'+'_u10m'+'.png'\n",
    "figfile_u2m='GMAO_MERRA2_'+YEARNUM+'_'+DATA_NAME+'_'+OBS_NAME+'_'+'AllYear'+'_u2m'+'.png'\n",
    "figfile_u50m='GMAO_MERRA2_'+YEARNUM+'_'+DATA_NAME+'_'+OBS_NAME+'_'+'AllYear'+'_u50m'+'.png'\n",
    "figfile_v10m='GMAO_MERRA2_'+YEARNUM+'_'+DATA_NAME+'_'+OBS_NAME+'_'+'AllYear'+'_v10m'+'.png'\n",
    "figfile_v2m='GMAO_MERRA2_'+YEARNUM+'_'+DATA_NAME+'_'+OBS_NAME+'_'+'AllYear'+'_v2m'+'.png'\n",
    "figfile_v50m='GMAO_MERRA2_'+YEARNUM+'_'+DATA_NAME+'_'+OBS_NAME+'_'+'AllYear'+'_v50m'+'.png'"
   ]
  },
  {
   "cell_type": "markdown",
   "metadata": {},
   "source": [
    "### Select where in the world"
   ]
  },
  {
   "cell_type": "code",
   "execution_count": null,
   "metadata": {},
   "outputs": [],
   "source": [
    "# Select observatory\n",
    "loc=merra2.observatory_location(OBS_NAME)"
   ]
  },
  {
   "cell_type": "code",
   "execution_count": null,
   "metadata": {},
   "outputs": [],
   "source": [
    "loc"
   ]
  },
  {
   "cell_type": "markdown",
   "metadata": {},
   "source": [
    "### 2.2) Getting the list of the files\n",
    "------------------------------"
   ]
  },
  {
   "cell_type": "code",
   "execution_count": null,
   "metadata": {},
   "outputs": [],
   "source": [
    "nc4_files = [f for f in os.listdir(path) if f.endswith('.nc4')]  "
   ]
  },
  {
   "cell_type": "code",
   "execution_count": null,
   "metadata": {},
   "outputs": [],
   "source": [
    "nc4_files[:5]"
   ]
  },
  {
   "cell_type": "markdown",
   "metadata": {},
   "source": [
    "### 2.3) Select files of a given month"
   ]
  },
  {
   "cell_type": "code",
   "execution_count": null,
   "metadata": {},
   "outputs": [],
   "source": [
    "#keysel_filename='^MERRA2_400.inst1_2d_asm_Nx.2018.*'"
   ]
  },
  {
   "cell_type": "code",
   "execution_count": null,
   "metadata": {},
   "outputs": [],
   "source": [
    "keysel_filename='^MERRA2_400.inst1_2d_asm_Nx.'+YEARNUM+'.*'"
   ]
  },
  {
   "cell_type": "code",
   "execution_count": null,
   "metadata": {},
   "outputs": [],
   "source": [
    "print('Selection key' ,keysel_filename)"
   ]
  },
  {
   "cell_type": "code",
   "execution_count": null,
   "metadata": {},
   "outputs": [],
   "source": [
    "nc4_files2 = []\n",
    "for file in nc4_files:\n",
    "    if re.findall(keysel_filename,file):\n",
    "        nc4_files2.append(file)\n",
    "\n",
    "nc4_files2=np.array(nc4_files2)"
   ]
  },
  {
   "cell_type": "code",
   "execution_count": null,
   "metadata": {},
   "outputs": [],
   "source": [
    "nc4_files2"
   ]
  },
  {
   "cell_type": "markdown",
   "metadata": {},
   "source": [
    "### 2.4) Sort files by increasing time"
   ]
  },
  {
   "cell_type": "code",
   "execution_count": null,
   "metadata": {},
   "outputs": [],
   "source": [
    "nc4_files=np.sort(nc4_files2)"
   ]
  },
  {
   "cell_type": "markdown",
   "metadata": {},
   "source": [
    "### 2.5) Build the full filename before reading"
   ]
  },
  {
   "cell_type": "code",
   "execution_count": null,
   "metadata": {},
   "outputs": [],
   "source": [
    "NBFILES=len(nc4_files)\n",
    "full_nc4files=[]\n",
    "\n",
    "for file in nc4_files:\n",
    "    fname = os.path.join(path, file)\n",
    "    full_nc4files.append(fname)  "
   ]
  },
  {
   "cell_type": "markdown",
   "metadata": {},
   "source": [
    "## 3)  Extract data and write them into pandas dataset and time series\n",
    "--------------------------------------------------------------------------------------"
   ]
  },
  {
   "cell_type": "code",
   "execution_count": null,
   "metadata": {},
   "outputs": [],
   "source": [
    "ts0=[]  # intermediate data series\n",
    "ts1=[]\n",
    "ts2=[]\n",
    "ts3=[]  # intermediate data series\n",
    "ts4=[]\n",
    "ts5=[]\n",
    "ts6=[]  # intermediate data series\n",
    "ts7=[]\n",
    "ts8=[]\n",
    "ts9=[]  # intermediate data series\n",
    "ts10=[]\n",
    "ts11=[]\n",
    "ts12=[]\n",
    "ts13=[]\n",
    "ts14=[]\n",
    "\n",
    "df_inst1_2d_asm_Nx=[] # final pandas dataset for all atmospheric quantities\n",
    "\n",
    "for file in full_nc4files: # loop on data file of each day of the month\n",
    "    \n",
    "    print(file)\n",
    "    \n",
    "    #Retrieve 1D parameters longitude, latitude, time\n",
    "    (m_lat,m_un_lat,m_nm_lat) = merra2.Get1DData(file,'lat') # latitude (array, unit, name)\n",
    "    m_latitude = m_lat[:]\n",
    "    (m_lon,m_un_lon,m_nm_lon) = merra2.Get1DData(file,'lon') # longitude(array, unit, name)\n",
    "    m_longitude = m_lon[:]\n",
    "    (m_tim,m_un_tim,m_nm_tim)= merra2.Get1DData(file,'time') # time (array, unit, name)\n",
    "    m_time=m_tim[:]\n",
    "    \n",
    "    # with python3 obliged to transform byte string into a string    \n",
    "    m_un_tim2=m_un_tim.decode(\"utf-8\")  \n",
    "       \n",
    "    NbDataPerFile=m_time.shape[0] # number of data sample per file\n",
    "    #start_time = re.findall(\"^minutes since[ ]([0-9.].+[0-9.].+[0-9.].+)[ ]00:00:00$\",m_un_tim) # extract start time\n",
    "    start_time = re.findall(\"^minutes since[ ]([0-9.].+[0-9.].+[0-9.].+)\",m_un_tim2) # extract start time\n",
    "    \n",
    "    #print 'start_time = ', start_time\n",
    "    time_rng = pd.date_range(start_time[0], periods=NbDataPerFile, freq='H') # one data per hour\n",
    "    \n",
    "\n",
    "    \n",
    "    m_X,m_Y=np.meshgrid(m_longitude,m_latitude) # build meash-grid in longitude and latitude\n",
    "    (sel_long, sel_lat)=merra2.GetBinIndex(m_X,m_Y,loc[0],loc[1]) # get bin in longitude and latitude for the site  \n",
    "    \n",
    " \n",
    "    # loop\n",
    "    for index in range(NB_DATAFIELDS):\n",
    "        (m_data,m_unit,m_longname)=merra2.GetGeoRefData(file,DATA_TAG[index]) # 3D array : time x longitude x latitude  \n",
    "        dt=m_data[:,sel_lat,sel_long]\n",
    "        if index==0:\n",
    "            ts0 = pd.Series(dt, index=time_rng)\n",
    "        elif index==1:\n",
    "            ts1 = pd.Series(dt, index=time_rng)\n",
    "        elif index==2:\n",
    "            ts2 = pd.Series(dt, index=time_rng)\n",
    "        elif index==3:\n",
    "            ts3 = pd.Series(dt, index=time_rng)\n",
    "\n",
    "        elif index==4:\n",
    "            ts4 = pd.Series(dt, index=time_rng)\n",
    "        elif index==5:\n",
    "            ts5 = pd.Series(dt, index=time_rng)\n",
    "        elif index==6:\n",
    "            ts6 = pd.Series(dt, index=time_rng)\n",
    "            \n",
    "        elif index==7:\n",
    "            ts7 = pd.Series(dt, index=time_rng)\n",
    "        elif index==8:\n",
    "            ts8 = pd.Series(dt, index=time_rng)\n",
    "        elif index==9:\n",
    "            ts9 = pd.Series(dt, index=time_rng)            \n",
    "            \n",
    "        elif index==10:\n",
    "            ts10 = pd.Series(dt, index=time_rng)\n",
    "        elif index==11:\n",
    "            ts11 = pd.Series(dt, index=time_rng)\n",
    "        elif index==12:\n",
    "            ts12 = pd.Series(dt, index=time_rng) \n",
    "            \n",
    "        elif index==13:\n",
    "            ts13 = pd.Series(dt, index=time_rng) \n",
    "        elif index==14:\n",
    "            ts14 = pd.Series(dt, index=time_rng) \n",
    "            \n",
    "            \n",
    "        #clf_timeseries.append(ts)\n",
    "        # Create the dataframe\n",
    "    df = pd.DataFrame({DATA_TAG[0]: ts0, \n",
    "                       DATA_TAG[1]: ts1,\n",
    "                       DATA_TAG[2]: ts2,\n",
    "                       DATA_TAG[3]: ts3,\n",
    "                       \n",
    "                       DATA_TAG[4]: ts4,\n",
    "                       DATA_TAG[5]: ts5,\n",
    "                       DATA_TAG[6]: ts6,                       \n",
    "\n",
    "                       DATA_TAG[7]: ts7,\n",
    "                       DATA_TAG[8]: ts8,\n",
    "                       DATA_TAG[9]: ts9,\n",
    "                       \n",
    "                       DATA_TAG[10]: ts10,\n",
    "                       DATA_TAG[11]: ts11,\n",
    "                       DATA_TAG[12]: ts12,\n",
    "                       DATA_TAG[13]: ts13,\n",
    "                       DATA_TAG[14]: ts14 }, index=time_rng)\n",
    "    df_inst1_2d_asm_Nx.append(df)  \n",
    "    "
   ]
  },
  {
   "cell_type": "markdown",
   "metadata": {},
   "source": [
    "### Concatenation"
   ]
  },
  {
   "cell_type": "code",
   "execution_count": null,
   "metadata": {},
   "outputs": [],
   "source": [
    "df_inst1_2d_asm_Nx=pd.concat(df_inst1_2d_asm_Nx)"
   ]
  },
  {
   "cell_type": "code",
   "execution_count": null,
   "metadata": {},
   "outputs": [],
   "source": [
    "df_inst1_2d_asm_Nx.info()"
   ]
  },
  {
   "cell_type": "markdown",
   "metadata": {},
   "source": [
    "## 4) Plot the time dependence of time series and dataset"
   ]
  },
  {
   "cell_type": "markdown",
   "metadata": {},
   "source": [
    "####  Fill information on years and months from the filenames"
   ]
  },
  {
   "cell_type": "code",
   "execution_count": null,
   "metadata": {},
   "outputs": [],
   "source": [
    "def PlotTimeSeries(index,figfile):\n",
    "    plt.figure(figsize=(20,5))\n",
    "    df_inst1_2d_asm_Nx[DATA_TAG[index]].plot(lw=3,color='red')\n",
    "    plt.xlabel('time')\n",
    "    plt.ylabel(DATA_TAG[index])\n",
    "    title= \"Hourly {} at {} in {}\".format(DATA_TITLE[index],OBS_NAME,YEARNUM)\n",
    "    plt.title(title,fontsize=15)\n",
    "    plt.suptitle('NASA GMAO GES (MERRA-2)', y=1.02, fontsize=13)\n",
    "    plt.grid(True)\n",
    "    plt.savefig(figfile)"
   ]
  },
  {
   "cell_type": "markdown",
   "metadata": {},
   "source": [
    "### 4.1) Pressure"
   ]
  },
  {
   "cell_type": "code",
   "execution_count": null,
   "metadata": {},
   "outputs": [],
   "source": [
    "PlotTimeSeries(0,figfile_ps)"
   ]
  },
  {
   "cell_type": "markdown",
   "metadata": {},
   "source": [
    "###  4.2)  T10\n",
    "----------------"
   ]
  },
  {
   "cell_type": "code",
   "execution_count": null,
   "metadata": {},
   "outputs": [],
   "source": [
    "PlotTimeSeries(1,figfile_t10)"
   ]
  },
  {
   "cell_type": "markdown",
   "metadata": {},
   "source": [
    "### 4.3) t2"
   ]
  },
  {
   "cell_type": "code",
   "execution_count": null,
   "metadata": {},
   "outputs": [],
   "source": [
    "PlotTimeSeries(2,figfile_t2)"
   ]
  },
  {
   "cell_type": "markdown",
   "metadata": {},
   "source": [
    "### 4.4) to3"
   ]
  },
  {
   "cell_type": "code",
   "execution_count": null,
   "metadata": {},
   "outputs": [],
   "source": [
    "PlotTimeSeries(3,figfile_to3)"
   ]
  },
  {
   "cell_type": "markdown",
   "metadata": {},
   "source": [
    "### 4.5) tox"
   ]
  },
  {
   "cell_type": "code",
   "execution_count": null,
   "metadata": {},
   "outputs": [],
   "source": [
    "PlotTimeSeries(4,figfile_tox)"
   ]
  },
  {
   "cell_type": "markdown",
   "metadata": {},
   "source": [
    "### 4.6 TQI"
   ]
  },
  {
   "cell_type": "code",
   "execution_count": null,
   "metadata": {},
   "outputs": [],
   "source": [
    "PlotTimeSeries(5,figfile_tqi)"
   ]
  },
  {
   "cell_type": "markdown",
   "metadata": {},
   "source": [
    "### 4.7) TQL"
   ]
  },
  {
   "cell_type": "code",
   "execution_count": null,
   "metadata": {},
   "outputs": [],
   "source": [
    "PlotTimeSeries(6,figfile_tql)"
   ]
  },
  {
   "cell_type": "markdown",
   "metadata": {},
   "source": [
    "### TQV"
   ]
  },
  {
   "cell_type": "code",
   "execution_count": null,
   "metadata": {},
   "outputs": [],
   "source": [
    "PlotTimeSeries(7,figfile_tqv)"
   ]
  },
  {
   "cell_type": "markdown",
   "metadata": {},
   "source": [
    "### 4.8) TS"
   ]
  },
  {
   "cell_type": "code",
   "execution_count": null,
   "metadata": {},
   "outputs": [],
   "source": [
    "PlotTimeSeries(8,figfile_ts)"
   ]
  },
  {
   "cell_type": "markdown",
   "metadata": {},
   "source": [
    "### 4.9) um10"
   ]
  },
  {
   "cell_type": "code",
   "execution_count": null,
   "metadata": {},
   "outputs": [],
   "source": [
    "PlotTimeSeries(9,figfile_u10m)"
   ]
  },
  {
   "cell_type": "code",
   "execution_count": null,
   "metadata": {},
   "outputs": [],
   "source": [
    "PlotTimeSeries(10,figfile_u2m)"
   ]
  },
  {
   "cell_type": "code",
   "execution_count": null,
   "metadata": {},
   "outputs": [],
   "source": [
    "PlotTimeSeries(11,figfile_u50m)"
   ]
  },
  {
   "cell_type": "code",
   "execution_count": null,
   "metadata": {},
   "outputs": [],
   "source": [
    "PlotTimeSeries(12,figfile_v10m)"
   ]
  },
  {
   "cell_type": "code",
   "execution_count": null,
   "metadata": {},
   "outputs": [],
   "source": [
    "PlotTimeSeries(13,figfile_v2m)"
   ]
  },
  {
   "cell_type": "code",
   "execution_count": null,
   "metadata": {},
   "outputs": [],
   "source": [
    "PlotTimeSeries(14,figfile_v50m)"
   ]
  },
  {
   "cell_type": "markdown",
   "metadata": {},
   "source": [
    "## 5) Output"
   ]
  },
  {
   "cell_type": "code",
   "execution_count": null,
   "metadata": {},
   "outputs": [],
   "source": [
    "df_inst1_2d_asm_Nx.index.name='time'\n",
    "df_inst1_2d_asm_Nx.describe()"
   ]
  },
  {
   "cell_type": "code",
   "execution_count": null,
   "metadata": {},
   "outputs": [],
   "source": []
  },
  {
   "cell_type": "markdown",
   "metadata": {},
   "source": [
    "## 5)  Save dataset  in file pandas (csv)\n",
    "----------------------------------------"
   ]
  },
  {
   "cell_type": "code",
   "execution_count": null,
   "metadata": {},
   "outputs": [],
   "source": [
    "dataset=df_inst1_2d_asm_Nx"
   ]
  },
  {
   "cell_type": "code",
   "execution_count": null,
   "metadata": {},
   "outputs": [],
   "source": [
    "dataset.index.name='time'"
   ]
  },
  {
   "cell_type": "code",
   "execution_count": null,
   "metadata": {},
   "outputs": [],
   "source": []
  },
  {
   "cell_type": "code",
   "execution_count": null,
   "metadata": {},
   "outputs": [],
   "source": [
    "dataset.describe()"
   ]
  },
  {
   "cell_type": "code",
   "execution_count": null,
   "metadata": {},
   "outputs": [],
   "source": [
    "dataset.head()"
   ]
  },
  {
   "cell_type": "markdown",
   "metadata": {},
   "source": [
    "### write pandas"
   ]
  },
  {
   "cell_type": "code",
   "execution_count": null,
   "metadata": {},
   "outputs": [],
   "source": [
    "dataset.to_csv(pandas_filename)"
   ]
  },
  {
   "cell_type": "markdown",
   "metadata": {},
   "source": [
    "### write hdf5"
   ]
  },
  {
   "cell_type": "code",
   "execution_count": null,
   "metadata": {},
   "outputs": [],
   "source": [
    "# Not working\n",
    "#dataset.to_hdf(hdf5_filename,key='df',mode=\"w\")"
   ]
  },
  {
   "cell_type": "markdown",
   "metadata": {},
   "source": [
    "### Check"
   ]
  },
  {
   "cell_type": "code",
   "execution_count": null,
   "metadata": {},
   "outputs": [],
   "source": [
    "saved_dataset=pd.read_csv(pandas_filename)"
   ]
  },
  {
   "cell_type": "code",
   "execution_count": null,
   "metadata": {},
   "outputs": [],
   "source": [
    "saved_dataset.head()"
   ]
  },
  {
   "cell_type": "markdown",
   "metadata": {},
   "source": [
    "## 6) Convert dataset into a table and then save in a fits file\n",
    "--------------------------------------------------------------------------"
   ]
  },
  {
   "cell_type": "code",
   "execution_count": null,
   "metadata": {},
   "outputs": [],
   "source": [
    "table = Table.from_pandas(saved_dataset)"
   ]
  },
  {
   "cell_type": "code",
   "execution_count": null,
   "metadata": {},
   "outputs": [],
   "source": [
    "table"
   ]
  },
  {
   "cell_type": "code",
   "execution_count": null,
   "metadata": {},
   "outputs": [],
   "source": [
    "table.write(fits_filename,format='fits',overwrite=True)"
   ]
  },
  {
   "cell_type": "code",
   "execution_count": null,
   "metadata": {},
   "outputs": [],
   "source": []
  }
 ],
 "metadata": {
  "anaconda-cloud": {},
  "kernelspec": {
   "display_name": "conda_jax0325_py310",
   "language": "python",
   "name": "conda_jax0325_py310"
  },
  "language_info": {
   "codemirror_mode": {
    "name": "ipython",
    "version": 3
   },
   "file_extension": ".py",
   "mimetype": "text/x-python",
   "name": "python",
   "nbconvert_exporter": "python",
   "pygments_lexer": "ipython3",
   "version": "3.10.12"
  },
  "toc": {
   "nav_menu": {},
   "number_sections": true,
   "sideBar": true,
   "skip_h1_title": false,
   "toc_cell": false,
   "toc_position": {},
   "toc_section_display": "block",
   "toc_window_display": false
  }
 },
 "nbformat": 4,
 "nbformat_minor": 4
}
