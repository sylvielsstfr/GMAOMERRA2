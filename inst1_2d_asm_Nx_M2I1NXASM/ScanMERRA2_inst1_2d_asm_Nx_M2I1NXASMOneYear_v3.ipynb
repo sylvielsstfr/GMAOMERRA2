{
 "cells": [
  {
   "cell_type": "markdown",
   "metadata": {},
   "source": [
    "# Scan MERRA-2 atmospheric properties during one Year\n",
    "----------------------------------------------------------------------------------\n",
    "\n",
    "- author: Sylvie Dagoret-Campagne\n",
    "- creation January 12 2017\n",
    "- update April 25th 2018\n",
    "\n",
    "Link:\n",
    "\n",
    "http://disc.sci.gsfc.nasa.gov/datareleases/merra_2_data_release\n",
    "\n",
    "### purpose:\n",
    "\n",
    "Scan One month of MERRA-2 predictions of the dataset inst1_2d_asm_Nx_M2I1NXASM. \n",
    "Extract the relevant atmospheric variables.\n",
    "Build the correcponding time series and dataset in pandas.\n",
    "Plot the variables. Save the pandas dataset into a file.\n",
    "Convert the pandas dataset into an astropy fits table and save into a fits file as well."
   ]
  },
  {
   "cell_type": "markdown",
   "metadata": {},
   "source": [
    "## 1) python libraries\n",
    "---------------------------"
   ]
  },
  {
   "cell_type": "code",
   "execution_count": 1,
   "metadata": {
    "collapsed": false
   },
   "outputs": [
    {
     "name": "stderr",
     "output_type": "stream",
     "text": [
      "/pbs/throng/lsst/users/dagoret/External/anaconda2/lib/python2.7/site-packages/matplotlib/__init__.py:800: MatplotlibDeprecationWarning: axes.color_cycle is deprecated and replaced with axes.prop_cycle; please use the latter.\n",
      "  mplDeprecation)\n"
     ]
    }
   ],
   "source": [
    "# Set up matplotlib and use a nicer set of plot parameters\n",
    "%config InlineBackend.rc = {}\n",
    "import matplotlib\n",
    "import matplotlib as mpl\n",
    "matplotlib.rc_file(\"templates/matplotlibrc\")\n",
    "import matplotlib.pyplot as plt\n",
    "%matplotlib inline"
   ]
  },
  {
   "cell_type": "code",
   "execution_count": 2,
   "metadata": {
    "collapsed": true
   },
   "outputs": [],
   "source": [
    "import datetime"
   ]
  },
  {
   "cell_type": "code",
   "execution_count": 3,
   "metadata": {
    "collapsed": true
   },
   "outputs": [],
   "source": [
    "from matplotlib.dates import MonthLocator, WeekdayLocator,DateFormatter\n",
    "from matplotlib.dates import MONDAY"
   ]
  },
  {
   "cell_type": "code",
   "execution_count": 4,
   "metadata": {
    "collapsed": false
   },
   "outputs": [],
   "source": [
    "mondays = WeekdayLocator(MONDAY)\n",
    "months = MonthLocator(range(1, 13), bymonthday=1, interval=1)\n",
    "monthsFmt = DateFormatter(\"%b '%y\")"
   ]
  },
  {
   "cell_type": "code",
   "execution_count": 5,
   "metadata": {
    "collapsed": false
   },
   "outputs": [],
   "source": [
    "import os\n",
    "import re\n",
    "import numpy as np\n",
    "from mpl_toolkits.basemap import Basemap\n",
    "from matplotlib import colors\n",
    "from matplotlib.backends.backend_pdf import PdfPages\n",
    "import pandas as pd"
   ]
  },
  {
   "cell_type": "code",
   "execution_count": 6,
   "metadata": {
    "collapsed": true
   },
   "outputs": [],
   "source": [
    "from astropy import units as u\n",
    "from astropy.coordinates import SkyCoord\n",
    "\n",
    "from astropy.table import Table"
   ]
  },
  {
   "cell_type": "code",
   "execution_count": 7,
   "metadata": {
    "collapsed": true
   },
   "outputs": [
    {
     "name": "stderr",
     "output_type": "stream",
     "text": [
      "/pbs/throng/lsst/users/dagoret/External/anaconda2/lib/python2.7/site-packages/h5py/__init__.py:36: FutureWarning: Conversion of the second argument of issubdtype from `float` to `np.floating` is deprecated. In future, it will be treated as `np.float64 == np.dtype(float).type`.\n",
      "  from ._conv import register_converters as _register_converters\n"
     ]
    }
   ],
   "source": [
    "import h5py"
   ]
  },
  {
   "cell_type": "code",
   "execution_count": 8,
   "metadata": {
    "collapsed": false
   },
   "outputs": [],
   "source": [
    "import libGMAOMERRA2Data as merra2  # My own library"
   ]
  },
  {
   "cell_type": "code",
   "execution_count": 9,
   "metadata": {
    "collapsed": false
   },
   "outputs": [],
   "source": [
    "############################################################################\n",
    "def ensure_dir(f):\n",
    "    d = os.path.dirname(f)\n",
    "    if not os.path.exists(f):\n",
    "        os.makedirs(f)\n",
    "#########################################################################"
   ]
  },
  {
   "cell_type": "markdown",
   "metadata": {},
   "source": [
    "## 2)  Configuration\n",
    "-------------------------"
   ]
  },
  {
   "cell_type": "code",
   "execution_count": 10,
   "metadata": {
    "collapsed": true
   },
   "outputs": [],
   "source": [
    "YEARNUM=\"2017\""
   ]
  },
  {
   "cell_type": "code",
   "execution_count": 11,
   "metadata": {
    "collapsed": true
   },
   "outputs": [],
   "source": [
    "# SELECT OBSERVATORY\n",
    "OBS_NAME='ohp'"
   ]
  },
  {
   "cell_type": "code",
   "execution_count": 12,
   "metadata": {
    "collapsed": false
   },
   "outputs": [],
   "source": [
    "# where are the HDF files\n",
    "#HDFEOS_ZOO_DIR=\"/Volumes/LaCie2/DATA/MERRA-2/inst1_2d_asm_Nx_M2I1NXASM\"\n",
    "# For Simulation of CTIO atmosphere in May-Jun 2017\n",
    "#HDFEOS_ZOO_DIR=\"/sps/lsst/data/AtmosphericCalibration/MERRA-2/May-Jun-2017/subset_M2I1NXASM_V5.12.4_20180424_201411\"\n",
    "# Data 2018\n",
    "HDFEOS_ZOO_DIR=\"/sps/lsst/data/MERRA2/M2I1NXASM.5.12.4/\"+YEARNUM"
   ]
  },
  {
   "cell_type": "code",
   "execution_count": 13,
   "metadata": {
    "collapsed": false
   },
   "outputs": [],
   "source": [
    "path=HDFEOS_ZOO_DIR"
   ]
  },
  {
   "cell_type": "markdown",
   "metadata": {},
   "source": [
    "### Here I describe the content of the input files"
   ]
  },
  {
   "cell_type": "code",
   "execution_count": 14,
   "metadata": {
    "collapsed": true
   },
   "outputs": [],
   "source": [
    "DATA_TAG=['PS','T10M','T2M','TO3','TOX','TQI','TQV','TS','U10M','U2M','U50M','V10M','V2M','V50M' ]"
   ]
  },
  {
   "cell_type": "code",
   "execution_count": 15,
   "metadata": {
    "collapsed": true
   },
   "outputs": [],
   "source": [
    "DATA_TITLE=['Surface Pressure',\n",
    "            '10 meter air temperature',\n",
    "            '2 meter air temperature',\n",
    "            'total column ozone',\n",
    "            'total column odd oxygen',\n",
    "            'total precipitable ice water',\n",
    "            'total precipitable liquid water',\n",
    "            'Surface Temperature skin',\n",
    "            '10 meter eastward wind',\n",
    "            '2 meter eastward wind',\n",
    "            '50 meter eastward wind',\n",
    "            '10 meter northward wind',\n",
    "            '2 meter northward wind',\n",
    "            '50 meter northward wind'\n",
    "           ]"
   ]
  },
  {
   "cell_type": "code",
   "execution_count": 16,
   "metadata": {
    "collapsed": true
   },
   "outputs": [],
   "source": [
    "NB_DATAFIELDS=len(DATA_TAG)"
   ]
  },
  {
   "cell_type": "markdown",
   "metadata": {},
   "source": [
    "### List of output files"
   ]
  },
  {
   "cell_type": "code",
   "execution_count": 17,
   "metadata": {
    "collapsed": true
   },
   "outputs": [],
   "source": [
    "# The selected data field\n",
    "DATA_NAME =  'inst1_2d_asm_Nx_M2I1NXASM'   # "
   ]
  },
  {
   "cell_type": "code",
   "execution_count": 18,
   "metadata": {
    "collapsed": false
   },
   "outputs": [],
   "source": [
    "pandas_filename='MERRA2_'+YEARNUM+'_'+DATA_NAME+'_'+OBS_NAME+'_'+'AllYear'+'.csv'"
   ]
  },
  {
   "cell_type": "code",
   "execution_count": 19,
   "metadata": {
    "collapsed": true
   },
   "outputs": [],
   "source": [
    "fits_filename='MERRA2_'+YEARNUM+'_'+DATA_NAME+'_'+OBS_NAME+'_'+'AllYear' +'.fits'"
   ]
  },
  {
   "cell_type": "code",
   "execution_count": 20,
   "metadata": {},
   "outputs": [],
   "source": [
    "hdf5_filename='MERRA2_'+YEARNUM+'_'+DATA_NAME+'_'+OBS_NAME+'_'+'AllYear'+'.h5'"
   ]
  },
  {
   "cell_type": "code",
   "execution_count": 21,
   "metadata": {
    "collapsed": true
   },
   "outputs": [],
   "source": [
    "# 14 output files for figures\n",
    "figfile_ps='GMAO_MERRA2_'+YEARNUM+'_'+DATA_NAME+'_'+OBS_NAME+'_'+'AllYear'+'_ps'+'.jpg'\n",
    "figfile_t10='GMAO_MERRA2_'+YEARNUM+'_'+DATA_NAME+'_'+OBS_NAME+'_'+'AllYear'+'_t10'+'.jpg'\n",
    "figfile_t2='GMAO_MERRA2_'+YEARNUM+'_'+DATA_NAME+'_'+OBS_NAME+'_'+'AllYear'+'_t2'+'.jpg'\n",
    "figfile_to3='GMAO_MERRA2_'+YEARNUM+'_'+DATA_NAME+'_'+OBS_NAME+'_'+'AllYear'+'_to3'+'.jpg'\n",
    "figfile_tox='GMAO_MERRA2_'+YEARNUM+'_'+DATA_NAME+'_'+OBS_NAME+'_'+'AllYear'+'_tox'+'.jpg'\n",
    "figfile_tqi='GMAO_MERRA2_'+YEARNUM+'_'+DATA_NAME+'_'+OBS_NAME+'_'+'AllYear'+'_tqi'+'.jpg'\n",
    "figfile_tql='GMAO_MERRA2_'+YEARNUM+'_'+DATA_NAME+'_'+OBS_NAME+'_'+'AllYear'+'_tql'+'.jpg'\n",
    "figfile_ts='GMAO_MERRA2_'+YEARNUM+'_'+DATA_NAME+'_'+OBS_NAME+'_'+'AllYear'+'_ts'+'.jpg'\n",
    "figfile_u10m='GMAO_MERRA2_'+YEARNUM+'_'+DATA_NAME+'_'+OBS_NAME+'_'+'AllYear'+'_u10m'+'.jpg'\n",
    "figfile_u2m='GMAO_MERRA2_'+YEARNUM+'_'+DATA_NAME+'_'+OBS_NAME+'_'+'AllYear'+'_u2m'+'.jpg'\n",
    "figfile_u50m='GMAO_MERRA2_'+YEARNUM+'_'+DATA_NAME+'_'+OBS_NAME+'_'+'AllYear'+'_u50m'+'.jpg'\n",
    "figfile_v10m='GMAO_MERRA2_'+YEARNUM+'_'+DATA_NAME+'_'+OBS_NAME+'_'+'AllYear'+'_v10m'+'.jpg'\n",
    "figfile_v2m='GMAO_MERRA2_'+YEARNUM+'_'+DATA_NAME+'_'+OBS_NAME+'_'+'AllYear'+'_v2m'+'.jpg'\n",
    "figfile_v50m='GMAO_MERRA2_'+YEARNUM+'_'+DATA_NAME+'_'+OBS_NAME+'_'+'AllYear'+'_v50m'+'.jpg'"
   ]
  },
  {
   "cell_type": "markdown",
   "metadata": {},
   "source": [
    "### Select where in the world"
   ]
  },
  {
   "cell_type": "code",
   "execution_count": 22,
   "metadata": {
    "collapsed": false
   },
   "outputs": [],
   "source": [
    "# Select observatory\n",
    "loc=merra2.observatory_location(OBS_NAME)"
   ]
  },
  {
   "cell_type": "code",
   "execution_count": 23,
   "metadata": {
    "collapsed": false
   },
   "outputs": [
    {
     "data": {
      "text/plain": [
       "(5.71222222222, 43.9316666667, 650.0)"
      ]
     },
     "execution_count": 23,
     "metadata": {},
     "output_type": "execute_result"
    }
   ],
   "source": [
    "loc"
   ]
  },
  {
   "cell_type": "markdown",
   "metadata": {},
   "source": [
    "### 2.2) Getting the list of the files\n",
    "------------------------------"
   ]
  },
  {
   "cell_type": "code",
   "execution_count": 24,
   "metadata": {
    "collapsed": true
   },
   "outputs": [],
   "source": [
    "nc4_files = [f for f in os.listdir(path) if f.endswith('.nc4')]  "
   ]
  },
  {
   "cell_type": "code",
   "execution_count": 25,
   "metadata": {
    "collapsed": false
   },
   "outputs": [
    {
     "data": {
      "text/plain": [
       "['MERRA2_400.inst1_2d_asm_Nx.20170929.nc4',\n",
       " 'MERRA2_400.inst1_2d_asm_Nx.20170916.nc4',\n",
       " 'MERRA2_400.inst1_2d_asm_Nx.20170326.nc4',\n",
       " 'MERRA2_400.inst1_2d_asm_Nx.20170101.nc4',\n",
       " 'MERRA2_400.inst1_2d_asm_Nx.20170817.nc4']"
      ]
     },
     "execution_count": 25,
     "metadata": {},
     "output_type": "execute_result"
    }
   ],
   "source": [
    "nc4_files[:5]"
   ]
  },
  {
   "cell_type": "markdown",
   "metadata": {},
   "source": [
    "### 2.3) Select files of a given month"
   ]
  },
  {
   "cell_type": "code",
   "execution_count": 26,
   "metadata": {
    "collapsed": true
   },
   "outputs": [],
   "source": [
    "#keysel_filename='^MERRA2_400.inst1_2d_asm_Nx.2018.*'"
   ]
  },
  {
   "cell_type": "code",
   "execution_count": 27,
   "metadata": {},
   "outputs": [],
   "source": [
    "keysel_filename='^MERRA2_400.inst1_2d_asm_Nx.'+YEARNUM+'.*'"
   ]
  },
  {
   "cell_type": "code",
   "execution_count": 28,
   "metadata": {
    "collapsed": false
   },
   "outputs": [
    {
     "name": "stdout",
     "output_type": "stream",
     "text": [
      "Selection key ^MERRA2_400.inst1_2d_asm_Nx.2017.*\n"
     ]
    }
   ],
   "source": [
    "print 'Selection key' ,keysel_filename"
   ]
  },
  {
   "cell_type": "code",
   "execution_count": 29,
   "metadata": {
    "collapsed": false
   },
   "outputs": [],
   "source": [
    "nc4_files2 = []\n",
    "for file in nc4_files:\n",
    "    if re.findall(keysel_filename,file):\n",
    "        nc4_files2.append(file)\n",
    "\n",
    "nc4_files2=np.array(nc4_files2)"
   ]
  },
  {
   "cell_type": "code",
   "execution_count": 30,
   "metadata": {
    "collapsed": false
   },
   "outputs": [
    {
     "data": {
      "text/plain": [
       "array(['MERRA2_400.inst1_2d_asm_Nx.20170929.nc4',\n",
       "       'MERRA2_400.inst1_2d_asm_Nx.20170916.nc4',\n",
       "       'MERRA2_400.inst1_2d_asm_Nx.20170326.nc4',\n",
       "       'MERRA2_400.inst1_2d_asm_Nx.20170101.nc4',\n",
       "       'MERRA2_400.inst1_2d_asm_Nx.20170817.nc4',\n",
       "       'MERRA2_400.inst1_2d_asm_Nx.20170206.nc4',\n",
       "       'MERRA2_400.inst1_2d_asm_Nx.20171006.nc4',\n",
       "       'MERRA2_400.inst1_2d_asm_Nx.20170401.nc4',\n",
       "       'MERRA2_400.inst1_2d_asm_Nx.20171014.nc4',\n",
       "       'MERRA2_400.inst1_2d_asm_Nx.20170328.nc4',\n",
       "       'MERRA2_400.inst1_2d_asm_Nx.20171116.nc4',\n",
       "       'MERRA2_400.inst1_2d_asm_Nx.20170502.nc4',\n",
       "       'MERRA2_400.inst1_2d_asm_Nx.20171030.nc4',\n",
       "       'MERRA2_400.inst1_2d_asm_Nx.20170522.nc4',\n",
       "       'MERRA2_400.inst1_2d_asm_Nx.20171106.nc4',\n",
       "       'MERRA2_400.inst1_2d_asm_Nx.20171108.nc4',\n",
       "       'MERRA2_400.inst1_2d_asm_Nx.20171118.nc4',\n",
       "       'MERRA2_400.inst1_2d_asm_Nx.20170701.nc4',\n",
       "       'MERRA2_400.inst1_2d_asm_Nx.20170723.nc4',\n",
       "       'MERRA2_400.inst1_2d_asm_Nx.20171001.nc4',\n",
       "       'MERRA2_400.inst1_2d_asm_Nx.20171126.nc4',\n",
       "       'MERRA2_400.inst1_2d_asm_Nx.20171222.nc4',\n",
       "       'MERRA2_400.inst1_2d_asm_Nx.20171228.nc4',\n",
       "       'MERRA2_400.inst1_2d_asm_Nx.20170329.nc4',\n",
       "       'MERRA2_400.inst1_2d_asm_Nx.20170115.nc4',\n",
       "       'MERRA2_400.inst1_2d_asm_Nx.20171122.nc4',\n",
       "       'MERRA2_400.inst1_2d_asm_Nx.20170121.nc4',\n",
       "       'MERRA2_400.inst1_2d_asm_Nx.20170920.nc4',\n",
       "       'MERRA2_400.inst1_2d_asm_Nx.20170816.nc4',\n",
       "       'MERRA2_400.inst1_2d_asm_Nx.20170910.nc4',\n",
       "       'MERRA2_400.inst1_2d_asm_Nx.20170107.nc4',\n",
       "       'MERRA2_400.inst1_2d_asm_Nx.20170511.nc4',\n",
       "       'MERRA2_400.inst1_2d_asm_Nx.20170616.nc4',\n",
       "       'MERRA2_400.inst1_2d_asm_Nx.20171114.nc4',\n",
       "       'MERRA2_400.inst1_2d_asm_Nx.20170316.nc4',\n",
       "       'MERRA2_400.inst1_2d_asm_Nx.20171021.nc4',\n",
       "       'MERRA2_400.inst1_2d_asm_Nx.20170408.nc4',\n",
       "       'MERRA2_400.inst1_2d_asm_Nx.20170416.nc4',\n",
       "       'MERRA2_400.inst1_2d_asm_Nx.20171104.nc4',\n",
       "       'MERRA2_400.inst1_2d_asm_Nx.20171027.nc4',\n",
       "       'MERRA2_400.inst1_2d_asm_Nx.20170928.nc4',\n",
       "       'MERRA2_400.inst1_2d_asm_Nx.20170305.nc4',\n",
       "       'MERRA2_400.inst1_2d_asm_Nx.20171026.nc4',\n",
       "       'MERRA2_400.inst1_2d_asm_Nx.20170823.nc4',\n",
       "       'MERRA2_400.inst1_2d_asm_Nx.20170728.nc4',\n",
       "       'MERRA2_400.inst1_2d_asm_Nx.20171207.nc4',\n",
       "       'MERRA2_400.inst1_2d_asm_Nx.20170603.nc4',\n",
       "       'MERRA2_400.inst1_2d_asm_Nx.20170112.nc4',\n",
       "       'MERRA2_400.inst1_2d_asm_Nx.20170312.nc4',\n",
       "       'MERRA2_400.inst1_2d_asm_Nx.20171120.nc4',\n",
       "       'MERRA2_400.inst1_2d_asm_Nx.20170318.nc4',\n",
       "       'MERRA2_400.inst1_2d_asm_Nx.20170207.nc4',\n",
       "       'MERRA2_400.inst1_2d_asm_Nx.20170303.nc4',\n",
       "       'MERRA2_400.inst1_2d_asm_Nx.20170727.nc4',\n",
       "       'MERRA2_400.inst1_2d_asm_Nx.20170405.nc4',\n",
       "       'MERRA2_400.inst1_2d_asm_Nx.20170418.nc4',\n",
       "       'MERRA2_400.inst1_2d_asm_Nx.20170707.nc4',\n",
       "       'MERRA2_400.inst1_2d_asm_Nx.20171117.nc4',\n",
       "       'MERRA2_400.inst1_2d_asm_Nx.20171229.nc4',\n",
       "       'MERRA2_400.inst1_2d_asm_Nx.20170428.nc4',\n",
       "       'MERRA2_400.inst1_2d_asm_Nx.20170129.nc4',\n",
       "       'MERRA2_400.inst1_2d_asm_Nx.20170724.nc4',\n",
       "       'MERRA2_400.inst1_2d_asm_Nx.20170530.nc4',\n",
       "       'MERRA2_400.inst1_2d_asm_Nx.20170615.nc4',\n",
       "       'MERRA2_400.inst1_2d_asm_Nx.20170223.nc4',\n",
       "       'MERRA2_400.inst1_2d_asm_Nx.20170319.nc4',\n",
       "       'MERRA2_400.inst1_2d_asm_Nx.20170918.nc4',\n",
       "       'MERRA2_400.inst1_2d_asm_Nx.20170116.nc4',\n",
       "       'MERRA2_400.inst1_2d_asm_Nx.20170718.nc4',\n",
       "       'MERRA2_400.inst1_2d_asm_Nx.20170210.nc4',\n",
       "       'MERRA2_400.inst1_2d_asm_Nx.20170123.nc4',\n",
       "       'MERRA2_400.inst1_2d_asm_Nx.20171103.nc4',\n",
       "       'MERRA2_400.inst1_2d_asm_Nx.20170903.nc4',\n",
       "       'MERRA2_400.inst1_2d_asm_Nx.20170506.nc4',\n",
       "       'MERRA2_400.inst1_2d_asm_Nx.20171009.nc4',\n",
       "       'MERRA2_400.inst1_2d_asm_Nx.20170307.nc4',\n",
       "       'MERRA2_400.inst1_2d_asm_Nx.20171203.nc4',\n",
       "       'MERRA2_400.inst1_2d_asm_Nx.20171022.nc4',\n",
       "       'MERRA2_400.inst1_2d_asm_Nx.20170407.nc4',\n",
       "       'MERRA2_400.inst1_2d_asm_Nx.20170613.nc4',\n",
       "       'MERRA2_400.inst1_2d_asm_Nx.20170901.nc4',\n",
       "       'MERRA2_400.inst1_2d_asm_Nx.20170710.nc4',\n",
       "       'MERRA2_400.inst1_2d_asm_Nx.20171206.nc4',\n",
       "       'MERRA2_400.inst1_2d_asm_Nx.20171112.nc4',\n",
       "       'MERRA2_400.inst1_2d_asm_Nx.20170503.nc4',\n",
       "       'MERRA2_400.inst1_2d_asm_Nx.20171111.nc4',\n",
       "       'MERRA2_400.inst1_2d_asm_Nx.20171017.nc4',\n",
       "       'MERRA2_400.inst1_2d_asm_Nx.20170102.nc4',\n",
       "       'MERRA2_400.inst1_2d_asm_Nx.20170118.nc4',\n",
       "       'MERRA2_400.inst1_2d_asm_Nx.20170526.nc4',\n",
       "       'MERRA2_400.inst1_2d_asm_Nx.20170815.nc4',\n",
       "       'MERRA2_400.inst1_2d_asm_Nx.20170807.nc4',\n",
       "       'MERRA2_400.inst1_2d_asm_Nx.20170517.nc4',\n",
       "       'MERRA2_400.inst1_2d_asm_Nx.20171029.nc4',\n",
       "       'MERRA2_400.inst1_2d_asm_Nx.20170915.nc4',\n",
       "       'MERRA2_400.inst1_2d_asm_Nx.20170525.nc4',\n",
       "       'MERRA2_400.inst1_2d_asm_Nx.20170715.nc4',\n",
       "       'MERRA2_400.inst1_2d_asm_Nx.20170702.nc4',\n",
       "       'MERRA2_400.inst1_2d_asm_Nx.20170119.nc4',\n",
       "       'MERRA2_400.inst1_2d_asm_Nx.20171110.nc4',\n",
       "       'MERRA2_400.inst1_2d_asm_Nx.20171219.nc4',\n",
       "       'MERRA2_400.inst1_2d_asm_Nx.20170330.nc4',\n",
       "       'MERRA2_400.inst1_2d_asm_Nx.20170717.nc4',\n",
       "       'MERRA2_400.inst1_2d_asm_Nx.20170712.nc4',\n",
       "       'MERRA2_400.inst1_2d_asm_Nx.20170202.nc4',\n",
       "       'MERRA2_400.inst1_2d_asm_Nx.20170913.nc4',\n",
       "       'MERRA2_400.inst1_2d_asm_Nx.20170406.nc4',\n",
       "       'MERRA2_400.inst1_2d_asm_Nx.20170414.nc4',\n",
       "       'MERRA2_400.inst1_2d_asm_Nx.20170427.nc4',\n",
       "       'MERRA2_400.inst1_2d_asm_Nx.20171105.nc4',\n",
       "       'MERRA2_400.inst1_2d_asm_Nx.20170619.nc4',\n",
       "       'MERRA2_400.inst1_2d_asm_Nx.20170607.nc4',\n",
       "       'MERRA2_400.inst1_2d_asm_Nx.20171208.nc4',\n",
       "       'MERRA2_400.inst1_2d_asm_Nx.20171002.nc4',\n",
       "       'MERRA2_400.inst1_2d_asm_Nx.20171011.nc4',\n",
       "       'MERRA2_400.inst1_2d_asm_Nx.20170830.nc4',\n",
       "       'MERRA2_400.inst1_2d_asm_Nx.20170705.nc4',\n",
       "       'MERRA2_400.inst1_2d_asm_Nx.20170514.nc4',\n",
       "       'MERRA2_400.inst1_2d_asm_Nx.20170605.nc4',\n",
       "       'MERRA2_400.inst1_2d_asm_Nx.20170508.nc4',\n",
       "       'MERRA2_400.inst1_2d_asm_Nx.20171218.nc4',\n",
       "       'MERRA2_400.inst1_2d_asm_Nx.20170912.nc4',\n",
       "       'MERRA2_400.inst1_2d_asm_Nx.20170827.nc4',\n",
       "       'MERRA2_400.inst1_2d_asm_Nx.20170302.nc4',\n",
       "       'MERRA2_400.inst1_2d_asm_Nx.20170507.nc4',\n",
       "       'MERRA2_400.inst1_2d_asm_Nx.20170902.nc4',\n",
       "       'MERRA2_400.inst1_2d_asm_Nx.20171213.nc4',\n",
       "       'MERRA2_400.inst1_2d_asm_Nx.20171115.nc4',\n",
       "       'MERRA2_400.inst1_2d_asm_Nx.20171201.nc4',\n",
       "       'MERRA2_400.inst1_2d_asm_Nx.20170524.nc4',\n",
       "       'MERRA2_400.inst1_2d_asm_Nx.20170623.nc4',\n",
       "       'MERRA2_400.inst1_2d_asm_Nx.20170317.nc4',\n",
       "       'MERRA2_400.inst1_2d_asm_Nx.20170412.nc4',\n",
       "       'MERRA2_400.inst1_2d_asm_Nx.20170226.nc4',\n",
       "       'MERRA2_400.inst1_2d_asm_Nx.20171205.nc4',\n",
       "       'MERRA2_400.inst1_2d_asm_Nx.20171005.nc4',\n",
       "       'MERRA2_400.inst1_2d_asm_Nx.20170614.nc4',\n",
       "       'MERRA2_400.inst1_2d_asm_Nx.20170308.nc4',\n",
       "       'MERRA2_400.inst1_2d_asm_Nx.20170627.nc4',\n",
       "       'MERRA2_400.inst1_2d_asm_Nx.20171216.nc4',\n",
       "       'MERRA2_400.inst1_2d_asm_Nx.20170814.nc4',\n",
       "       'MERRA2_400.inst1_2d_asm_Nx.20170824.nc4',\n",
       "       'MERRA2_400.inst1_2d_asm_Nx.20171210.nc4',\n",
       "       'MERRA2_400.inst1_2d_asm_Nx.20171130.nc4',\n",
       "       'MERRA2_400.inst1_2d_asm_Nx.20170515.nc4',\n",
       "       'MERRA2_400.inst1_2d_asm_Nx.20170804.nc4',\n",
       "       'MERRA2_400.inst1_2d_asm_Nx.20170919.nc4',\n",
       "       'MERRA2_400.inst1_2d_asm_Nx.20170620.nc4',\n",
       "       'MERRA2_400.inst1_2d_asm_Nx.20170704.nc4',\n",
       "       'MERRA2_400.inst1_2d_asm_Nx.20170826.nc4',\n",
       "       'MERRA2_400.inst1_2d_asm_Nx.20171121.nc4',\n",
       "       'MERRA2_400.inst1_2d_asm_Nx.20170310.nc4',\n",
       "       'MERRA2_400.inst1_2d_asm_Nx.20170810.nc4',\n",
       "       'MERRA2_400.inst1_2d_asm_Nx.20170421.nc4',\n",
       "       'MERRA2_400.inst1_2d_asm_Nx.20170520.nc4',\n",
       "       'MERRA2_400.inst1_2d_asm_Nx.20171013.nc4',\n",
       "       'MERRA2_400.inst1_2d_asm_Nx.20171019.nc4',\n",
       "       'MERRA2_400.inst1_2d_asm_Nx.20170729.nc4',\n",
       "       'MERRA2_400.inst1_2d_asm_Nx.20170802.nc4',\n",
       "       'MERRA2_400.inst1_2d_asm_Nx.20171003.nc4',\n",
       "       'MERRA2_400.inst1_2d_asm_Nx.20170110.nc4',\n",
       "       'MERRA2_400.inst1_2d_asm_Nx.20171226.nc4',\n",
       "       'MERRA2_400.inst1_2d_asm_Nx.20170926.nc4',\n",
       "       'MERRA2_400.inst1_2d_asm_Nx.20170626.nc4',\n",
       "       'MERRA2_400.inst1_2d_asm_Nx.20170909.nc4',\n",
       "       'MERRA2_400.inst1_2d_asm_Nx.20170201.nc4',\n",
       "       'MERRA2_400.inst1_2d_asm_Nx.20170211.nc4',\n",
       "       'MERRA2_400.inst1_2d_asm_Nx.20170531.nc4',\n",
       "       'MERRA2_400.inst1_2d_asm_Nx.20170730.nc4',\n",
       "       'MERRA2_400.inst1_2d_asm_Nx.20170908.nc4',\n",
       "       'MERRA2_400.inst1_2d_asm_Nx.20171016.nc4',\n",
       "       'MERRA2_400.inst1_2d_asm_Nx.20171125.nc4',\n",
       "       'MERRA2_400.inst1_2d_asm_Nx.20171128.nc4',\n",
       "       'MERRA2_400.inst1_2d_asm_Nx.20171220.nc4',\n",
       "       'MERRA2_400.inst1_2d_asm_Nx.20171012.nc4',\n",
       "       'MERRA2_400.inst1_2d_asm_Nx.20170309.nc4',\n",
       "       'MERRA2_400.inst1_2d_asm_Nx.20170921.nc4',\n",
       "       'MERRA2_400.inst1_2d_asm_Nx.20170122.nc4',\n",
       "       'MERRA2_400.inst1_2d_asm_Nx.20170622.nc4',\n",
       "       'MERRA2_400.inst1_2d_asm_Nx.20170906.nc4',\n",
       "       'MERRA2_400.inst1_2d_asm_Nx.20170402.nc4',\n",
       "       'MERRA2_400.inst1_2d_asm_Nx.20171023.nc4',\n",
       "       'MERRA2_400.inst1_2d_asm_Nx.20170806.nc4',\n",
       "       'MERRA2_400.inst1_2d_asm_Nx.20170311.nc4',\n",
       "       'MERRA2_400.inst1_2d_asm_Nx.20170420.nc4',\n",
       "       'MERRA2_400.inst1_2d_asm_Nx.20170105.nc4',\n",
       "       'MERRA2_400.inst1_2d_asm_Nx.20170212.nc4',\n",
       "       'MERRA2_400.inst1_2d_asm_Nx.20170829.nc4',\n",
       "       'MERRA2_400.inst1_2d_asm_Nx.20170117.nc4',\n",
       "       'MERRA2_400.inst1_2d_asm_Nx.20170523.nc4',\n",
       "       'MERRA2_400.inst1_2d_asm_Nx.20171212.nc4',\n",
       "       'MERRA2_400.inst1_2d_asm_Nx.20170624.nc4',\n",
       "       'MERRA2_400.inst1_2d_asm_Nx.20171010.nc4',\n",
       "       'MERRA2_400.inst1_2d_asm_Nx.20170518.nc4',\n",
       "       'MERRA2_400.inst1_2d_asm_Nx.20171004.nc4',\n",
       "       'MERRA2_400.inst1_2d_asm_Nx.20170911.nc4',\n",
       "       'MERRA2_400.inst1_2d_asm_Nx.20170703.nc4',\n",
       "       'MERRA2_400.inst1_2d_asm_Nx.20170218.nc4',\n",
       "       'MERRA2_400.inst1_2d_asm_Nx.20170618.nc4',\n",
       "       'MERRA2_400.inst1_2d_asm_Nx.20171119.nc4',\n",
       "       'MERRA2_400.inst1_2d_asm_Nx.20170720.nc4',\n",
       "       'MERRA2_400.inst1_2d_asm_Nx.20170719.nc4',\n",
       "       'MERRA2_400.inst1_2d_asm_Nx.20171107.nc4',\n",
       "       'MERRA2_400.inst1_2d_asm_Nx.20170604.nc4',\n",
       "       'MERRA2_400.inst1_2d_asm_Nx.20170602.nc4',\n",
       "       'MERRA2_400.inst1_2d_asm_Nx.20170426.nc4',\n",
       "       'MERRA2_400.inst1_2d_asm_Nx.20170108.nc4',\n",
       "       'MERRA2_400.inst1_2d_asm_Nx.20170103.nc4',\n",
       "       'MERRA2_400.inst1_2d_asm_Nx.20170222.nc4',\n",
       "       'MERRA2_400.inst1_2d_asm_Nx.20171223.nc4',\n",
       "       'MERRA2_400.inst1_2d_asm_Nx.20170923.nc4',\n",
       "       'MERRA2_400.inst1_2d_asm_Nx.20170429.nc4',\n",
       "       'MERRA2_400.inst1_2d_asm_Nx.20170423.nc4',\n",
       "       'MERRA2_400.inst1_2d_asm_Nx.20170106.nc4',\n",
       "       'MERRA2_400.inst1_2d_asm_Nx.20171024.nc4',\n",
       "       'MERRA2_400.inst1_2d_asm_Nx.20170315.nc4',\n",
       "       'MERRA2_400.inst1_2d_asm_Nx.20170821.nc4',\n",
       "       'MERRA2_400.inst1_2d_asm_Nx.20171211.nc4',\n",
       "       'MERRA2_400.inst1_2d_asm_Nx.20170818.nc4',\n",
       "       'MERRA2_400.inst1_2d_asm_Nx.20170403.nc4',\n",
       "       'MERRA2_400.inst1_2d_asm_Nx.20170208.nc4',\n",
       "       'MERRA2_400.inst1_2d_asm_Nx.20171224.nc4',\n",
       "       'MERRA2_400.inst1_2d_asm_Nx.20170214.nc4',\n",
       "       'MERRA2_400.inst1_2d_asm_Nx.20170930.nc4',\n",
       "       'MERRA2_400.inst1_2d_asm_Nx.20170914.nc4',\n",
       "       'MERRA2_400.inst1_2d_asm_Nx.20170529.nc4',\n",
       "       'MERRA2_400.inst1_2d_asm_Nx.20170625.nc4',\n",
       "       'MERRA2_400.inst1_2d_asm_Nx.20170706.nc4',\n",
       "       'MERRA2_400.inst1_2d_asm_Nx.20170124.nc4',\n",
       "       'MERRA2_400.inst1_2d_asm_Nx.20170811.nc4',\n",
       "       'MERRA2_400.inst1_2d_asm_Nx.20171008.nc4',\n",
       "       'MERRA2_400.inst1_2d_asm_Nx.20170125.nc4',\n",
       "       'MERRA2_400.inst1_2d_asm_Nx.20171225.nc4',\n",
       "       'MERRA2_400.inst1_2d_asm_Nx.20170314.nc4',\n",
       "       'MERRA2_400.inst1_2d_asm_Nx.20170509.nc4',\n",
       "       'MERRA2_400.inst1_2d_asm_Nx.20170127.nc4',\n",
       "       'MERRA2_400.inst1_2d_asm_Nx.20171230.nc4',\n",
       "       'MERRA2_400.inst1_2d_asm_Nx.20170205.nc4',\n",
       "       'MERRA2_400.inst1_2d_asm_Nx.20170215.nc4',\n",
       "       'MERRA2_400.inst1_2d_asm_Nx.20170430.nc4',\n",
       "       'MERRA2_400.inst1_2d_asm_Nx.20170726.nc4',\n",
       "       'MERRA2_400.inst1_2d_asm_Nx.20171231.nc4',\n",
       "       'MERRA2_400.inst1_2d_asm_Nx.20170331.nc4',\n",
       "       'MERRA2_400.inst1_2d_asm_Nx.20170505.nc4',\n",
       "       'MERRA2_400.inst1_2d_asm_Nx.20170722.nc4',\n",
       "       'MERRA2_400.inst1_2d_asm_Nx.20170422.nc4',\n",
       "       'MERRA2_400.inst1_2d_asm_Nx.20170306.nc4',\n",
       "       'MERRA2_400.inst1_2d_asm_Nx.20170917.nc4',\n",
       "       'MERRA2_400.inst1_2d_asm_Nx.20170905.nc4',\n",
       "       'MERRA2_400.inst1_2d_asm_Nx.20170825.nc4',\n",
       "       'MERRA2_400.inst1_2d_asm_Nx.20170424.nc4',\n",
       "       'MERRA2_400.inst1_2d_asm_Nx.20170126.nc4',\n",
       "       'MERRA2_400.inst1_2d_asm_Nx.20170813.nc4',\n",
       "       'MERRA2_400.inst1_2d_asm_Nx.20170610.nc4',\n",
       "       'MERRA2_400.inst1_2d_asm_Nx.20170216.nc4',\n",
       "       'MERRA2_400.inst1_2d_asm_Nx.20171113.nc4',\n",
       "       'MERRA2_400.inst1_2d_asm_Nx.20170113.nc4',\n",
       "       'MERRA2_400.inst1_2d_asm_Nx.20170304.nc4',\n",
       "       'MERRA2_400.inst1_2d_asm_Nx.20170220.nc4',\n",
       "       'MERRA2_400.inst1_2d_asm_Nx.20170904.nc4',\n",
       "       'MERRA2_400.inst1_2d_asm_Nx.20171129.nc4',\n",
       "       'MERRA2_400.inst1_2d_asm_Nx.20170114.nc4',\n",
       "       'MERRA2_400.inst1_2d_asm_Nx.20171202.nc4',\n",
       "       'MERRA2_400.inst1_2d_asm_Nx.20170801.nc4',\n",
       "       'MERRA2_400.inst1_2d_asm_Nx.20170828.nc4',\n",
       "       'MERRA2_400.inst1_2d_asm_Nx.20171221.nc4',\n",
       "       'MERRA2_400.inst1_2d_asm_Nx.20171101.nc4',\n",
       "       'MERRA2_400.inst1_2d_asm_Nx.20170513.nc4',\n",
       "       'MERRA2_400.inst1_2d_asm_Nx.20171031.nc4',\n",
       "       'MERRA2_400.inst1_2d_asm_Nx.20171209.nc4',\n",
       "       'MERRA2_400.inst1_2d_asm_Nx.20170521.nc4',\n",
       "       'MERRA2_400.inst1_2d_asm_Nx.20170528.nc4',\n",
       "       'MERRA2_400.inst1_2d_asm_Nx.20170120.nc4',\n",
       "       'MERRA2_400.inst1_2d_asm_Nx.20170417.nc4',\n",
       "       'MERRA2_400.inst1_2d_asm_Nx.20170609.nc4',\n",
       "       'MERRA2_400.inst1_2d_asm_Nx.20170419.nc4',\n",
       "       'MERRA2_400.inst1_2d_asm_Nx.20170714.nc4',\n",
       "       'MERRA2_400.inst1_2d_asm_Nx.20170209.nc4',\n",
       "       'MERRA2_400.inst1_2d_asm_Nx.20170812.nc4',\n",
       "       'MERRA2_400.inst1_2d_asm_Nx.20171123.nc4',\n",
       "       'MERRA2_400.inst1_2d_asm_Nx.20170725.nc4',\n",
       "       'MERRA2_400.inst1_2d_asm_Nx.20170617.nc4',\n",
       "       'MERRA2_400.inst1_2d_asm_Nx.20170409.nc4',\n",
       "       'MERRA2_400.inst1_2d_asm_Nx.20170131.nc4',\n",
       "       'MERRA2_400.inst1_2d_asm_Nx.20170716.nc4',\n",
       "       'MERRA2_400.inst1_2d_asm_Nx.20170822.nc4',\n",
       "       'MERRA2_400.inst1_2d_asm_Nx.20170224.nc4',\n",
       "       'MERRA2_400.inst1_2d_asm_Nx.20171215.nc4',\n",
       "       'MERRA2_400.inst1_2d_asm_Nx.20171025.nc4',\n",
       "       'MERRA2_400.inst1_2d_asm_Nx.20171127.nc4',\n",
       "       'MERRA2_400.inst1_2d_asm_Nx.20170606.nc4',\n",
       "       'MERRA2_400.inst1_2d_asm_Nx.20170629.nc4',\n",
       "       'MERRA2_400.inst1_2d_asm_Nx.20170721.nc4',\n",
       "       'MERRA2_400.inst1_2d_asm_Nx.20171204.nc4',\n",
       "       'MERRA2_400.inst1_2d_asm_Nx.20170925.nc4',\n",
       "       'MERRA2_400.inst1_2d_asm_Nx.20170322.nc4',\n",
       "       'MERRA2_400.inst1_2d_asm_Nx.20170527.nc4',\n",
       "       'MERRA2_400.inst1_2d_asm_Nx.20170411.nc4',\n",
       "       'MERRA2_400.inst1_2d_asm_Nx.20170708.nc4',\n",
       "       'MERRA2_400.inst1_2d_asm_Nx.20170111.nc4',\n",
       "       'MERRA2_400.inst1_2d_asm_Nx.20170519.nc4',\n",
       "       'MERRA2_400.inst1_2d_asm_Nx.20171020.nc4',\n",
       "       'MERRA2_400.inst1_2d_asm_Nx.20171028.nc4',\n",
       "       'MERRA2_400.inst1_2d_asm_Nx.20170327.nc4',\n",
       "       'MERRA2_400.inst1_2d_asm_Nx.20170324.nc4',\n",
       "       'MERRA2_400.inst1_2d_asm_Nx.20170109.nc4',\n",
       "       'MERRA2_400.inst1_2d_asm_Nx.20170907.nc4',\n",
       "       'MERRA2_400.inst1_2d_asm_Nx.20171109.nc4',\n",
       "       'MERRA2_400.inst1_2d_asm_Nx.20170501.nc4',\n",
       "       'MERRA2_400.inst1_2d_asm_Nx.20170130.nc4',\n",
       "       'MERRA2_400.inst1_2d_asm_Nx.20170630.nc4',\n",
       "       'MERRA2_400.inst1_2d_asm_Nx.20170922.nc4',\n",
       "       'MERRA2_400.inst1_2d_asm_Nx.20170621.nc4',\n",
       "       'MERRA2_400.inst1_2d_asm_Nx.20170301.nc4',\n",
       "       'MERRA2_400.inst1_2d_asm_Nx.20170323.nc4',\n",
       "       'MERRA2_400.inst1_2d_asm_Nx.20171015.nc4',\n",
       "       'MERRA2_400.inst1_2d_asm_Nx.20170504.nc4',\n",
       "       'MERRA2_400.inst1_2d_asm_Nx.20170228.nc4',\n",
       "       'MERRA2_400.inst1_2d_asm_Nx.20170225.nc4',\n",
       "       'MERRA2_400.inst1_2d_asm_Nx.20170227.nc4',\n",
       "       'MERRA2_400.inst1_2d_asm_Nx.20171124.nc4',\n",
       "       'MERRA2_400.inst1_2d_asm_Nx.20170820.nc4',\n",
       "       'MERRA2_400.inst1_2d_asm_Nx.20170713.nc4',\n",
       "       'MERRA2_400.inst1_2d_asm_Nx.20171018.nc4',\n",
       "       'MERRA2_400.inst1_2d_asm_Nx.20170413.nc4',\n",
       "       'MERRA2_400.inst1_2d_asm_Nx.20170628.nc4',\n",
       "       'MERRA2_400.inst1_2d_asm_Nx.20170512.nc4',\n",
       "       'MERRA2_400.inst1_2d_asm_Nx.20170313.nc4',\n",
       "       'MERRA2_400.inst1_2d_asm_Nx.20170404.nc4',\n",
       "       'MERRA2_400.inst1_2d_asm_Nx.20170321.nc4',\n",
       "       'MERRA2_400.inst1_2d_asm_Nx.20170219.nc4',\n",
       "       'MERRA2_400.inst1_2d_asm_Nx.20170608.nc4',\n",
       "       'MERRA2_400.inst1_2d_asm_Nx.20170711.nc4',\n",
       "       'MERRA2_400.inst1_2d_asm_Nx.20170809.nc4',\n",
       "       'MERRA2_400.inst1_2d_asm_Nx.20170731.nc4',\n",
       "       'MERRA2_400.inst1_2d_asm_Nx.20171227.nc4',\n",
       "       'MERRA2_400.inst1_2d_asm_Nx.20170805.nc4',\n",
       "       'MERRA2_400.inst1_2d_asm_Nx.20170128.nc4',\n",
       "       'MERRA2_400.inst1_2d_asm_Nx.20170927.nc4',\n",
       "       'MERRA2_400.inst1_2d_asm_Nx.20171102.nc4',\n",
       "       'MERRA2_400.inst1_2d_asm_Nx.20170819.nc4',\n",
       "       'MERRA2_400.inst1_2d_asm_Nx.20170104.nc4',\n",
       "       'MERRA2_400.inst1_2d_asm_Nx.20170415.nc4',\n",
       "       'MERRA2_400.inst1_2d_asm_Nx.20170601.nc4',\n",
       "       'MERRA2_400.inst1_2d_asm_Nx.20170709.nc4',\n",
       "       'MERRA2_400.inst1_2d_asm_Nx.20170320.nc4',\n",
       "       'MERRA2_400.inst1_2d_asm_Nx.20170611.nc4',\n",
       "       'MERRA2_400.inst1_2d_asm_Nx.20170203.nc4',\n",
       "       'MERRA2_400.inst1_2d_asm_Nx.20170803.nc4',\n",
       "       'MERRA2_400.inst1_2d_asm_Nx.20170221.nc4',\n",
       "       'MERRA2_400.inst1_2d_asm_Nx.20170510.nc4',\n",
       "       'MERRA2_400.inst1_2d_asm_Nx.20171214.nc4',\n",
       "       'MERRA2_400.inst1_2d_asm_Nx.20170425.nc4',\n",
       "       'MERRA2_400.inst1_2d_asm_Nx.20170516.nc4',\n",
       "       'MERRA2_400.inst1_2d_asm_Nx.20170612.nc4',\n",
       "       'MERRA2_400.inst1_2d_asm_Nx.20170808.nc4',\n",
       "       'MERRA2_400.inst1_2d_asm_Nx.20170217.nc4',\n",
       "       'MERRA2_400.inst1_2d_asm_Nx.20170325.nc4',\n",
       "       'MERRA2_400.inst1_2d_asm_Nx.20170204.nc4',\n",
       "       'MERRA2_400.inst1_2d_asm_Nx.20170410.nc4',\n",
       "       'MERRA2_400.inst1_2d_asm_Nx.20171217.nc4',\n",
       "       'MERRA2_400.inst1_2d_asm_Nx.20170924.nc4',\n",
       "       'MERRA2_400.inst1_2d_asm_Nx.20170213.nc4',\n",
       "       'MERRA2_400.inst1_2d_asm_Nx.20171007.nc4',\n",
       "       'MERRA2_400.inst1_2d_asm_Nx.20170831.nc4'], dtype='|S39')"
      ]
     },
     "execution_count": 30,
     "metadata": {},
     "output_type": "execute_result"
    }
   ],
   "source": [
    "nc4_files2"
   ]
  },
  {
   "cell_type": "markdown",
   "metadata": {},
   "source": [
    "### 2.4) Sort files by increasing time"
   ]
  },
  {
   "cell_type": "code",
   "execution_count": 31,
   "metadata": {
    "collapsed": false
   },
   "outputs": [],
   "source": [
    "nc4_files=np.sort(nc4_files2)"
   ]
  },
  {
   "cell_type": "markdown",
   "metadata": {},
   "source": [
    "### 2.5) Build the full filename before reading"
   ]
  },
  {
   "cell_type": "code",
   "execution_count": null,
   "metadata": {
    "collapsed": false
   },
   "outputs": [],
   "source": [
    "NBFILES=len(nc4_files)\n",
    "full_nc4files=[]\n",
    "\n",
    "for file in nc4_files:\n",
    "    fname = os.path.join(path, file)\n",
    "    full_nc4files.append(fname)  "
   ]
  },
  {
   "cell_type": "markdown",
   "metadata": {},
   "source": [
    "## 3)  Extract data and write them into pandas dataset and time series\n",
    "--------------------------------------------------------------------------------------"
   ]
  },
  {
   "cell_type": "code",
   "execution_count": null,
   "metadata": {
    "collapsed": false
   },
   "outputs": [
    {
     "name": "stdout",
     "output_type": "stream",
     "text": [
      "/sps/lsst/data/MERRA2/M2I1NXASM.5.12.4/2017/MERRA2_400.inst1_2d_asm_Nx.20170101.nc4\n",
      "/sps/lsst/data/MERRA2/M2I1NXASM.5.12.4/2017/MERRA2_400.inst1_2d_asm_Nx.20170102.nc4\n",
      "/sps/lsst/data/MERRA2/M2I1NXASM.5.12.4/2017/MERRA2_400.inst1_2d_asm_Nx.20170103.nc4\n",
      "/sps/lsst/data/MERRA2/M2I1NXASM.5.12.4/2017/MERRA2_400.inst1_2d_asm_Nx.20170104.nc4\n",
      "/sps/lsst/data/MERRA2/M2I1NXASM.5.12.4/2017/MERRA2_400.inst1_2d_asm_Nx.20170105.nc4\n",
      "/sps/lsst/data/MERRA2/M2I1NXASM.5.12.4/2017/MERRA2_400.inst1_2d_asm_Nx.20170106.nc4\n",
      "/sps/lsst/data/MERRA2/M2I1NXASM.5.12.4/2017/MERRA2_400.inst1_2d_asm_Nx.20170107.nc4\n",
      "/sps/lsst/data/MERRA2/M2I1NXASM.5.12.4/2017/MERRA2_400.inst1_2d_asm_Nx.20170108.nc4\n",
      "/sps/lsst/data/MERRA2/M2I1NXASM.5.12.4/2017/MERRA2_400.inst1_2d_asm_Nx.20170109.nc4\n",
      "/sps/lsst/data/MERRA2/M2I1NXASM.5.12.4/2017/MERRA2_400.inst1_2d_asm_Nx.20170110.nc4\n",
      "/sps/lsst/data/MERRA2/M2I1NXASM.5.12.4/2017/MERRA2_400.inst1_2d_asm_Nx.20170111.nc4\n",
      "/sps/lsst/data/MERRA2/M2I1NXASM.5.12.4/2017/MERRA2_400.inst1_2d_asm_Nx.20170112.nc4\n",
      "/sps/lsst/data/MERRA2/M2I1NXASM.5.12.4/2017/MERRA2_400.inst1_2d_asm_Nx.20170113.nc4\n",
      "/sps/lsst/data/MERRA2/M2I1NXASM.5.12.4/2017/MERRA2_400.inst1_2d_asm_Nx.20170114.nc4\n",
      "/sps/lsst/data/MERRA2/M2I1NXASM.5.12.4/2017/MERRA2_400.inst1_2d_asm_Nx.20170115.nc4\n",
      "/sps/lsst/data/MERRA2/M2I1NXASM.5.12.4/2017/MERRA2_400.inst1_2d_asm_Nx.20170116.nc4\n",
      "/sps/lsst/data/MERRA2/M2I1NXASM.5.12.4/2017/MERRA2_400.inst1_2d_asm_Nx.20170117.nc4\n",
      "/sps/lsst/data/MERRA2/M2I1NXASM.5.12.4/2017/MERRA2_400.inst1_2d_asm_Nx.20170118.nc4\n",
      "/sps/lsst/data/MERRA2/M2I1NXASM.5.12.4/2017/MERRA2_400.inst1_2d_asm_Nx.20170119.nc4\n",
      "/sps/lsst/data/MERRA2/M2I1NXASM.5.12.4/2017/MERRA2_400.inst1_2d_asm_Nx.20170120.nc4\n",
      "/sps/lsst/data/MERRA2/M2I1NXASM.5.12.4/2017/MERRA2_400.inst1_2d_asm_Nx.20170121.nc4\n",
      "/sps/lsst/data/MERRA2/M2I1NXASM.5.12.4/2017/MERRA2_400.inst1_2d_asm_Nx.20170122.nc4\n",
      "/sps/lsst/data/MERRA2/M2I1NXASM.5.12.4/2017/MERRA2_400.inst1_2d_asm_Nx.20170123.nc4\n",
      "/sps/lsst/data/MERRA2/M2I1NXASM.5.12.4/2017/MERRA2_400.inst1_2d_asm_Nx.20170124.nc4\n",
      "/sps/lsst/data/MERRA2/M2I1NXASM.5.12.4/2017/MERRA2_400.inst1_2d_asm_Nx.20170125.nc4\n",
      "/sps/lsst/data/MERRA2/M2I1NXASM.5.12.4/2017/MERRA2_400.inst1_2d_asm_Nx.20170126.nc4\n",
      "/sps/lsst/data/MERRA2/M2I1NXASM.5.12.4/2017/MERRA2_400.inst1_2d_asm_Nx.20170127.nc4\n",
      "/sps/lsst/data/MERRA2/M2I1NXASM.5.12.4/2017/MERRA2_400.inst1_2d_asm_Nx.20170128.nc4\n",
      "/sps/lsst/data/MERRA2/M2I1NXASM.5.12.4/2017/MERRA2_400.inst1_2d_asm_Nx.20170129.nc4\n",
      "/sps/lsst/data/MERRA2/M2I1NXASM.5.12.4/2017/MERRA2_400.inst1_2d_asm_Nx.20170130.nc4\n",
      "/sps/lsst/data/MERRA2/M2I1NXASM.5.12.4/2017/MERRA2_400.inst1_2d_asm_Nx.20170131.nc4\n",
      "/sps/lsst/data/MERRA2/M2I1NXASM.5.12.4/2017/MERRA2_400.inst1_2d_asm_Nx.20170201.nc4\n",
      "/sps/lsst/data/MERRA2/M2I1NXASM.5.12.4/2017/MERRA2_400.inst1_2d_asm_Nx.20170202.nc4\n",
      "/sps/lsst/data/MERRA2/M2I1NXASM.5.12.4/2017/MERRA2_400.inst1_2d_asm_Nx.20170203.nc4\n",
      "/sps/lsst/data/MERRA2/M2I1NXASM.5.12.4/2017/MERRA2_400.inst1_2d_asm_Nx.20170204.nc4\n",
      "/sps/lsst/data/MERRA2/M2I1NXASM.5.12.4/2017/MERRA2_400.inst1_2d_asm_Nx.20170205.nc4\n",
      "/sps/lsst/data/MERRA2/M2I1NXASM.5.12.4/2017/MERRA2_400.inst1_2d_asm_Nx.20170206.nc4\n",
      "/sps/lsst/data/MERRA2/M2I1NXASM.5.12.4/2017/MERRA2_400.inst1_2d_asm_Nx.20170207.nc4\n",
      "/sps/lsst/data/MERRA2/M2I1NXASM.5.12.4/2017/MERRA2_400.inst1_2d_asm_Nx.20170208.nc4\n",
      "/sps/lsst/data/MERRA2/M2I1NXASM.5.12.4/2017/MERRA2_400.inst1_2d_asm_Nx.20170209.nc4\n",
      "/sps/lsst/data/MERRA2/M2I1NXASM.5.12.4/2017/MERRA2_400.inst1_2d_asm_Nx.20170210.nc4\n",
      "/sps/lsst/data/MERRA2/M2I1NXASM.5.12.4/2017/MERRA2_400.inst1_2d_asm_Nx.20170211.nc4\n",
      "/sps/lsst/data/MERRA2/M2I1NXASM.5.12.4/2017/MERRA2_400.inst1_2d_asm_Nx.20170212.nc4\n",
      "/sps/lsst/data/MERRA2/M2I1NXASM.5.12.4/2017/MERRA2_400.inst1_2d_asm_Nx.20170213.nc4\n",
      "/sps/lsst/data/MERRA2/M2I1NXASM.5.12.4/2017/MERRA2_400.inst1_2d_asm_Nx.20170214.nc4\n",
      "/sps/lsst/data/MERRA2/M2I1NXASM.5.12.4/2017/MERRA2_400.inst1_2d_asm_Nx.20170215.nc4\n",
      "/sps/lsst/data/MERRA2/M2I1NXASM.5.12.4/2017/MERRA2_400.inst1_2d_asm_Nx.20170216.nc4\n",
      "/sps/lsst/data/MERRA2/M2I1NXASM.5.12.4/2017/MERRA2_400.inst1_2d_asm_Nx.20170217.nc4\n",
      "/sps/lsst/data/MERRA2/M2I1NXASM.5.12.4/2017/MERRA2_400.inst1_2d_asm_Nx.20170218.nc4\n",
      "/sps/lsst/data/MERRA2/M2I1NXASM.5.12.4/2017/MERRA2_400.inst1_2d_asm_Nx.20170219.nc4\n",
      "/sps/lsst/data/MERRA2/M2I1NXASM.5.12.4/2017/MERRA2_400.inst1_2d_asm_Nx.20170220.nc4\n",
      "/sps/lsst/data/MERRA2/M2I1NXASM.5.12.4/2017/MERRA2_400.inst1_2d_asm_Nx.20170221.nc4\n",
      "/sps/lsst/data/MERRA2/M2I1NXASM.5.12.4/2017/MERRA2_400.inst1_2d_asm_Nx.20170222.nc4\n",
      "/sps/lsst/data/MERRA2/M2I1NXASM.5.12.4/2017/MERRA2_400.inst1_2d_asm_Nx.20170223.nc4\n",
      "/sps/lsst/data/MERRA2/M2I1NXASM.5.12.4/2017/MERRA2_400.inst1_2d_asm_Nx.20170224.nc4\n",
      "/sps/lsst/data/MERRA2/M2I1NXASM.5.12.4/2017/MERRA2_400.inst1_2d_asm_Nx.20170225.nc4\n",
      "/sps/lsst/data/MERRA2/M2I1NXASM.5.12.4/2017/MERRA2_400.inst1_2d_asm_Nx.20170226.nc4\n",
      "/sps/lsst/data/MERRA2/M2I1NXASM.5.12.4/2017/MERRA2_400.inst1_2d_asm_Nx.20170227.nc4\n",
      "/sps/lsst/data/MERRA2/M2I1NXASM.5.12.4/2017/MERRA2_400.inst1_2d_asm_Nx.20170228.nc4\n",
      "/sps/lsst/data/MERRA2/M2I1NXASM.5.12.4/2017/MERRA2_400.inst1_2d_asm_Nx.20170301.nc4\n",
      "/sps/lsst/data/MERRA2/M2I1NXASM.5.12.4/2017/MERRA2_400.inst1_2d_asm_Nx.20170302.nc4\n",
      "/sps/lsst/data/MERRA2/M2I1NXASM.5.12.4/2017/MERRA2_400.inst1_2d_asm_Nx.20170303.nc4\n",
      "/sps/lsst/data/MERRA2/M2I1NXASM.5.12.4/2017/MERRA2_400.inst1_2d_asm_Nx.20170304.nc4\n",
      "/sps/lsst/data/MERRA2/M2I1NXASM.5.12.4/2017/MERRA2_400.inst1_2d_asm_Nx.20170305.nc4\n",
      "/sps/lsst/data/MERRA2/M2I1NXASM.5.12.4/2017/MERRA2_400.inst1_2d_asm_Nx.20170306.nc4\n",
      "/sps/lsst/data/MERRA2/M2I1NXASM.5.12.4/2017/MERRA2_400.inst1_2d_asm_Nx.20170307.nc4\n",
      "/sps/lsst/data/MERRA2/M2I1NXASM.5.12.4/2017/MERRA2_400.inst1_2d_asm_Nx.20170308.nc4\n",
      "/sps/lsst/data/MERRA2/M2I1NXASM.5.12.4/2017/MERRA2_400.inst1_2d_asm_Nx.20170309.nc4\n",
      "/sps/lsst/data/MERRA2/M2I1NXASM.5.12.4/2017/MERRA2_400.inst1_2d_asm_Nx.20170310.nc4\n",
      "/sps/lsst/data/MERRA2/M2I1NXASM.5.12.4/2017/MERRA2_400.inst1_2d_asm_Nx.20170311.nc4\n",
      "/sps/lsst/data/MERRA2/M2I1NXASM.5.12.4/2017/MERRA2_400.inst1_2d_asm_Nx.20170312.nc4\n",
      "/sps/lsst/data/MERRA2/M2I1NXASM.5.12.4/2017/MERRA2_400.inst1_2d_asm_Nx.20170313.nc4\n",
      "/sps/lsst/data/MERRA2/M2I1NXASM.5.12.4/2017/MERRA2_400.inst1_2d_asm_Nx.20170314.nc4\n",
      "/sps/lsst/data/MERRA2/M2I1NXASM.5.12.4/2017/MERRA2_400.inst1_2d_asm_Nx.20170315.nc4\n",
      "/sps/lsst/data/MERRA2/M2I1NXASM.5.12.4/2017/MERRA2_400.inst1_2d_asm_Nx.20170316.nc4\n",
      "/sps/lsst/data/MERRA2/M2I1NXASM.5.12.4/2017/MERRA2_400.inst1_2d_asm_Nx.20170317.nc4\n",
      "/sps/lsst/data/MERRA2/M2I1NXASM.5.12.4/2017/MERRA2_400.inst1_2d_asm_Nx.20170318.nc4\n",
      "/sps/lsst/data/MERRA2/M2I1NXASM.5.12.4/2017/MERRA2_400.inst1_2d_asm_Nx.20170319.nc4\n",
      "/sps/lsst/data/MERRA2/M2I1NXASM.5.12.4/2017/MERRA2_400.inst1_2d_asm_Nx.20170320.nc4\n",
      "/sps/lsst/data/MERRA2/M2I1NXASM.5.12.4/2017/MERRA2_400.inst1_2d_asm_Nx.20170321.nc4\n",
      "/sps/lsst/data/MERRA2/M2I1NXASM.5.12.4/2017/MERRA2_400.inst1_2d_asm_Nx.20170322.nc4\n",
      "/sps/lsst/data/MERRA2/M2I1NXASM.5.12.4/2017/MERRA2_400.inst1_2d_asm_Nx.20170323.nc4\n",
      "/sps/lsst/data/MERRA2/M2I1NXASM.5.12.4/2017/MERRA2_400.inst1_2d_asm_Nx.20170324.nc4\n",
      "/sps/lsst/data/MERRA2/M2I1NXASM.5.12.4/2017/MERRA2_400.inst1_2d_asm_Nx.20170325.nc4\n",
      "/sps/lsst/data/MERRA2/M2I1NXASM.5.12.4/2017/MERRA2_400.inst1_2d_asm_Nx.20170326.nc4\n",
      "/sps/lsst/data/MERRA2/M2I1NXASM.5.12.4/2017/MERRA2_400.inst1_2d_asm_Nx.20170327.nc4\n",
      "/sps/lsst/data/MERRA2/M2I1NXASM.5.12.4/2017/MERRA2_400.inst1_2d_asm_Nx.20170328.nc4\n",
      "/sps/lsst/data/MERRA2/M2I1NXASM.5.12.4/2017/MERRA2_400.inst1_2d_asm_Nx.20170329.nc4\n",
      "/sps/lsst/data/MERRA2/M2I1NXASM.5.12.4/2017/MERRA2_400.inst1_2d_asm_Nx.20170330.nc4\n",
      "/sps/lsst/data/MERRA2/M2I1NXASM.5.12.4/2017/MERRA2_400.inst1_2d_asm_Nx.20170331.nc4\n"
     ]
    }
   ],
   "source": [
    "ts0=[]  # intermediate data series\n",
    "ts1=[]\n",
    "ts2=[]\n",
    "ts3=[]  # intermediate data series\n",
    "ts4=[]\n",
    "ts5=[]\n",
    "ts6=[]  # intermediate data series\n",
    "ts7=[]\n",
    "ts8=[]\n",
    "ts9=[]  # intermediate data series\n",
    "ts10=[]\n",
    "ts11=[]\n",
    "ts12=[]\n",
    "ts13=[]\n",
    "\n",
    "df_inst1_2d_asm_Nx=[] # final pandas dataset for all atmospheric quantities\n",
    "\n",
    "for file in full_nc4files: # loop on data file of each day of the month\n",
    "    \n",
    "    print file\n",
    "    \n",
    "    #Retrieve 1D parameters longitude, latitude, time\n",
    "    (m_lat,m_un_lat,m_nm_lat) = merra2.Get1DData(file,'lat') # latitude (array, unit, name)\n",
    "    m_latitude = m_lat[:]\n",
    "    (m_lon,m_un_lon,m_nm_lon) = merra2.Get1DData(file,'lon') # longitude(array, unit, name)\n",
    "    m_longitude = m_lon[:]\n",
    "    (m_tim,m_un_tim,m_nm_tim)= merra2.Get1DData(file,'time') # time (array, unit, name)\n",
    "    m_time=m_tim[:]\n",
    "       \n",
    "    NbDataPerFile=m_time.shape[0] # number of data sample per file\n",
    "    #start_time = re.findall(\"^minutes since[ ]([0-9.].+[0-9.].+[0-9.].+)[ ]00:00:00$\",m_un_tim) # extract start time\n",
    "    start_time = re.findall(\"^minutes since[ ]([0-9.].+[0-9.].+[0-9.].+)\",m_un_tim) # extract start time\n",
    "    \n",
    "    #print 'start_time = ', start_time\n",
    "    time_rng = pd.date_range(start_time[0], periods=NbDataPerFile, freq='H') # one data per hour\n",
    "    \n",
    "\n",
    "    \n",
    "    m_X,m_Y=np.meshgrid(m_longitude,m_latitude) # build meash-grid in longitude and latitude\n",
    "    (sel_long, sel_lat)=merra2.GetBinIndex(m_X,m_Y,loc[0],loc[1]) # get bin in longitude and latitude for the site  \n",
    "    \n",
    " \n",
    "    # loop\n",
    "    for index in range(NB_DATAFIELDS):\n",
    "        (m_data,m_unit,m_longname)=merra2.GetGeoRefData(file,DATA_TAG[index]) # 3D array : time x longitude x latitude  \n",
    "        dt=m_data[:,sel_lat,sel_long]\n",
    "        if index==0:\n",
    "            ts0 = pd.Series(dt, index=time_rng)\n",
    "        elif index==1:\n",
    "            ts1 = pd.Series(dt, index=time_rng)\n",
    "        elif index==2:\n",
    "            ts2 = pd.Series(dt, index=time_rng)\n",
    "        elif index==3:\n",
    "            ts3 = pd.Series(dt, index=time_rng)\n",
    "\n",
    "        elif index==4:\n",
    "            ts4 = pd.Series(dt, index=time_rng)\n",
    "        elif index==5:\n",
    "            ts5 = pd.Series(dt, index=time_rng)\n",
    "        elif index==6:\n",
    "            ts6 = pd.Series(dt, index=time_rng)\n",
    "            \n",
    "        elif index==7:\n",
    "            ts7 = pd.Series(dt, index=time_rng)\n",
    "        elif index==8:\n",
    "            ts8 = pd.Series(dt, index=time_rng)\n",
    "        elif index==9:\n",
    "            ts9 = pd.Series(dt, index=time_rng)            \n",
    "            \n",
    "        elif index==10:\n",
    "            ts10 = pd.Series(dt, index=time_rng)\n",
    "        elif index==11:\n",
    "            ts11 = pd.Series(dt, index=time_rng)\n",
    "        elif index==12:\n",
    "            ts12 = pd.Series(dt, index=time_rng) \n",
    "            \n",
    "        elif index==13:\n",
    "            ts13 = pd.Series(dt, index=time_rng) \n",
    "            \n",
    "            \n",
    "        #clf_timeseries.append(ts)\n",
    "        # Create the dataframe\n",
    "    df = pd.DataFrame({DATA_TAG[0]: ts0, \n",
    "                       DATA_TAG[1]: ts1,\n",
    "                       DATA_TAG[2]: ts2,\n",
    "                       DATA_TAG[3]: ts3,\n",
    "                       \n",
    "                       DATA_TAG[4]: ts4,\n",
    "                       DATA_TAG[5]: ts5,\n",
    "                       DATA_TAG[6]: ts6,                       \n",
    "\n",
    "                       DATA_TAG[7]: ts7,\n",
    "                       DATA_TAG[8]: ts8,\n",
    "                       DATA_TAG[9]: ts9,\n",
    "                       \n",
    "                       DATA_TAG[10]: ts10,\n",
    "                       DATA_TAG[11]: ts11,\n",
    "                       DATA_TAG[12]: ts12,\n",
    "                       DATA_TAG[13]: ts13 }, index=time_rng)\n",
    "    df_inst1_2d_asm_Nx.append(df)  \n",
    "    "
   ]
  },
  {
   "cell_type": "markdown",
   "metadata": {},
   "source": [
    "### Concatenation"
   ]
  },
  {
   "cell_type": "code",
   "execution_count": null,
   "metadata": {
    "collapsed": false
   },
   "outputs": [],
   "source": [
    "df_inst1_2d_asm_Nx=pd.concat(df_inst1_2d_asm_Nx)"
   ]
  },
  {
   "cell_type": "code",
   "execution_count": null,
   "metadata": {
    "collapsed": false
   },
   "outputs": [],
   "source": [
    "df_inst1_2d_asm_Nx.info()"
   ]
  },
  {
   "cell_type": "markdown",
   "metadata": {},
   "source": [
    "## 4) Plot the time dependence of time series and dataset"
   ]
  },
  {
   "cell_type": "markdown",
   "metadata": {},
   "source": [
    "####  Fill information on years and months from the filenames"
   ]
  },
  {
   "cell_type": "code",
   "execution_count": null,
   "metadata": {
    "collapsed": true
   },
   "outputs": [],
   "source": [
    "def PlotTimeSeries(index,figfile):\n",
    "    plt.figure(figsize=(20,5))\n",
    "    df_inst1_2d_asm_Nx[DATA_TAG[index]].plot(lw=3,color='red')\n",
    "    plt.xlabel('time')\n",
    "    plt.ylabel(DATA_TAG[index])\n",
    "    title= \"Hourly {} at {} in {}\".format(DATA_TITLE[index],OBS_NAME,YEARNUM)\n",
    "    plt.title(title,fontsize=15)\n",
    "    plt.suptitle('NASA GMAO GES (MERRA-2)', y=1.02, fontsize=13)\n",
    "    plt.grid(True)\n",
    "#    plt.savefig(figfile)"
   ]
  },
  {
   "cell_type": "markdown",
   "metadata": {},
   "source": [
    "### 4.1) Pressure"
   ]
  },
  {
   "cell_type": "code",
   "execution_count": null,
   "metadata": {
    "collapsed": false
   },
   "outputs": [],
   "source": [
    "PlotTimeSeries(0,figfile_ps)"
   ]
  },
  {
   "cell_type": "code",
   "execution_count": null,
   "metadata": {
    "collapsed": false
   },
   "outputs": [],
   "source": []
  },
  {
   "cell_type": "markdown",
   "metadata": {},
   "source": [
    "###  4.2)  T10\n",
    "----------------"
   ]
  },
  {
   "cell_type": "code",
   "execution_count": null,
   "metadata": {
    "collapsed": false
   },
   "outputs": [],
   "source": [
    "PlotTimeSeries(1,figfile_t10)"
   ]
  },
  {
   "cell_type": "markdown",
   "metadata": {},
   "source": [
    "### 4.3) t2"
   ]
  },
  {
   "cell_type": "code",
   "execution_count": null,
   "metadata": {
    "collapsed": false
   },
   "outputs": [],
   "source": [
    "PlotTimeSeries(2,figfile_t2)"
   ]
  },
  {
   "cell_type": "markdown",
   "metadata": {},
   "source": [
    "### 4.4) to3"
   ]
  },
  {
   "cell_type": "code",
   "execution_count": null,
   "metadata": {
    "collapsed": false
   },
   "outputs": [],
   "source": [
    "PlotTimeSeries(3,figfile_to3)"
   ]
  },
  {
   "cell_type": "markdown",
   "metadata": {},
   "source": [
    "### 4.5) tox"
   ]
  },
  {
   "cell_type": "code",
   "execution_count": null,
   "metadata": {
    "collapsed": false
   },
   "outputs": [],
   "source": [
    "PlotTimeSeries(4,figfile_tox)"
   ]
  },
  {
   "cell_type": "markdown",
   "metadata": {},
   "source": [
    "### 4.6 TQI"
   ]
  },
  {
   "cell_type": "code",
   "execution_count": null,
   "metadata": {
    "collapsed": false
   },
   "outputs": [],
   "source": [
    "PlotTimeSeries(5,figfile_tqi)"
   ]
  },
  {
   "cell_type": "markdown",
   "metadata": {},
   "source": [
    "### 4.7) TQL"
   ]
  },
  {
   "cell_type": "code",
   "execution_count": null,
   "metadata": {
    "collapsed": false
   },
   "outputs": [],
   "source": [
    "PlotTimeSeries(6,figfile_tql)"
   ]
  },
  {
   "cell_type": "markdown",
   "metadata": {},
   "source": [
    "### 4.8) TS"
   ]
  },
  {
   "cell_type": "code",
   "execution_count": null,
   "metadata": {
    "collapsed": false
   },
   "outputs": [],
   "source": [
    "PlotTimeSeries(7,figfile_ts)"
   ]
  },
  {
   "cell_type": "markdown",
   "metadata": {},
   "source": [
    "### 4.9) um10"
   ]
  },
  {
   "cell_type": "code",
   "execution_count": null,
   "metadata": {
    "collapsed": false
   },
   "outputs": [],
   "source": [
    "PlotTimeSeries(8,figfile_u10m)"
   ]
  },
  {
   "cell_type": "code",
   "execution_count": null,
   "metadata": {
    "collapsed": false
   },
   "outputs": [],
   "source": [
    "PlotTimeSeries(9,figfile_u2m)"
   ]
  },
  {
   "cell_type": "code",
   "execution_count": null,
   "metadata": {
    "collapsed": false
   },
   "outputs": [],
   "source": [
    "PlotTimeSeries(10,figfile_u50m)"
   ]
  },
  {
   "cell_type": "code",
   "execution_count": null,
   "metadata": {
    "collapsed": false
   },
   "outputs": [],
   "source": [
    "PlotTimeSeries(11,figfile_v10m)"
   ]
  },
  {
   "cell_type": "code",
   "execution_count": null,
   "metadata": {
    "collapsed": false
   },
   "outputs": [],
   "source": [
    "PlotTimeSeries(12,figfile_v2m)"
   ]
  },
  {
   "cell_type": "code",
   "execution_count": null,
   "metadata": {
    "collapsed": false
   },
   "outputs": [],
   "source": [
    "PlotTimeSeries(13,figfile_v50m)"
   ]
  },
  {
   "cell_type": "markdown",
   "metadata": {},
   "source": [
    "## 5) Output"
   ]
  },
  {
   "cell_type": "code",
   "execution_count": null,
   "metadata": {
    "collapsed": false
   },
   "outputs": [],
   "source": [
    "df_inst1_2d_asm_Nx.index.name='time'\n",
    "df_inst1_2d_asm_Nx.describe()"
   ]
  },
  {
   "cell_type": "code",
   "execution_count": null,
   "metadata": {
    "collapsed": true
   },
   "outputs": [],
   "source": []
  },
  {
   "cell_type": "markdown",
   "metadata": {},
   "source": [
    "## 5)  Save dataset  in file pandas (csv)\n",
    "----------------------------------------"
   ]
  },
  {
   "cell_type": "code",
   "execution_count": null,
   "metadata": {
    "collapsed": false
   },
   "outputs": [],
   "source": [
    "dataset=df_inst1_2d_asm_Nx"
   ]
  },
  {
   "cell_type": "code",
   "execution_count": null,
   "metadata": {
    "collapsed": false
   },
   "outputs": [],
   "source": [
    "dataset.index.name='time'"
   ]
  },
  {
   "cell_type": "code",
   "execution_count": null,
   "metadata": {
    "collapsed": true
   },
   "outputs": [],
   "source": []
  },
  {
   "cell_type": "code",
   "execution_count": null,
   "metadata": {
    "collapsed": false
   },
   "outputs": [],
   "source": [
    "dataset.describe()"
   ]
  },
  {
   "cell_type": "code",
   "execution_count": null,
   "metadata": {
    "collapsed": false
   },
   "outputs": [],
   "source": [
    "dataset.head()"
   ]
  },
  {
   "cell_type": "markdown",
   "metadata": {},
   "source": [
    "### write pandas"
   ]
  },
  {
   "cell_type": "code",
   "execution_count": null,
   "metadata": {
    "collapsed": true
   },
   "outputs": [],
   "source": [
    "dataset.to_csv(pandas_filename)"
   ]
  },
  {
   "cell_type": "markdown",
   "metadata": {},
   "source": [
    "### write hdf5"
   ]
  },
  {
   "cell_type": "code",
   "execution_count": null,
   "metadata": {},
   "outputs": [],
   "source": [
    "dataset.to_hdf(hdf5_filename,key='df',mode=\"w\")"
   ]
  },
  {
   "cell_type": "markdown",
   "metadata": {},
   "source": [
    "### Check"
   ]
  },
  {
   "cell_type": "code",
   "execution_count": null,
   "metadata": {
    "collapsed": true
   },
   "outputs": [],
   "source": [
    "saved_dataset=pd.read_csv(pandas_filename)"
   ]
  },
  {
   "cell_type": "code",
   "execution_count": null,
   "metadata": {
    "collapsed": false
   },
   "outputs": [],
   "source": [
    "saved_dataset.head()"
   ]
  },
  {
   "cell_type": "markdown",
   "metadata": {},
   "source": [
    "## 6) Convert dataset into a table and then save in a fits file\n",
    "--------------------------------------------------------------------------"
   ]
  },
  {
   "cell_type": "code",
   "execution_count": null,
   "metadata": {
    "collapsed": true
   },
   "outputs": [],
   "source": [
    "table = Table.from_pandas(saved_dataset)"
   ]
  },
  {
   "cell_type": "code",
   "execution_count": null,
   "metadata": {
    "collapsed": false
   },
   "outputs": [],
   "source": [
    "table"
   ]
  },
  {
   "cell_type": "code",
   "execution_count": null,
   "metadata": {
    "collapsed": false
   },
   "outputs": [],
   "source": [
    "table.write(fits_filename,format='fits',overwrite=True)"
   ]
  },
  {
   "cell_type": "code",
   "execution_count": null,
   "metadata": {
    "collapsed": true
   },
   "outputs": [],
   "source": []
  }
 ],
 "metadata": {
  "anaconda-cloud": {},
  "kernelspec": {
   "display_name": "Python 2",
   "language": "python",
   "name": "python2"
  },
  "language_info": {
   "codemirror_mode": {
    "name": "ipython",
    "version": 2
   },
   "file_extension": ".py",
   "mimetype": "text/x-python",
   "name": "python",
   "nbconvert_exporter": "python",
   "pygments_lexer": "ipython2",
   "version": "2.7.14"
  }
 },
 "nbformat": 4,
 "nbformat_minor": 2
}
