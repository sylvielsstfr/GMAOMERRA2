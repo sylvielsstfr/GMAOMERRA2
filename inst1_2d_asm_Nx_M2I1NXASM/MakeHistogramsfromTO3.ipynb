{
 "cells": [
  {
   "cell_type": "markdown",
   "metadata": {},
   "source": [
    "# Make histogramms for TO3\n",
    "\n",
    "- author Sylvie Dagoret-Campagne\n",
    "- date October 18th 2018"
   ]
  },
  {
   "cell_type": "code",
   "execution_count": 30,
   "metadata": {},
   "outputs": [
    {
     "name": "stderr",
     "output_type": "stream",
     "text": [
      "\n",
      "Bad key \"axes.color_cycle\" on line 215 in\n",
      "templates/matplotlibrc.\n",
      "You probably need to get an updated matplotlibrc file from\n",
      "http://github.com/matplotlib/matplotlib/blob/master/matplotlibrc.template\n",
      "or from the matplotlib source distribution\n"
     ]
    }
   ],
   "source": [
    "# Set up matplotlib and use a nicer set of plot parameters\n",
    "%config InlineBackend.rc = {}\n",
    "import matplotlib\n",
    "import matplotlib as mpl\n",
    "matplotlib.rc_file(\"templates/matplotlibrc\")\n",
    "import matplotlib.pyplot as plt\n",
    "import matplotlib.mlab as mlab\n",
    "%matplotlib inline"
   ]
  },
  {
   "cell_type": "code",
   "execution_count": 31,
   "metadata": {},
   "outputs": [],
   "source": [
    "import os\n",
    "import re\n",
    "import numpy as np\n",
    "from mpl_toolkits.basemap import Basemap\n",
    "from matplotlib import colors\n",
    "from matplotlib.backends.backend_pdf import PdfPages\n",
    "import pandas as pd"
   ]
  },
  {
   "cell_type": "code",
   "execution_count": 32,
   "metadata": {},
   "outputs": [],
   "source": [
    "import datetime as dt"
   ]
  },
  {
   "cell_type": "code",
   "execution_count": 33,
   "metadata": {},
   "outputs": [],
   "source": [
    "YEARSTR=\"2018\"\n",
    "YEARNUM=int(YEARSTR)"
   ]
  },
  {
   "cell_type": "code",
   "execution_count": 34,
   "metadata": {},
   "outputs": [],
   "source": [
    "yearfile='MERRA2_'+YEARSTR+'_inst1_2d_asm_Nx_M2I1NXASM_ohp_AllYear.csv'"
   ]
  },
  {
   "cell_type": "code",
   "execution_count": 35,
   "metadata": {},
   "outputs": [],
   "source": [
    "df_year=pd.read_csv(yearfile)"
   ]
  },
  {
   "cell_type": "code",
   "execution_count": 36,
   "metadata": {},
   "outputs": [
    {
     "data": {
      "text/html": [
       "<div>\n",
       "<style scoped>\n",
       "    .dataframe tbody tr th:only-of-type {\n",
       "        vertical-align: middle;\n",
       "    }\n",
       "\n",
       "    .dataframe tbody tr th {\n",
       "        vertical-align: top;\n",
       "    }\n",
       "\n",
       "    .dataframe thead th {\n",
       "        text-align: right;\n",
       "    }\n",
       "</style>\n",
       "<table border=\"1\" class=\"dataframe\">\n",
       "  <thead>\n",
       "    <tr style=\"text-align: right;\">\n",
       "      <th></th>\n",
       "      <th>time</th>\n",
       "      <th>PS</th>\n",
       "      <th>T10M</th>\n",
       "      <th>T2M</th>\n",
       "      <th>TO3</th>\n",
       "      <th>TOX</th>\n",
       "      <th>TQI</th>\n",
       "      <th>TQL</th>\n",
       "      <th>TQV</th>\n",
       "      <th>TS</th>\n",
       "      <th>U10M</th>\n",
       "      <th>U2M</th>\n",
       "      <th>U50M</th>\n",
       "      <th>V10M</th>\n",
       "      <th>V2M</th>\n",
       "      <th>V50M</th>\n",
       "    </tr>\n",
       "  </thead>\n",
       "  <tbody>\n",
       "    <tr>\n",
       "      <th>0</th>\n",
       "      <td>2018-01-01 00:00:00</td>\n",
       "      <td>93586.179688</td>\n",
       "      <td>279.042542</td>\n",
       "      <td>277.924255</td>\n",
       "      <td>306.891296</td>\n",
       "      <td>0.006579</td>\n",
       "      <td>0.002162</td>\n",
       "      <td>0.319946</td>\n",
       "      <td>16.039366</td>\n",
       "      <td>277.089447</td>\n",
       "      <td>1.527891</td>\n",
       "      <td>0.762904</td>\n",
       "      <td>2.875433</td>\n",
       "      <td>-1.997757</td>\n",
       "      <td>-0.959274</td>\n",
       "      <td>-3.679868</td>\n",
       "    </tr>\n",
       "    <tr>\n",
       "      <th>1</th>\n",
       "      <td>2018-01-01 01:00:00</td>\n",
       "      <td>93644.218750</td>\n",
       "      <td>278.965088</td>\n",
       "      <td>278.596436</td>\n",
       "      <td>308.947205</td>\n",
       "      <td>0.006623</td>\n",
       "      <td>0.002974</td>\n",
       "      <td>0.182983</td>\n",
       "      <td>15.441454</td>\n",
       "      <td>277.915039</td>\n",
       "      <td>4.309712</td>\n",
       "      <td>2.856233</td>\n",
       "      <td>6.262999</td>\n",
       "      <td>-4.501500</td>\n",
       "      <td>-2.982562</td>\n",
       "      <td>-6.735511</td>\n",
       "    </tr>\n",
       "    <tr>\n",
       "      <th>2</th>\n",
       "      <td>2018-01-01 02:00:00</td>\n",
       "      <td>93752.140625</td>\n",
       "      <td>277.812256</td>\n",
       "      <td>277.561188</td>\n",
       "      <td>311.975006</td>\n",
       "      <td>0.006688</td>\n",
       "      <td>0.018402</td>\n",
       "      <td>0.112579</td>\n",
       "      <td>13.318526</td>\n",
       "      <td>276.945557</td>\n",
       "      <td>4.463665</td>\n",
       "      <td>3.018662</td>\n",
       "      <td>5.803768</td>\n",
       "      <td>-6.118572</td>\n",
       "      <td>-4.138448</td>\n",
       "      <td>-8.414824</td>\n",
       "    </tr>\n",
       "    <tr>\n",
       "      <th>3</th>\n",
       "      <td>2018-01-01 03:00:00</td>\n",
       "      <td>93814.812500</td>\n",
       "      <td>277.139404</td>\n",
       "      <td>276.858215</td>\n",
       "      <td>315.935669</td>\n",
       "      <td>0.006773</td>\n",
       "      <td>0.024605</td>\n",
       "      <td>0.066193</td>\n",
       "      <td>11.264016</td>\n",
       "      <td>276.241669</td>\n",
       "      <td>3.333664</td>\n",
       "      <td>2.247162</td>\n",
       "      <td>4.378160</td>\n",
       "      <td>-6.393670</td>\n",
       "      <td>-4.307884</td>\n",
       "      <td>-8.974257</td>\n",
       "    </tr>\n",
       "    <tr>\n",
       "      <th>4</th>\n",
       "      <td>2018-01-01 04:00:00</td>\n",
       "      <td>93837.578125</td>\n",
       "      <td>276.814911</td>\n",
       "      <td>276.422668</td>\n",
       "      <td>322.490082</td>\n",
       "      <td>0.006913</td>\n",
       "      <td>0.004604</td>\n",
       "      <td>0.045456</td>\n",
       "      <td>9.346043</td>\n",
       "      <td>275.632324</td>\n",
       "      <td>2.848288</td>\n",
       "      <td>1.887254</td>\n",
       "      <td>3.963684</td>\n",
       "      <td>-5.576814</td>\n",
       "      <td>-3.692428</td>\n",
       "      <td>-8.323152</td>\n",
       "    </tr>\n",
       "  </tbody>\n",
       "</table>\n",
       "</div>"
      ],
      "text/plain": [
       "                  time            PS        T10M         T2M         TO3  \\\n",
       "0  2018-01-01 00:00:00  93586.179688  279.042542  277.924255  306.891296   \n",
       "1  2018-01-01 01:00:00  93644.218750  278.965088  278.596436  308.947205   \n",
       "2  2018-01-01 02:00:00  93752.140625  277.812256  277.561188  311.975006   \n",
       "3  2018-01-01 03:00:00  93814.812500  277.139404  276.858215  315.935669   \n",
       "4  2018-01-01 04:00:00  93837.578125  276.814911  276.422668  322.490082   \n",
       "\n",
       "        TOX       TQI       TQL        TQV          TS      U10M       U2M  \\\n",
       "0  0.006579  0.002162  0.319946  16.039366  277.089447  1.527891  0.762904   \n",
       "1  0.006623  0.002974  0.182983  15.441454  277.915039  4.309712  2.856233   \n",
       "2  0.006688  0.018402  0.112579  13.318526  276.945557  4.463665  3.018662   \n",
       "3  0.006773  0.024605  0.066193  11.264016  276.241669  3.333664  2.247162   \n",
       "4  0.006913  0.004604  0.045456   9.346043  275.632324  2.848288  1.887254   \n",
       "\n",
       "       U50M      V10M       V2M      V50M  \n",
       "0  2.875433 -1.997757 -0.959274 -3.679868  \n",
       "1  6.262999 -4.501500 -2.982562 -6.735511  \n",
       "2  5.803768 -6.118572 -4.138448 -8.414824  \n",
       "3  4.378160 -6.393670 -4.307884 -8.974257  \n",
       "4  3.963684 -5.576814 -3.692428 -8.323152  "
      ]
     },
     "execution_count": 36,
     "metadata": {},
     "output_type": "execute_result"
    }
   ],
   "source": [
    "df_year.head()"
   ]
  },
  {
   "cell_type": "markdown",
   "metadata": {},
   "source": [
    "## Per year"
   ]
  },
  {
   "cell_type": "code",
   "execution_count": 37,
   "metadata": {},
   "outputs": [
    {
     "data": {
      "text/html": [
       "<div>\n",
       "<style scoped>\n",
       "    .dataframe tbody tr th:only-of-type {\n",
       "        vertical-align: middle;\n",
       "    }\n",
       "\n",
       "    .dataframe tbody tr th {\n",
       "        vertical-align: top;\n",
       "    }\n",
       "\n",
       "    .dataframe thead th {\n",
       "        text-align: right;\n",
       "    }\n",
       "</style>\n",
       "<table border=\"1\" class=\"dataframe\">\n",
       "  <thead>\n",
       "    <tr style=\"text-align: right;\">\n",
       "      <th></th>\n",
       "      <th>PS</th>\n",
       "      <th>T10M</th>\n",
       "      <th>T2M</th>\n",
       "      <th>TO3</th>\n",
       "      <th>TOX</th>\n",
       "      <th>TQI</th>\n",
       "      <th>TQL</th>\n",
       "      <th>TQV</th>\n",
       "      <th>TS</th>\n",
       "      <th>U10M</th>\n",
       "      <th>U2M</th>\n",
       "      <th>U50M</th>\n",
       "      <th>V10M</th>\n",
       "      <th>V2M</th>\n",
       "      <th>V50M</th>\n",
       "    </tr>\n",
       "  </thead>\n",
       "  <tbody>\n",
       "    <tr>\n",
       "      <th>count</th>\n",
       "      <td>5832.000000</td>\n",
       "      <td>5832.000000</td>\n",
       "      <td>5832.000000</td>\n",
       "      <td>5832.000000</td>\n",
       "      <td>5832.000000</td>\n",
       "      <td>5832.000000</td>\n",
       "      <td>5832.000000</td>\n",
       "      <td>5832.000000</td>\n",
       "      <td>5832.000000</td>\n",
       "      <td>5832.000000</td>\n",
       "      <td>5832.000000</td>\n",
       "      <td>5832.000000</td>\n",
       "      <td>5832.000000</td>\n",
       "      <td>5832.000000</td>\n",
       "      <td>5832.000000</td>\n",
       "    </tr>\n",
       "    <tr>\n",
       "      <th>mean</th>\n",
       "      <td>93605.010626</td>\n",
       "      <td>286.482574</td>\n",
       "      <td>286.156667</td>\n",
       "      <td>345.078004</td>\n",
       "      <td>0.007404</td>\n",
       "      <td>0.021813</td>\n",
       "      <td>0.060989</td>\n",
       "      <td>17.708672</td>\n",
       "      <td>286.245535</td>\n",
       "      <td>0.021388</td>\n",
       "      <td>0.060915</td>\n",
       "      <td>-0.140465</td>\n",
       "      <td>-0.608788</td>\n",
       "      <td>-0.342864</td>\n",
       "      <td>-0.981685</td>\n",
       "    </tr>\n",
       "    <tr>\n",
       "      <th>std</th>\n",
       "      <td>642.563931</td>\n",
       "      <td>8.756767</td>\n",
       "      <td>9.196822</td>\n",
       "      <td>38.505628</td>\n",
       "      <td>0.000826</td>\n",
       "      <td>0.041721</td>\n",
       "      <td>0.078547</td>\n",
       "      <td>8.039066</td>\n",
       "      <td>10.482519</td>\n",
       "      <td>3.024915</td>\n",
       "      <td>2.052015</td>\n",
       "      <td>4.064382</td>\n",
       "      <td>3.049534</td>\n",
       "      <td>2.088572</td>\n",
       "      <td>4.108916</td>\n",
       "    </tr>\n",
       "    <tr>\n",
       "      <th>min</th>\n",
       "      <td>91121.617188</td>\n",
       "      <td>266.681335</td>\n",
       "      <td>266.794922</td>\n",
       "      <td>260.325714</td>\n",
       "      <td>0.005581</td>\n",
       "      <td>0.000000</td>\n",
       "      <td>0.000000</td>\n",
       "      <td>2.350126</td>\n",
       "      <td>266.385925</td>\n",
       "      <td>-13.590304</td>\n",
       "      <td>-9.430898</td>\n",
       "      <td>-16.700460</td>\n",
       "      <td>-11.513482</td>\n",
       "      <td>-8.019993</td>\n",
       "      <td>-14.637464</td>\n",
       "    </tr>\n",
       "    <tr>\n",
       "      <th>25%</th>\n",
       "      <td>93300.148438</td>\n",
       "      <td>279.055763</td>\n",
       "      <td>278.585747</td>\n",
       "      <td>315.535461</td>\n",
       "      <td>0.006771</td>\n",
       "      <td>0.000093</td>\n",
       "      <td>0.002346</td>\n",
       "      <td>11.400371</td>\n",
       "      <td>278.140938</td>\n",
       "      <td>-1.552075</td>\n",
       "      <td>-0.858643</td>\n",
       "      <td>-2.266323</td>\n",
       "      <td>-2.273400</td>\n",
       "      <td>-1.280303</td>\n",
       "      <td>-3.459140</td>\n",
       "    </tr>\n",
       "    <tr>\n",
       "      <th>50%</th>\n",
       "      <td>93729.882812</td>\n",
       "      <td>286.627243</td>\n",
       "      <td>285.894913</td>\n",
       "      <td>333.168030</td>\n",
       "      <td>0.007149</td>\n",
       "      <td>0.003481</td>\n",
       "      <td>0.026630</td>\n",
       "      <td>17.012116</td>\n",
       "      <td>285.614929</td>\n",
       "      <td>0.371513</td>\n",
       "      <td>0.218719</td>\n",
       "      <td>0.418060</td>\n",
       "      <td>-0.537979</td>\n",
       "      <td>-0.322029</td>\n",
       "      <td>-0.767486</td>\n",
       "    </tr>\n",
       "    <tr>\n",
       "      <th>75%</th>\n",
       "      <td>94017.107422</td>\n",
       "      <td>293.265198</td>\n",
       "      <td>293.074280</td>\n",
       "      <td>369.230484</td>\n",
       "      <td>0.007920</td>\n",
       "      <td>0.024576</td>\n",
       "      <td>0.091034</td>\n",
       "      <td>24.237048</td>\n",
       "      <td>293.532425</td>\n",
       "      <td>1.971984</td>\n",
       "      <td>1.251754</td>\n",
       "      <td>2.708717</td>\n",
       "      <td>1.319634</td>\n",
       "      <td>0.831863</td>\n",
       "      <td>1.857141</td>\n",
       "    </tr>\n",
       "    <tr>\n",
       "      <th>max</th>\n",
       "      <td>95630.148438</td>\n",
       "      <td>307.667267</td>\n",
       "      <td>309.370941</td>\n",
       "      <td>476.769897</td>\n",
       "      <td>0.010235</td>\n",
       "      <td>0.507080</td>\n",
       "      <td>0.454712</td>\n",
       "      <td>41.252686</td>\n",
       "      <td>315.242340</td>\n",
       "      <td>10.241591</td>\n",
       "      <td>6.991255</td>\n",
       "      <td>13.905725</td>\n",
       "      <td>11.095821</td>\n",
       "      <td>7.683163</td>\n",
       "      <td>13.775771</td>\n",
       "    </tr>\n",
       "  </tbody>\n",
       "</table>\n",
       "</div>"
      ],
      "text/plain": [
       "                 PS         T10M          T2M          TO3          TOX  \\\n",
       "count   5832.000000  5832.000000  5832.000000  5832.000000  5832.000000   \n",
       "mean   93605.010626   286.482574   286.156667   345.078004     0.007404   \n",
       "std      642.563931     8.756767     9.196822    38.505628     0.000826   \n",
       "min    91121.617188   266.681335   266.794922   260.325714     0.005581   \n",
       "25%    93300.148438   279.055763   278.585747   315.535461     0.006771   \n",
       "50%    93729.882812   286.627243   285.894913   333.168030     0.007149   \n",
       "75%    94017.107422   293.265198   293.074280   369.230484     0.007920   \n",
       "max    95630.148438   307.667267   309.370941   476.769897     0.010235   \n",
       "\n",
       "               TQI          TQL          TQV           TS         U10M  \\\n",
       "count  5832.000000  5832.000000  5832.000000  5832.000000  5832.000000   \n",
       "mean      0.021813     0.060989    17.708672   286.245535     0.021388   \n",
       "std       0.041721     0.078547     8.039066    10.482519     3.024915   \n",
       "min       0.000000     0.000000     2.350126   266.385925   -13.590304   \n",
       "25%       0.000093     0.002346    11.400371   278.140938    -1.552075   \n",
       "50%       0.003481     0.026630    17.012116   285.614929     0.371513   \n",
       "75%       0.024576     0.091034    24.237048   293.532425     1.971984   \n",
       "max       0.507080     0.454712    41.252686   315.242340    10.241591   \n",
       "\n",
       "               U2M         U50M         V10M          V2M         V50M  \n",
       "count  5832.000000  5832.000000  5832.000000  5832.000000  5832.000000  \n",
       "mean      0.060915    -0.140465    -0.608788    -0.342864    -0.981685  \n",
       "std       2.052015     4.064382     3.049534     2.088572     4.108916  \n",
       "min      -9.430898   -16.700460   -11.513482    -8.019993   -14.637464  \n",
       "25%      -0.858643    -2.266323    -2.273400    -1.280303    -3.459140  \n",
       "50%       0.218719     0.418060    -0.537979    -0.322029    -0.767486  \n",
       "75%       1.251754     2.708717     1.319634     0.831863     1.857141  \n",
       "max       6.991255    13.905725    11.095821     7.683163    13.775771  "
      ]
     },
     "execution_count": 37,
     "metadata": {},
     "output_type": "execute_result"
    }
   ],
   "source": [
    "df_year.describe()"
   ]
  },
  {
   "cell_type": "code",
   "execution_count": 38,
   "metadata": {},
   "outputs": [
    {
     "data": {
      "text/html": [
       "<div>\n",
       "<style scoped>\n",
       "    .dataframe tbody tr th:only-of-type {\n",
       "        vertical-align: middle;\n",
       "    }\n",
       "\n",
       "    .dataframe tbody tr th {\n",
       "        vertical-align: top;\n",
       "    }\n",
       "\n",
       "    .dataframe thead th {\n",
       "        text-align: right;\n",
       "    }\n",
       "</style>\n",
       "<table border=\"1\" class=\"dataframe\">\n",
       "  <thead>\n",
       "    <tr style=\"text-align: right;\">\n",
       "      <th></th>\n",
       "      <th>PS</th>\n",
       "      <th>T10M</th>\n",
       "      <th>T2M</th>\n",
       "      <th>TO3</th>\n",
       "      <th>TOX</th>\n",
       "      <th>TQI</th>\n",
       "      <th>TQL</th>\n",
       "      <th>TQV</th>\n",
       "      <th>TS</th>\n",
       "      <th>U10M</th>\n",
       "      <th>U2M</th>\n",
       "      <th>U50M</th>\n",
       "      <th>V10M</th>\n",
       "      <th>V2M</th>\n",
       "      <th>V50M</th>\n",
       "    </tr>\n",
       "  </thead>\n",
       "  <tbody>\n",
       "    <tr>\n",
       "      <th>0.05</th>\n",
       "      <td>92302.062500</td>\n",
       "      <td>273.110608</td>\n",
       "      <td>271.944415</td>\n",
       "      <td>300.570044</td>\n",
       "      <td>0.006450</td>\n",
       "      <td>0.000000</td>\n",
       "      <td>0.000000</td>\n",
       "      <td>5.619297</td>\n",
       "      <td>270.505684</td>\n",
       "      <td>-5.613892</td>\n",
       "      <td>-3.875367</td>\n",
       "      <td>-8.013594</td>\n",
       "      <td>-6.176801</td>\n",
       "      <td>-4.274966</td>\n",
       "      <td>-8.279870</td>\n",
       "    </tr>\n",
       "    <tr>\n",
       "      <th>0.10</th>\n",
       "      <td>92726.689063</td>\n",
       "      <td>275.120847</td>\n",
       "      <td>274.126968</td>\n",
       "      <td>306.248471</td>\n",
       "      <td>0.006568</td>\n",
       "      <td>0.000000</td>\n",
       "      <td>0.000039</td>\n",
       "      <td>7.057070</td>\n",
       "      <td>272.605145</td>\n",
       "      <td>-3.382963</td>\n",
       "      <td>-2.225191</td>\n",
       "      <td>-5.243864</td>\n",
       "      <td>-4.598542</td>\n",
       "      <td>-3.170159</td>\n",
       "      <td>-6.778754</td>\n",
       "    </tr>\n",
       "    <tr>\n",
       "      <th>0.50</th>\n",
       "      <td>93729.882812</td>\n",
       "      <td>286.627243</td>\n",
       "      <td>285.894913</td>\n",
       "      <td>333.168030</td>\n",
       "      <td>0.007149</td>\n",
       "      <td>0.003481</td>\n",
       "      <td>0.026630</td>\n",
       "      <td>17.012116</td>\n",
       "      <td>285.614929</td>\n",
       "      <td>0.371513</td>\n",
       "      <td>0.218719</td>\n",
       "      <td>0.418060</td>\n",
       "      <td>-0.537979</td>\n",
       "      <td>-0.322029</td>\n",
       "      <td>-0.767486</td>\n",
       "    </tr>\n",
       "    <tr>\n",
       "      <th>0.90</th>\n",
       "      <td>94195.792188</td>\n",
       "      <td>298.313348</td>\n",
       "      <td>298.947134</td>\n",
       "      <td>402.105991</td>\n",
       "      <td>0.008627</td>\n",
       "      <td>0.067557</td>\n",
       "      <td>0.181384</td>\n",
       "      <td>28.010021</td>\n",
       "      <td>301.164572</td>\n",
       "      <td>3.421493</td>\n",
       "      <td>2.469278</td>\n",
       "      <td>4.260659</td>\n",
       "      <td>3.108744</td>\n",
       "      <td>2.218974</td>\n",
       "      <td>4.063940</td>\n",
       "    </tr>\n",
       "    <tr>\n",
       "      <th>0.95</th>\n",
       "      <td>94403.677344</td>\n",
       "      <td>300.995758</td>\n",
       "      <td>301.934918</td>\n",
       "      <td>421.593069</td>\n",
       "      <td>0.009042</td>\n",
       "      <td>0.104558</td>\n",
       "      <td>0.237729</td>\n",
       "      <td>30.763211</td>\n",
       "      <td>305.357976</td>\n",
       "      <td>4.236855</td>\n",
       "      <td>3.011753</td>\n",
       "      <td>5.114908</td>\n",
       "      <td>4.205025</td>\n",
       "      <td>2.984312</td>\n",
       "      <td>5.398069</td>\n",
       "    </tr>\n",
       "  </tbody>\n",
       "</table>\n",
       "</div>"
      ],
      "text/plain": [
       "                PS        T10M         T2M         TO3       TOX       TQI  \\\n",
       "0.05  92302.062500  273.110608  271.944415  300.570044  0.006450  0.000000   \n",
       "0.10  92726.689063  275.120847  274.126968  306.248471  0.006568  0.000000   \n",
       "0.50  93729.882812  286.627243  285.894913  333.168030  0.007149  0.003481   \n",
       "0.90  94195.792188  298.313348  298.947134  402.105991  0.008627  0.067557   \n",
       "0.95  94403.677344  300.995758  301.934918  421.593069  0.009042  0.104558   \n",
       "\n",
       "           TQL        TQV          TS      U10M       U2M      U50M      V10M  \\\n",
       "0.05  0.000000   5.619297  270.505684 -5.613892 -3.875367 -8.013594 -6.176801   \n",
       "0.10  0.000039   7.057070  272.605145 -3.382963 -2.225191 -5.243864 -4.598542   \n",
       "0.50  0.026630  17.012116  285.614929  0.371513  0.218719  0.418060 -0.537979   \n",
       "0.90  0.181384  28.010021  301.164572  3.421493  2.469278  4.260659  3.108744   \n",
       "0.95  0.237729  30.763211  305.357976  4.236855  3.011753  5.114908  4.205025   \n",
       "\n",
       "           V2M      V50M  \n",
       "0.05 -4.274966 -8.279870  \n",
       "0.10 -3.170159 -6.778754  \n",
       "0.50 -0.322029 -0.767486  \n",
       "0.90  2.218974  4.063940  \n",
       "0.95  2.984312  5.398069  "
      ]
     },
     "execution_count": 38,
     "metadata": {},
     "output_type": "execute_result"
    }
   ],
   "source": [
    "df_year.quantile([0.05,0.1,0.5,0.9,0.95])"
   ]
  },
  {
   "cell_type": "code",
   "execution_count": 39,
   "metadata": {},
   "outputs": [],
   "source": [
    "h2o_year=df_year[\"TO3\"]"
   ]
  },
  {
   "cell_type": "code",
   "execution_count": 40,
   "metadata": {},
   "outputs": [
    {
     "data": {
      "text/plain": [
       "0       306.891296\n",
       "1       308.947205\n",
       "2       311.975006\n",
       "3       315.935669\n",
       "4       322.490082\n",
       "5       327.533325\n",
       "6       331.248047\n",
       "7       334.646332\n",
       "8       332.975555\n",
       "9       332.022736\n",
       "10      332.829163\n",
       "11      334.695831\n",
       "12      337.601929\n",
       "13      337.983429\n",
       "14      335.818146\n",
       "15      338.750916\n",
       "16      342.253448\n",
       "17      343.541199\n",
       "18      345.277710\n",
       "19      346.144379\n",
       "20      345.601898\n",
       "21      342.586090\n",
       "22      341.128265\n",
       "23      339.152527\n",
       "24      336.292603\n",
       "25      334.295044\n",
       "26      333.846832\n",
       "27      332.381042\n",
       "28      331.308044\n",
       "29      329.977142\n",
       "           ...    \n",
       "5802    304.799316\n",
       "5803    305.459015\n",
       "5804    304.171844\n",
       "5805    303.390717\n",
       "5806    304.219116\n",
       "5807    305.193359\n",
       "5808    305.691711\n",
       "5809    305.461304\n",
       "5810    306.657104\n",
       "5811    308.145203\n",
       "5812    306.809265\n",
       "5813    307.429749\n",
       "5814    309.612579\n",
       "5815    311.298706\n",
       "5816    311.497498\n",
       "5817    310.056244\n",
       "5818    308.739197\n",
       "5819    308.198547\n",
       "5820    308.283234\n",
       "5821    308.949402\n",
       "5822    309.250916\n",
       "5823    309.060974\n",
       "5824    310.246887\n",
       "5825    312.513550\n",
       "5826    315.935730\n",
       "5827    320.846130\n",
       "5828    323.637695\n",
       "5829    324.195007\n",
       "5830    323.008850\n",
       "5831    321.810486\n",
       "Name: TO3, Length: 5832, dtype: float64"
      ]
     },
     "execution_count": 40,
     "metadata": {},
     "output_type": "execute_result"
    }
   ],
   "source": [
    "h2o_year.replace(to_replace=0, value=np.nan)"
   ]
  },
  {
   "cell_type": "code",
   "execution_count": 41,
   "metadata": {},
   "outputs": [
    {
     "data": {
      "text/plain": [
       "345.07800370937207"
      ]
     },
     "execution_count": 41,
     "metadata": {},
     "output_type": "execute_result"
    }
   ],
   "source": [
    "np.mean(h2o_year)"
   ]
  },
  {
   "cell_type": "code",
   "execution_count": 42,
   "metadata": {},
   "outputs": [],
   "source": [
    "mean_h2o_y = np.mean(h2o_year)\n",
    "variance_h2o_y = np.var(h2o_year)\n",
    "sigma_h2o_y = np.sqrt(variance_h2o_y)"
   ]
  },
  {
   "cell_type": "code",
   "execution_count": 43,
   "metadata": {},
   "outputs": [],
   "source": [
    "mean_h2o_y=np.trunc(mean_h2o_y*1000)/1000\n",
    "sigma_h2o_y=np.trunc(sigma_h2o_y*1000)/1000"
   ]
  },
  {
   "cell_type": "code",
   "execution_count": 44,
   "metadata": {},
   "outputs": [
    {
     "name": "stdout",
     "output_type": "stream",
     "text": [
      "345.078\n",
      "1482.42919172\n",
      "38.502\n"
     ]
    }
   ],
   "source": [
    "print mean_h2o_y \n",
    "print variance_h2o_y \n",
    "print sigma_h2o_y "
   ]
  },
  {
   "cell_type": "code",
   "execution_count": 45,
   "metadata": {},
   "outputs": [],
   "source": [
    "title = \"Yearly variation of Ozone (year {}), mean = {} std = {}\".format(YEARSTR,mean_h2o_y ,sigma_h2o_y)"
   ]
  },
  {
   "cell_type": "code",
   "execution_count": 46,
   "metadata": {},
   "outputs": [
    {
     "data": {
      "image/png": "[encoded data removed]",
      "text/plain": [
       "<Figure size 800x600 with 1 Axes>"
      ]
     },
     "metadata": {},
     "output_type": "display_data"
    }
   ],
   "source": [
    "n, bins, patches = plt.hist(h2o_year, 50, normed=False, facecolor='blue', alpha=0.75)\n",
    "plt.title(title)\n",
    "plt.xlabel('O3 (DBU)')\n",
    "figfilename='Histo_O3_'+YEARSTR+'_allyear.jpg'\n",
    "plt.savefig(figfilename)"
   ]
  },
  {
   "cell_type": "markdown",
   "metadata": {
    "collapsed": true
   },
   "source": [
    "# Selection of a period"
   ]
  },
  {
   "cell_type": "code",
   "execution_count": 47,
   "metadata": {},
   "outputs": [],
   "source": [
    "all_datetime=pd.to_datetime(df_year['time'].get_values())"
   ]
  },
  {
   "cell_type": "code",
   "execution_count": 48,
   "metadata": {},
   "outputs": [
    {
     "data": {
      "text/plain": [
       "DatetimeIndex(['2018-01-01 00:00:00', '2018-01-01 01:00:00',\n",
       "               '2018-01-01 02:00:00', '2018-01-01 03:00:00',\n",
       "               '2018-01-01 04:00:00', '2018-01-01 05:00:00',\n",
       "               '2018-01-01 06:00:00', '2018-01-01 07:00:00',\n",
       "               '2018-01-01 08:00:00', '2018-01-01 09:00:00',\n",
       "               ...\n",
       "               '2018-08-31 14:00:00', '2018-08-31 15:00:00',\n",
       "               '2018-08-31 16:00:00', '2018-08-31 17:00:00',\n",
       "               '2018-08-31 18:00:00', '2018-08-31 19:00:00',\n",
       "               '2018-08-31 20:00:00', '2018-08-31 21:00:00',\n",
       "               '2018-08-31 22:00:00', '2018-08-31 23:00:00'],\n",
       "              dtype='datetime64[ns]', length=5832, freq=None)"
      ]
     },
     "execution_count": 48,
     "metadata": {},
     "output_type": "execute_result"
    }
   ],
   "source": [
    "all_datetime"
   ]
  },
  {
   "cell_type": "code",
   "execution_count": 49,
   "metadata": {},
   "outputs": [],
   "source": [
    "winter_time_index=np.where(np.logical_and(all_datetime>dt.datetime(YEARNUM,1,1),all_datetime<dt.datetime(YEARNUM,3,31)))"
   ]
  },
  {
   "cell_type": "code",
   "execution_count": 50,
   "metadata": {},
   "outputs": [],
   "source": [
    "summer_time_index=np.where(np.logical_and(all_datetime>dt.datetime(YEARNUM,6,1),all_datetime<dt.datetime(YEARNUM,8,31)))"
   ]
  },
  {
   "cell_type": "code",
   "execution_count": 51,
   "metadata": {},
   "outputs": [],
   "source": [
    "pwv_winter=h2o_year.get_values()[winter_time_index]\n",
    "pwv_summer=h2o_year.get_values()[summer_time_index]"
   ]
  },
  {
   "cell_type": "code",
   "execution_count": 52,
   "metadata": {},
   "outputs": [],
   "source": [
    "mean_pwv_winter = np.mean(pwv_winter)\n",
    "variance_pwv_winter = np.var(pwv_winter)\n",
    "sigma_pwv_winter = np.std(pwv_winter)"
   ]
  },
  {
   "cell_type": "code",
   "execution_count": 53,
   "metadata": {},
   "outputs": [],
   "source": [
    "mean_pwv_summer = np.mean(pwv_summer)\n",
    "variance_pwv_summer = np.var(pwv_summer)\n",
    "sigma_pwv_summer = np.std(pwv_summer)"
   ]
  },
  {
   "cell_type": "code",
   "execution_count": 54,
   "metadata": {},
   "outputs": [],
   "source": [
    "mw=np.trunc(mean_pwv_winter*10)/10\n",
    "sw=np.trunc(sigma_pwv_winter*10)/10\n",
    "\n",
    "ms=np.trunc(mean_pwv_summer*10)/10\n",
    "ss=np.trunc(sigma_pwv_summer*10)/10"
   ]
  },
  {
   "cell_type": "code",
   "execution_count": 55,
   "metadata": {},
   "outputs": [],
   "source": [
    "title = \"Yearly variation of O3(DbU) (year {}), summer : {} +/- {}, winter : {} +/- {}\".format(YEARSTR,ms,ss,mw,sw)"
   ]
  },
  {
   "cell_type": "code",
   "execution_count": 59,
   "metadata": {},
   "outputs": [
    {
     "data": {
      "image/png": "[encoded data removed]",
      "text/plain": [
       "<Figure size 1400x800 with 1 Axes>"
      ]
     },
     "metadata": {},
     "output_type": "display_data"
    }
   ],
   "source": [
    "plt.figure(figsize=(14,8))\n",
    "n, bins, patches = plt.hist(pwv_winter, 50, range=(250,500),normed=False, facecolor='blue', alpha=0.75,label='winter')\n",
    "n, bins, patches = plt.hist(pwv_summer, 50, range=(250,500),normed=False, facecolor='red', alpha=0.75,label='summer')\n",
    "plt.title(title)\n",
    "plt.xlabel('O3 (DbU)')\n",
    "figfilename='Histo_O3_'+YEARSTR+'_WinterSummer.jpg'\n",
    "plt.legend()\n",
    "plt.savefig(figfilename)"
   ]
  },
  {
   "cell_type": "code",
   "execution_count": null,
   "metadata": {},
   "outputs": [],
   "source": []
  }
 ],
 "metadata": {
  "anaconda-cloud": {},
  "kernelspec": {
   "display_name": "Python 2",
   "language": "python",
   "name": "python2"
  },
  "language_info": {
   "codemirror_mode": {
    "name": "ipython",
    "version": 2
   },
   "file_extension": ".py",
   "mimetype": "text/x-python",
   "name": "python",
   "nbconvert_exporter": "python",
   "pygments_lexer": "ipython2",
   "version": "2.7.15"
  },
  "toc": {
   "nav_menu": {
    "height": "47px",
    "width": "252px"
   },
   "number_sections": true,
   "sideBar": true,
   "skip_h1_title": false,
   "toc_cell": false,
   "toc_position": {},
   "toc_section_display": "block",
   "toc_window_display": false
  }
 },
 "nbformat": 4,
 "nbformat_minor": 2
}
