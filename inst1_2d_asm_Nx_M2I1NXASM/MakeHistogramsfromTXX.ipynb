{
 "cells": [
  {
   "cell_type": "markdown",
   "metadata": {},
   "source": [
    "# Make histogramms for any quantities\n",
    "\n",
    "- author Sylvie Dagoret-Campagne\n",
    "- date October 18th 2018"
   ]
  },
  {
   "cell_type": "code",
   "execution_count": null,
   "metadata": {},
   "outputs": [],
   "source": [
    "# Set up matplotlib and use a nicer set of plot parameters\n",
    "%config InlineBackend.rc = {}\n",
    "import matplotlib\n",
    "import matplotlib as mpl\n",
    "matplotlib.rc_file(\"templates/matplotlibrc\")\n",
    "import matplotlib.pyplot as plt\n",
    "import matplotlib.mlab as mlab\n",
    "%matplotlib inline"
   ]
  },
  {
   "cell_type": "code",
   "execution_count": null,
   "metadata": {},
   "outputs": [],
   "source": [
    "import os\n",
    "import re\n",
    "import numpy as np\n",
    "from mpl_toolkits.basemap import Basemap\n",
    "from matplotlib import colors\n",
    "from matplotlib.backends.backend_pdf import PdfPages\n",
    "import pandas as pd"
   ]
  },
  {
   "cell_type": "code",
   "execution_count": null,
   "metadata": {},
   "outputs": [],
   "source": [
    "import datetime as dt"
   ]
  },
  {
   "cell_type": "code",
   "execution_count": null,
   "metadata": {},
   "outputs": [],
   "source": [
    "YEARSTR=\"2018\"\n",
    "YEARNUM=int(YEARSTR)"
   ]
  },
  {
   "cell_type": "code",
   "execution_count": null,
   "metadata": {},
   "outputs": [],
   "source": [
    "VAR_name='PS'\n",
    "VAR_title='Pressure'\n",
    "VAR_unit='Pa'\n",
    "VAR_min=91000\n",
    "VAR_max=96000"
   ]
  },
  {
   "cell_type": "code",
   "execution_count": null,
   "metadata": {},
   "outputs": [],
   "source": [
    "#VAR_name='T10M'\n",
    "#VAR_title='Temperature(10m)'\n",
    "#VAR_unit='K'\n",
    "#VAR_min=260\n",
    "#VAR_max=310"
   ]
  },
  {
   "cell_type": "code",
   "execution_count": null,
   "metadata": {},
   "outputs": [],
   "source": [
    "yearfile='MERRA2_'+YEARSTR+'_inst1_2d_asm_Nx_M2I1NXASM_ohp_AllYear.csv'"
   ]
  },
  {
   "cell_type": "code",
   "execution_count": null,
   "metadata": {},
   "outputs": [],
   "source": [
    "df_year=pd.read_csv(yearfile)"
   ]
  },
  {
   "cell_type": "code",
   "execution_count": null,
   "metadata": {},
   "outputs": [],
   "source": [
    "df_year.head()"
   ]
  },
  {
   "cell_type": "markdown",
   "metadata": {},
   "source": [
    "## Per year"
   ]
  },
  {
   "cell_type": "code",
   "execution_count": null,
   "metadata": {},
   "outputs": [],
   "source": [
    "df_year.describe()"
   ]
  },
  {
   "cell_type": "code",
   "execution_count": null,
   "metadata": {},
   "outputs": [],
   "source": [
    "df_year.quantile([0.05,0.1,0.5,0.9,0.95])"
   ]
  },
  {
   "cell_type": "code",
   "execution_count": null,
   "metadata": {},
   "outputs": [],
   "source": [
    "var_year=df_year[VAR_name]"
   ]
  },
  {
   "cell_type": "code",
   "execution_count": null,
   "metadata": {},
   "outputs": [],
   "source": [
    "var_year.replace(to_replace=0, value=np.nan)"
   ]
  },
  {
   "cell_type": "code",
   "execution_count": null,
   "metadata": {},
   "outputs": [],
   "source": [
    "mean_var_y = np.mean(var_year)\n",
    "variance_var_y = np.var(var_year)\n",
    "sigma_var_y = np.sqrt(variance_var_y)"
   ]
  },
  {
   "cell_type": "code",
   "execution_count": null,
   "metadata": {},
   "outputs": [],
   "source": [
    "mean_var_y=np.trunc(mean_var_y*1000)/1000\n",
    "sigma_var_y=np.trunc(sigma_var_y*1000)/1000"
   ]
  },
  {
   "cell_type": "code",
   "execution_count": null,
   "metadata": {},
   "outputs": [],
   "source": []
  },
  {
   "cell_type": "code",
   "execution_count": null,
   "metadata": {},
   "outputs": [],
   "source": [
    "title = \"Yearly variation of {} (year {}), mean = {} std = {}\".format(VAR_title,YEARSTR,mean_var_y ,sigma_var_y)"
   ]
  },
  {
   "cell_type": "code",
   "execution_count": null,
   "metadata": {},
   "outputs": [],
   "source": [
    "plt.figure(figsize=(14,8))\n",
    "n, bins, patches = plt.hist(var_year, 50, normed=False, facecolor='blue', alpha=0.75)\n",
    "plt.title(title)\n",
    "xtitle=VAR_name+' ('+VAR_unit+' )' \n",
    "plt.xlabel(xtitle)\n",
    "figfilename='Histo_'+VAR_name+'_'+YEARSTR+'_allyear.png'\n",
    "plt.savefig(figfilename)"
   ]
  },
  {
   "cell_type": "markdown",
   "metadata": {
    "collapsed": true
   },
   "source": [
    "# Selection of a period"
   ]
  },
  {
   "cell_type": "code",
   "execution_count": null,
   "metadata": {},
   "outputs": [],
   "source": [
    "all_datetime=pd.to_datetime(df_year['time'].get_values())"
   ]
  },
  {
   "cell_type": "code",
   "execution_count": null,
   "metadata": {},
   "outputs": [],
   "source": [
    "all_datetime"
   ]
  },
  {
   "cell_type": "code",
   "execution_count": null,
   "metadata": {},
   "outputs": [],
   "source": [
    "winter_time_index=np.where(np.logical_and(all_datetime>dt.datetime(YEARNUM,1,1),all_datetime<dt.datetime(YEARNUM,3,31)))"
   ]
  },
  {
   "cell_type": "code",
   "execution_count": null,
   "metadata": {},
   "outputs": [],
   "source": [
    "summer_time_index=np.where(np.logical_and(all_datetime>dt.datetime(YEARNUM,6,1),all_datetime<dt.datetime(YEARNUM,8,31)))"
   ]
  },
  {
   "cell_type": "code",
   "execution_count": null,
   "metadata": {},
   "outputs": [],
   "source": [
    "var_winter=var_year.get_values()[winter_time_index]\n",
    "var_summer=var_year.get_values()[summer_time_index]"
   ]
  },
  {
   "cell_type": "code",
   "execution_count": null,
   "metadata": {},
   "outputs": [],
   "source": [
    "mean_var_winter = np.mean(var_winter)\n",
    "variance_var_winter = np.var(var_winter)\n",
    "sigma_var_winter = np.std(var_winter)"
   ]
  },
  {
   "cell_type": "code",
   "execution_count": null,
   "metadata": {},
   "outputs": [],
   "source": [
    "mean_var_summer = np.mean(var_summer)\n",
    "variance_var_summer = np.var(var_summer)\n",
    "sigma_var_summer = np.std(var_summer)"
   ]
  },
  {
   "cell_type": "code",
   "execution_count": null,
   "metadata": {},
   "outputs": [],
   "source": [
    "mw=np.trunc(mean_var_winter*10)/10\n",
    "sw=np.trunc(sigma_var_winter*10)/10\n",
    "\n",
    "ms=np.trunc(mean_var_summer*10)/10\n",
    "ss=np.trunc(sigma_var_summer*10)/10"
   ]
  },
  {
   "cell_type": "code",
   "execution_count": null,
   "metadata": {},
   "outputs": [],
   "source": [
    "title = \"Yearly variation of {}({}) (year {}), summer : {} +/- {}, winter : {} +/- {}\".format(VAR_title,VAR_unit,YEARSTR,ms,ss,mw,sw)"
   ]
  },
  {
   "cell_type": "code",
   "execution_count": null,
   "metadata": {},
   "outputs": [],
   "source": [
    "plt.figure(figsize=(14,8))\n",
    "n, bins, patches = plt.hist(var_winter, 50, range=(VAR_min,VAR_max),normed=False, facecolor='blue', alpha=0.75,label='winter')\n",
    "n, bins, patches = plt.hist(var_summer, 50, range=(VAR_min,VAR_max),normed=False, facecolor='red', alpha=0.75,label='summer')\n",
    "plt.title(title)\n",
    "xtitle=VAR_name+' ('+VAR_unit+' )' \n",
    "plt.xlabel(xtitle)\n",
    "figfilename='Histo_'+VAR_name+'_'+YEARSTR+'_WinterSummer.png'\n",
    "plt.legend()\n",
    "plt.savefig(figfilename)"
   ]
  },
  {
   "cell_type": "code",
   "execution_count": null,
   "metadata": {},
   "outputs": [],
   "source": []
  }
 ],
 "metadata": {
  "anaconda-cloud": {},
  "kernelspec": {
   "display_name": "Python 2",
   "language": "python",
   "name": "python2"
  },
  "language_info": {
   "codemirror_mode": {
    "name": "ipython",
    "version": 2
   },
   "file_extension": ".py",
   "mimetype": "text/x-python",
   "name": "python",
   "nbconvert_exporter": "python",
   "pygments_lexer": "ipython2",
   "version": "2.7.15"
  },
  "toc": {
   "nav_menu": {
    "height": "47px",
    "width": "252px"
   },
   "number_sections": true,
   "sideBar": true,
   "skip_h1_title": false,
   "toc_cell": false,
   "toc_position": {},
   "toc_section_display": "block",
   "toc_window_display": false
  }
 },
 "nbformat": 4,
 "nbformat_minor": 2
}
