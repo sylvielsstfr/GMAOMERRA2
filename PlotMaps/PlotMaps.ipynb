{
 "cells": [
  {
   "cell_type": "markdown",
   "id": "268d7b54-21af-459a-a566-9925fda3c83e",
   "metadata": {},
   "source": [
    "## Plot maps\n",
    "\n",
    "brew install geos\n",
    "pip install numpy matplotlib pyproj six Pillow\n",
    "- `conda install -c conda-forge basemap`\n",
    "- conda install -c conda-forge basemap-data-hires \n",
    "- on my laptop conda_py312"
   ]
  },
  {
   "cell_type": "code",
   "execution_count": 4,
   "id": "150343a5-875b-41b6-955e-e97e217c11b7",
   "metadata": {},
   "outputs": [],
   "source": [
    "from libGMAOMERRA2Data import *"
   ]
  },
  {
   "cell_type": "code",
   "execution_count": null,
   "id": "39dbe121-e6ba-4d3c-9f52-ee0487535b5c",
   "metadata": {},
   "outputs": [],
   "source": [
    "import os\n",
    "os.environ['PROJ_LIB'] = r'C:\\ProgramData\\Anaconda3\\pkgs\\proj4-5.2.0-h6538335_1006\\Library\\share  "
   ]
  },
  {
   "cell_type": "code",
   "execution_count": 5,
   "id": "325c556c-b90b-424d-afc7-accb5df8ff31",
   "metadata": {},
   "outputs": [
    {
     "ename": "ModuleNotFoundError",
     "evalue": "No module named 'mpl_toolkits.basemap'",
     "output_type": "error",
     "traceback": [
      "\u001b[0;31m---------------------------------------------------------------------------\u001b[0m",
      "\u001b[0;31mModuleNotFoundError\u001b[0m                       Traceback (most recent call last)",
      "Cell \u001b[0;32mIn[5], line 5\u001b[0m\n\u001b[1;32m      3\u001b[0m \u001b[38;5;28;01mimport\u001b[39;00m\u001b[38;5;250m \u001b[39m\u001b[38;5;21;01mmatplotlib\u001b[39;00m\u001b[38;5;250m \u001b[39m\u001b[38;5;28;01mas\u001b[39;00m\u001b[38;5;250m \u001b[39m\u001b[38;5;21;01mmpl\u001b[39;00m\n\u001b[1;32m      4\u001b[0m \u001b[38;5;28;01mimport\u001b[39;00m\u001b[38;5;250m \u001b[39m\u001b[38;5;21;01mmatplotlib\u001b[39;00m\u001b[38;5;21;01m.\u001b[39;00m\u001b[38;5;21;01mpyplot\u001b[39;00m\u001b[38;5;250m \u001b[39m\u001b[38;5;28;01mas\u001b[39;00m\u001b[38;5;250m \u001b[39m\u001b[38;5;21;01mplt\u001b[39;00m\n\u001b[0;32m----> 5\u001b[0m \u001b[38;5;28;01mfrom\u001b[39;00m\u001b[38;5;250m \u001b[39m\u001b[38;5;21;01mmpl_toolkits\u001b[39;00m\u001b[38;5;21;01m.\u001b[39;00m\u001b[38;5;21;01mbasemap\u001b[39;00m\u001b[38;5;250m \u001b[39m\u001b[38;5;28;01mimport\u001b[39;00m Basemap\n\u001b[1;32m      6\u001b[0m \u001b[38;5;28;01mimport\u001b[39;00m\u001b[38;5;250m \u001b[39m\u001b[38;5;21;01mnumpy\u001b[39;00m\u001b[38;5;250m \u001b[39m\u001b[38;5;28;01mas\u001b[39;00m\u001b[38;5;250m \u001b[39m\u001b[38;5;21;01mnp\u001b[39;00m\n\u001b[1;32m      8\u001b[0m \u001b[38;5;28;01mimport\u001b[39;00m\u001b[38;5;250m \u001b[39m\u001b[38;5;21;01mh5py\u001b[39;00m\n",
      "\u001b[0;31mModuleNotFoundError\u001b[0m: No module named 'mpl_toolkits.basemap'"
     ]
    }
   ],
   "source": [
    "import os\n",
    "import re\n",
    "import matplotlib as mpl\n",
    "import matplotlib.pyplot as plt\n",
    "from mpl_toolkits.basemap import Basemap\n",
    "import numpy as np\n",
    "\n",
    "import h5py"
   ]
  },
  {
   "cell_type": "code",
   "execution_count": null,
   "id": "197b43f5-3ec6-488f-99cb-d52ed4bb14f1",
   "metadata": {},
   "outputs": [],
   "source": [
    "    DATAFIELD_NAME =  'TO3'\n",
    "    DATAFIELD_UNIT = DATAFIELD_NAME+' (Ozone:Db) '\n",
    "    \n",
    "    DATAFIELD_NAME =  'TQV'\n",
    "    DATAFIELD_UNIT = DATAFIELD_NAME+' (PWV:mm) '\n",
    "    \n",
    "    #os.environ[\"HDFEOS_ZOO_DIR\"] = \"/Users/dagoret-campagnesylvie/MacOSX/LSST/MyWork/GitHub/GMAOMERRA2data/inst1_2d_asm_Nx_M2I1NXASM\"\n",
    "    #os.environ[\"HDFEOS_ZOO_DIR\"] = \"/sps/lsst/data/AtmosphericCalibration/MERRA-2/May-Jun-2017/subset_M2I1NXASM_V5.12.4_20180424_201411\"\n",
    "    os.environ[\"HDFEOS_ZOO_DIR\"] = \"/Users/dagoret/DATA/MERRA2/inst1_2d_asm_Nx_M2I1NXASM/2025\"\n",
    "\n",
    "    # If a certain environment variable is set, look there for the input\n",
    "    # file, otherwise look in the current directory.\n",
    "    #hdffile = 'MERRA2_400.inst1_2d_asm_Nx.20161001.nc4'\n",
    "    hdffile = 'MERRA2_400.inst1_2d_asm_Nx.20250101.nc4'\n",
    "    \n",
    "   \n",
    "    FILE_NAME= hdffile\n",
    "    \n",
    "    base_filename=os.path.basename(FILE_NAME).split('.hdf')[0]\n",
    "    p = re.compile('[.]')\n",
    "    root_filename=p.sub('_',base_filename)    \n",
    "    rootimg_dir=os.path.join('test_images',root_filename)\n",
    "    \n",
    "    try:\n",
    "        FILE_NAME = os.path.join(os.environ['HDFEOS_ZOO_DIR'], hdffile)\n",
    "    except KeyError:\n",
    "        pass\n",
    "\n",
    "    "
   ]
  }
 ],
 "metadata": {
  "kernelspec": {
   "display_name": "conda_py312",
   "language": "python",
   "name": "conda_py312"
  },
  "language_info": {
   "codemirror_mode": {
    "name": "ipython",
    "version": 3
   },
   "file_extension": ".py",
   "mimetype": "text/x-python",
   "name": "python",
   "nbconvert_exporter": "python",
   "pygments_lexer": "ipython3",
   "version": "3.11.11"
  }
 },
 "nbformat": 4,
 "nbformat_minor": 5
}
