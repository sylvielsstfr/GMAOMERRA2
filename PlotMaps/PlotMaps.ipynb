{
 "cells": [
  {
   "cell_type": "markdown",
   "id": "268d7b54-21af-459a-a566-9925fda3c83e",
   "metadata": {},
   "source": [
    "## Plot maps\n",
    "\n",
    "- author : Sylvie Dagoret-Campagne\n",
    "- affiliation : IJCLab/IN2P3/CNRS\n",
    "- creation : 2025-03-25\n",
    "- at CCIN2P3 : Kernel anaconda2025-py311\n",
    "- `conda install -c conda-forge basemap`\n",
    "- `conda install -c conda-forge basemap-data-hires` \n"
   ]
  },
  {
   "cell_type": "code",
   "execution_count": null,
   "id": "150343a5-875b-41b6-955e-e97e217c11b7",
   "metadata": {},
   "outputs": [],
   "source": [
    "from libGMAOMERRA2Data import *"
   ]
  },
  {
   "cell_type": "code",
   "execution_count": null,
   "id": "14f394c9-ab26-4738-ab68-0192b131ac16",
   "metadata": {},
   "outputs": [],
   "source": [
    "all_longs"
   ]
  },
  {
   "cell_type": "code",
   "execution_count": null,
   "id": "30e67bde-88d8-4e0b-84b9-7f84cba031a8",
   "metadata": {},
   "outputs": [],
   "source": [
    "all_lats"
   ]
  },
  {
   "cell_type": "code",
   "execution_count": null,
   "id": "bbd96974-7c46-4a4b-8425-8df46a7f6550",
   "metadata": {},
   "outputs": [],
   "source": [
    "all_tags"
   ]
  },
  {
   "cell_type": "code",
   "execution_count": null,
   "id": "325c556c-b90b-424d-afc7-accb5df8ff31",
   "metadata": {},
   "outputs": [],
   "source": [
    "import os\n",
    "import re\n",
    "import matplotlib as mpl\n",
    "import matplotlib.pyplot as plt\n",
    "from mpl_toolkits.basemap import Basemap\n",
    "import numpy as np\n",
    "\n",
    "import h5py"
   ]
  },
  {
   "cell_type": "code",
   "execution_count": null,
   "id": "08f1efd6-4afe-4c0c-98c2-1b593f8ef2a8",
   "metadata": {},
   "outputs": [],
   "source": [
    "# Remove to run faster the notebook\n",
    "# conda install -c conda-forge ipywidgets\n",
    "# pip install ipywidgets\n",
    "# Not working\n",
    "#import ipywidgets as widgets\n",
    "#%matplotlib widget"
   ]
  },
  {
   "cell_type": "markdown",
   "id": "21834a8f-519b-4fe6-8fcc-4a7b34c94027",
   "metadata": {},
   "source": [
    "## Select data"
   ]
  },
  {
   "cell_type": "code",
   "execution_count": null,
   "id": "197b43f5-3ec6-488f-99cb-d52ed4bb14f1",
   "metadata": {},
   "outputs": [],
   "source": [
    "#DATAFIELD_NAME =  'TO3'\n",
    "#DATAFIELD_UNIT = DATAFIELD_NAME+' (Ozone:Db) '\n",
    "    \n",
    "DATAFIELD_NAME =  'TQV'\n",
    "DATAFIELD_UNIT = DATAFIELD_NAME+' (PWV:mm) '\n",
    "    \n",
    "\n",
    "os.environ[\"HDFEOS_ZOO_DIR\"] = \"/Users/dagoret/DATA/MERRA2/inst1_2d_asm_Nx_M2I1NXASM/2025\"\n",
    "os.environ[\"HDFEOS_ZOO_DIR\"] =  \"/sps/lsst/groups/auxtel/MERRA2/data/inst1_2d_asm_Nx_M2I1NXASM/2025\"\n",
    "\n",
    "# If a certain environment variable is set, look there for the input\n",
    "# file, otherwise look in the current directory.\n",
    "   \n",
    "hdffile = 'MERRA2_400.inst1_2d_asm_Nx.20250101.nc4'\n",
    "    \n",
    "   \n",
    "FILE_NAME= hdffile\n",
    "    \n",
    "base_filename=os.path.basename(FILE_NAME).split('.hdf')[0]\n",
    "p = re.compile('[.]')\n",
    "root_filename=p.sub('_',base_filename)    \n",
    "rootimg_dir=os.path.join('test_images',root_filename)\n",
    "    \n",
    "try:\n",
    "    FILE_NAME = os.path.join(os.environ['HDFEOS_ZOO_DIR'], hdffile)\n",
    "except KeyError:\n",
    "    pass\n",
    " "
   ]
  },
  {
   "cell_type": "markdown",
   "id": "3705e45a-fc7b-45c4-9b68-29f749711935",
   "metadata": {},
   "source": [
    "## Access to data"
   ]
  },
  {
   "cell_type": "code",
   "execution_count": null,
   "id": "c6ee7d1d-25d0-4840-8fe8-7faf44795acb",
   "metadata": {},
   "outputs": [],
   "source": [
    "(data3D,unit,longname) = GetGeoRefData(FILE_NAME,DATAFIELD_NAME)\n",
    "    \n",
    "data= data3D[0,:,:] ## the first index is the time, for example take the first one\n",
    "    \n",
    "(lat,un_lat,nm_lat) = Get1DData(FILE_NAME,'lat')\n",
    "latitude = lat[:]\n",
    "(lon,un_lon,nm_lon) = Get1DData(FILE_NAME,'lon')\n",
    "longitude = lon[:]\n",
    "(tim,un_tim,nm_tim) = Get1DData(FILE_NAME,'time')\n",
    "thetime=tim[:]"
   ]
  },
  {
   "cell_type": "markdown",
   "id": "4c2426bd-c6a7-48bd-a092-53f304a25809",
   "metadata": {},
   "source": [
    "## Spacing in longitude and latitudes"
   ]
  },
  {
   "cell_type": "code",
   "execution_count": null,
   "id": "68c66e72-0567-4a55-b98f-e5a8d2e1ae29",
   "metadata": {},
   "outputs": [],
   "source": [
    "spacing_long = np.median(np.diff(longitude))\n",
    "spacing_long"
   ]
  },
  {
   "cell_type": "code",
   "execution_count": null,
   "id": "18049fd6-0060-46e7-9e4e-44f9991e5808",
   "metadata": {},
   "outputs": [],
   "source": [
    "spacing_lat = np.median(np.diff(latitude))\n",
    "spacing_lat"
   ]
  },
  {
   "cell_type": "code",
   "execution_count": null,
   "id": "1d8d0a3b-1328-4451-bef2-4b62f1c1e416",
   "metadata": {},
   "outputs": [],
   "source": [
    "np.median(np.diff(thetime))"
   ]
  },
  {
   "cell_type": "markdown",
   "id": "a2365054-1997-47e3-b2f3-1d7997ef4407",
   "metadata": {},
   "source": [
    "### Compute distances at LSST site"
   ]
  },
  {
   "cell_type": "code",
   "execution_count": null,
   "id": "43bf83be-aae6-4864-8e11-f5048a7b9903",
   "metadata": {},
   "outputs": [],
   "source": [
    "origin = (Latitude_lsst, Longitude_lsst)  # LSST\n",
    "destination_parallel = (Latitude_lsst, Longitude_lsst+spacing_long )  \n",
    "destination_meridian = (Latitude_lsst + spacing_lat, Longitude_lsst)  "
   ]
  },
  {
   "cell_type": "code",
   "execution_count": null,
   "id": "4032e3ca-43d4-4364-95f2-0122e9a8c17c",
   "metadata": {},
   "outputs": [],
   "source": [
    "distance_parallel = haversine_distance(origin, destination_parallel)\n",
    "distance_parallel"
   ]
  },
  {
   "cell_type": "code",
   "execution_count": null,
   "id": "364e9cbc-0c29-4c7b-afab-be0a7bdb9842",
   "metadata": {},
   "outputs": [],
   "source": [
    "distance_meridian = haversine_distance(origin, destination_meridian)\n",
    "distance_meridian"
   ]
  },
  {
   "cell_type": "markdown",
   "id": "1c8ddac9-40b3-4c10-9540-9daf2fe0645e",
   "metadata": {},
   "source": [
    "## Plot maps"
   ]
  },
  {
   "cell_type": "code",
   "execution_count": null,
   "id": "e57edbc4-9fa5-4299-b4e8-779570249dfb",
   "metadata": {},
   "outputs": [],
   "source": [
    "X,Y=np.meshgrid(longitude,latitude)\n",
    "longitude=X\n",
    "latitude=Y"
   ]
  },
  {
   "cell_type": "code",
   "execution_count": null,
   "id": "2dc373be-241b-4095-a27f-6b539b8058c5",
   "metadata": {},
   "outputs": [],
   "source": [
    "PlotData(longitude,latitude,data,12,6,title=base_filename,labelz=longname,\n",
    "        longs=all_longs,\n",
    "        lats=all_lats,\n",
    "        tags=all_tags)"
   ]
  },
  {
   "cell_type": "code",
   "execution_count": null,
   "id": "d0d4ad7e-cf1f-443e-bb4f-560ba7c0ae3c",
   "metadata": {},
   "outputs": [],
   "source": [
    "PlotGeoData(longitude,latitude,data,12,8,title=base_filename,labelz=longname,\n",
    "            longs=all_longs,\n",
    "            lats=all_lats,\n",
    "            tags=all_tags)"
   ]
  },
  {
   "cell_type": "code",
   "execution_count": null,
   "id": "2ec890eb-5251-4e1f-91ef-546ea3718f66",
   "metadata": {},
   "outputs": [],
   "source": [
    "# Select area\n",
    "LongMin=-90\n",
    "LongMax=-30\n",
    "LatMin=-55\n",
    "LatMax=15  \n",
    "    \n",
    "PlotGeoData2(longitude,latitude,data,LatMin,LatMax,LongMin,LongMax,10,14,title=base_filename,labelz=longname,\n",
    "            longs=all_longs,\n",
    "            lats=all_lats,\n",
    "            tags=all_tags)"
   ]
  },
  {
   "cell_type": "code",
   "execution_count": null,
   "id": "8c231c32-1d8b-4d90-9a17-aa44f3488760",
   "metadata": {},
   "outputs": [],
   "source": [
    "#m.scatter(x,y,3,marker='o',color='k')"
   ]
  },
  {
   "cell_type": "code",
   "execution_count": null,
   "id": "1219e60d-82eb-476b-9050-bdc546007ad5",
   "metadata": {},
   "outputs": [],
   "source": [
    "# Select area\n",
    "LongMin=-80\n",
    "LongMax=-60\n",
    "LatMin=-40\n",
    "LatMax=-20 \n",
    "    \n",
    "PlotGeoData2(longitude,latitude,data,LatMin,LatMax,LongMin,LongMax,14,8,title=base_filename,labelz=longname,\n",
    "            longs=all_longs,\n",
    "            lats=all_lats,\n",
    "            tags=all_tags,vrange=[0,50])"
   ]
  },
  {
   "cell_type": "code",
   "execution_count": null,
   "id": "39016424-f114-44ac-99b4-66eed5a8ad9a",
   "metadata": {},
   "outputs": [],
   "source": [
    "# Select area\n",
    "LongMin=-75\n",
    "LongMax=-65\n",
    "LatMin=-35\n",
    "LatMax=-25 \n",
    "    \n",
    "PlotGeoData2(longitude,latitude,data,LatMin,LatMax,LongMin,LongMax,14,8,title=base_filename,labelz=longname,\n",
    "            longs=all_longs,\n",
    "            lats=all_lats,\n",
    "            tags=all_tags,vrange=[0,50])"
   ]
  },
  {
   "cell_type": "code",
   "execution_count": null,
   "id": "f3479897-a4a0-4f21-949d-ed31bd37a677",
   "metadata": {},
   "outputs": [],
   "source": [
    "# Select area\n",
    "LongMin=-73\n",
    "LongMax=-67\n",
    "LatMin=-33\n",
    "LatMax=-27 \n",
    "    \n",
    "PlotGeoData2(longitude,latitude,data,LatMin,LatMax,LongMin,LongMax,14,8,title=base_filename,labelz=longname,\n",
    "            longs=all_longs,\n",
    "            lats=all_lats,\n",
    "            tags=all_tags,vrange=[0,50])"
   ]
  },
  {
   "cell_type": "code",
   "execution_count": null,
   "id": "a6f2926d-9296-4329-85ed-06e4c420f6f3",
   "metadata": {},
   "outputs": [],
   "source": [
    "# Select area\n",
    "LongMin=-130\n",
    "LongMax=-100\n",
    "LatMin=20\n",
    "LatMax=50 \n",
    "    \n",
    "PlotGeoData2(longitude,latitude,data,LatMin,LatMax,LongMin,LongMax,14,8,title=base_filename,labelz=longname,\n",
    "            longs=all_longs,\n",
    "            lats=all_lats,\n",
    "            tags=all_tags,vrange=[0,20])"
   ]
  },
  {
   "cell_type": "code",
   "execution_count": null,
   "id": "8ec8b2d1-ee1f-4f3d-baf1-f2463a3ba6c7",
   "metadata": {},
   "outputs": [],
   "source": [
    "# Select area\n",
    "LongMin=-120\n",
    "LongMax=-110\n",
    "LatMin=30\n",
    "LatMax=40 \n",
    "    \n",
    "PlotGeoData2(longitude,latitude,data,LatMin,LatMax,LongMin,LongMax,14,8,title=base_filename,labelz=longname,\n",
    "            longs=all_longs,\n",
    "            lats=all_lats,\n",
    "            tags=all_tags,vrange=[0,20])"
   ]
  },
  {
   "cell_type": "code",
   "execution_count": null,
   "id": "03346958-e6d1-4cdf-9119-167d82357f9c",
   "metadata": {},
   "outputs": [],
   "source": []
  }
 ],
 "metadata": {
  "kernelspec": {
   "display_name": "anaconda2025-py311",
   "language": "python",
   "name": "anaconda2025-py311"
  },
  "language_info": {
   "codemirror_mode": {
    "name": "ipython",
    "version": 3
   },
   "file_extension": ".py",
   "mimetype": "text/x-python",
   "name": "python",
   "nbconvert_exporter": "python",
   "pygments_lexer": "ipython3",
   "version": "3.11.11"
  }
 },
 "nbformat": 4,
 "nbformat_minor": 5
}
