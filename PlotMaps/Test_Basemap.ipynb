{
 "cells": [
  {
   "cell_type": "markdown",
   "id": "d2b3090f-da45-4f69-b0ea-e362182910aa",
   "metadata": {},
   "source": [
    "# Test Basemap"
   ]
  },
  {
   "cell_type": "markdown",
   "id": "a054b324-04b4-42f7-bf29-a5e656cbddb1",
   "metadata": {},
   "source": [
    "- author : Sylvie Dagoret-Campagne\n",
    "- affiliation : IJCLab/IN2P3/CNRS\n",
    "- creation : 2025-03-25\n",
    "- at CCIN2P3 : Kernel anaconda2025-py311\n",
    "- `conda install -c conda-forge basemap`\n",
    "- `conda install -c conda-forge basemap-data-hires` "
   ]
  },
  {
   "cell_type": "code",
   "execution_count": null,
   "id": "0b6d23d6-3c22-4279-9165-b9ca4b923de0",
   "metadata": {},
   "outputs": [],
   "source": [
    "import matplotlib.pyplot as plt  \n",
    "from mpl_toolkits.basemap import Basemap  \n",
    "import numpy as np"
   ]
  },
  {
   "cell_type": "code",
   "execution_count": null,
   "id": "575d112f-1a37-4560-8de3-b9b5d187d2a5",
   "metadata": {},
   "outputs": [],
   "source": [
    "def draw_map():  \n",
    "    map = Basemap(projection='merc', llcrnrlat=-84, urcrnrlat=84, llcrnrlon=-180, urcrnrlon=180, resolution='c')  \n",
    "    map.drawcoastlines()  \n",
    "    #map.fillcontinents(color='lightgreen',lake_color='aqua')\n",
    "    map.fillcontinents(color='#cc9966',lake_color='#99ffff')\n",
    "    map.drawcountries()  \n",
    "    map.drawparallels(np.arange(-90.,91.,30.),labels=[False,True,True,False])\n",
    "    map.drawmeridians(np.arange(-180.,181.,60.),labels=[False,True,True,False])\n",
    "    map.drawmapboundary(fill_color='aqua') \n",
    "    plt.show() "
   ]
  },
  {
   "cell_type": "code",
   "execution_count": null,
   "id": "44016bd3-9e2f-47e0-b25c-08e3fbec4c45",
   "metadata": {},
   "outputs": [],
   "source": [
    "draw_map()"
   ]
  },
  {
   "cell_type": "code",
   "execution_count": null,
   "id": "c6ff3200-7692-468d-934f-f5dc05397fd3",
   "metadata": {},
   "outputs": [],
   "source": []
  }
 ],
 "metadata": {
  "kernelspec": {
   "display_name": "anaconda2025-py311",
   "language": "python",
   "name": "anaconda2025-py311"
  },
  "language_info": {
   "codemirror_mode": {
    "name": "ipython",
    "version": 3
   },
   "file_extension": ".py",
   "mimetype": "text/x-python",
   "name": "python",
   "nbconvert_exporter": "python",
   "pygments_lexer": "ipython3",
   "version": "3.11.11"
  }
 },
 "nbformat": 4,
 "nbformat_minor": 5
}
