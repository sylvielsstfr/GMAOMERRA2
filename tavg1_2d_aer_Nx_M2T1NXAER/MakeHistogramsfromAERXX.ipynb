{
 "cells": [
  {
   "cell_type": "markdown",
   "metadata": {},
   "source": [
    "# Make histogramms for any quantities\n",
    "\n",
    "- author Sylvie Dagoret-Campagne\n",
    "- creation date October 18th 2018\n",
    "- update December 2022"
   ]
  },
  {
   "cell_type": "code",
   "execution_count": null,
   "metadata": {},
   "outputs": [],
   "source": [
    "# Set up matplotlib and use a nicer set of plot parameters\n",
    "%config InlineBackend.rc = {}\n",
    "import matplotlib\n",
    "import matplotlib as mpl\n",
    "matplotlib.rc_file(\"templates/matplotlibrc\")\n",
    "import matplotlib.pyplot as plt\n",
    "import matplotlib.mlab as mlab\n",
    "%matplotlib inline"
   ]
  },
  {
   "cell_type": "code",
   "execution_count": null,
   "metadata": {},
   "outputs": [],
   "source": [
    "import os\n",
    "import re\n",
    "import numpy as np\n",
    "#from mpl_toolkits.basemap import Basemap\n",
    "from matplotlib import colors\n",
    "from matplotlib.backends.backend_pdf import PdfPages\n",
    "import pandas as pd"
   ]
  },
  {
   "cell_type": "code",
   "execution_count": null,
   "metadata": {},
   "outputs": [],
   "source": [
    "import datetime as dt"
   ]
  },
  {
   "cell_type": "code",
   "execution_count": null,
   "metadata": {},
   "outputs": [],
   "source": [
    "YEARSTR=\"2022\"\n",
    "YEARNUM=int(YEARSTR)"
   ]
  },
  {
   "cell_type": "code",
   "execution_count": null,
   "metadata": {},
   "outputs": [],
   "source": [
    "#VAR_name='TOTANGSTR'\n",
    "#VAR_title='Angstrom Parameter'\n",
    "#VAR_unit='@470-870nm'\n",
    "#VAR_min=0\n",
    "#VAR_max=2"
   ]
  },
  {
   "cell_type": "code",
   "execution_count": null,
   "metadata": {},
   "outputs": [],
   "source": [
    "VAR_name='TOTEXTTAU'\n",
    "VAR_title='Extinction'\n",
    "VAR_unit='@550nm'\n",
    "VAR_min=0\n",
    "VAR_max=0.5"
   ]
  },
  {
   "cell_type": "code",
   "execution_count": null,
   "metadata": {},
   "outputs": [],
   "source": [
    "obs=\"lsst\""
   ]
  },
  {
   "cell_type": "code",
   "execution_count": null,
   "metadata": {},
   "outputs": [],
   "source": [
    "yearfile=\"MERRA2_\"+YEARSTR+\"_tavg1_2d_aer_Nx_M2T1NXAER_\" + obs + \"_AllYear.csv\""
   ]
  },
  {
   "cell_type": "code",
   "execution_count": null,
   "metadata": {},
   "outputs": [],
   "source": [
    "yearfile"
   ]
  },
  {
   "cell_type": "code",
   "execution_count": null,
   "metadata": {},
   "outputs": [],
   "source": [
    "df_year=pd.read_csv(yearfile)"
   ]
  },
  {
   "cell_type": "code",
   "execution_count": null,
   "metadata": {},
   "outputs": [],
   "source": [
    "df_year.head()"
   ]
  },
  {
   "cell_type": "markdown",
   "metadata": {},
   "source": [
    "## Per year"
   ]
  },
  {
   "cell_type": "code",
   "execution_count": null,
   "metadata": {},
   "outputs": [],
   "source": [
    "df_year.describe()"
   ]
  },
  {
   "cell_type": "code",
   "execution_count": null,
   "metadata": {},
   "outputs": [],
   "source": [
    "df_year.quantile([0.05,0.1,0.5,0.9,0.95])"
   ]
  },
  {
   "cell_type": "code",
   "execution_count": null,
   "metadata": {},
   "outputs": [],
   "source": [
    "var_year=df_year[VAR_name]"
   ]
  },
  {
   "cell_type": "code",
   "execution_count": null,
   "metadata": {},
   "outputs": [],
   "source": [
    "var_year.replace(to_replace=0, value=np.nan)"
   ]
  },
  {
   "cell_type": "code",
   "execution_count": null,
   "metadata": {},
   "outputs": [],
   "source": [
    "mean_var_y = np.mean(var_year)\n",
    "variance_var_y = np.var(var_year)\n",
    "sigma_var_y = np.sqrt(variance_var_y)"
   ]
  },
  {
   "cell_type": "code",
   "execution_count": null,
   "metadata": {},
   "outputs": [],
   "source": [
    "mean_var_y=np.trunc(mean_var_y*1000)/1000\n",
    "sigma_var_y=np.trunc(sigma_var_y*1000)/1000"
   ]
  },
  {
   "cell_type": "code",
   "execution_count": null,
   "metadata": {},
   "outputs": [],
   "source": []
  },
  {
   "cell_type": "code",
   "execution_count": null,
   "metadata": {},
   "outputs": [],
   "source": [
    "title = \"Yearly variation of {} (year {}), mean = {} std = {}\".format(VAR_title,YEARSTR,mean_var_y ,sigma_var_y)"
   ]
  },
  {
   "cell_type": "code",
   "execution_count": null,
   "metadata": {},
   "outputs": [],
   "source": [
    "plt.figure(figsize=(14,8))\n",
    "n, bins, patches = plt.hist(var_year, 50, density=False, facecolor='blue', alpha=0.75)\n",
    "plt.title(title)\n",
    "xtitle=VAR_name+' ('+VAR_unit+' )' \n",
    "plt.xlabel(xtitle)\n",
    "figfilename='Histo_'+VAR_name+'_'+YEARSTR+'_allyear.png'\n",
    "plt.savefig(figfilename)"
   ]
  },
  {
   "cell_type": "markdown",
   "metadata": {},
   "source": [
    "# Selection of a period"
   ]
  },
  {
   "cell_type": "code",
   "execution_count": null,
   "metadata": {},
   "outputs": [],
   "source": [
    "df_year['time'].values"
   ]
  },
  {
   "cell_type": "code",
   "execution_count": null,
   "metadata": {},
   "outputs": [],
   "source": [
    "all_datetime=pd.to_datetime(df_year['time'].values)"
   ]
  },
  {
   "cell_type": "code",
   "execution_count": null,
   "metadata": {},
   "outputs": [],
   "source": [
    "all_datetime"
   ]
  },
  {
   "cell_type": "code",
   "execution_count": null,
   "metadata": {},
   "outputs": [],
   "source": [
    "if obs == \"lsst\":\n",
    "    summer_time_index=np.where(np.logical_and(all_datetime>dt.datetime(YEARNUM,1,1),all_datetime<dt.datetime(YEARNUM,3,31)))\n",
    "    winter_time_index=np.where(np.logical_and(all_datetime>dt.datetime(YEARNUM,6,1),all_datetime<dt.datetime(YEARNUM,8,31)))\n",
    "else:\n",
    "    winter_time_index=np.where(np.logical_and(all_datetime>dt.datetime(YEARNUM,1,1),all_datetime<dt.datetime(YEARNUM,3,31)))\n",
    "    summer_time_index=np.where(np.logical_and(all_datetime>dt.datetime(YEARNUM,6,1),all_datetime<dt.datetime(YEARNUM,8,31)))\n",
    "    "
   ]
  },
  {
   "cell_type": "code",
   "execution_count": null,
   "metadata": {},
   "outputs": [],
   "source": [
    "var_winter=var_year.values[winter_time_index]\n",
    "var_summer=var_year.values[summer_time_index]"
   ]
  },
  {
   "cell_type": "code",
   "execution_count": null,
   "metadata": {},
   "outputs": [],
   "source": [
    "mean_var_winter = np.mean(var_winter)\n",
    "median_var_winter = np.median(var_winter)\n",
    "variance_var_winter = np.var(var_winter)\n",
    "sigma_var_winter = np.std(var_winter)\n",
    "sigmamed_var_winter = np.std(var_winter-median_var_winter)"
   ]
  },
  {
   "cell_type": "code",
   "execution_count": null,
   "metadata": {},
   "outputs": [],
   "source": [
    "mean_var_summer = np.mean(var_summer)\n",
    "median_var_summer = np.median(var_summer)\n",
    "variance_var_summer = np.var(var_summer)\n",
    "sigma_var_summer = np.std(var_summer)\n",
    "sigmamed_var_summer = np.std(var_summer-median_var_summer)"
   ]
  },
  {
   "cell_type": "code",
   "execution_count": null,
   "metadata": {},
   "outputs": [],
   "source": [
    "mw=np.trunc(mean_var_winter*1000)/1000\n",
    "medw=np.trunc(median_var_winter*1000)/1000\n",
    "sw=np.trunc(sigma_var_winter*1000)/1000\n",
    "smedw=np.trunc(sigmamed_var_winter*1000)/1000\n",
    "\n",
    "ms=np.trunc(mean_var_summer*1000)/1000\n",
    "ss=np.trunc(sigma_var_summer*1000)/1000\n",
    "meds=np.trunc(median_var_summer*1000)/1000\n",
    "smeds=np.trunc(sigmamed_var_summer*1000)/1000"
   ]
  },
  {
   "cell_type": "code",
   "execution_count": null,
   "metadata": {},
   "outputs": [],
   "source": [
    "textstr_s = '\\n'.join((\"summer:\",\n",
    "    r'$\\mu=%.3f$' % (ms, ),\n",
    "    r'$\\mathrm{median}=%.3f$' % (meds, ),\n",
    "    r'$\\sigma_{med}=%.3f$' % (smeds, )))"
   ]
  },
  {
   "cell_type": "code",
   "execution_count": null,
   "metadata": {},
   "outputs": [],
   "source": [
    "textstr_w = '\\n'.join((\"winter:\",\n",
    "    r'$\\mu=%.3f$' % (mw, ),\n",
    "    r'$\\mathrm{median}=%.3f$' % (medw, ),\n",
    "    r'$\\sigma_{med}=%.3f$' % (smedw, )))"
   ]
  },
  {
   "cell_type": "code",
   "execution_count": null,
   "metadata": {},
   "outputs": [],
   "source": [
    "title = \"Yearly variation of {}({}) (year {}), summer : {} +/- {}, winter : {} +/- {}\".format(VAR_title,VAR_unit,YEARSTR,ms,ss,mw,sw)"
   ]
  },
  {
   "cell_type": "code",
   "execution_count": null,
   "metadata": {},
   "outputs": [],
   "source": [
    "fig,ax=plt.subplots(1,1,figsize=(14,8))\n",
    "n, bins, patches = ax.hist(var_winter, 50, range=(VAR_min,VAR_max),density=False, facecolor='blue', alpha=0.75,label='winter')\n",
    "n, bins, patches = ax.hist(var_summer, 50, range=(VAR_min,VAR_max),density=False, facecolor='red', alpha=0.75,label='summer')\n",
    "ax.set_title(title)\n",
    "xtitle=VAR_name+' ('+VAR_unit+' )' \n",
    "ax.set_xlabel(xtitle)\n",
    "figfilename='Histo_'+VAR_name+'_'+YEARSTR+'_WinterSummer.png'\n",
    "ax.legend()\n",
    "\n",
    "props = dict(boxstyle='round', facecolor='wheat', alpha=0.5)\n",
    "\n",
    "# place a text box in upper left in axes coords\n",
    "ax.text(0.5, 0.95, textstr_w, transform=ax.transAxes, fontsize=14,\n",
    "        verticalalignment='top', bbox=props)\n",
    "\n",
    "ax.text(0.7, 0.95, textstr_s, transform=ax.transAxes, fontsize=14,\n",
    "        verticalalignment='top', bbox=props)\n",
    "\n",
    "plt.savefig(figfilename)"
   ]
  },
  {
   "cell_type": "code",
   "execution_count": null,
   "metadata": {},
   "outputs": [],
   "source": []
  }
 ],
 "metadata": {
  "anaconda-cloud": {},
  "kernelspec": {
   "display_name": "anaconda3_py39_auxtel",
   "language": "python",
   "name": "anaconda3_py39_auxtel"
  },
  "language_info": {
   "codemirror_mode": {
    "name": "ipython",
    "version": 3
   },
   "file_extension": ".py",
   "mimetype": "text/x-python",
   "name": "python",
   "nbconvert_exporter": "python",
   "pygments_lexer": "ipython3",
   "version": "3.9.13"
  },
  "toc": {
   "nav_menu": {
    "height": "47px",
    "width": "252px"
   },
   "number_sections": true,
   "sideBar": true,
   "skip_h1_title": false,
   "toc_cell": false,
   "toc_position": {},
   "toc_section_display": "block",
   "toc_window_display": false
  }
 },
 "nbformat": 4,
 "nbformat_minor": 4
}
