{
 "cells": [
  {
   "cell_type": "markdown",
   "metadata": {},
   "source": [
    "# Make histogramms for any quantities\n",
    "\n",
    "- author Sylvie Dagoret-Campagne\n",
    "- creation date October 18th 2018\n",
    "- update December 2022"
   ]
  },
  {
   "cell_type": "code",
   "execution_count": 1,
   "metadata": {},
   "outputs": [
    {
     "name": "stderr",
     "output_type": "stream",
     "text": [
      "\n",
      "Bad key axes.color_cycle in file templates/matplotlibrc, line 215 ('axes.color_cycle    : 348ABD, 7A68A6, A60628, 467821, CF4457, 188487, E24A33')\n",
      "You probably need to get an updated matplotlibrc file from\n",
      "https://github.com/matplotlib/matplotlib/blob/v3.5.2/matplotlibrc.template\n",
      "or from the matplotlib source distribution\n",
      "\n",
      "Bad key keymap.all_axes in file templates/matplotlibrc, line 393 ('keymap.all_axes : a                 # enable all axes')\n",
      "You probably need to get an updated matplotlibrc file from\n",
      "https://github.com/matplotlib/matplotlib/blob/v3.5.2/matplotlibrc.template\n",
      "or from the matplotlib source distribution\n"
     ]
    }
   ],
   "source": [
    "# Set up matplotlib and use a nicer set of plot parameters\n",
    "%config InlineBackend.rc = {}\n",
    "import matplotlib\n",
    "import matplotlib as mpl\n",
    "matplotlib.rc_file(\"templates/matplotlibrc\")\n",
    "import matplotlib.pyplot as plt\n",
    "import matplotlib.mlab as mlab\n",
    "%matplotlib inline"
   ]
  },
  {
   "cell_type": "code",
   "execution_count": 2,
   "metadata": {},
   "outputs": [],
   "source": [
    "import os\n",
    "import re\n",
    "import numpy as np\n",
    "#from mpl_toolkits.basemap import Basemap\n",
    "from matplotlib import colors\n",
    "from matplotlib.backends.backend_pdf import PdfPages\n",
    "import pandas as pd"
   ]
  },
  {
   "cell_type": "code",
   "execution_count": 3,
   "metadata": {},
   "outputs": [],
   "source": [
    "import datetime as dt"
   ]
  },
  {
   "cell_type": "code",
   "execution_count": 4,
   "metadata": {},
   "outputs": [],
   "source": [
    "YEARSTR=\"2022\"\n",
    "YEARNUM=int(YEARSTR)"
   ]
  },
  {
   "cell_type": "code",
   "execution_count": 5,
   "metadata": {},
   "outputs": [],
   "source": [
    "#VAR_name='TOTANGSTR'\n",
    "#VAR_title='Angstrom Parameter'\n",
    "#VAR_unit='@470-870nm'\n",
    "#VAR_min=0\n",
    "#VAR_max=2"
   ]
  },
  {
   "cell_type": "code",
   "execution_count": 6,
   "metadata": {},
   "outputs": [],
   "source": [
    "VAR_name='TOTEXTTAU'\n",
    "VAR_title='Extinction'\n",
    "VAR_unit='@550nm'\n",
    "VAR_min=0\n",
    "VAR_max=0.5"
   ]
  },
  {
   "cell_type": "code",
   "execution_count": 7,
   "metadata": {},
   "outputs": [],
   "source": [
    "obs=\"lsst\""
   ]
  },
  {
   "cell_type": "code",
   "execution_count": 8,
   "metadata": {},
   "outputs": [],
   "source": [
    "yearfile=\"MERRA2_\"+YEARSTR+\"_tavg1_2d_aer_Nx_M2T1NXAER_\" + obs + \"_AllYear.csv\""
   ]
  },
  {
   "cell_type": "code",
   "execution_count": 9,
   "metadata": {},
   "outputs": [
    {
     "data": {
      "text/plain": [
       "'MERRA2_2022_tavg1_2d_aer_Nx_M2T1NXAER_lsst_AllYear.csv'"
      ]
     },
     "execution_count": 9,
     "metadata": {},
     "output_type": "execute_result"
    }
   ],
   "source": [
    "yearfile"
   ]
  },
  {
   "cell_type": "code",
   "execution_count": 10,
   "metadata": {},
   "outputs": [],
   "source": [
    "df_year=pd.read_csv(yearfile)"
   ]
  },
  {
   "cell_type": "code",
   "execution_count": 11,
   "metadata": {},
   "outputs": [
    {
     "data": {
      "text/html": [
       "<div>\n",
       "<style scoped>\n",
       "    .dataframe tbody tr th:only-of-type {\n",
       "        vertical-align: middle;\n",
       "    }\n",
       "\n",
       "    .dataframe tbody tr th {\n",
       "        vertical-align: top;\n",
       "    }\n",
       "\n",
       "    .dataframe thead th {\n",
       "        text-align: right;\n",
       "    }\n",
       "</style>\n",
       "<table border=\"1\" class=\"dataframe\">\n",
       "  <thead>\n",
       "    <tr style=\"text-align: right;\">\n",
       "      <th></th>\n",
       "      <th>time</th>\n",
       "      <th>TOTANGSTR</th>\n",
       "      <th>TOTEXTTAU</th>\n",
       "      <th>TOTSCATAU</th>\n",
       "    </tr>\n",
       "  </thead>\n",
       "  <tbody>\n",
       "    <tr>\n",
       "      <th>0</th>\n",
       "      <td>2022-01-01 00:30:00</td>\n",
       "      <td>1.340653</td>\n",
       "      <td>0.038421</td>\n",
       "      <td>0.035518</td>\n",
       "    </tr>\n",
       "    <tr>\n",
       "      <th>1</th>\n",
       "      <td>2022-01-01 01:30:00</td>\n",
       "      <td>1.392255</td>\n",
       "      <td>0.035196</td>\n",
       "      <td>0.032427</td>\n",
       "    </tr>\n",
       "    <tr>\n",
       "      <th>2</th>\n",
       "      <td>2022-01-01 02:30:00</td>\n",
       "      <td>1.430206</td>\n",
       "      <td>0.032951</td>\n",
       "      <td>0.030263</td>\n",
       "    </tr>\n",
       "    <tr>\n",
       "      <th>3</th>\n",
       "      <td>2022-01-01 03:30:00</td>\n",
       "      <td>1.443329</td>\n",
       "      <td>0.031118</td>\n",
       "      <td>0.028494</td>\n",
       "    </tr>\n",
       "    <tr>\n",
       "      <th>4</th>\n",
       "      <td>2022-01-01 04:30:00</td>\n",
       "      <td>1.451432</td>\n",
       "      <td>0.029195</td>\n",
       "      <td>0.026646</td>\n",
       "    </tr>\n",
       "  </tbody>\n",
       "</table>\n",
       "</div>"
      ],
      "text/plain": [
       "                  time  TOTANGSTR  TOTEXTTAU  TOTSCATAU\n",
       "0  2022-01-01 00:30:00   1.340653   0.038421   0.035518\n",
       "1  2022-01-01 01:30:00   1.392255   0.035196   0.032427\n",
       "2  2022-01-01 02:30:00   1.430206   0.032951   0.030263\n",
       "3  2022-01-01 03:30:00   1.443329   0.031118   0.028494\n",
       "4  2022-01-01 04:30:00   1.451432   0.029195   0.026646"
      ]
     },
     "execution_count": 11,
     "metadata": {},
     "output_type": "execute_result"
    }
   ],
   "source": [
    "df_year.head()"
   ]
  },
  {
   "cell_type": "markdown",
   "metadata": {},
   "source": [
    "## Per year"
   ]
  },
  {
   "cell_type": "code",
   "execution_count": 12,
   "metadata": {},
   "outputs": [
    {
     "data": {
      "text/html": [
       "<div>\n",
       "<style scoped>\n",
       "    .dataframe tbody tr th:only-of-type {\n",
       "        vertical-align: middle;\n",
       "    }\n",
       "\n",
       "    .dataframe tbody tr th {\n",
       "        vertical-align: top;\n",
       "    }\n",
       "\n",
       "    .dataframe thead th {\n",
       "        text-align: right;\n",
       "    }\n",
       "</style>\n",
       "<table border=\"1\" class=\"dataframe\">\n",
       "  <thead>\n",
       "    <tr style=\"text-align: right;\">\n",
       "      <th></th>\n",
       "      <th>TOTANGSTR</th>\n",
       "      <th>TOTEXTTAU</th>\n",
       "      <th>TOTSCATAU</th>\n",
       "    </tr>\n",
       "  </thead>\n",
       "  <tbody>\n",
       "    <tr>\n",
       "      <th>count</th>\n",
       "      <td>7296.000000</td>\n",
       "      <td>7296.000000</td>\n",
       "      <td>7296.000000</td>\n",
       "    </tr>\n",
       "    <tr>\n",
       "      <th>mean</th>\n",
       "      <td>1.400537</td>\n",
       "      <td>0.053635</td>\n",
       "      <td>0.050607</td>\n",
       "    </tr>\n",
       "    <tr>\n",
       "      <th>std</th>\n",
       "      <td>0.132234</td>\n",
       "      <td>0.049720</td>\n",
       "      <td>0.048682</td>\n",
       "    </tr>\n",
       "    <tr>\n",
       "      <th>min</th>\n",
       "      <td>0.685860</td>\n",
       "      <td>0.008917</td>\n",
       "      <td>0.007832</td>\n",
       "    </tr>\n",
       "    <tr>\n",
       "      <th>25%</th>\n",
       "      <td>1.318884</td>\n",
       "      <td>0.030093</td>\n",
       "      <td>0.027456</td>\n",
       "    </tr>\n",
       "    <tr>\n",
       "      <th>50%</th>\n",
       "      <td>1.403018</td>\n",
       "      <td>0.041051</td>\n",
       "      <td>0.038026</td>\n",
       "    </tr>\n",
       "    <tr>\n",
       "      <th>75%</th>\n",
       "      <td>1.489299</td>\n",
       "      <td>0.059665</td>\n",
       "      <td>0.056177</td>\n",
       "    </tr>\n",
       "    <tr>\n",
       "      <th>max</th>\n",
       "      <td>1.766323</td>\n",
       "      <td>0.839349</td>\n",
       "      <td>0.804171</td>\n",
       "    </tr>\n",
       "  </tbody>\n",
       "</table>\n",
       "</div>"
      ],
      "text/plain": [
       "         TOTANGSTR    TOTEXTTAU    TOTSCATAU\n",
       "count  7296.000000  7296.000000  7296.000000\n",
       "mean      1.400537     0.053635     0.050607\n",
       "std       0.132234     0.049720     0.048682\n",
       "min       0.685860     0.008917     0.007832\n",
       "25%       1.318884     0.030093     0.027456\n",
       "50%       1.403018     0.041051     0.038026\n",
       "75%       1.489299     0.059665     0.056177\n",
       "max       1.766323     0.839349     0.804171"
      ]
     },
     "execution_count": 12,
     "metadata": {},
     "output_type": "execute_result"
    }
   ],
   "source": [
    "df_year.describe()"
   ]
  },
  {
   "cell_type": "code",
   "execution_count": 13,
   "metadata": {},
   "outputs": [
    {
     "data": {
      "text/html": [
       "<div>\n",
       "<style scoped>\n",
       "    .dataframe tbody tr th:only-of-type {\n",
       "        vertical-align: middle;\n",
       "    }\n",
       "\n",
       "    .dataframe tbody tr th {\n",
       "        vertical-align: top;\n",
       "    }\n",
       "\n",
       "    .dataframe thead th {\n",
       "        text-align: right;\n",
       "    }\n",
       "</style>\n",
       "<table border=\"1\" class=\"dataframe\">\n",
       "  <thead>\n",
       "    <tr style=\"text-align: right;\">\n",
       "      <th></th>\n",
       "      <th>TOTANGSTR</th>\n",
       "      <th>TOTEXTTAU</th>\n",
       "      <th>TOTSCATAU</th>\n",
       "    </tr>\n",
       "  </thead>\n",
       "  <tbody>\n",
       "    <tr>\n",
       "      <th>0.05</th>\n",
       "      <td>1.181350</td>\n",
       "      <td>0.018507</td>\n",
       "      <td>0.016875</td>\n",
       "    </tr>\n",
       "    <tr>\n",
       "      <th>0.10</th>\n",
       "      <td>1.233014</td>\n",
       "      <td>0.022203</td>\n",
       "      <td>0.020378</td>\n",
       "    </tr>\n",
       "    <tr>\n",
       "      <th>0.50</th>\n",
       "      <td>1.403018</td>\n",
       "      <td>0.041051</td>\n",
       "      <td>0.038026</td>\n",
       "    </tr>\n",
       "    <tr>\n",
       "      <th>0.90</th>\n",
       "      <td>1.569294</td>\n",
       "      <td>0.089384</td>\n",
       "      <td>0.085067</td>\n",
       "    </tr>\n",
       "    <tr>\n",
       "      <th>0.95</th>\n",
       "      <td>1.606525</td>\n",
       "      <td>0.134933</td>\n",
       "      <td>0.130102</td>\n",
       "    </tr>\n",
       "  </tbody>\n",
       "</table>\n",
       "</div>"
      ],
      "text/plain": [
       "      TOTANGSTR  TOTEXTTAU  TOTSCATAU\n",
       "0.05   1.181350   0.018507   0.016875\n",
       "0.10   1.233014   0.022203   0.020378\n",
       "0.50   1.403018   0.041051   0.038026\n",
       "0.90   1.569294   0.089384   0.085067\n",
       "0.95   1.606525   0.134933   0.130102"
      ]
     },
     "execution_count": 13,
     "metadata": {},
     "output_type": "execute_result"
    }
   ],
   "source": [
    "df_year.quantile([0.05,0.1,0.5,0.9,0.95])"
   ]
  },
  {
   "cell_type": "code",
   "execution_count": 14,
   "metadata": {},
   "outputs": [],
   "source": [
    "var_year=df_year[VAR_name]"
   ]
  },
  {
   "cell_type": "code",
   "execution_count": 15,
   "metadata": {},
   "outputs": [
    {
     "data": {
      "text/plain": [
       "0       0.038421\n",
       "1       0.035196\n",
       "2       0.032951\n",
       "3       0.031118\n",
       "4       0.029195\n",
       "          ...   \n",
       "7291    0.037670\n",
       "7292    0.036985\n",
       "7293    0.036404\n",
       "7294    0.035611\n",
       "7295    0.035104\n",
       "Name: TOTEXTTAU, Length: 7296, dtype: float64"
      ]
     },
     "execution_count": 15,
     "metadata": {},
     "output_type": "execute_result"
    }
   ],
   "source": [
    "var_year.replace(to_replace=0, value=np.nan)"
   ]
  },
  {
   "cell_type": "code",
   "execution_count": 16,
   "metadata": {},
   "outputs": [],
   "source": [
    "mean_var_y = np.mean(var_year)\n",
    "variance_var_y = np.var(var_year)\n",
    "sigma_var_y = np.sqrt(variance_var_y)"
   ]
  },
  {
   "cell_type": "code",
   "execution_count": 17,
   "metadata": {},
   "outputs": [],
   "source": [
    "mean_var_y=np.trunc(mean_var_y*1000)/1000\n",
    "sigma_var_y=np.trunc(sigma_var_y*1000)/1000"
   ]
  },
  {
   "cell_type": "code",
   "execution_count": null,
   "metadata": {},
   "outputs": [],
   "source": []
  },
  {
   "cell_type": "code",
   "execution_count": 18,
   "metadata": {},
   "outputs": [],
   "source": [
    "title = \"Yearly variation of {} (year {}), mean = {} std = {}\".format(VAR_title,YEARSTR,mean_var_y ,sigma_var_y)"
   ]
  },
  {
   "cell_type": "code",
   "execution_count": 19,
   "metadata": {},
   "outputs": [
    {
     "name": "stderr",
     "output_type": "stream",
     "text": [
      "findfont: Font family ['sans-serif'] not found. Falling back to DejaVu Sans.\n",
      "findfont: Generic family 'sans-serif' not found because none of the following families were found: Arial, Helvetica, Bitstream Vera Sans, Lucida Grande, Verdana, Geneva, Lucid, Avant Garde, sans-serif\n",
      "findfont: Font family ['sans-serif'] not found. Falling back to DejaVu Sans.\n",
      "findfont: Generic family 'sans-serif' not found because none of the following families were found: Arial, Helvetica, Bitstream Vera Sans, Lucida Grande, Verdana, Geneva, Lucid, Avant Garde, sans-serif\n",
      "findfont: Font family ['sans-serif'] not found. Falling back to DejaVu Sans.\n",
      "findfont: Generic family 'sans-serif' not found because none of the following families were found: Arial, Helvetica, Bitstream Vera Sans, Lucida Grande, Verdana, Geneva, Lucid, Avant Garde, sans-serif\n"
     ]
    },
    {
     "data": {
      "image/png": "[encoded data removed]",
      "text/plain": [
       "<Figure size 1400x800 with 1 Axes>"
      ]
     },
     "metadata": {},
     "output_type": "display_data"
    }
   ],
   "source": [
    "plt.figure(figsize=(14,8))\n",
    "n, bins, patches = plt.hist(var_year, 50, density=False, facecolor='blue', alpha=0.75)\n",
    "plt.title(title)\n",
    "xtitle=VAR_name+' ('+VAR_unit+' )' \n",
    "plt.xlabel(xtitle)\n",
    "figfilename='Histo_'+VAR_name+'_'+YEARSTR+'_allyear.png'\n",
    "plt.savefig(figfilename)"
   ]
  },
  {
   "cell_type": "markdown",
   "metadata": {},
   "source": [
    "# Selection of a period"
   ]
  },
  {
   "cell_type": "code",
   "execution_count": 20,
   "metadata": {},
   "outputs": [
    {
     "data": {
      "text/plain": [
       "array(['2022-01-01 00:30:00', '2022-01-01 01:30:00',\n",
       "       '2022-01-01 02:30:00', ..., '2022-10-31 21:30:00',\n",
       "       '2022-10-31 22:30:00', '2022-10-31 23:30:00'], dtype=object)"
      ]
     },
     "execution_count": 20,
     "metadata": {},
     "output_type": "execute_result"
    }
   ],
   "source": [
    "df_year['time'].values"
   ]
  },
  {
   "cell_type": "code",
   "execution_count": 21,
   "metadata": {},
   "outputs": [],
   "source": [
    "all_datetime=pd.to_datetime(df_year['time'].values)"
   ]
  },
  {
   "cell_type": "code",
   "execution_count": 22,
   "metadata": {},
   "outputs": [
    {
     "data": {
      "text/plain": [
       "DatetimeIndex(['2022-01-01 00:30:00', '2022-01-01 01:30:00',\n",
       "               '2022-01-01 02:30:00', '2022-01-01 03:30:00',\n",
       "               '2022-01-01 04:30:00', '2022-01-01 05:30:00',\n",
       "               '2022-01-01 06:30:00', '2022-01-01 07:30:00',\n",
       "               '2022-01-01 08:30:00', '2022-01-01 09:30:00',\n",
       "               ...\n",
       "               '2022-10-31 14:30:00', '2022-10-31 15:30:00',\n",
       "               '2022-10-31 16:30:00', '2022-10-31 17:30:00',\n",
       "               '2022-10-31 18:30:00', '2022-10-31 19:30:00',\n",
       "               '2022-10-31 20:30:00', '2022-10-31 21:30:00',\n",
       "               '2022-10-31 22:30:00', '2022-10-31 23:30:00'],\n",
       "              dtype='datetime64[ns]', length=7296, freq=None)"
      ]
     },
     "execution_count": 22,
     "metadata": {},
     "output_type": "execute_result"
    }
   ],
   "source": [
    "all_datetime"
   ]
  },
  {
   "cell_type": "code",
   "execution_count": 23,
   "metadata": {},
   "outputs": [],
   "source": [
    "if obs == \"lsst\":\n",
    "    summer_time_index=np.where(np.logical_and(all_datetime>dt.datetime(YEARNUM,1,1),all_datetime<dt.datetime(YEARNUM,3,31)))\n",
    "    winter_time_index=np.where(np.logical_and(all_datetime>dt.datetime(YEARNUM,6,1),all_datetime<dt.datetime(YEARNUM,8,31)))\n",
    "else:\n",
    "    winter_time_index=np.where(np.logical_and(all_datetime>dt.datetime(YEARNUM,1,1),all_datetime<dt.datetime(YEARNUM,3,31)))\n",
    "    summer_time_index=np.where(np.logical_and(all_datetime>dt.datetime(YEARNUM,6,1),all_datetime<dt.datetime(YEARNUM,8,31)))\n",
    "    "
   ]
  },
  {
   "cell_type": "code",
   "execution_count": 24,
   "metadata": {},
   "outputs": [],
   "source": [
    "var_winter=var_year.values[winter_time_index]\n",
    "var_summer=var_year.values[summer_time_index]"
   ]
  },
  {
   "cell_type": "code",
   "execution_count": 52,
   "metadata": {},
   "outputs": [],
   "source": [
    "mean_var_winter = np.mean(var_winter)\n",
    "median_var_winter = np.median(var_winter)\n",
    "variance_var_winter = np.var(var_winter)\n",
    "sigma_var_winter = np.std(var_winter)\n",
    "sigmamed_var_winter = np.std(var_winter-median_var_winter)"
   ]
  },
  {
   "cell_type": "code",
   "execution_count": 53,
   "metadata": {},
   "outputs": [],
   "source": [
    "mean_var_summer = np.mean(var_summer)\n",
    "median_var_summer = np.median(var_summer)\n",
    "variance_var_summer = np.var(var_summer)\n",
    "sigma_var_summer = np.std(var_summer)\n",
    "sigmamed_var_summer = np.std(var_summer-median_var_summer)"
   ]
  },
  {
   "cell_type": "code",
   "execution_count": 54,
   "metadata": {},
   "outputs": [],
   "source": [
    "mw=np.trunc(mean_var_winter*1000)/1000\n",
    "medw=np.trunc(median_var_winter*1000)/1000\n",
    "sw=np.trunc(sigma_var_winter*1000)/1000\n",
    "smedw=np.trunc(sigmamed_var_winter*1000)/1000\n",
    "\n",
    "ms=np.trunc(mean_var_summer*1000)/1000\n",
    "ss=np.trunc(sigma_var_summer*1000)/1000\n",
    "meds=np.trunc(median_var_summer*1000)/1000\n",
    "smeds=np.trunc(sigmamed_var_summer*1000)/1000"
   ]
  },
  {
   "cell_type": "code",
   "execution_count": 55,
   "metadata": {},
   "outputs": [],
   "source": [
    "textstr_s = '\\n'.join((\"summer:\",\n",
    "    r'$\\mu=%.3f$' % (ms, ),\n",
    "    r'$\\mathrm{median}=%.3f$' % (meds, ),\n",
    "    r'$\\sigma_{med}=%.3f$' % (smeds, )))"
   ]
  },
  {
   "cell_type": "code",
   "execution_count": 56,
   "metadata": {},
   "outputs": [],
   "source": [
    "textstr_w = '\\n'.join((\"winter:\",\n",
    "    r'$\\mu=%.3f$' % (mw, ),\n",
    "    r'$\\mathrm{median}=%.3f$' % (medw, ),\n",
    "    r'$\\sigma_{med}=%.3f$' % (smedw, )))"
   ]
  },
  {
   "cell_type": "code",
   "execution_count": 57,
   "metadata": {},
   "outputs": [],
   "source": [
    "title = \"Yearly variation of {}({}) (year {}), summer : {} +/- {}, winter : {} +/- {}\".format(VAR_title,VAR_unit,YEARSTR,ms,ss,mw,sw)"
   ]
  },
  {
   "cell_type": "code",
   "execution_count": 58,
   "metadata": {},
   "outputs": [
    {
     "data": {
      "image/png": "[encoded data removed]",
      "text/plain": [
       "<Figure size 1400x800 with 1 Axes>"
      ]
     },
     "metadata": {},
     "output_type": "display_data"
    }
   ],
   "source": [
    "fig,ax=plt.subplots(1,1,figsize=(14,8))\n",
    "n, bins, patches = ax.hist(var_winter, 50, range=(VAR_min,VAR_max),density=False, facecolor='blue', alpha=0.75,label='winter')\n",
    "n, bins, patches = ax.hist(var_summer, 50, range=(VAR_min,VAR_max),density=False, facecolor='red', alpha=0.75,label='summer')\n",
    "ax.set_title(title)\n",
    "xtitle=VAR_name+' ('+VAR_unit+' )' \n",
    "ax.set_xlabel(xtitle)\n",
    "figfilename='Histo_'+VAR_name+'_'+YEARSTR+'_WinterSummer.png'\n",
    "ax.legend()\n",
    "\n",
    "props = dict(boxstyle='round', facecolor='wheat', alpha=0.5)\n",
    "\n",
    "# place a text box in upper left in axes coords\n",
    "ax.text(0.5, 0.95, textstr_w, transform=ax.transAxes, fontsize=14,\n",
    "        verticalalignment='top', bbox=props)\n",
    "\n",
    "ax.text(0.7, 0.95, textstr_s, transform=ax.transAxes, fontsize=14,\n",
    "        verticalalignment='top', bbox=props)\n",
    "\n",
    "plt.savefig(figfilename)"
   ]
  },
  {
   "cell_type": "code",
   "execution_count": null,
   "metadata": {},
   "outputs": [],
   "source": []
  }
 ],
 "metadata": {
  "anaconda-cloud": {},
  "kernelspec": {
   "display_name": "anaconda3_py39_auxtel",
   "language": "python",
   "name": "anaconda3_py39_auxtel"
  },
  "language_info": {
   "codemirror_mode": {
    "name": "ipython",
    "version": 3
   },
   "file_extension": ".py",
   "mimetype": "text/x-python",
   "name": "python",
   "nbconvert_exporter": "python",
   "pygments_lexer": "ipython3",
   "version": "3.9.13"
  },
  "toc": {
   "nav_menu": {
    "height": "47px",
    "width": "252px"
   },
   "number_sections": true,
   "sideBar": true,
   "skip_h1_title": false,
   "toc_cell": false,
   "toc_position": {},
   "toc_section_display": "block",
   "toc_window_display": false
  }
 },
 "nbformat": 4,
 "nbformat_minor": 4
}
