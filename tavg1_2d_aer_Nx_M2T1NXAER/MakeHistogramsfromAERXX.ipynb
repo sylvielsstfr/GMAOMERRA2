{
 "cells": [
  {
   "cell_type": "markdown",
   "metadata": {},
   "source": [
    "# Make histogramms for any quantities\n",
    "\n",
    "- author Sylvie Dagoret-Campagne\n",
    "- date October 18th 2018"
   ]
  },
  {
   "cell_type": "code",
   "execution_count": 28,
   "metadata": {},
   "outputs": [
    {
     "name": "stderr",
     "output_type": "stream",
     "text": [
      "\n",
      "Bad key \"axes.color_cycle\" on line 215 in\n",
      "templates/matplotlibrc.\n",
      "You probably need to get an updated matplotlibrc file from\n",
      "http://github.com/matplotlib/matplotlib/blob/master/matplotlibrc.template\n",
      "or from the matplotlib source distribution\n"
     ]
    }
   ],
   "source": [
    "# Set up matplotlib and use a nicer set of plot parameters\n",
    "%config InlineBackend.rc = {}\n",
    "import matplotlib\n",
    "import matplotlib as mpl\n",
    "matplotlib.rc_file(\"templates/matplotlibrc\")\n",
    "import matplotlib.pyplot as plt\n",
    "import matplotlib.mlab as mlab\n",
    "%matplotlib inline"
   ]
  },
  {
   "cell_type": "code",
   "execution_count": 29,
   "metadata": {},
   "outputs": [],
   "source": [
    "import os\n",
    "import re\n",
    "import numpy as np\n",
    "from mpl_toolkits.basemap import Basemap\n",
    "from matplotlib import colors\n",
    "from matplotlib.backends.backend_pdf import PdfPages\n",
    "import pandas as pd"
   ]
  },
  {
   "cell_type": "code",
   "execution_count": 30,
   "metadata": {},
   "outputs": [],
   "source": [
    "import datetime as dt"
   ]
  },
  {
   "cell_type": "code",
   "execution_count": 31,
   "metadata": {},
   "outputs": [],
   "source": [
    "YEARSTR=\"2018\"\n",
    "YEARNUM=int(YEARSTR)"
   ]
  },
  {
   "cell_type": "code",
   "execution_count": 32,
   "metadata": {},
   "outputs": [],
   "source": [
    "#VAR_name='TOTANGSTR'\n",
    "#VAR_title='Angstrom Parameter'\n",
    "#VAR_unit='@470-870nm'\n",
    "#VAR_min=0\n",
    "#VAR_max=2"
   ]
  },
  {
   "cell_type": "code",
   "execution_count": 33,
   "metadata": {},
   "outputs": [],
   "source": [
    "VAR_name='TOTEXTTAU'\n",
    "VAR_title='Extinction'\n",
    "VAR_unit='@550nm'\n",
    "VAR_min=0\n",
    "VAR_max=0.5"
   ]
  },
  {
   "cell_type": "code",
   "execution_count": 34,
   "metadata": {},
   "outputs": [],
   "source": [
    "yearfile='MERRA2_'+YEARSTR+'_tavg1_2d_aer_Nx_M2T1NXAER_ohp_AllYear.csv'"
   ]
  },
  {
   "cell_type": "code",
   "execution_count": 35,
   "metadata": {},
   "outputs": [],
   "source": [
    "df_year=pd.read_csv(yearfile)"
   ]
  },
  {
   "cell_type": "code",
   "execution_count": 36,
   "metadata": {},
   "outputs": [
    {
     "data": {
      "text/html": [
       "<div>\n",
       "<style scoped>\n",
       "    .dataframe tbody tr th:only-of-type {\n",
       "        vertical-align: middle;\n",
       "    }\n",
       "\n",
       "    .dataframe tbody tr th {\n",
       "        vertical-align: top;\n",
       "    }\n",
       "\n",
       "    .dataframe thead th {\n",
       "        text-align: right;\n",
       "    }\n",
       "</style>\n",
       "<table border=\"1\" class=\"dataframe\">\n",
       "  <thead>\n",
       "    <tr style=\"text-align: right;\">\n",
       "      <th></th>\n",
       "      <th>time</th>\n",
       "      <th>TOTANGSTR</th>\n",
       "      <th>TOTEXTTAU</th>\n",
       "      <th>TOTSCATAU</th>\n",
       "    </tr>\n",
       "  </thead>\n",
       "  <tbody>\n",
       "    <tr>\n",
       "      <th>0</th>\n",
       "      <td>2018-01-01 00:30:00</td>\n",
       "      <td>1.205786</td>\n",
       "      <td>0.139384</td>\n",
       "      <td>0.133389</td>\n",
       "    </tr>\n",
       "    <tr>\n",
       "      <th>1</th>\n",
       "      <td>2018-01-01 01:30:00</td>\n",
       "      <td>1.031252</td>\n",
       "      <td>0.114049</td>\n",
       "      <td>0.109637</td>\n",
       "    </tr>\n",
       "    <tr>\n",
       "      <th>2</th>\n",
       "      <td>2018-01-01 02:30:00</td>\n",
       "      <td>0.825740</td>\n",
       "      <td>0.066395</td>\n",
       "      <td>0.063274</td>\n",
       "    </tr>\n",
       "    <tr>\n",
       "      <th>3</th>\n",
       "      <td>2018-01-01 03:30:00</td>\n",
       "      <td>0.762376</td>\n",
       "      <td>0.051468</td>\n",
       "      <td>0.048648</td>\n",
       "    </tr>\n",
       "    <tr>\n",
       "      <th>4</th>\n",
       "      <td>2018-01-01 04:30:00</td>\n",
       "      <td>0.734917</td>\n",
       "      <td>0.046664</td>\n",
       "      <td>0.043992</td>\n",
       "    </tr>\n",
       "  </tbody>\n",
       "</table>\n",
       "</div>"
      ],
      "text/plain": [
       "                  time  TOTANGSTR  TOTEXTTAU  TOTSCATAU\n",
       "0  2018-01-01 00:30:00   1.205786   0.139384   0.133389\n",
       "1  2018-01-01 01:30:00   1.031252   0.114049   0.109637\n",
       "2  2018-01-01 02:30:00   0.825740   0.066395   0.063274\n",
       "3  2018-01-01 03:30:00   0.762376   0.051468   0.048648\n",
       "4  2018-01-01 04:30:00   0.734917   0.046664   0.043992"
      ]
     },
     "execution_count": 36,
     "metadata": {},
     "output_type": "execute_result"
    }
   ],
   "source": [
    "df_year.head()"
   ]
  },
  {
   "cell_type": "markdown",
   "metadata": {},
   "source": [
    "## Per year"
   ]
  },
  {
   "cell_type": "code",
   "execution_count": 37,
   "metadata": {},
   "outputs": [
    {
     "data": {
      "text/html": [
       "<div>\n",
       "<style scoped>\n",
       "    .dataframe tbody tr th:only-of-type {\n",
       "        vertical-align: middle;\n",
       "    }\n",
       "\n",
       "    .dataframe tbody tr th {\n",
       "        vertical-align: top;\n",
       "    }\n",
       "\n",
       "    .dataframe thead th {\n",
       "        text-align: right;\n",
       "    }\n",
       "</style>\n",
       "<table border=\"1\" class=\"dataframe\">\n",
       "  <thead>\n",
       "    <tr style=\"text-align: right;\">\n",
       "      <th></th>\n",
       "      <th>TOTANGSTR</th>\n",
       "      <th>TOTEXTTAU</th>\n",
       "      <th>TOTSCATAU</th>\n",
       "    </tr>\n",
       "  </thead>\n",
       "  <tbody>\n",
       "    <tr>\n",
       "      <th>count</th>\n",
       "      <td>5832.000000</td>\n",
       "      <td>5832.000000</td>\n",
       "      <td>5832.000000</td>\n",
       "    </tr>\n",
       "    <tr>\n",
       "      <th>mean</th>\n",
       "      <td>1.128746</td>\n",
       "      <td>0.153050</td>\n",
       "      <td>0.143445</td>\n",
       "    </tr>\n",
       "    <tr>\n",
       "      <th>std</th>\n",
       "      <td>0.318880</td>\n",
       "      <td>0.099422</td>\n",
       "      <td>0.094825</td>\n",
       "    </tr>\n",
       "    <tr>\n",
       "      <th>min</th>\n",
       "      <td>-0.009832</td>\n",
       "      <td>0.022592</td>\n",
       "      <td>0.020269</td>\n",
       "    </tr>\n",
       "    <tr>\n",
       "      <th>25%</th>\n",
       "      <td>0.950254</td>\n",
       "      <td>0.084343</td>\n",
       "      <td>0.077671</td>\n",
       "    </tr>\n",
       "    <tr>\n",
       "      <th>50%</th>\n",
       "      <td>1.166563</td>\n",
       "      <td>0.133240</td>\n",
       "      <td>0.124189</td>\n",
       "    </tr>\n",
       "    <tr>\n",
       "      <th>75%</th>\n",
       "      <td>1.343829</td>\n",
       "      <td>0.193190</td>\n",
       "      <td>0.181969</td>\n",
       "    </tr>\n",
       "    <tr>\n",
       "      <th>max</th>\n",
       "      <td>1.908842</td>\n",
       "      <td>1.013607</td>\n",
       "      <td>0.938630</td>\n",
       "    </tr>\n",
       "  </tbody>\n",
       "</table>\n",
       "</div>"
      ],
      "text/plain": [
       "         TOTANGSTR    TOTEXTTAU    TOTSCATAU\n",
       "count  5832.000000  5832.000000  5832.000000\n",
       "mean      1.128746     0.153050     0.143445\n",
       "std       0.318880     0.099422     0.094825\n",
       "min      -0.009832     0.022592     0.020269\n",
       "25%       0.950254     0.084343     0.077671\n",
       "50%       1.166563     0.133240     0.124189\n",
       "75%       1.343829     0.193190     0.181969\n",
       "max       1.908842     1.013607     0.938630"
      ]
     },
     "execution_count": 37,
     "metadata": {},
     "output_type": "execute_result"
    }
   ],
   "source": [
    "df_year.describe()"
   ]
  },
  {
   "cell_type": "code",
   "execution_count": 38,
   "metadata": {},
   "outputs": [
    {
     "data": {
      "text/html": [
       "<div>\n",
       "<style scoped>\n",
       "    .dataframe tbody tr th:only-of-type {\n",
       "        vertical-align: middle;\n",
       "    }\n",
       "\n",
       "    .dataframe tbody tr th {\n",
       "        vertical-align: top;\n",
       "    }\n",
       "\n",
       "    .dataframe thead th {\n",
       "        text-align: right;\n",
       "    }\n",
       "</style>\n",
       "<table border=\"1\" class=\"dataframe\">\n",
       "  <thead>\n",
       "    <tr style=\"text-align: right;\">\n",
       "      <th></th>\n",
       "      <th>TOTANGSTR</th>\n",
       "      <th>TOTEXTTAU</th>\n",
       "      <th>TOTSCATAU</th>\n",
       "    </tr>\n",
       "  </thead>\n",
       "  <tbody>\n",
       "    <tr>\n",
       "      <th>0.05</th>\n",
       "      <td>0.495910</td>\n",
       "      <td>0.038845</td>\n",
       "      <td>0.034788</td>\n",
       "    </tr>\n",
       "    <tr>\n",
       "      <th>0.10</th>\n",
       "      <td>0.705795</td>\n",
       "      <td>0.049257</td>\n",
       "      <td>0.045173</td>\n",
       "    </tr>\n",
       "    <tr>\n",
       "      <th>0.50</th>\n",
       "      <td>1.166563</td>\n",
       "      <td>0.133240</td>\n",
       "      <td>0.124189</td>\n",
       "    </tr>\n",
       "    <tr>\n",
       "      <th>0.90</th>\n",
       "      <td>1.491219</td>\n",
       "      <td>0.270939</td>\n",
       "      <td>0.256911</td>\n",
       "    </tr>\n",
       "    <tr>\n",
       "      <th>0.95</th>\n",
       "      <td>1.595506</td>\n",
       "      <td>0.346707</td>\n",
       "      <td>0.329084</td>\n",
       "    </tr>\n",
       "  </tbody>\n",
       "</table>\n",
       "</div>"
      ],
      "text/plain": [
       "      TOTANGSTR  TOTEXTTAU  TOTSCATAU\n",
       "0.05   0.495910   0.038845   0.034788\n",
       "0.10   0.705795   0.049257   0.045173\n",
       "0.50   1.166563   0.133240   0.124189\n",
       "0.90   1.491219   0.270939   0.256911\n",
       "0.95   1.595506   0.346707   0.329084"
      ]
     },
     "execution_count": 38,
     "metadata": {},
     "output_type": "execute_result"
    }
   ],
   "source": [
    "df_year.quantile([0.05,0.1,0.5,0.9,0.95])"
   ]
  },
  {
   "cell_type": "code",
   "execution_count": 39,
   "metadata": {},
   "outputs": [],
   "source": [
    "var_year=df_year[VAR_name]"
   ]
  },
  {
   "cell_type": "code",
   "execution_count": 40,
   "metadata": {},
   "outputs": [
    {
     "data": {
      "text/plain": [
       "0       0.139384\n",
       "1       0.114049\n",
       "2       0.066395\n",
       "3       0.051468\n",
       "4       0.046664\n",
       "5       0.044910\n",
       "6       0.042335\n",
       "7       0.039589\n",
       "8       0.037503\n",
       "9       0.036409\n",
       "10      0.035277\n",
       "11      0.038285\n",
       "12      0.039129\n",
       "13      0.040016\n",
       "14      0.056065\n",
       "15      0.082217\n",
       "16      0.094849\n",
       "17      0.111112\n",
       "18      0.105559\n",
       "19      0.081254\n",
       "20      0.062441\n",
       "21      0.054976\n",
       "22      0.037374\n",
       "23      0.030481\n",
       "24      0.030071\n",
       "25      0.033021\n",
       "26      0.031648\n",
       "27      0.030240\n",
       "28      0.032516\n",
       "29      0.033271\n",
       "          ...   \n",
       "5802    0.162355\n",
       "5803    0.150607\n",
       "5804    0.146484\n",
       "5805    0.137924\n",
       "5806    0.129325\n",
       "5807    0.118408\n",
       "5808    0.116588\n",
       "5809    0.126868\n",
       "5810    0.146830\n",
       "5811    0.147708\n",
       "5812    0.134422\n",
       "5813    0.127843\n",
       "5814    0.117505\n",
       "5815    0.113695\n",
       "5816    0.110143\n",
       "5817    0.112279\n",
       "5818    0.104421\n",
       "5819    0.092364\n",
       "5820    0.087799\n",
       "5821    0.078165\n",
       "5822    0.075072\n",
       "5823    0.078237\n",
       "5824    0.084707\n",
       "5825    0.090216\n",
       "5826    0.094581\n",
       "5827    0.097984\n",
       "5828    0.101160\n",
       "5829    0.102988\n",
       "5830    0.106060\n",
       "5831    0.108257\n",
       "Name: TOTEXTTAU, Length: 5832, dtype: float64"
      ]
     },
     "execution_count": 40,
     "metadata": {},
     "output_type": "execute_result"
    }
   ],
   "source": [
    "var_year.replace(to_replace=0, value=np.nan)"
   ]
  },
  {
   "cell_type": "code",
   "execution_count": 41,
   "metadata": {},
   "outputs": [],
   "source": [
    "mean_var_y = np.mean(var_year)\n",
    "variance_var_y = np.var(var_year)\n",
    "sigma_var_y = np.sqrt(variance_var_y)"
   ]
  },
  {
   "cell_type": "code",
   "execution_count": 42,
   "metadata": {},
   "outputs": [],
   "source": [
    "mean_var_y=np.trunc(mean_var_y*1000)/1000\n",
    "sigma_var_y=np.trunc(sigma_var_y*1000)/1000"
   ]
  },
  {
   "cell_type": "code",
   "execution_count": null,
   "metadata": {},
   "outputs": [],
   "source": []
  },
  {
   "cell_type": "code",
   "execution_count": 43,
   "metadata": {},
   "outputs": [],
   "source": [
    "title = \"Yearly variation of {} (year {}), mean = {} std = {}\".format(VAR_title,YEARSTR,mean_var_y ,sigma_var_y)"
   ]
  },
  {
   "cell_type": "code",
   "execution_count": 44,
   "metadata": {},
   "outputs": [
    {
     "data": {
      "image/png": "[encoded data removed]",
      "text/plain": [
       "<Figure size 1400x800 with 1 Axes>"
      ]
     },
     "metadata": {},
     "output_type": "display_data"
    }
   ],
   "source": [
    "plt.figure(figsize=(14,8))\n",
    "n, bins, patches = plt.hist(var_year, 50, normed=False, facecolor='blue', alpha=0.75)\n",
    "plt.title(title)\n",
    "xtitle=VAR_name+' ('+VAR_unit+' )' \n",
    "plt.xlabel(xtitle)\n",
    "figfilename='Histo_'+VAR_name+'_'+YEARSTR+'_allyear.png'\n",
    "plt.savefig(figfilename)"
   ]
  },
  {
   "cell_type": "markdown",
   "metadata": {
    "collapsed": true
   },
   "source": [
    "# Selection of a period"
   ]
  },
  {
   "cell_type": "code",
   "execution_count": 45,
   "metadata": {},
   "outputs": [],
   "source": [
    "all_datetime=pd.to_datetime(df_year['time'].get_values())"
   ]
  },
  {
   "cell_type": "code",
   "execution_count": 46,
   "metadata": {},
   "outputs": [
    {
     "data": {
      "text/plain": [
       "DatetimeIndex(['2018-01-01 00:30:00', '2018-01-01 01:30:00',\n",
       "               '2018-01-01 02:30:00', '2018-01-01 03:30:00',\n",
       "               '2018-01-01 04:30:00', '2018-01-01 05:30:00',\n",
       "               '2018-01-01 06:30:00', '2018-01-01 07:30:00',\n",
       "               '2018-01-01 08:30:00', '2018-01-01 09:30:00',\n",
       "               ...\n",
       "               '2018-08-31 14:30:00', '2018-08-31 15:30:00',\n",
       "               '2018-08-31 16:30:00', '2018-08-31 17:30:00',\n",
       "               '2018-08-31 18:30:00', '2018-08-31 19:30:00',\n",
       "               '2018-08-31 20:30:00', '2018-08-31 21:30:00',\n",
       "               '2018-08-31 22:30:00', '2018-08-31 23:30:00'],\n",
       "              dtype='datetime64[ns]', length=5832, freq=None)"
      ]
     },
     "execution_count": 46,
     "metadata": {},
     "output_type": "execute_result"
    }
   ],
   "source": [
    "all_datetime"
   ]
  },
  {
   "cell_type": "code",
   "execution_count": 47,
   "metadata": {},
   "outputs": [],
   "source": [
    "winter_time_index=np.where(np.logical_and(all_datetime>dt.datetime(YEARNUM,1,1),all_datetime<dt.datetime(YEARNUM,3,31)))"
   ]
  },
  {
   "cell_type": "code",
   "execution_count": 48,
   "metadata": {},
   "outputs": [],
   "source": [
    "summer_time_index=np.where(np.logical_and(all_datetime>dt.datetime(YEARNUM,6,1),all_datetime<dt.datetime(YEARNUM,8,31)))"
   ]
  },
  {
   "cell_type": "code",
   "execution_count": 49,
   "metadata": {},
   "outputs": [],
   "source": [
    "var_winter=var_year.get_values()[winter_time_index]\n",
    "var_summer=var_year.get_values()[summer_time_index]"
   ]
  },
  {
   "cell_type": "code",
   "execution_count": 50,
   "metadata": {},
   "outputs": [],
   "source": [
    "mean_var_winter = np.mean(var_winter)\n",
    "variance_var_winter = np.var(var_winter)\n",
    "sigma_var_winter = np.std(var_winter)"
   ]
  },
  {
   "cell_type": "code",
   "execution_count": 51,
   "metadata": {},
   "outputs": [],
   "source": [
    "mean_var_summer = np.mean(var_summer)\n",
    "variance_var_summer = np.var(var_summer)\n",
    "sigma_var_summer = np.std(var_summer)"
   ]
  },
  {
   "cell_type": "code",
   "execution_count": 52,
   "metadata": {},
   "outputs": [],
   "source": [
    "mw=np.trunc(mean_var_winter*100)/100\n",
    "sw=np.trunc(sigma_var_winter*100)/100\n",
    "\n",
    "ms=np.trunc(mean_var_summer*100)/100\n",
    "ss=np.trunc(sigma_var_summer*100)/100"
   ]
  },
  {
   "cell_type": "code",
   "execution_count": 53,
   "metadata": {},
   "outputs": [],
   "source": [
    "title = \"Yearly variation of {}({}) (year {}), summer : {} +/- {}, winter : {} +/- {}\".format(VAR_title,VAR_unit,YEARSTR,ms,ss,mw,sw)"
   ]
  },
  {
   "cell_type": "code",
   "execution_count": 54,
   "metadata": {},
   "outputs": [
    {
     "data": {
      "image/png": "[encoded data removed]",
      "text/plain": [
       "<Figure size 1400x800 with 1 Axes>"
      ]
     },
     "metadata": {},
     "output_type": "display_data"
    }
   ],
   "source": [
    "plt.figure(figsize=(14,8))\n",
    "n, bins, patches = plt.hist(var_winter, 50, range=(VAR_min,VAR_max),normed=False, facecolor='blue', alpha=0.75,label='winter')\n",
    "n, bins, patches = plt.hist(var_summer, 50, range=(VAR_min,VAR_max),normed=False, facecolor='red', alpha=0.75,label='summer')\n",
    "plt.title(title)\n",
    "xtitle=VAR_name+' ('+VAR_unit+' )' \n",
    "plt.xlabel(xtitle)\n",
    "figfilename='Histo_'+VAR_name+'_'+YEARSTR+'_WinterSummer.png'\n",
    "plt.legend()\n",
    "plt.savefig(figfilename)"
   ]
  },
  {
   "cell_type": "code",
   "execution_count": null,
   "metadata": {},
   "outputs": [],
   "source": []
  }
 ],
 "metadata": {
  "anaconda-cloud": {},
  "kernelspec": {
   "display_name": "Python 2",
   "language": "python",
   "name": "python2"
  },
  "language_info": {
   "codemirror_mode": {
    "name": "ipython",
    "version": 2
   },
   "file_extension": ".py",
   "mimetype": "text/x-python",
   "name": "python",
   "nbconvert_exporter": "python",
   "pygments_lexer": "ipython2",
   "version": "2.7.15"
  },
  "toc": {
   "nav_menu": {
    "height": "47px",
    "width": "252px"
   },
   "number_sections": true,
   "sideBar": true,
   "skip_h1_title": false,
   "toc_cell": false,
   "toc_position": {},
   "toc_section_display": "block",
   "toc_window_display": false
  }
 },
 "nbformat": 4,
 "nbformat_minor": 2
}
