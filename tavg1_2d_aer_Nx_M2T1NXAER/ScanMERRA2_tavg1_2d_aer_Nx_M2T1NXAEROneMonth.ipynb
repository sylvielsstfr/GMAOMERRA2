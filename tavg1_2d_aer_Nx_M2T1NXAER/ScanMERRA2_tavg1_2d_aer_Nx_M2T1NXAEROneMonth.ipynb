{
 "cells": [
  {
   "cell_type": "markdown",
   "metadata": {},
   "source": [
    "# Scan MERRA-2 atmospheric properties during one month\n",
    "----------------------------------------------------------------------------------\n",
    "\n",
    "- author: Sylvie Dagoret-Campagne\n",
    "- creation January 12 2017\n",
    "- update January 12 2016\n",
    "\n",
    "Link:\n",
    "\n",
    "http://disc.sci.gsfc.nasa.gov/datareleases/merra_2_data_release\n",
    "\n",
    "### purpose:\n",
    "\n",
    "Scan One month of MERRA-2 predictions of the dataset tavg1_2d_aer_Nx_M2T1NXAER. \n",
    "Extract the relevant atmospheric variables.\n",
    "Build the correcponding time series and dataset in pandas.\n",
    "Plot the variables. Save the pandas dataset into a file.\n",
    "Convert the pandas dataset into an astropy fits table and save into a fits file as well.\n",
    "\n"
   ]
  },
  {
   "cell_type": "markdown",
   "metadata": {},
   "source": [
    "## 1) python libraries\n",
    "---------------------------"
   ]
  },
  {
   "cell_type": "code",
   "execution_count": 1,
   "metadata": {
    "collapsed": false
   },
   "outputs": [
    {
     "name": "stderr",
     "output_type": "stream",
     "text": [
      "/Users/dagoret-campagnesylvie/.local/lib/python2.7/site-packages/matplotlib/__init__.py:878: UserWarning: axes.color_cycle is deprecated and replaced with axes.prop_cycle; please use the latter.\n",
      "  warnings.warn(self.msg_depr % (key, alt_key))\n"
     ]
    }
   ],
   "source": [
    "# Set up matplotlib and use a nicer set of plot parameters\n",
    "%config InlineBackend.rc = {}\n",
    "import matplotlib\n",
    "import matplotlib as mpl\n",
    "matplotlib.rc_file(\"templates/matplotlibrc\")\n",
    "import matplotlib.pyplot as plt\n",
    "%matplotlib inline"
   ]
  },
  {
   "cell_type": "code",
   "execution_count": 2,
   "metadata": {
    "collapsed": true
   },
   "outputs": [],
   "source": [
    "import datetime"
   ]
  },
  {
   "cell_type": "code",
   "execution_count": 3,
   "metadata": {
    "collapsed": true
   },
   "outputs": [],
   "source": [
    "from matplotlib.dates import MonthLocator, WeekdayLocator,DateFormatter\n",
    "from matplotlib.dates import MONDAY"
   ]
  },
  {
   "cell_type": "code",
   "execution_count": 4,
   "metadata": {
    "collapsed": false
   },
   "outputs": [],
   "source": [
    "mondays = WeekdayLocator(MONDAY)\n",
    "months = MonthLocator(range(1, 13), bymonthday=1, interval=1)\n",
    "monthsFmt = DateFormatter(\"%b '%y\")"
   ]
  },
  {
   "cell_type": "code",
   "execution_count": 5,
   "metadata": {
    "collapsed": false
   },
   "outputs": [],
   "source": [
    "import os\n",
    "import re\n",
    "import numpy as np\n",
    "from mpl_toolkits.basemap import Basemap\n",
    "from matplotlib import colors\n",
    "from matplotlib.backends.backend_pdf import PdfPages\n",
    "import pandas as pd"
   ]
  },
  {
   "cell_type": "code",
   "execution_count": 6,
   "metadata": {
    "collapsed": true
   },
   "outputs": [],
   "source": [
    "from astropy import units as u\n",
    "from astropy.coordinates import SkyCoord\n",
    "\n",
    "from astropy.table import Table"
   ]
  },
  {
   "cell_type": "code",
   "execution_count": 7,
   "metadata": {
    "collapsed": true
   },
   "outputs": [],
   "source": [
    "import h5py"
   ]
  },
  {
   "cell_type": "code",
   "execution_count": 8,
   "metadata": {
    "collapsed": false
   },
   "outputs": [],
   "source": [
    "import libGMAOMERRA2Data as merra2  # My own library"
   ]
  },
  {
   "cell_type": "code",
   "execution_count": 9,
   "metadata": {
    "collapsed": false
   },
   "outputs": [],
   "source": [
    "############################################################################\n",
    "def ensure_dir(f):\n",
    "    d = os.path.dirname(f)\n",
    "    if not os.path.exists(f):\n",
    "        os.makedirs(f)\n",
    "#########################################################################"
   ]
  },
  {
   "cell_type": "markdown",
   "metadata": {},
   "source": [
    "## 2)  Configuration\n",
    "-------------------------"
   ]
  },
  {
   "cell_type": "code",
   "execution_count": 10,
   "metadata": {
    "collapsed": true
   },
   "outputs": [],
   "source": [
    "# SELECT MONTH IN 2016\n",
    "MONTH_NAME='11' # select october"
   ]
  },
  {
   "cell_type": "code",
   "execution_count": 11,
   "metadata": {
    "collapsed": true
   },
   "outputs": [],
   "source": [
    "# SELECT OBSERVATORY\n",
    "OBS_NAME='ohp'"
   ]
  },
  {
   "cell_type": "code",
   "execution_count": 12,
   "metadata": {
    "collapsed": false
   },
   "outputs": [],
   "source": [
    "# where are the HDF files\n",
    "#HDFEOS_ZOO_DIR=\"/Volumes/DAGORETBACK/MERRA-2/inst1_2d_asm_Nx_M2I1NXASM/2016\"\n",
    "HDFEOS_ZOO_DIR=\"/Volumes/LaCie2/DATA/MERRA-2/tavg1_2d_aer_Nx_M2T1NXAER\""
   ]
  },
  {
   "cell_type": "code",
   "execution_count": 13,
   "metadata": {
    "collapsed": false
   },
   "outputs": [],
   "source": [
    "path=HDFEOS_ZOO_DIR"
   ]
  },
  {
   "cell_type": "markdown",
   "metadata": {},
   "source": [
    "### Here I describe the content of the input files"
   ]
  },
  {
   "cell_type": "code",
   "execution_count": 14,
   "metadata": {
    "collapsed": true
   },
   "outputs": [],
   "source": [
    "DATA_TAG=['TOTANGSTR','TOTEXTTAU','TOTSCATAU']"
   ]
  },
  {
   "cell_type": "code",
   "execution_count": 15,
   "metadata": {
    "collapsed": true
   },
   "outputs": [],
   "source": [
    "DATA_TITLE=['Total Aerosol Angstrom parameter 470-870 nm',\n",
    "            'Total Aerosol Extinction AOT 550 nm',\n",
    "            'Total Aerosol Scattering AOT 550 nm'\n",
    "           ]"
   ]
  },
  {
   "cell_type": "code",
   "execution_count": 16,
   "metadata": {
    "collapsed": true
   },
   "outputs": [],
   "source": [
    "NB_DATAFIELDS=len(DATA_TAG)"
   ]
  },
  {
   "cell_type": "markdown",
   "metadata": {},
   "source": [
    "### List of output files"
   ]
  },
  {
   "cell_type": "code",
   "execution_count": 17,
   "metadata": {
    "collapsed": true
   },
   "outputs": [],
   "source": [
    "# The selected data field\n",
    "DATA_NAME =  'tavg1_2d_aer_Nx_M2T1NXAER'   # "
   ]
  },
  {
   "cell_type": "code",
   "execution_count": 18,
   "metadata": {
    "collapsed": false
   },
   "outputs": [],
   "source": [
    "pandas_filename='MERRA2_2016_'+DATA_NAME+'_'+OBS_NAME+'_'+MONTH_NAME+'.csv'"
   ]
  },
  {
   "cell_type": "code",
   "execution_count": 19,
   "metadata": {
    "collapsed": true
   },
   "outputs": [],
   "source": [
    "fits_filename='MERRA2_2016_'+DATA_NAME+'_'+OBS_NAME+'_'+MONTH_NAME +'.fits'"
   ]
  },
  {
   "cell_type": "code",
   "execution_count": 20,
   "metadata": {
    "collapsed": true
   },
   "outputs": [],
   "source": [
    "# 6 output files for figures\n",
    "figfile_aer_angstr='GMAO_MERRA2_2016_'+DATA_NAME+'_'+OBS_NAME+'_'+MONTH_NAME+'_aer_angstr'+'.jpg'\n",
    "figfile_aer_extinct='GMAO_MERRA2_2016_'+DATA_NAME+'_'+OBS_NAME+'_'+MONTH_NAME+'_aer_extinct'+'.jpg'\n",
    "figfile_aer_scatter='GMAO_MERRA2_2016_'+DATA_NAME+'_'+OBS_NAME+'_'+MONTH_NAME+'_aer_scatter'+'.jpg'"
   ]
  },
  {
   "cell_type": "markdown",
   "metadata": {},
   "source": [
    "### Select where in the world"
   ]
  },
  {
   "cell_type": "code",
   "execution_count": 21,
   "metadata": {
    "collapsed": false
   },
   "outputs": [],
   "source": [
    "# Select observatory\n",
    "loc=merra2.observatory_location(OBS_NAME)"
   ]
  },
  {
   "cell_type": "code",
   "execution_count": 22,
   "metadata": {
    "collapsed": false
   },
   "outputs": [
    {
     "data": {
      "text/plain": [
       "(5.71222222222, 43.9316666667, 650.0)"
      ]
     },
     "execution_count": 22,
     "metadata": {},
     "output_type": "execute_result"
    }
   ],
   "source": [
    "loc"
   ]
  },
  {
   "cell_type": "markdown",
   "metadata": {},
   "source": [
    "### 2.2) Getting the list of the files\n",
    "------------------------------"
   ]
  },
  {
   "cell_type": "code",
   "execution_count": 23,
   "metadata": {
    "collapsed": true
   },
   "outputs": [],
   "source": [
    "nc4_files = [f for f in os.listdir(path) if f.endswith('.nc4')]  "
   ]
  },
  {
   "cell_type": "code",
   "execution_count": 24,
   "metadata": {
    "collapsed": false
   },
   "outputs": [
    {
     "data": {
      "text/plain": [
       "['MERRA2_100.tavg1_2d_aer_Nx.19800101.nc4',\n",
       " 'MERRA2_100.tavg1_2d_aer_Nx.19800102.nc4',\n",
       " 'MERRA2_100.tavg1_2d_aer_Nx.19800103.nc4',\n",
       " 'MERRA2_100.tavg1_2d_aer_Nx.19800104.nc4',\n",
       " 'MERRA2_100.tavg1_2d_aer_Nx.19800105.nc4']"
      ]
     },
     "execution_count": 24,
     "metadata": {},
     "output_type": "execute_result"
    }
   ],
   "source": [
    "nc4_files[:5]"
   ]
  },
  {
   "cell_type": "markdown",
   "metadata": {},
   "source": [
    "### 2.3) Select files of a given month"
   ]
  },
  {
   "cell_type": "code",
   "execution_count": 25,
   "metadata": {
    "collapsed": true
   },
   "outputs": [],
   "source": [
    "keysel_filename='^MERRA2_400.tavg1_2d_aer_Nx.2016{}.*'.format(MONTH_NAME)"
   ]
  },
  {
   "cell_type": "code",
   "execution_count": 26,
   "metadata": {
    "collapsed": false
   },
   "outputs": [
    {
     "name": "stdout",
     "output_type": "stream",
     "text": [
      "Selection key ^MERRA2_400.tavg1_2d_aer_Nx.201611.*\n"
     ]
    }
   ],
   "source": [
    "print 'Selection key' ,keysel_filename"
   ]
  },
  {
   "cell_type": "code",
   "execution_count": 27,
   "metadata": {
    "collapsed": false
   },
   "outputs": [],
   "source": [
    "nc4_files2 = []\n",
    "for file in nc4_files:\n",
    "    if re.findall(keysel_filename,file):\n",
    "        nc4_files2.append(file)\n",
    "\n",
    "nc4_files2=np.array(nc4_files2)"
   ]
  },
  {
   "cell_type": "code",
   "execution_count": 28,
   "metadata": {
    "collapsed": false
   },
   "outputs": [
    {
     "data": {
      "text/plain": [
       "array(['MERRA2_400.tavg1_2d_aer_Nx.20161101.nc4',\n",
       "       'MERRA2_400.tavg1_2d_aer_Nx.20161102.nc4',\n",
       "       'MERRA2_400.tavg1_2d_aer_Nx.20161103.nc4',\n",
       "       'MERRA2_400.tavg1_2d_aer_Nx.20161104.nc4',\n",
       "       'MERRA2_400.tavg1_2d_aer_Nx.20161105.nc4',\n",
       "       'MERRA2_400.tavg1_2d_aer_Nx.20161106.nc4',\n",
       "       'MERRA2_400.tavg1_2d_aer_Nx.20161107.nc4',\n",
       "       'MERRA2_400.tavg1_2d_aer_Nx.20161108.nc4',\n",
       "       'MERRA2_400.tavg1_2d_aer_Nx.20161109.nc4',\n",
       "       'MERRA2_400.tavg1_2d_aer_Nx.20161110.nc4',\n",
       "       'MERRA2_400.tavg1_2d_aer_Nx.20161111.nc4',\n",
       "       'MERRA2_400.tavg1_2d_aer_Nx.20161112.nc4',\n",
       "       'MERRA2_400.tavg1_2d_aer_Nx.20161113.nc4',\n",
       "       'MERRA2_400.tavg1_2d_aer_Nx.20161114.nc4',\n",
       "       'MERRA2_400.tavg1_2d_aer_Nx.20161115.nc4',\n",
       "       'MERRA2_400.tavg1_2d_aer_Nx.20161116.nc4',\n",
       "       'MERRA2_400.tavg1_2d_aer_Nx.20161117.nc4',\n",
       "       'MERRA2_400.tavg1_2d_aer_Nx.20161118.nc4',\n",
       "       'MERRA2_400.tavg1_2d_aer_Nx.20161119.nc4',\n",
       "       'MERRA2_400.tavg1_2d_aer_Nx.20161120.nc4',\n",
       "       'MERRA2_400.tavg1_2d_aer_Nx.20161121.nc4',\n",
       "       'MERRA2_400.tavg1_2d_aer_Nx.20161122.nc4',\n",
       "       'MERRA2_400.tavg1_2d_aer_Nx.20161123.nc4',\n",
       "       'MERRA2_400.tavg1_2d_aer_Nx.20161124.nc4',\n",
       "       'MERRA2_400.tavg1_2d_aer_Nx.20161125.nc4',\n",
       "       'MERRA2_400.tavg1_2d_aer_Nx.20161126.nc4',\n",
       "       'MERRA2_400.tavg1_2d_aer_Nx.20161127.nc4',\n",
       "       'MERRA2_400.tavg1_2d_aer_Nx.20161128.nc4',\n",
       "       'MERRA2_400.tavg1_2d_aer_Nx.20161129.nc4',\n",
       "       'MERRA2_400.tavg1_2d_aer_Nx.20161130.nc4'], \n",
       "      dtype='|S39')"
      ]
     },
     "execution_count": 28,
     "metadata": {},
     "output_type": "execute_result"
    }
   ],
   "source": [
    "nc4_files2"
   ]
  },
  {
   "cell_type": "markdown",
   "metadata": {},
   "source": [
    "### 2.4) Sort files by increasing time"
   ]
  },
  {
   "cell_type": "code",
   "execution_count": 29,
   "metadata": {
    "collapsed": false
   },
   "outputs": [],
   "source": [
    "nc4_files=np.sort(nc4_files2)"
   ]
  },
  {
   "cell_type": "markdown",
   "metadata": {},
   "source": [
    "### 2.5) Build the full filename before reading"
   ]
  },
  {
   "cell_type": "code",
   "execution_count": 30,
   "metadata": {
    "collapsed": false
   },
   "outputs": [],
   "source": [
    "NBFILES=len(nc4_files)\n",
    "full_nc4files=[]\n",
    "\n",
    "for file in nc4_files:\n",
    "    fname = os.path.join(path, file)\n",
    "    full_nc4files.append(fname)  "
   ]
  },
  {
   "cell_type": "markdown",
   "metadata": {},
   "source": [
    "## 3)  Extract data and write them into pandas dataset and time series\n",
    "--------------------------------------------------------------------------------------"
   ]
  },
  {
   "cell_type": "code",
   "execution_count": 31,
   "metadata": {
    "collapsed": false
   },
   "outputs": [
    {
     "name": "stdout",
     "output_type": "stream",
     "text": [
      "start_time =  ['2016-11-01 00:30:00']\n",
      "start_time =  ['2016-11-02 00:30:00']\n",
      "start_time =  ['2016-11-03 00:30:00']\n",
      "start_time =  ['2016-11-04 00:30:00']\n",
      "start_time =  ['2016-11-05 00:30:00']\n",
      "start_time =  ['2016-11-06 00:30:00']\n",
      "start_time =  ['2016-11-07 00:30:00']\n",
      "start_time =  ['2016-11-08 00:30:00']\n",
      "start_time =  ['2016-11-09 00:30:00']\n",
      "start_time =  ['2016-11-10 00:30:00']\n",
      "start_time =  ['2016-11-11 00:30:00']\n",
      "start_time =  ['2016-11-12 00:30:00']\n",
      "start_time =  ['2016-11-13 00:30:00']\n",
      "start_time =  ['2016-11-14 00:30:00']\n",
      "start_time =  ['2016-11-15 00:30:00']\n",
      "start_time =  ['2016-11-16 00:30:00']\n",
      "start_time =  ['2016-11-17 00:30:00']\n",
      "start_time =  ['2016-11-18 00:30:00']\n",
      "start_time =  ['2016-11-19 00:30:00']\n",
      "start_time =  ['2016-11-20 00:30:00']\n",
      "start_time =  ['2016-11-21 00:30:00']\n",
      "start_time =  ['2016-11-22 00:30:00']\n",
      "start_time =  ['2016-11-23 00:30:00']\n",
      "start_time =  ['2016-11-24 00:30:00']\n",
      "start_time =  ['2016-11-25 00:30:00']\n",
      "start_time =  ['2016-11-26 00:30:00']\n",
      "start_time =  ['2016-11-27 00:30:00']\n",
      "start_time =  ['2016-11-28 00:30:00']\n",
      "start_time =  ['2016-11-29 00:30:00']\n",
      "start_time =  ['2016-11-30 00:30:00']\n"
     ]
    }
   ],
   "source": [
    "ts0=[]  # intermediate data series\n",
    "ts1=[]\n",
    "ts2=[]\n",
    "\n",
    "\n",
    "df_tavg1_2d_aer_Nx=[] # final pandas dataset for all atmospheric quantities\n",
    "\n",
    "for file in full_nc4files: # loop on data file of each day of the month\n",
    "    \n",
    "    #Retrieve 1D parameters longitude, latitude, time\n",
    "    (m_lat,m_un_lat,m_nm_lat) = merra2.Get1DData(file,'lat') # latitude (array, unit, name)\n",
    "    m_latitude = m_lat[:]\n",
    "    (m_lon,m_un_lon,m_nm_lon) = merra2.Get1DData(file,'lon') # longitude(array, unit, name)\n",
    "    m_longitude = m_lon[:]\n",
    "    (m_tim,m_un_tim,m_nm_tim)= merra2.Get1DData(file,'time') # time (array, unit, name)\n",
    "    m_time=m_tim[:]\n",
    "       \n",
    "    NbDataPerFile=m_time.shape[0] # number of data sample per file\n",
    "    #start_time = re.findall(\"^minutes since[ ]([0-9.].+[0-9.].+[0-9.].+)[ ]00:00:00$\",m_un_tim) # extract start time\n",
    "    start_time = re.findall(\"^minutes since[ ]([0-9.].+[0-9.].+[0-9.].+)\",m_un_tim) # extract start time\n",
    "    \n",
    "    #print 'start_time = ', start_time\n",
    "    time_rng = pd.date_range(start_time[0], periods=NbDataPerFile, freq='H') # one data per hour\n",
    "    \n",
    "    print 'start_time = ', start_time\n",
    "    \n",
    "    m_X,m_Y=np.meshgrid(m_longitude,m_latitude) # build meash-grid in longitude and latitude\n",
    "    (sel_long, sel_lat)=merra2.GetBinIndex(m_X,m_Y,loc[0],loc[1]) # get bin in longitude and latitude for the site  \n",
    "    \n",
    " \n",
    "    # loop\n",
    "    for index in range(NB_DATAFIELDS):\n",
    "        (m_data,m_unit,m_longname)=merra2.GetGeoRefData(file,DATA_TAG[index]) # 3D array : time x longitude x latitude  \n",
    "        dt=m_data[:,sel_lat,sel_long]\n",
    "        if index==0:\n",
    "            ts0 = pd.Series(dt, index=time_rng)\n",
    "        elif index==1:\n",
    "            ts1 = pd.Series(dt, index=time_rng)\n",
    "        elif index==2:\n",
    "            ts2 = pd.Series(dt, index=time_rng)\n",
    "\n",
    "            \n",
    "        #clf_timeseries.append(ts)\n",
    "        # Create the dataframe\n",
    "    df = pd.DataFrame({DATA_TAG[0]: ts0, \n",
    "                       DATA_TAG[1]: ts1,\n",
    "                       DATA_TAG[2]: ts2 }, index=time_rng)\n",
    "    df_tavg1_2d_aer_Nx.append(df)  \n",
    "    "
   ]
  },
  {
   "cell_type": "markdown",
   "metadata": {},
   "source": [
    "### Concatenation"
   ]
  },
  {
   "cell_type": "code",
   "execution_count": 32,
   "metadata": {
    "collapsed": false
   },
   "outputs": [],
   "source": [
    "df_tavg1_2d_aer_Nx=pd.concat(df_tavg1_2d_aer_Nx)"
   ]
  },
  {
   "cell_type": "code",
   "execution_count": 33,
   "metadata": {
    "collapsed": false
   },
   "outputs": [
    {
     "name": "stdout",
     "output_type": "stream",
     "text": [
      "<class 'pandas.core.frame.DataFrame'>\n",
      "DatetimeIndex: 720 entries, 2016-11-01 00:30:00 to 2016-11-30 23:30:00\n",
      "Data columns (total 3 columns):\n",
      "TOTANGSTR    720 non-null float32\n",
      "TOTEXTTAU    720 non-null float32\n",
      "TOTSCATAU    720 non-null float32\n",
      "dtypes: float32(3)\n",
      "memory usage: 14.1 KB\n"
     ]
    }
   ],
   "source": [
    "df_tavg1_2d_aer_Nx.info()"
   ]
  },
  {
   "cell_type": "markdown",
   "metadata": {},
   "source": [
    "## 4) Plot the time dependence of time series and dataset"
   ]
  },
  {
   "cell_type": "markdown",
   "metadata": {},
   "source": [
    "####  Fill information on years and months from the filenames"
   ]
  },
  {
   "cell_type": "code",
   "execution_count": 34,
   "metadata": {
    "collapsed": true
   },
   "outputs": [],
   "source": [
    "def PlotTimeSeries(index,figfile):\n",
    "    plt.figure(figsize=(20,5))\n",
    "    df_tavg1_2d_aer_Nx[DATA_TAG[index]].plot(lw=3,color='red')\n",
    "    plt.xlabel('time')\n",
    "    plt.ylabel(DATA_TAG[index])\n",
    "    title= \"Hourly {} at {} in 2016/{}\".format(DATA_TITLE[index],OBS_NAME,MONTH_NAME)\n",
    "    plt.title(title,fontsize=15)\n",
    "    plt.suptitle('NASA GMAO GES (MERRA-2)', y=1.02, fontsize=13)\n",
    "    plt.grid(True)\n",
    "    plt.savefig(figfile)"
   ]
  },
  {
   "cell_type": "markdown",
   "metadata": {},
   "source": [
    "### 4.1) Angstrom"
   ]
  },
  {
   "cell_type": "code",
   "execution_count": 35,
   "metadata": {
    "collapsed": false
   },
   "outputs": [
    {
     "data": {
      "image/png": "[encoded data removed]",
      "text/plain": [
       "<matplotlib.figure.Figure at 0x10c299490>"
      ]
     },
     "metadata": {},
     "output_type": "display_data"
    }
   ],
   "source": [
    "PlotTimeSeries(0,figfile_aer_angstr)"
   ]
  },
  {
   "cell_type": "markdown",
   "metadata": {},
   "source": [
    "###  4.2)  Aerosols extinction"
   ]
  },
  {
   "cell_type": "code",
   "execution_count": 36,
   "metadata": {
    "collapsed": false
   },
   "outputs": [
    {
     "data": {
      "image/png": "[encoded data removed]",
      "text/plain": [
       "<matplotlib.figure.Figure at 0x10de25e90>"
      ]
     },
     "metadata": {},
     "output_type": "display_data"
    }
   ],
   "source": [
    "PlotTimeSeries(1,figfile_aer_extinct)"
   ]
  },
  {
   "cell_type": "markdown",
   "metadata": {},
   "source": [
    "### 4.3) Aerosols scattering"
   ]
  },
  {
   "cell_type": "code",
   "execution_count": 37,
   "metadata": {
    "collapsed": false
   },
   "outputs": [
    {
     "data": {
      "image/png": "[encoded data removed]",
      "text/plain": [
       "<matplotlib.figure.Figure at 0x10df57310>"
      ]
     },
     "metadata": {},
     "output_type": "display_data"
    }
   ],
   "source": [
    "PlotTimeSeries(2,figfile_aer_scatter)"
   ]
  },
  {
   "cell_type": "markdown",
   "metadata": {},
   "source": [
    "## 5) Output"
   ]
  },
  {
   "cell_type": "code",
   "execution_count": 38,
   "metadata": {
    "collapsed": false
   },
   "outputs": [
    {
     "data": {
      "text/html": [
       "<div>\n",
       "<table border=\"1\" class=\"dataframe\">\n",
       "  <thead>\n",
       "    <tr style=\"text-align: right;\">\n",
       "      <th></th>\n",
       "      <th>TOTANGSTR</th>\n",
       "      <th>TOTEXTTAU</th>\n",
       "      <th>TOTSCATAU</th>\n",
       "    </tr>\n",
       "  </thead>\n",
       "  <tbody>\n",
       "    <tr>\n",
       "      <th>count</th>\n",
       "      <td>720.000000</td>\n",
       "      <td>720.000000</td>\n",
       "      <td>720.000000</td>\n",
       "    </tr>\n",
       "    <tr>\n",
       "      <th>mean</th>\n",
       "      <td>1.193414</td>\n",
       "      <td>0.076226</td>\n",
       "      <td>0.071053</td>\n",
       "    </tr>\n",
       "    <tr>\n",
       "      <th>std</th>\n",
       "      <td>0.265348</td>\n",
       "      <td>0.050457</td>\n",
       "      <td>0.048790</td>\n",
       "    </tr>\n",
       "    <tr>\n",
       "      <th>min</th>\n",
       "      <td>0.281200</td>\n",
       "      <td>0.022252</td>\n",
       "      <td>0.019411</td>\n",
       "    </tr>\n",
       "    <tr>\n",
       "      <th>25%</th>\n",
       "      <td>1.086361</td>\n",
       "      <td>0.039854</td>\n",
       "      <td>0.035610</td>\n",
       "    </tr>\n",
       "    <tr>\n",
       "      <th>50%</th>\n",
       "      <td>1.276567</td>\n",
       "      <td>0.061999</td>\n",
       "      <td>0.057235</td>\n",
       "    </tr>\n",
       "    <tr>\n",
       "      <th>75%</th>\n",
       "      <td>1.369683</td>\n",
       "      <td>0.093452</td>\n",
       "      <td>0.088118</td>\n",
       "    </tr>\n",
       "    <tr>\n",
       "      <th>max</th>\n",
       "      <td>1.617553</td>\n",
       "      <td>0.286591</td>\n",
       "      <td>0.272215</td>\n",
       "    </tr>\n",
       "  </tbody>\n",
       "</table>\n",
       "</div>"
      ],
      "text/plain": [
       "        TOTANGSTR   TOTEXTTAU   TOTSCATAU\n",
       "count  720.000000  720.000000  720.000000\n",
       "mean     1.193414    0.076226    0.071053\n",
       "std      0.265348    0.050457    0.048790\n",
       "min      0.281200    0.022252    0.019411\n",
       "25%      1.086361    0.039854    0.035610\n",
       "50%      1.276567    0.061999    0.057235\n",
       "75%      1.369683    0.093452    0.088118\n",
       "max      1.617553    0.286591    0.272215"
      ]
     },
     "execution_count": 38,
     "metadata": {},
     "output_type": "execute_result"
    }
   ],
   "source": [
    "df_tavg1_2d_aer_Nx.index.name='time'\n",
    "df_tavg1_2d_aer_Nx.describe()"
   ]
  },
  {
   "cell_type": "code",
   "execution_count": null,
   "metadata": {
    "collapsed": true
   },
   "outputs": [],
   "source": []
  },
  {
   "cell_type": "markdown",
   "metadata": {
    "collapsed": true
   },
   "source": [
    "## 5)  Save dataset  in file pandas (csv)\n",
    "----------------------------------------"
   ]
  },
  {
   "cell_type": "code",
   "execution_count": 39,
   "metadata": {
    "collapsed": false
   },
   "outputs": [],
   "source": [
    "dataset=df_tavg1_2d_aer_Nx"
   ]
  },
  {
   "cell_type": "code",
   "execution_count": 40,
   "metadata": {
    "collapsed": false
   },
   "outputs": [],
   "source": [
    "dataset.index.name='time'"
   ]
  },
  {
   "cell_type": "code",
   "execution_count": null,
   "metadata": {
    "collapsed": true
   },
   "outputs": [],
   "source": []
  },
  {
   "cell_type": "code",
   "execution_count": 41,
   "metadata": {
    "collapsed": false
   },
   "outputs": [
    {
     "data": {
      "text/html": [
       "<div>\n",
       "<table border=\"1\" class=\"dataframe\">\n",
       "  <thead>\n",
       "    <tr style=\"text-align: right;\">\n",
       "      <th></th>\n",
       "      <th>TOTANGSTR</th>\n",
       "      <th>TOTEXTTAU</th>\n",
       "      <th>TOTSCATAU</th>\n",
       "    </tr>\n",
       "  </thead>\n",
       "  <tbody>\n",
       "    <tr>\n",
       "      <th>count</th>\n",
       "      <td>720.000000</td>\n",
       "      <td>720.000000</td>\n",
       "      <td>720.000000</td>\n",
       "    </tr>\n",
       "    <tr>\n",
       "      <th>mean</th>\n",
       "      <td>1.193414</td>\n",
       "      <td>0.076226</td>\n",
       "      <td>0.071053</td>\n",
       "    </tr>\n",
       "    <tr>\n",
       "      <th>std</th>\n",
       "      <td>0.265348</td>\n",
       "      <td>0.050457</td>\n",
       "      <td>0.048790</td>\n",
       "    </tr>\n",
       "    <tr>\n",
       "      <th>min</th>\n",
       "      <td>0.281200</td>\n",
       "      <td>0.022252</td>\n",
       "      <td>0.019411</td>\n",
       "    </tr>\n",
       "    <tr>\n",
       "      <th>25%</th>\n",
       "      <td>1.086361</td>\n",
       "      <td>0.039854</td>\n",
       "      <td>0.035610</td>\n",
       "    </tr>\n",
       "    <tr>\n",
       "      <th>50%</th>\n",
       "      <td>1.276567</td>\n",
       "      <td>0.061999</td>\n",
       "      <td>0.057235</td>\n",
       "    </tr>\n",
       "    <tr>\n",
       "      <th>75%</th>\n",
       "      <td>1.369683</td>\n",
       "      <td>0.093452</td>\n",
       "      <td>0.088118</td>\n",
       "    </tr>\n",
       "    <tr>\n",
       "      <th>max</th>\n",
       "      <td>1.617553</td>\n",
       "      <td>0.286591</td>\n",
       "      <td>0.272215</td>\n",
       "    </tr>\n",
       "  </tbody>\n",
       "</table>\n",
       "</div>"
      ],
      "text/plain": [
       "        TOTANGSTR   TOTEXTTAU   TOTSCATAU\n",
       "count  720.000000  720.000000  720.000000\n",
       "mean     1.193414    0.076226    0.071053\n",
       "std      0.265348    0.050457    0.048790\n",
       "min      0.281200    0.022252    0.019411\n",
       "25%      1.086361    0.039854    0.035610\n",
       "50%      1.276567    0.061999    0.057235\n",
       "75%      1.369683    0.093452    0.088118\n",
       "max      1.617553    0.286591    0.272215"
      ]
     },
     "execution_count": 41,
     "metadata": {},
     "output_type": "execute_result"
    }
   ],
   "source": [
    "dataset.describe()"
   ]
  },
  {
   "cell_type": "code",
   "execution_count": 42,
   "metadata": {
    "collapsed": false
   },
   "outputs": [
    {
     "data": {
      "text/html": [
       "<div>\n",
       "<table border=\"1\" class=\"dataframe\">\n",
       "  <thead>\n",
       "    <tr style=\"text-align: right;\">\n",
       "      <th></th>\n",
       "      <th>TOTANGSTR</th>\n",
       "      <th>TOTEXTTAU</th>\n",
       "      <th>TOTSCATAU</th>\n",
       "    </tr>\n",
       "    <tr>\n",
       "      <th>time</th>\n",
       "      <th></th>\n",
       "      <th></th>\n",
       "      <th></th>\n",
       "    </tr>\n",
       "  </thead>\n",
       "  <tbody>\n",
       "    <tr>\n",
       "      <th>2016-11-01 00:30:00</th>\n",
       "      <td>1.324808</td>\n",
       "      <td>0.074489</td>\n",
       "      <td>0.067742</td>\n",
       "    </tr>\n",
       "    <tr>\n",
       "      <th>2016-11-01 01:30:00</th>\n",
       "      <td>1.289908</td>\n",
       "      <td>0.074081</td>\n",
       "      <td>0.067488</td>\n",
       "    </tr>\n",
       "    <tr>\n",
       "      <th>2016-11-01 02:30:00</th>\n",
       "      <td>1.255869</td>\n",
       "      <td>0.075358</td>\n",
       "      <td>0.068789</td>\n",
       "    </tr>\n",
       "    <tr>\n",
       "      <th>2016-11-01 03:30:00</th>\n",
       "      <td>1.228245</td>\n",
       "      <td>0.079394</td>\n",
       "      <td>0.072790</td>\n",
       "    </tr>\n",
       "    <tr>\n",
       "      <th>2016-11-01 04:30:00</th>\n",
       "      <td>1.209285</td>\n",
       "      <td>0.082988</td>\n",
       "      <td>0.076332</td>\n",
       "    </tr>\n",
       "  </tbody>\n",
       "</table>\n",
       "</div>"
      ],
      "text/plain": [
       "                     TOTANGSTR  TOTEXTTAU  TOTSCATAU\n",
       "time                                                \n",
       "2016-11-01 00:30:00   1.324808   0.074489   0.067742\n",
       "2016-11-01 01:30:00   1.289908   0.074081   0.067488\n",
       "2016-11-01 02:30:00   1.255869   0.075358   0.068789\n",
       "2016-11-01 03:30:00   1.228245   0.079394   0.072790\n",
       "2016-11-01 04:30:00   1.209285   0.082988   0.076332"
      ]
     },
     "execution_count": 42,
     "metadata": {},
     "output_type": "execute_result"
    }
   ],
   "source": [
    "dataset.head()"
   ]
  },
  {
   "cell_type": "code",
   "execution_count": 43,
   "metadata": {
    "collapsed": true
   },
   "outputs": [],
   "source": [
    "dataset.to_csv(pandas_filename)"
   ]
  },
  {
   "cell_type": "code",
   "execution_count": 44,
   "metadata": {
    "collapsed": true
   },
   "outputs": [],
   "source": [
    "saved_dataset=pd.read_csv(pandas_filename)"
   ]
  },
  {
   "cell_type": "code",
   "execution_count": 45,
   "metadata": {
    "collapsed": false
   },
   "outputs": [
    {
     "data": {
      "text/html": [
       "<div>\n",
       "<table border=\"1\" class=\"dataframe\">\n",
       "  <thead>\n",
       "    <tr style=\"text-align: right;\">\n",
       "      <th></th>\n",
       "      <th>time</th>\n",
       "      <th>TOTANGSTR</th>\n",
       "      <th>TOTEXTTAU</th>\n",
       "      <th>TOTSCATAU</th>\n",
       "    </tr>\n",
       "  </thead>\n",
       "  <tbody>\n",
       "    <tr>\n",
       "      <th>0</th>\n",
       "      <td>2016-11-01 00:30:00</td>\n",
       "      <td>1.324808</td>\n",
       "      <td>0.074489</td>\n",
       "      <td>0.067742</td>\n",
       "    </tr>\n",
       "    <tr>\n",
       "      <th>1</th>\n",
       "      <td>2016-11-01 01:30:00</td>\n",
       "      <td>1.289908</td>\n",
       "      <td>0.074081</td>\n",
       "      <td>0.067488</td>\n",
       "    </tr>\n",
       "    <tr>\n",
       "      <th>2</th>\n",
       "      <td>2016-11-01 02:30:00</td>\n",
       "      <td>1.255869</td>\n",
       "      <td>0.075358</td>\n",
       "      <td>0.068789</td>\n",
       "    </tr>\n",
       "    <tr>\n",
       "      <th>3</th>\n",
       "      <td>2016-11-01 03:30:00</td>\n",
       "      <td>1.228245</td>\n",
       "      <td>0.079394</td>\n",
       "      <td>0.072790</td>\n",
       "    </tr>\n",
       "    <tr>\n",
       "      <th>4</th>\n",
       "      <td>2016-11-01 04:30:00</td>\n",
       "      <td>1.209285</td>\n",
       "      <td>0.082988</td>\n",
       "      <td>0.076332</td>\n",
       "    </tr>\n",
       "  </tbody>\n",
       "</table>\n",
       "</div>"
      ],
      "text/plain": [
       "                  time  TOTANGSTR  TOTEXTTAU  TOTSCATAU\n",
       "0  2016-11-01 00:30:00   1.324808   0.074489   0.067742\n",
       "1  2016-11-01 01:30:00   1.289908   0.074081   0.067488\n",
       "2  2016-11-01 02:30:00   1.255869   0.075358   0.068789\n",
       "3  2016-11-01 03:30:00   1.228245   0.079394   0.072790\n",
       "4  2016-11-01 04:30:00   1.209285   0.082988   0.076332"
      ]
     },
     "execution_count": 45,
     "metadata": {},
     "output_type": "execute_result"
    }
   ],
   "source": [
    "saved_dataset.head()"
   ]
  },
  {
   "cell_type": "markdown",
   "metadata": {},
   "source": [
    "## 6) Convert dataset into a table and then save in a fits file\n",
    "--------------------------------------------------------------------------"
   ]
  },
  {
   "cell_type": "code",
   "execution_count": 46,
   "metadata": {
    "collapsed": true
   },
   "outputs": [],
   "source": [
    "table = Table.from_pandas(saved_dataset)"
   ]
  },
  {
   "cell_type": "code",
   "execution_count": 47,
   "metadata": {
    "collapsed": false
   },
   "outputs": [
    {
     "data": {
      "text/html": [
       "&lt;Table length=720&gt;\n",
       "<table id=\"table4528300624\" class=\"table-striped table-bordered table-condensed\">\n",
       "<thead><tr><th>time</th><th>TOTANGSTR</th><th>TOTEXTTAU</th><th>TOTSCATAU</th></tr></thead>\n",
       "<thead><tr><th>str19</th><th>float64</th><th>float64</th><th>float64</th></tr></thead>\n",
       "<tr><td>2016-11-01 00:30:00</td><td>1.32480764389</td><td>0.074488684535</td><td>0.0677421838045</td></tr>\n",
       "<tr><td>2016-11-01 01:30:00</td><td>1.28990828991</td><td>0.0740809887648</td><td>0.067487552762</td></tr>\n",
       "<tr><td>2016-11-01 02:30:00</td><td>1.25586903095</td><td>0.0753575116396</td><td>0.0687892511487</td></tr>\n",
       "<tr><td>2016-11-01 03:30:00</td><td>1.22824454308</td><td>0.0793938189745</td><td>0.0727896392345</td></tr>\n",
       "<tr><td>2016-11-01 04:30:00</td><td>1.20928549767</td><td>0.0829880088568</td><td>0.0763317719102</td></tr>\n",
       "<tr><td>2016-11-01 05:30:00</td><td>1.19436335564</td><td>0.0816955119371</td><td>0.0750579535961</td></tr>\n",
       "<tr><td>2016-11-01 06:30:00</td><td>1.17848443985</td><td>0.0846890285611</td><td>0.0781206637621</td></tr>\n",
       "<tr><td>2016-11-01 07:30:00</td><td>1.1650853157</td><td>0.0907758399844</td><td>0.0843615606427</td></tr>\n",
       "<tr><td>2016-11-01 08:30:00</td><td>1.16282141209</td><td>0.086298301816</td><td>0.0800654813647</td></tr>\n",
       "<tr><td>2016-11-01 09:30:00</td><td>1.2022548914</td><td>0.0724980309606</td><td>0.0664220005274</td></tr>\n",
       "<tr><td>...</td><td>...</td><td>...</td><td>...</td></tr>\n",
       "<tr><td>2016-11-30 14:30:00</td><td>1.53660404682</td><td>0.0520718917251</td><td>0.0472616665065</td></tr>\n",
       "<tr><td>2016-11-30 15:30:00</td><td>1.54864108562</td><td>0.0487542301416</td><td>0.0440483093262</td></tr>\n",
       "<tr><td>2016-11-30 16:30:00</td><td>1.55065393448</td><td>0.0450043268502</td><td>0.0405003093183</td></tr>\n",
       "<tr><td>2016-11-30 17:30:00</td><td>1.54514503479</td><td>0.0414270870388</td><td>0.037115406245</td></tr>\n",
       "<tr><td>2016-11-30 18:30:00</td><td>1.53725886345</td><td>0.038595225662</td><td>0.0344327911735</td></tr>\n",
       "<tr><td>2016-11-30 19:30:00</td><td>1.52727818489</td><td>0.037052962929</td><td>0.0329876095057</td></tr>\n",
       "<tr><td>2016-11-30 20:30:00</td><td>1.515873909</td><td>0.0360190756619</td><td>0.0320497602224</td></tr>\n",
       "<tr><td>2016-11-30 21:30:00</td><td>1.50192224979</td><td>0.0345768108964</td><td>0.0307615678757</td></tr>\n",
       "<tr><td>2016-11-30 22:30:00</td><td>1.48350954056</td><td>0.0321884527802</td><td>0.0285674016923</td></tr>\n",
       "<tr><td>2016-11-30 23:30:00</td><td>1.46527326107</td><td>0.0295454375446</td><td>0.0261119734496</td></tr>\n",
       "</table>"
      ],
      "text/plain": [
       "<Table length=720>\n",
       "        time          TOTANGSTR      TOTEXTTAU       TOTSCATAU   \n",
       "       str19           float64        float64         float64    \n",
       "------------------- ------------- --------------- ---------------\n",
       "2016-11-01 00:30:00 1.32480764389  0.074488684535 0.0677421838045\n",
       "2016-11-01 01:30:00 1.28990828991 0.0740809887648  0.067487552762\n",
       "2016-11-01 02:30:00 1.25586903095 0.0753575116396 0.0687892511487\n",
       "2016-11-01 03:30:00 1.22824454308 0.0793938189745 0.0727896392345\n",
       "2016-11-01 04:30:00 1.20928549767 0.0829880088568 0.0763317719102\n",
       "2016-11-01 05:30:00 1.19436335564 0.0816955119371 0.0750579535961\n",
       "2016-11-01 06:30:00 1.17848443985 0.0846890285611 0.0781206637621\n",
       "2016-11-01 07:30:00  1.1650853157 0.0907758399844 0.0843615606427\n",
       "2016-11-01 08:30:00 1.16282141209  0.086298301816 0.0800654813647\n",
       "2016-11-01 09:30:00  1.2022548914 0.0724980309606 0.0664220005274\n",
       "                ...           ...             ...             ...\n",
       "2016-11-30 14:30:00 1.53660404682 0.0520718917251 0.0472616665065\n",
       "2016-11-30 15:30:00 1.54864108562 0.0487542301416 0.0440483093262\n",
       "2016-11-30 16:30:00 1.55065393448 0.0450043268502 0.0405003093183\n",
       "2016-11-30 17:30:00 1.54514503479 0.0414270870388  0.037115406245\n",
       "2016-11-30 18:30:00 1.53725886345  0.038595225662 0.0344327911735\n",
       "2016-11-30 19:30:00 1.52727818489  0.037052962929 0.0329876095057\n",
       "2016-11-30 20:30:00   1.515873909 0.0360190756619 0.0320497602224\n",
       "2016-11-30 21:30:00 1.50192224979 0.0345768108964 0.0307615678757\n",
       "2016-11-30 22:30:00 1.48350954056 0.0321884527802 0.0285674016923\n",
       "2016-11-30 23:30:00 1.46527326107 0.0295454375446 0.0261119734496"
      ]
     },
     "execution_count": 47,
     "metadata": {},
     "output_type": "execute_result"
    }
   ],
   "source": [
    "table"
   ]
  },
  {
   "cell_type": "code",
   "execution_count": 48,
   "metadata": {
    "collapsed": false
   },
   "outputs": [],
   "source": [
    "table.write(fits_filename,format='fits',overwrite=True)"
   ]
  },
  {
   "cell_type": "code",
   "execution_count": null,
   "metadata": {
    "collapsed": true
   },
   "outputs": [],
   "source": []
  }
 ],
 "metadata": {
  "anaconda-cloud": {},
  "kernelspec": {
   "display_name": "Python [default]",
   "language": "python",
   "name": "python2"
  },
  "language_info": {
   "codemirror_mode": {
    "name": "ipython",
    "version": 2
   },
   "file_extension": ".py",
   "mimetype": "text/x-python",
   "name": "python",
   "nbconvert_exporter": "python",
   "pygments_lexer": "ipython2",
   "version": "2.7.12"
  }
 },
 "nbformat": 4,
 "nbformat_minor": 0
}
