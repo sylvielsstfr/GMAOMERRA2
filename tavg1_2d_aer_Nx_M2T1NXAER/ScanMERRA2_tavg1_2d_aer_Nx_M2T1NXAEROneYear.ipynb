{
 "cells": [
  {
   "cell_type": "markdown",
   "metadata": {},
   "source": [
    "# Scan MERRA-2 atmospheric properties during one year\n",
    "----------------------------------------------------------------------------------\n",
    "\n",
    "- author: Sylvie Dagoret-Campagne\n",
    "- creation January 12 2017\n",
    "- update January 12 2016\n",
    "- update April 25th 2018\n",
    "- update June 5th 2019\n",
    "\n",
    "Link:\n",
    "\n",
    "http://disc.sci.gsfc.nasa.gov/datareleases/merra_2_data_release\n",
    "\n",
    "### purpose:\n",
    "\n",
    "Scan One year of MERRA-2 predictions of the dataset tavg1_2d_aer_Nx_M2T1NXAER. \n",
    "Extract the relevant atmospheric variables.\n",
    "Build the correcponding time series and dataset in pandas.\n",
    "Plot the variables. Save the pandas dataset into a file.\n",
    "Convert the pandas dataset into an astropy fits table and save into a fits file as well.\n",
    "\n"
   ]
  },
  {
   "cell_type": "markdown",
   "metadata": {},
   "source": [
    "## 1) python libraries\n",
    "---------------------------"
   ]
  },
  {
   "cell_type": "code",
   "execution_count": 1,
   "metadata": {},
   "outputs": [
    {
     "name": "stderr",
     "output_type": "stream",
     "text": [
      "\n",
      "Bad key \"axes.color_cycle\" on line 215 in\n",
      "templates/matplotlibrc.\n",
      "You probably need to get an updated matplotlibrc file from\n",
      "http://github.com/matplotlib/matplotlib/blob/master/matplotlibrc.template\n",
      "or from the matplotlib source distribution\n"
     ]
    }
   ],
   "source": [
    "# Set up matplotlib and use a nicer set of plot parameters\n",
    "%config InlineBackend.rc = {}\n",
    "import matplotlib\n",
    "import matplotlib as mpl\n",
    "matplotlib.rc_file(\"templates/matplotlibrc\")\n",
    "import matplotlib.pyplot as plt\n",
    "%matplotlib inline"
   ]
  },
  {
   "cell_type": "code",
   "execution_count": 2,
   "metadata": {},
   "outputs": [],
   "source": [
    "import datetime"
   ]
  },
  {
   "cell_type": "code",
   "execution_count": 3,
   "metadata": {},
   "outputs": [],
   "source": [
    "from matplotlib.dates import MonthLocator, WeekdayLocator,DateFormatter\n",
    "from matplotlib.dates import MONDAY"
   ]
  },
  {
   "cell_type": "code",
   "execution_count": 4,
   "metadata": {},
   "outputs": [],
   "source": [
    "mondays = WeekdayLocator(MONDAY)\n",
    "months = MonthLocator(range(1, 13), bymonthday=1, interval=1)\n",
    "monthsFmt = DateFormatter(\"%b '%y\")"
   ]
  },
  {
   "cell_type": "code",
   "execution_count": 5,
   "metadata": {},
   "outputs": [],
   "source": [
    "import os\n",
    "import re\n",
    "import numpy as np\n",
    "from mpl_toolkits.basemap import Basemap\n",
    "from matplotlib import colors\n",
    "from matplotlib.backends.backend_pdf import PdfPages\n",
    "import pandas as pd"
   ]
  },
  {
   "cell_type": "code",
   "execution_count": 6,
   "metadata": {},
   "outputs": [],
   "source": [
    "from astropy import units as u\n",
    "from astropy.coordinates import SkyCoord\n",
    "\n",
    "from astropy.table import Table"
   ]
  },
  {
   "cell_type": "code",
   "execution_count": 7,
   "metadata": {},
   "outputs": [],
   "source": [
    "import h5py"
   ]
  },
  {
   "cell_type": "code",
   "execution_count": 8,
   "metadata": {},
   "outputs": [],
   "source": [
    "import libGMAOMERRA2Data as merra2  # My own library"
   ]
  },
  {
   "cell_type": "code",
   "execution_count": 9,
   "metadata": {},
   "outputs": [],
   "source": [
    "############################################################################\n",
    "def ensure_dir(f):\n",
    "    d = os.path.dirname(f)\n",
    "    if not os.path.exists(f):\n",
    "        os.makedirs(f)\n",
    "#########################################################################"
   ]
  },
  {
   "cell_type": "markdown",
   "metadata": {},
   "source": [
    "## 2)  Configuration\n",
    "-------------------------"
   ]
  },
  {
   "cell_type": "markdown",
   "metadata": {},
   "source": [
    "### SELECT YEAR"
   ]
  },
  {
   "cell_type": "code",
   "execution_count": 10,
   "metadata": {},
   "outputs": [],
   "source": [
    "YEARNUM=\"2019\""
   ]
  },
  {
   "cell_type": "code",
   "execution_count": 11,
   "metadata": {},
   "outputs": [],
   "source": [
    "# SELECT OBSERVATORY\n",
    "OBS_NAME='pdm'"
   ]
  },
  {
   "cell_type": "code",
   "execution_count": 12,
   "metadata": {},
   "outputs": [],
   "source": [
    "# where are the HDF files\n",
    "#HDFEOS_ZOO_DIR=\"/Volumes/DAGORETBACK/MERRA-2/inst1_2d_asm_Nx_M2I1NXASM/2016\"\n",
    "#HDFEOS_ZOO_DIR=\"/Volumes/LaCie2/DATA/MERRA-2/tavg1_2d_aer_Nx_M2T1NXAER\"\n",
    "#HDFEOS_ZOO_DIR=\"/sps/lsst/data/AtmosphericCalibration/MERRA-2/May-Jun-2017/subset_M2T1NXAER_V5.12.4_20180424_195815\"\n",
    "#HDFEOS_ZOO_DIR=\"/Users/dagoret/DATA/MERRA-2/M2T1NXAER.5.12.4\"\n",
    "HDFEOS_ZOO_DIR=os.path.join(\"/Users/dagoret/DATA/MERRA-2/M2T1NXAER.5.12.4\",YEARNUM)\n",
    "#HDFEOS_ZOO_DIR=os.path.join(\"/Users/dagoret/DATA/merra-2import/M2T1NXAER.5.12.4\",YEARNUM)"
   ]
  },
  {
   "cell_type": "code",
   "execution_count": 13,
   "metadata": {},
   "outputs": [],
   "source": [
    "path=HDFEOS_ZOO_DIR"
   ]
  },
  {
   "cell_type": "markdown",
   "metadata": {},
   "source": [
    "### Here I describe the content of the input files"
   ]
  },
  {
   "cell_type": "code",
   "execution_count": 14,
   "metadata": {},
   "outputs": [],
   "source": [
    "DATA_TAG=['TOTANGSTR','TOTEXTTAU','TOTSCATAU']"
   ]
  },
  {
   "cell_type": "code",
   "execution_count": 15,
   "metadata": {},
   "outputs": [],
   "source": [
    "DATA_TITLE=['Total Aerosol Angstrom parameter 470-870 nm',\n",
    "            'Total Aerosol Extinction AOT 550 nm',\n",
    "            'Total Aerosol Scattering AOT 550 nm'\n",
    "           ]"
   ]
  },
  {
   "cell_type": "code",
   "execution_count": 16,
   "metadata": {},
   "outputs": [],
   "source": [
    "NB_DATAFIELDS=len(DATA_TAG)"
   ]
  },
  {
   "cell_type": "markdown",
   "metadata": {},
   "source": [
    "### List of output files"
   ]
  },
  {
   "cell_type": "code",
   "execution_count": 17,
   "metadata": {},
   "outputs": [],
   "source": [
    "# The selected data field\n",
    "DATA_NAME =  'tavg1_2d_aer_Nx_M2T1NXAER'   # "
   ]
  },
  {
   "cell_type": "code",
   "execution_count": 18,
   "metadata": {},
   "outputs": [],
   "source": [
    "pandas_filename='MERRA2_'+YEARNUM+'_'+DATA_NAME+'_'+OBS_NAME+'_'+'AllYear'+'.csv'"
   ]
  },
  {
   "cell_type": "code",
   "execution_count": 19,
   "metadata": {},
   "outputs": [],
   "source": [
    "fits_filename='MERRA2_'+YEARNUM+'_'+DATA_NAME+'_'+OBS_NAME+'_'+'AllYear' +'.fits'"
   ]
  },
  {
   "cell_type": "code",
   "execution_count": 20,
   "metadata": {},
   "outputs": [],
   "source": [
    "# 6 output files for figures\n",
    "figfile_aer_angstr='GMAO_MERRA2_'+YEARNUM+'_'+DATA_NAME+'_'+OBS_NAME+'_'+'AllYear'+'_'+'AllYear'+'_aer_angstr'+'.png'\n",
    "figfile_aer_extinct='GMAO_MERRA2_'+YEARNUM+'_'+DATA_NAME+'_'+OBS_NAME+'_'+'AllYear'+'_'+'AllYear'+'_aer_extinct'+'.png'\n",
    "figfile_aer_scatter='GMAO_MERRA2_'+YEARNUM+'_'+DATA_NAME+'_'+OBS_NAME+'_'+'AllYear'+'_'+'AllYear'+'_aer_scatter'+'.png'"
   ]
  },
  {
   "cell_type": "markdown",
   "metadata": {},
   "source": [
    "### Select where in the world"
   ]
  },
  {
   "cell_type": "code",
   "execution_count": 21,
   "metadata": {},
   "outputs": [],
   "source": [
    "# Select observatory\n",
    "loc=merra2.observatory_location(OBS_NAME)"
   ]
  },
  {
   "cell_type": "code",
   "execution_count": 22,
   "metadata": {},
   "outputs": [
    {
     "data": {
      "text/plain": [
       "(0.142777, 42.9363888, 2877.0)"
      ]
     },
     "execution_count": 22,
     "metadata": {},
     "output_type": "execute_result"
    }
   ],
   "source": [
    "loc"
   ]
  },
  {
   "cell_type": "markdown",
   "metadata": {},
   "source": [
    "### 2.2) Getting the list of the files\n",
    "------------------------------"
   ]
  },
  {
   "cell_type": "code",
   "execution_count": 23,
   "metadata": {},
   "outputs": [],
   "source": [
    "nc4_files = [f for f in os.listdir(path) if f.endswith('.nc4')]  "
   ]
  },
  {
   "cell_type": "code",
   "execution_count": 24,
   "metadata": {},
   "outputs": [
    {
     "data": {
      "text/plain": [
       "['MERRA2_400.tavg1_2d_aer_Nx.20190216.nc4',\n",
       " 'MERRA2_400.tavg1_2d_aer_Nx.20190215.nc4',\n",
       " 'MERRA2_400.tavg1_2d_aer_Nx.20190214.nc4']"
      ]
     },
     "execution_count": 24,
     "metadata": {},
     "output_type": "execute_result"
    }
   ],
   "source": [
    "nc4_files[:5]"
   ]
  },
  {
   "cell_type": "markdown",
   "metadata": {},
   "source": [
    "### 2.3) Select files of a given month"
   ]
  },
  {
   "cell_type": "code",
   "execution_count": 25,
   "metadata": {},
   "outputs": [],
   "source": [
    "keysel_filename='^MERRA2_400.tavg1_2d_aer_Nx.'+YEARNUM+'.*'"
   ]
  },
  {
   "cell_type": "code",
   "execution_count": 26,
   "metadata": {},
   "outputs": [
    {
     "name": "stdout",
     "output_type": "stream",
     "text": [
      "Selection key ^MERRA2_400.tavg1_2d_aer_Nx.2019.*\n"
     ]
    }
   ],
   "source": [
    "print('Selection key' ,keysel_filename)"
   ]
  },
  {
   "cell_type": "code",
   "execution_count": 27,
   "metadata": {},
   "outputs": [],
   "source": [
    "nc4_files2 = []\n",
    "for file in nc4_files:\n",
    "    if re.findall(keysel_filename,file):\n",
    "        nc4_files2.append(file)\n",
    "\n",
    "nc4_files2=np.array(nc4_files2)"
   ]
  },
  {
   "cell_type": "code",
   "execution_count": 28,
   "metadata": {},
   "outputs": [
    {
     "data": {
      "text/plain": [
       "array(['MERRA2_400.tavg1_2d_aer_Nx.20190216.nc4',\n",
       "       'MERRA2_400.tavg1_2d_aer_Nx.20190215.nc4',\n",
       "       'MERRA2_400.tavg1_2d_aer_Nx.20190214.nc4'], dtype='<U39')"
      ]
     },
     "execution_count": 28,
     "metadata": {},
     "output_type": "execute_result"
    }
   ],
   "source": [
    "nc4_files2"
   ]
  },
  {
   "cell_type": "markdown",
   "metadata": {},
   "source": [
    "### 2.4) Sort files by increasing time"
   ]
  },
  {
   "cell_type": "code",
   "execution_count": 29,
   "metadata": {},
   "outputs": [],
   "source": [
    "nc4_files=np.sort(nc4_files2)"
   ]
  },
  {
   "cell_type": "markdown",
   "metadata": {},
   "source": [
    "### 2.5) Build the full filename before reading"
   ]
  },
  {
   "cell_type": "code",
   "execution_count": 30,
   "metadata": {},
   "outputs": [],
   "source": [
    "NBFILES=len(nc4_files)\n",
    "full_nc4files=[]\n",
    "\n",
    "for file in nc4_files:\n",
    "    fname = os.path.join(path, file)\n",
    "    full_nc4files.append(fname)  "
   ]
  },
  {
   "cell_type": "markdown",
   "metadata": {},
   "source": [
    "## 3)  Extract data and write them into pandas dataset and time series\n",
    "--------------------------------------------------------------------------------------"
   ]
  },
  {
   "cell_type": "code",
   "execution_count": 31,
   "metadata": {},
   "outputs": [
    {
     "name": "stdout",
     "output_type": "stream",
     "text": [
      "---------------------------------------------\n",
      "NbDataPerFile =  24\n",
      "start_time =  ['2019-02-14 00:30:00']\n",
      "time_rng   =  DatetimeIndex(['2019-02-14 00:30:00', '2019-02-14 01:30:00',\n",
      "               '2019-02-14 02:30:00', '2019-02-14 03:30:00',\n",
      "               '2019-02-14 04:30:00'],\n",
      "              dtype='datetime64[ns]', freq='H')\n",
      "---------------------------------------------\n",
      "NbDataPerFile =  24\n",
      "start_time =  ['2019-02-15 00:30:00']\n",
      "time_rng   =  DatetimeIndex(['2019-02-15 00:30:00', '2019-02-15 01:30:00',\n",
      "               '2019-02-15 02:30:00', '2019-02-15 03:30:00',\n",
      "               '2019-02-15 04:30:00'],\n",
      "              dtype='datetime64[ns]', freq='H')\n",
      "---------------------------------------------\n",
      "NbDataPerFile =  24\n",
      "start_time =  ['2019-02-16 00:30:00']\n",
      "time_rng   =  DatetimeIndex(['2019-02-16 00:30:00', '2019-02-16 01:30:00',\n",
      "               '2019-02-16 02:30:00', '2019-02-16 03:30:00',\n",
      "               '2019-02-16 04:30:00'],\n",
      "              dtype='datetime64[ns]', freq='H')\n"
     ]
    }
   ],
   "source": [
    "ts0=[]  # intermediate data series\n",
    "ts1=[]\n",
    "ts2=[]\n",
    "\n",
    "\n",
    "df_tavg1_2d_aer_Nx=[] # final pandas dataset for all atmospheric quantities\n",
    "\n",
    "for file in full_nc4files: # loop on data file of each day of the month\n",
    "    \n",
    "    #Retrieve 1D parameters longitude, latitude, time\n",
    "    (m_lat,m_un_lat,m_nm_lat) = merra2.Get1DData(file,'lat') # latitude (array, unit, name)\n",
    "    m_latitude = m_lat[:]\n",
    "    (m_lon,m_un_lon,m_nm_lon) = merra2.Get1DData(file,'lon') # longitude(array, unit, name)\n",
    "    m_longitude = m_lon[:]\n",
    "    (m_tim,m_un_tim,m_nm_tim)= merra2.Get1DData(file,'time') # time (array, unit, name)\n",
    "    m_time=m_tim[:]\n",
    "    \n",
    "    # with python3 obliged to transform byte string into a string    \n",
    "    m_un_tim2=m_un_tim.decode(\"utf-8\")  \n",
    "    \n",
    "    NbDataPerFile=m_time.shape[0] # number of data sample per file\n",
    "    #start_time = re.findall(\"^minutes since[ ]([0-9.].+[0-9.].+[0-9.].+)[ ]00:00:00$\",m_un_tim) # extract start time\n",
    "    start_time = re.findall(\"^minutes since[ ]([0-9.].+[0-9.].+[0-9.].+)\",m_un_tim2) # extract start time\n",
    "    \n",
    "    #print 'start_time = ', start_time\n",
    "    time_rng = pd.date_range(start_time[0], periods=NbDataPerFile, freq='H') # one data per hour\n",
    "    \n",
    "    print('---------------------------------------------')\n",
    "    print('NbDataPerFile = ', NbDataPerFile)\n",
    "    print('start_time = ', start_time)\n",
    "    print('time_rng   = ', time_rng[:5])\n",
    "    \n",
    "    m_X,m_Y=np.meshgrid(m_longitude,m_latitude) # build meash-grid in longitude and latitude\n",
    "    (sel_long, sel_lat)=merra2.GetBinIndex(m_X,m_Y,loc[0],loc[1]) # get bin in longitude and latitude for the site  \n",
    "    \n",
    " \n",
    "    # loop\n",
    "    for index in range(NB_DATAFIELDS):\n",
    "        (m_data,m_unit,m_longname)=merra2.GetGeoRefData(file,DATA_TAG[index]) # 3D array : time x longitude x latitude  \n",
    "        dt=m_data[:,sel_lat,sel_long]\n",
    "        if index==0:\n",
    "            ts0 = pd.Series(dt, index=time_rng)\n",
    "        elif index==1:\n",
    "            ts1 = pd.Series(dt, index=time_rng)\n",
    "        elif index==2:\n",
    "            ts2 = pd.Series(dt, index=time_rng)\n",
    "\n",
    "            \n",
    "        #clf_timeseries.append(ts)\n",
    "        # Create the dataframe\n",
    "    df = pd.DataFrame({DATA_TAG[0]: ts0, \n",
    "                       DATA_TAG[1]: ts1,\n",
    "                       DATA_TAG[2]: ts2 }, index=time_rng)\n",
    "    df_tavg1_2d_aer_Nx.append(df)  \n",
    "    "
   ]
  },
  {
   "cell_type": "markdown",
   "metadata": {},
   "source": [
    "### Concatenation"
   ]
  },
  {
   "cell_type": "code",
   "execution_count": 32,
   "metadata": {},
   "outputs": [],
   "source": [
    "df_tavg1_2d_aer_Nx=pd.concat(df_tavg1_2d_aer_Nx)"
   ]
  },
  {
   "cell_type": "code",
   "execution_count": 33,
   "metadata": {},
   "outputs": [
    {
     "name": "stdout",
     "output_type": "stream",
     "text": [
      "<class 'pandas.core.frame.DataFrame'>\n",
      "DatetimeIndex: 72 entries, 2019-02-14 00:30:00 to 2019-02-16 23:30:00\n",
      "Data columns (total 3 columns):\n",
      "TOTANGSTR    72 non-null float32\n",
      "TOTEXTTAU    72 non-null float32\n",
      "TOTSCATAU    72 non-null float32\n",
      "dtypes: float32(3)\n",
      "memory usage: 1.4 KB\n"
     ]
    }
   ],
   "source": [
    "df_tavg1_2d_aer_Nx.info()"
   ]
  },
  {
   "cell_type": "markdown",
   "metadata": {},
   "source": [
    "## 4) Plot the time dependence of time series and dataset"
   ]
  },
  {
   "cell_type": "markdown",
   "metadata": {},
   "source": [
    "####  Fill information on years and months from the filenames"
   ]
  },
  {
   "cell_type": "code",
   "execution_count": 34,
   "metadata": {},
   "outputs": [],
   "source": [
    "def PlotTimeSeries(index,figfile):\n",
    "    plt.figure(figsize=(20,5))\n",
    "    df_tavg1_2d_aer_Nx[DATA_TAG[index]].plot(lw=2,color='red')\n",
    "    plt.xlabel('time')\n",
    "    plt.ylabel(DATA_TAG[index])\n",
    "    title= \"Hourly {} at {} in {}\".format(DATA_TITLE[index],OBS_NAME,YEARNUM)\n",
    "    plt.title(title,fontsize=15)\n",
    "    plt.suptitle('NASA GMAO GES (MERRA-2)', y=1.02, fontsize=13)\n",
    "    plt.grid(True)\n",
    "    plt.savefig(figfile)"
   ]
  },
  {
   "cell_type": "markdown",
   "metadata": {},
   "source": [
    "### 4.1) Angstrom"
   ]
  },
  {
   "cell_type": "code",
   "execution_count": 35,
   "metadata": {},
   "outputs": [
    {
     "data": {
      "image/png": "[encoded data removed]",
      "text/plain": [
       "<Figure size 2000x500 with 1 Axes>"
      ]
     },
     "metadata": {},
     "output_type": "display_data"
    }
   ],
   "source": [
    "PlotTimeSeries(0,figfile_aer_angstr)"
   ]
  },
  {
   "cell_type": "markdown",
   "metadata": {},
   "source": [
    "###  4.2)  Aerosols extinction"
   ]
  },
  {
   "cell_type": "code",
   "execution_count": 36,
   "metadata": {},
   "outputs": [
    {
     "data": {
      "image/png": "[encoded data removed]",
      "text/plain": [
       "<Figure size 2000x500 with 1 Axes>"
      ]
     },
     "metadata": {},
     "output_type": "display_data"
    }
   ],
   "source": [
    "PlotTimeSeries(1,figfile_aer_extinct)"
   ]
  },
  {
   "cell_type": "markdown",
   "metadata": {},
   "source": [
    "### 4.3) Aerosols scattering"
   ]
  },
  {
   "cell_type": "code",
   "execution_count": 37,
   "metadata": {},
   "outputs": [
    {
     "data": {
      "image/png": "[encoded data removed]",
      "text/plain": [
       "<Figure size 2000x500 with 1 Axes>"
      ]
     },
     "metadata": {},
     "output_type": "display_data"
    }
   ],
   "source": [
    "PlotTimeSeries(2,figfile_aer_scatter)"
   ]
  },
  {
   "cell_type": "markdown",
   "metadata": {},
   "source": [
    "## 5) Output"
   ]
  },
  {
   "cell_type": "code",
   "execution_count": 38,
   "metadata": {},
   "outputs": [
    {
     "data": {
      "text/html": [
       "<div>\n",
       "<style scoped>\n",
       "    .dataframe tbody tr th:only-of-type {\n",
       "        vertical-align: middle;\n",
       "    }\n",
       "\n",
       "    .dataframe tbody tr th {\n",
       "        vertical-align: top;\n",
       "    }\n",
       "\n",
       "    .dataframe thead th {\n",
       "        text-align: right;\n",
       "    }\n",
       "</style>\n",
       "<table border=\"1\" class=\"dataframe\">\n",
       "  <thead>\n",
       "    <tr style=\"text-align: right;\">\n",
       "      <th></th>\n",
       "      <th>TOTANGSTR</th>\n",
       "      <th>TOTEXTTAU</th>\n",
       "      <th>TOTSCATAU</th>\n",
       "    </tr>\n",
       "  </thead>\n",
       "  <tbody>\n",
       "    <tr>\n",
       "      <th>count</th>\n",
       "      <td>72.000000</td>\n",
       "      <td>72.000000</td>\n",
       "      <td>72.000000</td>\n",
       "    </tr>\n",
       "    <tr>\n",
       "      <th>mean</th>\n",
       "      <td>1.408310</td>\n",
       "      <td>0.044741</td>\n",
       "      <td>0.039328</td>\n",
       "    </tr>\n",
       "    <tr>\n",
       "      <th>std</th>\n",
       "      <td>0.229738</td>\n",
       "      <td>0.023198</td>\n",
       "      <td>0.020165</td>\n",
       "    </tr>\n",
       "    <tr>\n",
       "      <th>min</th>\n",
       "      <td>0.915900</td>\n",
       "      <td>0.021429</td>\n",
       "      <td>0.019047</td>\n",
       "    </tr>\n",
       "    <tr>\n",
       "      <th>25%</th>\n",
       "      <td>1.256176</td>\n",
       "      <td>0.028311</td>\n",
       "      <td>0.025182</td>\n",
       "    </tr>\n",
       "    <tr>\n",
       "      <th>50%</th>\n",
       "      <td>1.332867</td>\n",
       "      <td>0.033917</td>\n",
       "      <td>0.030131</td>\n",
       "    </tr>\n",
       "    <tr>\n",
       "      <th>75%</th>\n",
       "      <td>1.621267</td>\n",
       "      <td>0.055171</td>\n",
       "      <td>0.048081</td>\n",
       "    </tr>\n",
       "    <tr>\n",
       "      <th>max</th>\n",
       "      <td>1.799637</td>\n",
       "      <td>0.096690</td>\n",
       "      <td>0.084831</td>\n",
       "    </tr>\n",
       "  </tbody>\n",
       "</table>\n",
       "</div>"
      ],
      "text/plain": [
       "       TOTANGSTR  TOTEXTTAU  TOTSCATAU\n",
       "count  72.000000  72.000000  72.000000\n",
       "mean    1.408310   0.044741   0.039328\n",
       "std     0.229738   0.023198   0.020165\n",
       "min     0.915900   0.021429   0.019047\n",
       "25%     1.256176   0.028311   0.025182\n",
       "50%     1.332867   0.033917   0.030131\n",
       "75%     1.621267   0.055171   0.048081\n",
       "max     1.799637   0.096690   0.084831"
      ]
     },
     "execution_count": 38,
     "metadata": {},
     "output_type": "execute_result"
    }
   ],
   "source": [
    "df_tavg1_2d_aer_Nx.index.name='time'\n",
    "df_tavg1_2d_aer_Nx.describe()"
   ]
  },
  {
   "cell_type": "code",
   "execution_count": null,
   "metadata": {},
   "outputs": [],
   "source": []
  },
  {
   "cell_type": "markdown",
   "metadata": {},
   "source": [
    "## 5)  Save dataset  in file pandas (csv)\n",
    "----------------------------------------"
   ]
  },
  {
   "cell_type": "code",
   "execution_count": 39,
   "metadata": {},
   "outputs": [],
   "source": [
    "dataset=df_tavg1_2d_aer_Nx"
   ]
  },
  {
   "cell_type": "code",
   "execution_count": 40,
   "metadata": {},
   "outputs": [],
   "source": [
    "dataset.index.name='time'"
   ]
  },
  {
   "cell_type": "code",
   "execution_count": null,
   "metadata": {},
   "outputs": [],
   "source": []
  },
  {
   "cell_type": "code",
   "execution_count": 41,
   "metadata": {},
   "outputs": [
    {
     "data": {
      "text/html": [
       "<div>\n",
       "<style scoped>\n",
       "    .dataframe tbody tr th:only-of-type {\n",
       "        vertical-align: middle;\n",
       "    }\n",
       "\n",
       "    .dataframe tbody tr th {\n",
       "        vertical-align: top;\n",
       "    }\n",
       "\n",
       "    .dataframe thead th {\n",
       "        text-align: right;\n",
       "    }\n",
       "</style>\n",
       "<table border=\"1\" class=\"dataframe\">\n",
       "  <thead>\n",
       "    <tr style=\"text-align: right;\">\n",
       "      <th></th>\n",
       "      <th>TOTANGSTR</th>\n",
       "      <th>TOTEXTTAU</th>\n",
       "      <th>TOTSCATAU</th>\n",
       "    </tr>\n",
       "  </thead>\n",
       "  <tbody>\n",
       "    <tr>\n",
       "      <th>count</th>\n",
       "      <td>72.000000</td>\n",
       "      <td>72.000000</td>\n",
       "      <td>72.000000</td>\n",
       "    </tr>\n",
       "    <tr>\n",
       "      <th>mean</th>\n",
       "      <td>1.408310</td>\n",
       "      <td>0.044741</td>\n",
       "      <td>0.039328</td>\n",
       "    </tr>\n",
       "    <tr>\n",
       "      <th>std</th>\n",
       "      <td>0.229738</td>\n",
       "      <td>0.023198</td>\n",
       "      <td>0.020165</td>\n",
       "    </tr>\n",
       "    <tr>\n",
       "      <th>min</th>\n",
       "      <td>0.915900</td>\n",
       "      <td>0.021429</td>\n",
       "      <td>0.019047</td>\n",
       "    </tr>\n",
       "    <tr>\n",
       "      <th>25%</th>\n",
       "      <td>1.256176</td>\n",
       "      <td>0.028311</td>\n",
       "      <td>0.025182</td>\n",
       "    </tr>\n",
       "    <tr>\n",
       "      <th>50%</th>\n",
       "      <td>1.332867</td>\n",
       "      <td>0.033917</td>\n",
       "      <td>0.030131</td>\n",
       "    </tr>\n",
       "    <tr>\n",
       "      <th>75%</th>\n",
       "      <td>1.621267</td>\n",
       "      <td>0.055171</td>\n",
       "      <td>0.048081</td>\n",
       "    </tr>\n",
       "    <tr>\n",
       "      <th>max</th>\n",
       "      <td>1.799637</td>\n",
       "      <td>0.096690</td>\n",
       "      <td>0.084831</td>\n",
       "    </tr>\n",
       "  </tbody>\n",
       "</table>\n",
       "</div>"
      ],
      "text/plain": [
       "       TOTANGSTR  TOTEXTTAU  TOTSCATAU\n",
       "count  72.000000  72.000000  72.000000\n",
       "mean    1.408310   0.044741   0.039328\n",
       "std     0.229738   0.023198   0.020165\n",
       "min     0.915900   0.021429   0.019047\n",
       "25%     1.256176   0.028311   0.025182\n",
       "50%     1.332867   0.033917   0.030131\n",
       "75%     1.621267   0.055171   0.048081\n",
       "max     1.799637   0.096690   0.084831"
      ]
     },
     "execution_count": 41,
     "metadata": {},
     "output_type": "execute_result"
    }
   ],
   "source": [
    "dataset.describe()"
   ]
  },
  {
   "cell_type": "code",
   "execution_count": 42,
   "metadata": {},
   "outputs": [
    {
     "data": {
      "text/html": [
       "<div>\n",
       "<style scoped>\n",
       "    .dataframe tbody tr th:only-of-type {\n",
       "        vertical-align: middle;\n",
       "    }\n",
       "\n",
       "    .dataframe tbody tr th {\n",
       "        vertical-align: top;\n",
       "    }\n",
       "\n",
       "    .dataframe thead th {\n",
       "        text-align: right;\n",
       "    }\n",
       "</style>\n",
       "<table border=\"1\" class=\"dataframe\">\n",
       "  <thead>\n",
       "    <tr style=\"text-align: right;\">\n",
       "      <th></th>\n",
       "      <th>TOTANGSTR</th>\n",
       "      <th>TOTEXTTAU</th>\n",
       "      <th>TOTSCATAU</th>\n",
       "    </tr>\n",
       "    <tr>\n",
       "      <th>time</th>\n",
       "      <th></th>\n",
       "      <th></th>\n",
       "      <th></th>\n",
       "    </tr>\n",
       "  </thead>\n",
       "  <tbody>\n",
       "    <tr>\n",
       "      <th>2019-02-14 00:30:00</th>\n",
       "      <td>1.202810</td>\n",
       "      <td>0.028130</td>\n",
       "      <td>0.025031</td>\n",
       "    </tr>\n",
       "    <tr>\n",
       "      <th>2019-02-14 01:30:00</th>\n",
       "      <td>1.211181</td>\n",
       "      <td>0.028318</td>\n",
       "      <td>0.025191</td>\n",
       "    </tr>\n",
       "    <tr>\n",
       "      <th>2019-02-14 02:30:00</th>\n",
       "      <td>1.219059</td>\n",
       "      <td>0.028292</td>\n",
       "      <td>0.025153</td>\n",
       "    </tr>\n",
       "    <tr>\n",
       "      <th>2019-02-14 03:30:00</th>\n",
       "      <td>1.228453</td>\n",
       "      <td>0.028066</td>\n",
       "      <td>0.024933</td>\n",
       "    </tr>\n",
       "    <tr>\n",
       "      <th>2019-02-14 04:30:00</th>\n",
       "      <td>1.238573</td>\n",
       "      <td>0.027565</td>\n",
       "      <td>0.024464</td>\n",
       "    </tr>\n",
       "  </tbody>\n",
       "</table>\n",
       "</div>"
      ],
      "text/plain": [
       "                     TOTANGSTR  TOTEXTTAU  TOTSCATAU\n",
       "time                                                \n",
       "2019-02-14 00:30:00   1.202810   0.028130   0.025031\n",
       "2019-02-14 01:30:00   1.211181   0.028318   0.025191\n",
       "2019-02-14 02:30:00   1.219059   0.028292   0.025153\n",
       "2019-02-14 03:30:00   1.228453   0.028066   0.024933\n",
       "2019-02-14 04:30:00   1.238573   0.027565   0.024464"
      ]
     },
     "execution_count": 42,
     "metadata": {},
     "output_type": "execute_result"
    }
   ],
   "source": [
    "dataset.head()"
   ]
  },
  {
   "cell_type": "code",
   "execution_count": 43,
   "metadata": {},
   "outputs": [],
   "source": [
    "dataset.to_csv(pandas_filename)"
   ]
  },
  {
   "cell_type": "code",
   "execution_count": 44,
   "metadata": {},
   "outputs": [],
   "source": [
    "saved_dataset=pd.read_csv(pandas_filename)"
   ]
  },
  {
   "cell_type": "code",
   "execution_count": 45,
   "metadata": {},
   "outputs": [
    {
     "data": {
      "text/html": [
       "<div>\n",
       "<style scoped>\n",
       "    .dataframe tbody tr th:only-of-type {\n",
       "        vertical-align: middle;\n",
       "    }\n",
       "\n",
       "    .dataframe tbody tr th {\n",
       "        vertical-align: top;\n",
       "    }\n",
       "\n",
       "    .dataframe thead th {\n",
       "        text-align: right;\n",
       "    }\n",
       "</style>\n",
       "<table border=\"1\" class=\"dataframe\">\n",
       "  <thead>\n",
       "    <tr style=\"text-align: right;\">\n",
       "      <th></th>\n",
       "      <th>time</th>\n",
       "      <th>TOTANGSTR</th>\n",
       "      <th>TOTEXTTAU</th>\n",
       "      <th>TOTSCATAU</th>\n",
       "    </tr>\n",
       "  </thead>\n",
       "  <tbody>\n",
       "    <tr>\n",
       "      <th>0</th>\n",
       "      <td>2019-02-14 00:30:00</td>\n",
       "      <td>1.202810</td>\n",
       "      <td>0.028130</td>\n",
       "      <td>0.025031</td>\n",
       "    </tr>\n",
       "    <tr>\n",
       "      <th>1</th>\n",
       "      <td>2019-02-14 01:30:00</td>\n",
       "      <td>1.211181</td>\n",
       "      <td>0.028318</td>\n",
       "      <td>0.025191</td>\n",
       "    </tr>\n",
       "    <tr>\n",
       "      <th>2</th>\n",
       "      <td>2019-02-14 02:30:00</td>\n",
       "      <td>1.219059</td>\n",
       "      <td>0.028292</td>\n",
       "      <td>0.025153</td>\n",
       "    </tr>\n",
       "    <tr>\n",
       "      <th>3</th>\n",
       "      <td>2019-02-14 03:30:00</td>\n",
       "      <td>1.228453</td>\n",
       "      <td>0.028066</td>\n",
       "      <td>0.024933</td>\n",
       "    </tr>\n",
       "    <tr>\n",
       "      <th>4</th>\n",
       "      <td>2019-02-14 04:30:00</td>\n",
       "      <td>1.238573</td>\n",
       "      <td>0.027565</td>\n",
       "      <td>0.024464</td>\n",
       "    </tr>\n",
       "  </tbody>\n",
       "</table>\n",
       "</div>"
      ],
      "text/plain": [
       "                  time  TOTANGSTR  TOTEXTTAU  TOTSCATAU\n",
       "0  2019-02-14 00:30:00   1.202810   0.028130   0.025031\n",
       "1  2019-02-14 01:30:00   1.211181   0.028318   0.025191\n",
       "2  2019-02-14 02:30:00   1.219059   0.028292   0.025153\n",
       "3  2019-02-14 03:30:00   1.228453   0.028066   0.024933\n",
       "4  2019-02-14 04:30:00   1.238573   0.027565   0.024464"
      ]
     },
     "execution_count": 45,
     "metadata": {},
     "output_type": "execute_result"
    }
   ],
   "source": [
    "saved_dataset.head()"
   ]
  },
  {
   "cell_type": "markdown",
   "metadata": {},
   "source": [
    "## 6) Convert dataset into a table and then save in a fits file\n",
    "--------------------------------------------------------------------------"
   ]
  },
  {
   "cell_type": "code",
   "execution_count": 46,
   "metadata": {},
   "outputs": [],
   "source": [
    "table = Table.from_pandas(saved_dataset)"
   ]
  },
  {
   "cell_type": "code",
   "execution_count": 47,
   "metadata": {},
   "outputs": [
    {
     "data": {
      "text/html": [
       "<i>Table length=72</i>\n",
       "<table id=\"table140195296167640\" class=\"table-striped table-bordered table-condensed\">\n",
       "<thead><tr><th>time</th><th>TOTANGSTR</th><th>TOTEXTTAU</th><th>TOTSCATAU</th></tr></thead>\n",
       "<thead><tr><th>str19</th><th>float64</th><th>float64</th><th>float64</th></tr></thead>\n",
       "<tr><td>2019-02-14 00:30:00</td><td>1.2028104</td><td>0.028129915</td><td>0.025031202000000002</td></tr>\n",
       "<tr><td>2019-02-14 01:30:00</td><td>1.2111806999999999</td><td>0.02831751</td><td>0.0251913</td></tr>\n",
       "<tr><td>2019-02-14 02:30:00</td><td>1.2190591999999998</td><td>0.02829216</td><td>0.025152638999999997</td></tr>\n",
       "<tr><td>2019-02-14 03:30:00</td><td>1.2284528000000001</td><td>0.028066477000000003</td><td>0.024932891000000002</td></tr>\n",
       "<tr><td>2019-02-14 04:30:00</td><td>1.2385734</td><td>0.027564852999999997</td><td>0.02446409</td></tr>\n",
       "<tr><td>2019-02-14 05:30:00</td><td>1.248149</td><td>0.026771287999999997</td><td>0.02375463</td></tr>\n",
       "<tr><td>2019-02-14 06:30:00</td><td>1.2585739</td><td>0.025811266</td><td>0.022894036</td></tr>\n",
       "<tr><td>2019-02-14 07:30:00</td><td>1.2697544</td><td>0.024854842999999998</td><td>0.022044148</td></tr>\n",
       "<tr><td>2019-02-14 08:30:00</td><td>1.2836370000000001</td><td>0.02406649</td><td>0.021331612000000003</td></tr>\n",
       "<tr><td>2019-02-14 09:30:00</td><td>1.3028792</td><td>0.023814352</td><td>0.02108143</td></tr>\n",
       "<tr><td>...</td><td>...</td><td>...</td><td>...</td></tr>\n",
       "<tr><td>2019-02-16 14:30:00</td><td>1.2560527</td><td>0.03393322</td><td>0.030089243999999998</td></tr>\n",
       "<tr><td>2019-02-16 15:30:00</td><td>1.230594</td><td>0.032135356000000004</td><td>0.02849732</td></tr>\n",
       "<tr><td>2019-02-16 16:30:00</td><td>1.1871011</td><td>0.029595912000000002</td><td>0.02624239</td></tr>\n",
       "<tr><td>2019-02-16 17:30:00</td><td>1.1493328</td><td>0.027938496</td><td>0.024763606</td></tr>\n",
       "<tr><td>2019-02-16 18:30:00</td><td>1.1164598</td><td>0.026795903</td><td>0.02373889</td></tr>\n",
       "<tr><td>2019-02-16 19:30:00</td><td>1.0818588</td><td>0.025537543</td><td>0.022632443999999998</td></tr>\n",
       "<tr><td>2019-02-16 20:30:00</td><td>1.0496843</td><td>0.024349801</td><td>0.021579914</td></tr>\n",
       "<tr><td>2019-02-16 21:30:00</td><td>1.0128979999999999</td><td>0.023133967000000002</td><td>0.020508746</td></tr>\n",
       "<tr><td>2019-02-16 22:30:00</td><td>0.9661171000000001</td><td>0.022100317999999997</td><td>0.019608878</td></tr>\n",
       "<tr><td>2019-02-16 23:30:00</td><td>0.9158995999999999</td><td>0.021429362</td><td>0.019046646</td></tr>\n",
       "</table>"
      ],
      "text/plain": [
       "<Table length=72>\n",
       "        time            TOTANGSTR           TOTEXTTAU            TOTSCATAU      \n",
       "       str19             float64             float64              float64       \n",
       "------------------- ------------------ -------------------- --------------------\n",
       "2019-02-14 00:30:00          1.2028104          0.028129915 0.025031202000000002\n",
       "2019-02-14 01:30:00 1.2111806999999999           0.02831751            0.0251913\n",
       "2019-02-14 02:30:00 1.2190591999999998           0.02829216 0.025152638999999997\n",
       "2019-02-14 03:30:00 1.2284528000000001 0.028066477000000003 0.024932891000000002\n",
       "2019-02-14 04:30:00          1.2385734 0.027564852999999997           0.02446409\n",
       "2019-02-14 05:30:00           1.248149 0.026771287999999997           0.02375463\n",
       "2019-02-14 06:30:00          1.2585739          0.025811266          0.022894036\n",
       "2019-02-14 07:30:00          1.2697544 0.024854842999999998          0.022044148\n",
       "2019-02-14 08:30:00 1.2836370000000001           0.02406649 0.021331612000000003\n",
       "2019-02-14 09:30:00          1.3028792          0.023814352           0.02108143\n",
       "                ...                ...                  ...                  ...\n",
       "2019-02-16 14:30:00          1.2560527           0.03393322 0.030089243999999998\n",
       "2019-02-16 15:30:00           1.230594 0.032135356000000004           0.02849732\n",
       "2019-02-16 16:30:00          1.1871011 0.029595912000000002           0.02624239\n",
       "2019-02-16 17:30:00          1.1493328          0.027938496          0.024763606\n",
       "2019-02-16 18:30:00          1.1164598          0.026795903           0.02373889\n",
       "2019-02-16 19:30:00          1.0818588          0.025537543 0.022632443999999998\n",
       "2019-02-16 20:30:00          1.0496843          0.024349801          0.021579914\n",
       "2019-02-16 21:30:00 1.0128979999999999 0.023133967000000002          0.020508746\n",
       "2019-02-16 22:30:00 0.9661171000000001 0.022100317999999997          0.019608878\n",
       "2019-02-16 23:30:00 0.9158995999999999          0.021429362          0.019046646"
      ]
     },
     "execution_count": 47,
     "metadata": {},
     "output_type": "execute_result"
    }
   ],
   "source": [
    "table"
   ]
  },
  {
   "cell_type": "code",
   "execution_count": 48,
   "metadata": {},
   "outputs": [],
   "source": [
    "table.write(fits_filename,format='fits',overwrite=True)"
   ]
  },
  {
   "cell_type": "code",
   "execution_count": null,
   "metadata": {},
   "outputs": [],
   "source": []
  }
 ],
 "metadata": {
  "anaconda-cloud": {},
  "kernelspec": {
   "display_name": "Python 3",
   "language": "python",
   "name": "python3"
  },
  "language_info": {
   "codemirror_mode": {
    "name": "ipython",
    "version": 3
   },
   "file_extension": ".py",
   "mimetype": "text/x-python",
   "name": "python",
   "nbconvert_exporter": "python",
   "pygments_lexer": "ipython3",
   "version": "3.6.7"
  },
  "toc": {
   "nav_menu": {
    "height": "394px",
    "width": "252px"
   },
   "number_sections": true,
   "sideBar": true,
   "skip_h1_title": false,
   "toc_cell": false,
   "toc_position": {},
   "toc_section_display": "block",
   "toc_window_display": false
  }
 },
 "nbformat": 4,
 "nbformat_minor": 2
}
