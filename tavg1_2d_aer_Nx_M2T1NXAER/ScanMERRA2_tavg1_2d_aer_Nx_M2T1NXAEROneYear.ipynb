{
 "cells": [
  {
   "cell_type": "markdown",
   "metadata": {
    "jupyter": {
     "source_hidden": true
    }
   },
   "source": [
    "# Scan MERRA-2 atmospheric properties during one year\n",
    "----------------------------------------------------------------------------------\n",
    "\n",
    "- author: Sylvie Dagoret-Campagne\n",
    "- creation January 12 2017\n",
    "- update January 12 2016\n",
    "- update April 25th 2018\n",
    "- update June 5th 2019\n",
    "- update December 2022\n",
    "- update 2024/10/15\n",
    "- last update January 2024 28 at CC with kernel ``conda_jax0325_py310``\n",
    "\n",
    "\n",
    "Link:\n",
    "\n",
    "http://disc.sci.gsfc.nasa.gov/datareleases/merra_2_data_release\n",
    "\n",
    "### purpose:\n",
    "\n",
    "Scan One year of MERRA-2 predictions of the dataset tavg1_2d_aer_Nx_M2T1NXAER. \n",
    "Extract the relevant atmospheric variables.\n",
    "Build the correcponding time series and dataset in pandas.\n",
    "Plot the variables. Save the pandas dataset into a file.\n",
    "Convert the pandas dataset into an astropy fits table and save into a fits file as well.\n",
    "\n"
   ]
  },
  {
   "cell_type": "markdown",
   "metadata": {},
   "source": [
    "## 1) python libraries\n",
    "---------------------------"
   ]
  },
  {
   "cell_type": "code",
   "execution_count": null,
   "metadata": {},
   "outputs": [],
   "source": [
    "# Set up matplotlib and use a nicer set of plot parameters\n",
    "%config InlineBackend.rc = {}\n",
    "import matplotlib\n",
    "import matplotlib as mpl\n",
    "matplotlib.rc_file(\"templates/matplotlibrc\")\n",
    "import matplotlib.pyplot as plt\n",
    "%matplotlib inline"
   ]
  },
  {
   "cell_type": "code",
   "execution_count": null,
   "metadata": {},
   "outputs": [],
   "source": [
    "import datetime"
   ]
  },
  {
   "cell_type": "code",
   "execution_count": null,
   "metadata": {},
   "outputs": [],
   "source": [
    "from matplotlib.dates import MonthLocator, WeekdayLocator,DateFormatter\n",
    "from matplotlib.dates import MONDAY"
   ]
  },
  {
   "cell_type": "code",
   "execution_count": null,
   "metadata": {},
   "outputs": [],
   "source": [
    "mondays = WeekdayLocator(MONDAY)\n",
    "months = MonthLocator(range(1, 13), bymonthday=1, interval=1)\n",
    "monthsFmt = DateFormatter(\"%b '%y\")"
   ]
  },
  {
   "cell_type": "code",
   "execution_count": null,
   "metadata": {},
   "outputs": [],
   "source": [
    "import os\n",
    "import re\n",
    "import numpy as np\n",
    "#from mpl_toolkits.basemap import Basemap\n",
    "from matplotlib import colors\n",
    "from matplotlib.backends.backend_pdf import PdfPages\n",
    "import pandas as pd"
   ]
  },
  {
   "cell_type": "code",
   "execution_count": null,
   "metadata": {},
   "outputs": [],
   "source": [
    "from astropy import units as u\n",
    "from astropy.coordinates import SkyCoord\n",
    "\n",
    "from astropy.table import Table"
   ]
  },
  {
   "cell_type": "code",
   "execution_count": null,
   "metadata": {},
   "outputs": [],
   "source": [
    "import h5py"
   ]
  },
  {
   "cell_type": "code",
   "execution_count": null,
   "metadata": {},
   "outputs": [],
   "source": [
    "import libGMAOMERRA2Data as merra2  # My own library"
   ]
  },
  {
   "cell_type": "code",
   "execution_count": null,
   "metadata": {},
   "outputs": [],
   "source": [
    "############################################################################\n",
    "def ensure_dir(f):\n",
    "    d = os.path.dirname(f)\n",
    "    if not os.path.exists(f):\n",
    "        os.makedirs(f)\n",
    "#########################################################################"
   ]
  },
  {
   "cell_type": "markdown",
   "metadata": {},
   "source": [
    "## 2)  Configuration\n",
    "-------------------------"
   ]
  },
  {
   "cell_type": "markdown",
   "metadata": {},
   "source": [
    "### SELECT YEAR"
   ]
  },
  {
   "cell_type": "code",
   "execution_count": null,
   "metadata": {},
   "outputs": [],
   "source": [
    "YEARNUM=\"2024\""
   ]
  },
  {
   "cell_type": "code",
   "execution_count": null,
   "metadata": {},
   "outputs": [],
   "source": [
    "# SELECT OBSERVATORY\n",
    "OBS_NAME='lsst'"
   ]
  },
  {
   "cell_type": "code",
   "execution_count": null,
   "metadata": {},
   "outputs": [],
   "source": [
    "# where are the HDF files\n",
    "#HDFEOS_ZOO_DIR=\"/Volumes/DAGORETBACK/MERRA-2/inst1_2d_asm_Nx_M2I1NXASM/2016\"\n",
    "#HDFEOS_ZOO_DIR=\"/Volumes/LaCie2/DATA/MERRA-2/tavg1_2d_aer_Nx_M2T1NXAER\"\n",
    "#HDFEOS_ZOO_DIR=\"/sps/lsst/data/AtmosphericCalibration/MERRA-2/May-Jun-2017/subset_M2T1NXAER_V5.12.4_20180424_195815\"\n",
    "#HDFEOS_ZOO_DIR=\"/Users/dagoret/DATA/MERRA-2/M2T1NXAER.5.12.4\"\n",
    "#HDFEOS_ZOO_DIR=os.path.join(\"/Users/dagoret/DATA/MERRA-2/M2T1NXAER.5.12.4\",YEARNUM)\n",
    "#HDFEOS_ZOO_DIR=os.path.join(\"/Users/dagoret/DATA/merra-2import/M2T1NXAER.5.12.4\",YEARNUM)\n",
    "HDFEOS_ZOO_DIR=os.path.join(\"/sps/lsst/groups/auxtel/MERRA2/data/tavg1_2d_aer_Nx_M2T1NXAER\",YEARNUM)"
   ]
  },
  {
   "cell_type": "code",
   "execution_count": null,
   "metadata": {},
   "outputs": [],
   "source": [
    "path=HDFEOS_ZOO_DIR"
   ]
  },
  {
   "cell_type": "markdown",
   "metadata": {},
   "source": [
    "### Here I describe the content of the input files"
   ]
  },
  {
   "cell_type": "code",
   "execution_count": null,
   "metadata": {},
   "outputs": [],
   "source": [
    "DATA_TAG=['TOTANGSTR','TOTEXTTAU','TOTSCATAU']"
   ]
  },
  {
   "cell_type": "code",
   "execution_count": null,
   "metadata": {},
   "outputs": [],
   "source": [
    "DATA_TITLE=['Total Aerosol Angstrom parameter 470-870 nm',\n",
    "            'Total Aerosol Extinction AOT 550 nm',\n",
    "            'Total Aerosol Scattering AOT 550 nm'\n",
    "           ]"
   ]
  },
  {
   "cell_type": "code",
   "execution_count": null,
   "metadata": {},
   "outputs": [],
   "source": [
    "NB_DATAFIELDS=len(DATA_TAG)"
   ]
  },
  {
   "cell_type": "markdown",
   "metadata": {},
   "source": [
    "### List of output files"
   ]
  },
  {
   "cell_type": "code",
   "execution_count": null,
   "metadata": {},
   "outputs": [],
   "source": [
    "# The selected data field\n",
    "DATA_NAME =  'tavg1_2d_aer_Nx_M2T1NXAER'   # "
   ]
  },
  {
   "cell_type": "code",
   "execution_count": null,
   "metadata": {},
   "outputs": [],
   "source": [
    "pandas_filename='MERRA2_'+YEARNUM+'_'+DATA_NAME+'_'+OBS_NAME+'_'+'AllYear'+'.csv'"
   ]
  },
  {
   "cell_type": "code",
   "execution_count": null,
   "metadata": {},
   "outputs": [],
   "source": [
    "fits_filename='MERRA2_'+YEARNUM+'_'+DATA_NAME+'_'+OBS_NAME+'_'+'AllYear' +'.fits'"
   ]
  },
  {
   "cell_type": "code",
   "execution_count": null,
   "metadata": {},
   "outputs": [],
   "source": [
    "# 6 output files for figures\n",
    "figfile_aer_angstr='GMAO_MERRA2_'+YEARNUM+'_'+DATA_NAME+'_'+OBS_NAME+'_'+'AllYear'+'_'+'AllYear'+'_aer_angstr'+'.png'\n",
    "figfile_aer_extinct='GMAO_MERRA2_'+YEARNUM+'_'+DATA_NAME+'_'+OBS_NAME+'_'+'AllYear'+'_'+'AllYear'+'_aer_extinct'+'.png'\n",
    "figfile_aer_scatter='GMAO_MERRA2_'+YEARNUM+'_'+DATA_NAME+'_'+OBS_NAME+'_'+'AllYear'+'_'+'AllYear'+'_aer_scatter'+'.png'"
   ]
  },
  {
   "cell_type": "markdown",
   "metadata": {},
   "source": [
    "### Select where in the world"
   ]
  },
  {
   "cell_type": "code",
   "execution_count": null,
   "metadata": {},
   "outputs": [],
   "source": [
    "# Select observatory\n",
    "loc=merra2.observatory_location(OBS_NAME)"
   ]
  },
  {
   "cell_type": "code",
   "execution_count": null,
   "metadata": {},
   "outputs": [],
   "source": [
    "loc"
   ]
  },
  {
   "cell_type": "markdown",
   "metadata": {},
   "source": [
    "### 2.2) Getting the list of the files\n",
    "------------------------------"
   ]
  },
  {
   "cell_type": "code",
   "execution_count": null,
   "metadata": {},
   "outputs": [],
   "source": [
    "nc4_files = [f for f in os.listdir(path) if f.endswith('.nc4')]  "
   ]
  },
  {
   "cell_type": "code",
   "execution_count": null,
   "metadata": {},
   "outputs": [],
   "source": [
    "nc4_files[:5]"
   ]
  },
  {
   "cell_type": "markdown",
   "metadata": {},
   "source": [
    "### 2.3) Select files of a given month"
   ]
  },
  {
   "cell_type": "code",
   "execution_count": null,
   "metadata": {},
   "outputs": [],
   "source": [
    "keysel_filename='^MERRA2_400.tavg1_2d_aer_Nx.'+YEARNUM+'.*'"
   ]
  },
  {
   "cell_type": "code",
   "execution_count": null,
   "metadata": {},
   "outputs": [],
   "source": [
    "print('Selection key' ,keysel_filename)"
   ]
  },
  {
   "cell_type": "code",
   "execution_count": null,
   "metadata": {},
   "outputs": [],
   "source": [
    "nc4_files2 = []\n",
    "for file in nc4_files:\n",
    "    if re.findall(keysel_filename,file):\n",
    "        nc4_files2.append(file)\n",
    "\n",
    "nc4_files2=np.array(nc4_files2)"
   ]
  },
  {
   "cell_type": "code",
   "execution_count": null,
   "metadata": {},
   "outputs": [],
   "source": [
    "nc4_files2"
   ]
  },
  {
   "cell_type": "markdown",
   "metadata": {},
   "source": [
    "### 2.4) Sort files by increasing time"
   ]
  },
  {
   "cell_type": "code",
   "execution_count": null,
   "metadata": {},
   "outputs": [],
   "source": [
    "nc4_files=np.sort(nc4_files2)"
   ]
  },
  {
   "cell_type": "markdown",
   "metadata": {},
   "source": [
    "### 2.5) Build the full filename before reading"
   ]
  },
  {
   "cell_type": "code",
   "execution_count": null,
   "metadata": {},
   "outputs": [],
   "source": [
    "NBFILES=len(nc4_files)\n",
    "full_nc4files=[]\n",
    "\n",
    "for file in nc4_files:\n",
    "    fname = os.path.join(path, file)\n",
    "    full_nc4files.append(fname)  "
   ]
  },
  {
   "cell_type": "markdown",
   "metadata": {},
   "source": [
    "## 3)  Extract data and write them into pandas dataset and time series\n",
    "--------------------------------------------------------------------------------------"
   ]
  },
  {
   "cell_type": "code",
   "execution_count": null,
   "metadata": {},
   "outputs": [],
   "source": [
    "ts0=[]  # intermediate data series\n",
    "ts1=[]\n",
    "ts2=[]\n",
    "\n",
    "\n",
    "df_tavg1_2d_aer_Nx=[] # final pandas dataset for all atmospheric quantities\n",
    "\n",
    "for file in full_nc4files: # loop on data file of each day of the month\n",
    "    \n",
    "    #Retrieve 1D parameters longitude, latitude, time\n",
    "    try:\n",
    "        (m_lat,m_un_lat,m_nm_lat) = merra2.Get1DData(file,'lat') # latitude (array, unit, name)\n",
    "        m_latitude = m_lat[:]\n",
    "        (m_lon,m_un_lon,m_nm_lon) = merra2.Get1DData(file,'lon') # longitude(array, unit, name)\n",
    "        m_longitude = m_lon[:]\n",
    "        (m_tim,m_un_tim,m_nm_tim)= merra2.Get1DData(file,'time') # time (array, unit, name)\n",
    "        m_time=m_tim[:]\n",
    "    \n",
    "    except Exception as inst:\n",
    "        print(type(inst))    # the exception type\n",
    "        print(inst.args)     # arguments stored in .args\n",
    "        print(inst)  \n",
    "        print(\"SKIP\")\n",
    "        continue\n",
    "    \n",
    "    # with python3 obliged to transform byte string into a string    \n",
    "    m_un_tim2=m_un_tim.decode(\"utf-8\")  \n",
    "    \n",
    "    NbDataPerFile=m_time.shape[0] # number of data sample per file\n",
    "    #start_time = re.findall(\"^minutes since[ ]([0-9.].+[0-9.].+[0-9.].+)[ ]00:00:00$\",m_un_tim) # extract start time\n",
    "    start_time = re.findall(\"^minutes since[ ]([0-9.].+[0-9.].+[0-9.].+)\",m_un_tim2) # extract start time\n",
    "    \n",
    "    #print 'start_time = ', start_time\n",
    "    time_rng = pd.date_range(start_time[0], periods=NbDataPerFile, freq='H') # one data per hour\n",
    "    \n",
    "    print('---------------------------------------------')\n",
    "    print('NbDataPerFile = ', NbDataPerFile)\n",
    "    print('start_time = ', start_time)\n",
    "    print('time_rng   = ', time_rng[:5])\n",
    "    \n",
    "    m_X,m_Y=np.meshgrid(m_longitude,m_latitude) # build meash-grid in longitude and latitude\n",
    "    (sel_long, sel_lat)=merra2.GetBinIndex(m_X,m_Y,loc[0],loc[1]) # get bin in longitude and latitude for the site  \n",
    "    \n",
    " \n",
    "    # loop\n",
    "    for index in range(NB_DATAFIELDS):\n",
    "        (m_data,m_unit,m_longname)=merra2.GetGeoRefData(file,DATA_TAG[index]) # 3D array : time x longitude x latitude  \n",
    "        dt=m_data[:,sel_lat,sel_long]\n",
    "        if index==0:\n",
    "            ts0 = pd.Series(dt, index=time_rng)\n",
    "        elif index==1:\n",
    "            ts1 = pd.Series(dt, index=time_rng)\n",
    "        elif index==2:\n",
    "            ts2 = pd.Series(dt, index=time_rng)\n",
    "\n",
    "            \n",
    "        #clf_timeseries.append(ts)\n",
    "        # Create the dataframe\n",
    "    df = pd.DataFrame({DATA_TAG[0]: ts0, \n",
    "                       DATA_TAG[1]: ts1,\n",
    "                       DATA_TAG[2]: ts2 }, index=time_rng)\n",
    "    df_tavg1_2d_aer_Nx.append(df)  \n",
    "    "
   ]
  },
  {
   "cell_type": "markdown",
   "metadata": {},
   "source": [
    "### Concatenation"
   ]
  },
  {
   "cell_type": "code",
   "execution_count": null,
   "metadata": {},
   "outputs": [],
   "source": [
    "df_tavg1_2d_aer_Nx=pd.concat(df_tavg1_2d_aer_Nx)"
   ]
  },
  {
   "cell_type": "code",
   "execution_count": null,
   "metadata": {},
   "outputs": [],
   "source": [
    "df_tavg1_2d_aer_Nx.info()"
   ]
  },
  {
   "cell_type": "markdown",
   "metadata": {},
   "source": [
    "## 4) Plot the time dependence of time series and dataset"
   ]
  },
  {
   "cell_type": "markdown",
   "metadata": {},
   "source": [
    "####  Fill information on years and months from the filenames"
   ]
  },
  {
   "cell_type": "code",
   "execution_count": null,
   "metadata": {},
   "outputs": [],
   "source": [
    "def PlotTimeSeries(index,figfile):\n",
    "    plt.figure(figsize=(20,5))\n",
    "    df_tavg1_2d_aer_Nx[DATA_TAG[index]].plot(lw=2,color='red')\n",
    "    plt.xlabel('time')\n",
    "    plt.ylabel(DATA_TAG[index])\n",
    "    title= \"Hourly {} at {} in {}\".format(DATA_TITLE[index],OBS_NAME,YEARNUM)\n",
    "    plt.title(title,fontsize=15)\n",
    "    plt.suptitle('NASA GMAO GES (MERRA-2)', y=1.02, fontsize=13)\n",
    "    plt.grid(True)\n",
    "    plt.savefig(figfile)"
   ]
  },
  {
   "cell_type": "markdown",
   "metadata": {},
   "source": [
    "### 4.1) Angstrom"
   ]
  },
  {
   "cell_type": "code",
   "execution_count": null,
   "metadata": {},
   "outputs": [],
   "source": [
    "PlotTimeSeries(0,figfile_aer_angstr)"
   ]
  },
  {
   "cell_type": "markdown",
   "metadata": {},
   "source": [
    "###  4.2)  Aerosols extinction"
   ]
  },
  {
   "cell_type": "code",
   "execution_count": null,
   "metadata": {},
   "outputs": [],
   "source": [
    "PlotTimeSeries(1,figfile_aer_extinct)"
   ]
  },
  {
   "cell_type": "markdown",
   "metadata": {},
   "source": [
    "### 4.3) Aerosols scattering"
   ]
  },
  {
   "cell_type": "code",
   "execution_count": null,
   "metadata": {},
   "outputs": [],
   "source": [
    "PlotTimeSeries(2,figfile_aer_scatter)"
   ]
  },
  {
   "cell_type": "markdown",
   "metadata": {},
   "source": [
    "## 5) Output"
   ]
  },
  {
   "cell_type": "code",
   "execution_count": null,
   "metadata": {},
   "outputs": [],
   "source": [
    "df_tavg1_2d_aer_Nx.index.name='time'\n",
    "df_tavg1_2d_aer_Nx.describe()"
   ]
  },
  {
   "cell_type": "code",
   "execution_count": null,
   "metadata": {},
   "outputs": [],
   "source": []
  },
  {
   "cell_type": "markdown",
   "metadata": {},
   "source": [
    "## 5)  Save dataset  in file pandas (csv)\n",
    "----------------------------------------"
   ]
  },
  {
   "cell_type": "code",
   "execution_count": null,
   "metadata": {},
   "outputs": [],
   "source": [
    "dataset=df_tavg1_2d_aer_Nx"
   ]
  },
  {
   "cell_type": "code",
   "execution_count": null,
   "metadata": {},
   "outputs": [],
   "source": [
    "dataset.index.name='time'"
   ]
  },
  {
   "cell_type": "code",
   "execution_count": null,
   "metadata": {},
   "outputs": [],
   "source": [
    "dataset.describe()"
   ]
  },
  {
   "cell_type": "code",
   "execution_count": null,
   "metadata": {},
   "outputs": [],
   "source": [
    "dataset.head()"
   ]
  },
  {
   "cell_type": "code",
   "execution_count": null,
   "metadata": {},
   "outputs": [],
   "source": [
    "dataset.to_csv(pandas_filename)"
   ]
  },
  {
   "cell_type": "code",
   "execution_count": null,
   "metadata": {},
   "outputs": [],
   "source": [
    "saved_dataset=pd.read_csv(pandas_filename)"
   ]
  },
  {
   "cell_type": "code",
   "execution_count": null,
   "metadata": {},
   "outputs": [],
   "source": [
    "saved_dataset.head()"
   ]
  },
  {
   "cell_type": "markdown",
   "metadata": {},
   "source": [
    "## 6) Convert dataset into a table and then save in a fits file\n",
    "--------------------------------------------------------------------------"
   ]
  },
  {
   "cell_type": "code",
   "execution_count": null,
   "metadata": {},
   "outputs": [],
   "source": [
    "table = Table.from_pandas(saved_dataset)"
   ]
  },
  {
   "cell_type": "code",
   "execution_count": null,
   "metadata": {},
   "outputs": [],
   "source": [
    "table"
   ]
  },
  {
   "cell_type": "code",
   "execution_count": null,
   "metadata": {},
   "outputs": [],
   "source": [
    "table.write(fits_filename,format='fits',overwrite=True)"
   ]
  },
  {
   "cell_type": "code",
   "execution_count": null,
   "metadata": {},
   "outputs": [],
   "source": []
  }
 ],
 "metadata": {
  "anaconda-cloud": {},
  "kernelspec": {
   "display_name": "conda_jax0325_py310",
   "language": "python",
   "name": "conda_jax0325_py310"
  },
  "language_info": {
   "codemirror_mode": {
    "name": "ipython",
    "version": 3
   },
   "file_extension": ".py",
   "mimetype": "text/x-python",
   "name": "python",
   "nbconvert_exporter": "python",
   "pygments_lexer": "ipython3",
   "version": "3.10.12"
  },
  "toc": {
   "nav_menu": {
    "height": "394px",
    "width": "252px"
   },
   "number_sections": true,
   "sideBar": true,
   "skip_h1_title": false,
   "toc_cell": false,
   "toc_position": {},
   "toc_section_display": "block",
   "toc_window_display": false
  }
 },
 "nbformat": 4,
 "nbformat_minor": 4
}
