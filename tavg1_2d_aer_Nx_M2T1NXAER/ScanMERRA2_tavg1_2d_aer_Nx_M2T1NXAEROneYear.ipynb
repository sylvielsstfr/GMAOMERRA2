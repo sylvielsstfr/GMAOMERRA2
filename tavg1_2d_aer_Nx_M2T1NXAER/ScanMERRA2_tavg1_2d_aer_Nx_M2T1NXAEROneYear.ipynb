{
 "cells": [
  {
   "cell_type": "markdown",
   "metadata": {},
   "source": [
    "# Scan MERRA-2 atmospheric properties during one year\n",
    "----------------------------------------------------------------------------------\n",
    "\n",
    "- author: Sylvie Dagoret-Campagne\n",
    "- creation January 12 2017\n",
    "- update January 12 2016\n",
    "\n",
    "Link:\n",
    "\n",
    "http://disc.sci.gsfc.nasa.gov/datareleases/merra_2_data_release\n",
    "\n",
    "### purpose:\n",
    "\n",
    "Scan One year of MERRA-2 predictions of the dataset tavg1_2d_aer_Nx_M2T1NXAER. \n",
    "Extract the relevant atmospheric variables.\n",
    "Build the correcponding time series and dataset in pandas.\n",
    "Plot the variables. Save the pandas dataset into a file.\n",
    "Convert the pandas dataset into an astropy fits table and save into a fits file as well.\n",
    "\n"
   ]
  },
  {
   "cell_type": "markdown",
   "metadata": {},
   "source": [
    "## 1) python libraries\n",
    "---------------------------"
   ]
  },
  {
   "cell_type": "code",
   "execution_count": 40,
   "metadata": {
    "collapsed": false
   },
   "outputs": [],
   "source": [
    "# Set up matplotlib and use a nicer set of plot parameters\n",
    "%config InlineBackend.rc = {}\n",
    "import matplotlib\n",
    "import matplotlib as mpl\n",
    "matplotlib.rc_file(\"templates/matplotlibrc\")\n",
    "import matplotlib.pyplot as plt\n",
    "%matplotlib inline"
   ]
  },
  {
   "cell_type": "code",
   "execution_count": 41,
   "metadata": {
    "collapsed": true
   },
   "outputs": [],
   "source": [
    "import datetime"
   ]
  },
  {
   "cell_type": "code",
   "execution_count": 42,
   "metadata": {
    "collapsed": true
   },
   "outputs": [],
   "source": [
    "from matplotlib.dates import MonthLocator, WeekdayLocator,DateFormatter\n",
    "from matplotlib.dates import MONDAY"
   ]
  },
  {
   "cell_type": "code",
   "execution_count": 43,
   "metadata": {
    "collapsed": false
   },
   "outputs": [],
   "source": [
    "mondays = WeekdayLocator(MONDAY)\n",
    "months = MonthLocator(range(1, 13), bymonthday=1, interval=1)\n",
    "monthsFmt = DateFormatter(\"%b '%y\")"
   ]
  },
  {
   "cell_type": "code",
   "execution_count": 44,
   "metadata": {
    "collapsed": false
   },
   "outputs": [],
   "source": [
    "import os\n",
    "import re\n",
    "import numpy as np\n",
    "from mpl_toolkits.basemap import Basemap\n",
    "from matplotlib import colors\n",
    "from matplotlib.backends.backend_pdf import PdfPages\n",
    "import pandas as pd"
   ]
  },
  {
   "cell_type": "code",
   "execution_count": 45,
   "metadata": {
    "collapsed": true
   },
   "outputs": [],
   "source": [
    "from astropy import units as u\n",
    "from astropy.coordinates import SkyCoord\n",
    "\n",
    "from astropy.table import Table"
   ]
  },
  {
   "cell_type": "code",
   "execution_count": 46,
   "metadata": {
    "collapsed": true
   },
   "outputs": [],
   "source": [
    "import h5py"
   ]
  },
  {
   "cell_type": "code",
   "execution_count": 47,
   "metadata": {
    "collapsed": false
   },
   "outputs": [],
   "source": [
    "import libGMAOMERRA2Data as merra2  # My own library"
   ]
  },
  {
   "cell_type": "code",
   "execution_count": 48,
   "metadata": {
    "collapsed": false
   },
   "outputs": [],
   "source": [
    "############################################################################\n",
    "def ensure_dir(f):\n",
    "    d = os.path.dirname(f)\n",
    "    if not os.path.exists(f):\n",
    "        os.makedirs(f)\n",
    "#########################################################################"
   ]
  },
  {
   "cell_type": "markdown",
   "metadata": {},
   "source": [
    "## 2)  Configuration\n",
    "-------------------------"
   ]
  },
  {
   "cell_type": "code",
   "execution_count": 49,
   "metadata": {
    "collapsed": true
   },
   "outputs": [],
   "source": [
    "# SELECT OBSERVATORY\n",
    "OBS_NAME='ctio'"
   ]
  },
  {
   "cell_type": "code",
   "execution_count": 50,
   "metadata": {
    "collapsed": false
   },
   "outputs": [],
   "source": [
    "# where are the HDF files\n",
    "#HDFEOS_ZOO_DIR=\"/Volumes/DAGORETBACK/MERRA-2/inst1_2d_asm_Nx_M2I1NXASM/2016\"\n",
    "HDFEOS_ZOO_DIR=\"/Volumes/LaCie2/DATA/MERRA-2/tavg1_2d_aer_Nx_M2T1NXAER\""
   ]
  },
  {
   "cell_type": "code",
   "execution_count": 51,
   "metadata": {
    "collapsed": false
   },
   "outputs": [],
   "source": [
    "path=HDFEOS_ZOO_DIR"
   ]
  },
  {
   "cell_type": "markdown",
   "metadata": {},
   "source": [
    "### Here I describe the content of the input files"
   ]
  },
  {
   "cell_type": "code",
   "execution_count": 52,
   "metadata": {
    "collapsed": true
   },
   "outputs": [],
   "source": [
    "DATA_TAG=['TOTANGSTR','TOTEXTTAU','TOTSCATAU']"
   ]
  },
  {
   "cell_type": "code",
   "execution_count": 53,
   "metadata": {
    "collapsed": true
   },
   "outputs": [],
   "source": [
    "DATA_TITLE=['Total Aerosol Angstrom parameter 470-870 nm',\n",
    "            'Total Aerosol Extinction AOT 550 nm',\n",
    "            'Total Aerosol Scattering AOT 550 nm'\n",
    "           ]"
   ]
  },
  {
   "cell_type": "code",
   "execution_count": 54,
   "metadata": {
    "collapsed": true
   },
   "outputs": [],
   "source": [
    "NB_DATAFIELDS=len(DATA_TAG)"
   ]
  },
  {
   "cell_type": "markdown",
   "metadata": {},
   "source": [
    "### List of output files"
   ]
  },
  {
   "cell_type": "code",
   "execution_count": 55,
   "metadata": {
    "collapsed": true
   },
   "outputs": [],
   "source": [
    "# The selected data field\n",
    "DATA_NAME =  'tavg1_2d_aer_Nx_M2T1NXAER'   # "
   ]
  },
  {
   "cell_type": "code",
   "execution_count": 56,
   "metadata": {
    "collapsed": false
   },
   "outputs": [],
   "source": [
    "pandas_filename='MERRA2_2016_'+DATA_NAME+'_'+OBS_NAME+'_'+'AllYear'+'.csv'"
   ]
  },
  {
   "cell_type": "code",
   "execution_count": 57,
   "metadata": {
    "collapsed": true
   },
   "outputs": [],
   "source": [
    "fits_filename='MERRA2_2016_'+DATA_NAME+'_'+OBS_NAME+'_'+'AllYear' +'.fits'"
   ]
  },
  {
   "cell_type": "code",
   "execution_count": 58,
   "metadata": {
    "collapsed": false
   },
   "outputs": [],
   "source": [
    "# 6 output files for figures\n",
    "figfile_aer_angstr='GMAO_MERRA2_2016_'+DATA_NAME+'_'+'AllYear'+'_'+'AllYear'+'_aer_angstr'+'.jpg'\n",
    "figfile_aer_extinct='GMAO_MERRA2_2016_'+DATA_NAME+'_'+'AllYear'+'_'+'AllYear'+'_aer_extinct'+'.jpg'\n",
    "figfile_aer_scatter='GMAO_MERRA2_2016_'+DATA_NAME+'_'+'AllYear'+'_'+'AllYear'+'_aer_scatter'+'.jpg'"
   ]
  },
  {
   "cell_type": "markdown",
   "metadata": {},
   "source": [
    "### Select where in the world"
   ]
  },
  {
   "cell_type": "code",
   "execution_count": 59,
   "metadata": {
    "collapsed": false
   },
   "outputs": [],
   "source": [
    "# Select observatory\n",
    "loc=merra2.observatory_location(OBS_NAME)"
   ]
  },
  {
   "cell_type": "code",
   "execution_count": 60,
   "metadata": {
    "collapsed": false
   },
   "outputs": [
    {
     "data": {
      "text/plain": [
       "(-70.815, -30.165277777777778, 2214.9999999993697)"
      ]
     },
     "execution_count": 60,
     "metadata": {},
     "output_type": "execute_result"
    }
   ],
   "source": [
    "loc"
   ]
  },
  {
   "cell_type": "markdown",
   "metadata": {},
   "source": [
    "### 2.2) Getting the list of the files\n",
    "------------------------------"
   ]
  },
  {
   "cell_type": "code",
   "execution_count": 61,
   "metadata": {
    "collapsed": true
   },
   "outputs": [],
   "source": [
    "nc4_files = [f for f in os.listdir(path) if f.endswith('.nc4')]  "
   ]
  },
  {
   "cell_type": "code",
   "execution_count": 62,
   "metadata": {
    "collapsed": false
   },
   "outputs": [
    {
     "data": {
      "text/plain": [
       "['MERRA2_100.tavg1_2d_aer_Nx.19800101.nc4',\n",
       " 'MERRA2_100.tavg1_2d_aer_Nx.19800102.nc4',\n",
       " 'MERRA2_100.tavg1_2d_aer_Nx.19800103.nc4',\n",
       " 'MERRA2_100.tavg1_2d_aer_Nx.19800104.nc4',\n",
       " 'MERRA2_100.tavg1_2d_aer_Nx.19800105.nc4']"
      ]
     },
     "execution_count": 62,
     "metadata": {},
     "output_type": "execute_result"
    }
   ],
   "source": [
    "nc4_files[:5]"
   ]
  },
  {
   "cell_type": "markdown",
   "metadata": {},
   "source": [
    "### 2.3) Select files of a given month"
   ]
  },
  {
   "cell_type": "code",
   "execution_count": 63,
   "metadata": {
    "collapsed": true
   },
   "outputs": [],
   "source": [
    "keysel_filename='^MERRA2_400.tavg1_2d_aer_Nx.2016.*'"
   ]
  },
  {
   "cell_type": "code",
   "execution_count": 64,
   "metadata": {
    "collapsed": false
   },
   "outputs": [
    {
     "name": "stdout",
     "output_type": "stream",
     "text": [
      "Selection key ^MERRA2_400.tavg1_2d_aer_Nx.2016.*\n"
     ]
    }
   ],
   "source": [
    "print 'Selection key' ,keysel_filename"
   ]
  },
  {
   "cell_type": "code",
   "execution_count": 65,
   "metadata": {
    "collapsed": false
   },
   "outputs": [],
   "source": [
    "nc4_files2 = []\n",
    "for file in nc4_files:\n",
    "    if re.findall(keysel_filename,file):\n",
    "        nc4_files2.append(file)\n",
    "\n",
    "nc4_files2=np.array(nc4_files2)"
   ]
  },
  {
   "cell_type": "code",
   "execution_count": 66,
   "metadata": {
    "collapsed": false
   },
   "outputs": [
    {
     "data": {
      "text/plain": [
       "array(['MERRA2_400.tavg1_2d_aer_Nx.20160101.nc4',\n",
       "       'MERRA2_400.tavg1_2d_aer_Nx.20160102.nc4',\n",
       "       'MERRA2_400.tavg1_2d_aer_Nx.20160103.nc4',\n",
       "       'MERRA2_400.tavg1_2d_aer_Nx.20160104.nc4',\n",
       "       'MERRA2_400.tavg1_2d_aer_Nx.20160105.nc4',\n",
       "       'MERRA2_400.tavg1_2d_aer_Nx.20160106.nc4',\n",
       "       'MERRA2_400.tavg1_2d_aer_Nx.20160107.nc4',\n",
       "       'MERRA2_400.tavg1_2d_aer_Nx.20160108.nc4',\n",
       "       'MERRA2_400.tavg1_2d_aer_Nx.20160109.nc4',\n",
       "       'MERRA2_400.tavg1_2d_aer_Nx.20160110.nc4',\n",
       "       'MERRA2_400.tavg1_2d_aer_Nx.20160111.nc4',\n",
       "       'MERRA2_400.tavg1_2d_aer_Nx.20160112.nc4',\n",
       "       'MERRA2_400.tavg1_2d_aer_Nx.20160113.nc4',\n",
       "       'MERRA2_400.tavg1_2d_aer_Nx.20160114.nc4',\n",
       "       'MERRA2_400.tavg1_2d_aer_Nx.20160115.nc4',\n",
       "       'MERRA2_400.tavg1_2d_aer_Nx.20160116.nc4',\n",
       "       'MERRA2_400.tavg1_2d_aer_Nx.20160117.nc4',\n",
       "       'MERRA2_400.tavg1_2d_aer_Nx.20160118.nc4',\n",
       "       'MERRA2_400.tavg1_2d_aer_Nx.20160119.nc4',\n",
       "       'MERRA2_400.tavg1_2d_aer_Nx.20160120.nc4',\n",
       "       'MERRA2_400.tavg1_2d_aer_Nx.20160121.nc4',\n",
       "       'MERRA2_400.tavg1_2d_aer_Nx.20160122.nc4',\n",
       "       'MERRA2_400.tavg1_2d_aer_Nx.20160123.nc4',\n",
       "       'MERRA2_400.tavg1_2d_aer_Nx.20160124.nc4',\n",
       "       'MERRA2_400.tavg1_2d_aer_Nx.20160125.nc4',\n",
       "       'MERRA2_400.tavg1_2d_aer_Nx.20160126.nc4',\n",
       "       'MERRA2_400.tavg1_2d_aer_Nx.20160127.nc4',\n",
       "       'MERRA2_400.tavg1_2d_aer_Nx.20160128.nc4',\n",
       "       'MERRA2_400.tavg1_2d_aer_Nx.20160129.nc4',\n",
       "       'MERRA2_400.tavg1_2d_aer_Nx.20160130.nc4',\n",
       "       'MERRA2_400.tavg1_2d_aer_Nx.20160131.nc4',\n",
       "       'MERRA2_400.tavg1_2d_aer_Nx.20160201.nc4',\n",
       "       'MERRA2_400.tavg1_2d_aer_Nx.20160202.nc4',\n",
       "       'MERRA2_400.tavg1_2d_aer_Nx.20160203.nc4',\n",
       "       'MERRA2_400.tavg1_2d_aer_Nx.20160204.nc4',\n",
       "       'MERRA2_400.tavg1_2d_aer_Nx.20160205.nc4',\n",
       "       'MERRA2_400.tavg1_2d_aer_Nx.20160206.nc4',\n",
       "       'MERRA2_400.tavg1_2d_aer_Nx.20160207.nc4',\n",
       "       'MERRA2_400.tavg1_2d_aer_Nx.20160208.nc4',\n",
       "       'MERRA2_400.tavg1_2d_aer_Nx.20160209.nc4',\n",
       "       'MERRA2_400.tavg1_2d_aer_Nx.20160210.nc4',\n",
       "       'MERRA2_400.tavg1_2d_aer_Nx.20160211.nc4',\n",
       "       'MERRA2_400.tavg1_2d_aer_Nx.20160212.nc4',\n",
       "       'MERRA2_400.tavg1_2d_aer_Nx.20160213.nc4',\n",
       "       'MERRA2_400.tavg1_2d_aer_Nx.20160214.nc4',\n",
       "       'MERRA2_400.tavg1_2d_aer_Nx.20160215.nc4',\n",
       "       'MERRA2_400.tavg1_2d_aer_Nx.20160216.nc4',\n",
       "       'MERRA2_400.tavg1_2d_aer_Nx.20160217.nc4',\n",
       "       'MERRA2_400.tavg1_2d_aer_Nx.20160218.nc4',\n",
       "       'MERRA2_400.tavg1_2d_aer_Nx.20160219.nc4',\n",
       "       'MERRA2_400.tavg1_2d_aer_Nx.20160220.nc4',\n",
       "       'MERRA2_400.tavg1_2d_aer_Nx.20160221.nc4',\n",
       "       'MERRA2_400.tavg1_2d_aer_Nx.20160222.nc4',\n",
       "       'MERRA2_400.tavg1_2d_aer_Nx.20160223.nc4',\n",
       "       'MERRA2_400.tavg1_2d_aer_Nx.20160224.nc4',\n",
       "       'MERRA2_400.tavg1_2d_aer_Nx.20160225.nc4',\n",
       "       'MERRA2_400.tavg1_2d_aer_Nx.20160226.nc4',\n",
       "       'MERRA2_400.tavg1_2d_aer_Nx.20160227.nc4',\n",
       "       'MERRA2_400.tavg1_2d_aer_Nx.20160228.nc4',\n",
       "       'MERRA2_400.tavg1_2d_aer_Nx.20160229.nc4',\n",
       "       'MERRA2_400.tavg1_2d_aer_Nx.20160301.nc4',\n",
       "       'MERRA2_400.tavg1_2d_aer_Nx.20160302.nc4',\n",
       "       'MERRA2_400.tavg1_2d_aer_Nx.20160303.nc4',\n",
       "       'MERRA2_400.tavg1_2d_aer_Nx.20160304.nc4',\n",
       "       'MERRA2_400.tavg1_2d_aer_Nx.20160305.nc4',\n",
       "       'MERRA2_400.tavg1_2d_aer_Nx.20160306.nc4',\n",
       "       'MERRA2_400.tavg1_2d_aer_Nx.20160307.nc4',\n",
       "       'MERRA2_400.tavg1_2d_aer_Nx.20160308.nc4',\n",
       "       'MERRA2_400.tavg1_2d_aer_Nx.20160309.nc4',\n",
       "       'MERRA2_400.tavg1_2d_aer_Nx.20160310.nc4',\n",
       "       'MERRA2_400.tavg1_2d_aer_Nx.20160311.nc4',\n",
       "       'MERRA2_400.tavg1_2d_aer_Nx.20160312.nc4',\n",
       "       'MERRA2_400.tavg1_2d_aer_Nx.20160313.nc4',\n",
       "       'MERRA2_400.tavg1_2d_aer_Nx.20160314.nc4',\n",
       "       'MERRA2_400.tavg1_2d_aer_Nx.20160315.nc4',\n",
       "       'MERRA2_400.tavg1_2d_aer_Nx.20160316.nc4',\n",
       "       'MERRA2_400.tavg1_2d_aer_Nx.20160317.nc4',\n",
       "       'MERRA2_400.tavg1_2d_aer_Nx.20160318.nc4',\n",
       "       'MERRA2_400.tavg1_2d_aer_Nx.20160319.nc4',\n",
       "       'MERRA2_400.tavg1_2d_aer_Nx.20160320.nc4',\n",
       "       'MERRA2_400.tavg1_2d_aer_Nx.20160321.nc4',\n",
       "       'MERRA2_400.tavg1_2d_aer_Nx.20160322.nc4',\n",
       "       'MERRA2_400.tavg1_2d_aer_Nx.20160323.nc4',\n",
       "       'MERRA2_400.tavg1_2d_aer_Nx.20160324.nc4',\n",
       "       'MERRA2_400.tavg1_2d_aer_Nx.20160325.nc4',\n",
       "       'MERRA2_400.tavg1_2d_aer_Nx.20160326.nc4',\n",
       "       'MERRA2_400.tavg1_2d_aer_Nx.20160327.nc4',\n",
       "       'MERRA2_400.tavg1_2d_aer_Nx.20160328.nc4',\n",
       "       'MERRA2_400.tavg1_2d_aer_Nx.20160329.nc4',\n",
       "       'MERRA2_400.tavg1_2d_aer_Nx.20160330.nc4',\n",
       "       'MERRA2_400.tavg1_2d_aer_Nx.20160331.nc4',\n",
       "       'MERRA2_400.tavg1_2d_aer_Nx.20160401.nc4',\n",
       "       'MERRA2_400.tavg1_2d_aer_Nx.20160402.nc4',\n",
       "       'MERRA2_400.tavg1_2d_aer_Nx.20160403.nc4',\n",
       "       'MERRA2_400.tavg1_2d_aer_Nx.20160404.nc4',\n",
       "       'MERRA2_400.tavg1_2d_aer_Nx.20160405.nc4',\n",
       "       'MERRA2_400.tavg1_2d_aer_Nx.20160406.nc4',\n",
       "       'MERRA2_400.tavg1_2d_aer_Nx.20160407.nc4',\n",
       "       'MERRA2_400.tavg1_2d_aer_Nx.20160408.nc4',\n",
       "       'MERRA2_400.tavg1_2d_aer_Nx.20160409.nc4',\n",
       "       'MERRA2_400.tavg1_2d_aer_Nx.20160410.nc4',\n",
       "       'MERRA2_400.tavg1_2d_aer_Nx.20160411.nc4',\n",
       "       'MERRA2_400.tavg1_2d_aer_Nx.20160412.nc4',\n",
       "       'MERRA2_400.tavg1_2d_aer_Nx.20160413.nc4',\n",
       "       'MERRA2_400.tavg1_2d_aer_Nx.20160414.nc4',\n",
       "       'MERRA2_400.tavg1_2d_aer_Nx.20160415.nc4',\n",
       "       'MERRA2_400.tavg1_2d_aer_Nx.20160416.nc4',\n",
       "       'MERRA2_400.tavg1_2d_aer_Nx.20160417.nc4',\n",
       "       'MERRA2_400.tavg1_2d_aer_Nx.20160418.nc4',\n",
       "       'MERRA2_400.tavg1_2d_aer_Nx.20160419.nc4',\n",
       "       'MERRA2_400.tavg1_2d_aer_Nx.20160420.nc4',\n",
       "       'MERRA2_400.tavg1_2d_aer_Nx.20160421.nc4',\n",
       "       'MERRA2_400.tavg1_2d_aer_Nx.20160422.nc4',\n",
       "       'MERRA2_400.tavg1_2d_aer_Nx.20160423.nc4',\n",
       "       'MERRA2_400.tavg1_2d_aer_Nx.20160424.nc4',\n",
       "       'MERRA2_400.tavg1_2d_aer_Nx.20160425.nc4',\n",
       "       'MERRA2_400.tavg1_2d_aer_Nx.20160426.nc4',\n",
       "       'MERRA2_400.tavg1_2d_aer_Nx.20160427.nc4',\n",
       "       'MERRA2_400.tavg1_2d_aer_Nx.20160428.nc4',\n",
       "       'MERRA2_400.tavg1_2d_aer_Nx.20160429.nc4',\n",
       "       'MERRA2_400.tavg1_2d_aer_Nx.20160430.nc4',\n",
       "       'MERRA2_400.tavg1_2d_aer_Nx.20160501.nc4',\n",
       "       'MERRA2_400.tavg1_2d_aer_Nx.20160502.nc4',\n",
       "       'MERRA2_400.tavg1_2d_aer_Nx.20160503.nc4',\n",
       "       'MERRA2_400.tavg1_2d_aer_Nx.20160504.nc4',\n",
       "       'MERRA2_400.tavg1_2d_aer_Nx.20160505.nc4',\n",
       "       'MERRA2_400.tavg1_2d_aer_Nx.20160506.nc4',\n",
       "       'MERRA2_400.tavg1_2d_aer_Nx.20160507.nc4',\n",
       "       'MERRA2_400.tavg1_2d_aer_Nx.20160508.nc4',\n",
       "       'MERRA2_400.tavg1_2d_aer_Nx.20160509.nc4',\n",
       "       'MERRA2_400.tavg1_2d_aer_Nx.20160510.nc4',\n",
       "       'MERRA2_400.tavg1_2d_aer_Nx.20160511.nc4',\n",
       "       'MERRA2_400.tavg1_2d_aer_Nx.20160512.nc4',\n",
       "       'MERRA2_400.tavg1_2d_aer_Nx.20160513.nc4',\n",
       "       'MERRA2_400.tavg1_2d_aer_Nx.20160514.nc4',\n",
       "       'MERRA2_400.tavg1_2d_aer_Nx.20160515.nc4',\n",
       "       'MERRA2_400.tavg1_2d_aer_Nx.20160516.nc4',\n",
       "       'MERRA2_400.tavg1_2d_aer_Nx.20160517.nc4',\n",
       "       'MERRA2_400.tavg1_2d_aer_Nx.20160518.nc4',\n",
       "       'MERRA2_400.tavg1_2d_aer_Nx.20160519.nc4',\n",
       "       'MERRA2_400.tavg1_2d_aer_Nx.20160520.nc4',\n",
       "       'MERRA2_400.tavg1_2d_aer_Nx.20160521.nc4',\n",
       "       'MERRA2_400.tavg1_2d_aer_Nx.20160522.nc4',\n",
       "       'MERRA2_400.tavg1_2d_aer_Nx.20160523.nc4',\n",
       "       'MERRA2_400.tavg1_2d_aer_Nx.20160524.nc4',\n",
       "       'MERRA2_400.tavg1_2d_aer_Nx.20160525.nc4',\n",
       "       'MERRA2_400.tavg1_2d_aer_Nx.20160526.nc4',\n",
       "       'MERRA2_400.tavg1_2d_aer_Nx.20160527.nc4',\n",
       "       'MERRA2_400.tavg1_2d_aer_Nx.20160528.nc4',\n",
       "       'MERRA2_400.tavg1_2d_aer_Nx.20160529.nc4',\n",
       "       'MERRA2_400.tavg1_2d_aer_Nx.20160530.nc4',\n",
       "       'MERRA2_400.tavg1_2d_aer_Nx.20160531.nc4',\n",
       "       'MERRA2_400.tavg1_2d_aer_Nx.20160601.nc4',\n",
       "       'MERRA2_400.tavg1_2d_aer_Nx.20160602.nc4',\n",
       "       'MERRA2_400.tavg1_2d_aer_Nx.20160603.nc4',\n",
       "       'MERRA2_400.tavg1_2d_aer_Nx.20160604.nc4',\n",
       "       'MERRA2_400.tavg1_2d_aer_Nx.20160605.nc4',\n",
       "       'MERRA2_400.tavg1_2d_aer_Nx.20160606.nc4',\n",
       "       'MERRA2_400.tavg1_2d_aer_Nx.20160607.nc4',\n",
       "       'MERRA2_400.tavg1_2d_aer_Nx.20160608.nc4',\n",
       "       'MERRA2_400.tavg1_2d_aer_Nx.20160609.nc4',\n",
       "       'MERRA2_400.tavg1_2d_aer_Nx.20160610.nc4',\n",
       "       'MERRA2_400.tavg1_2d_aer_Nx.20160611.nc4',\n",
       "       'MERRA2_400.tavg1_2d_aer_Nx.20160612.nc4',\n",
       "       'MERRA2_400.tavg1_2d_aer_Nx.20160613.nc4',\n",
       "       'MERRA2_400.tavg1_2d_aer_Nx.20160614.nc4',\n",
       "       'MERRA2_400.tavg1_2d_aer_Nx.20160615.nc4',\n",
       "       'MERRA2_400.tavg1_2d_aer_Nx.20160616.nc4',\n",
       "       'MERRA2_400.tavg1_2d_aer_Nx.20160617.nc4',\n",
       "       'MERRA2_400.tavg1_2d_aer_Nx.20160618.nc4',\n",
       "       'MERRA2_400.tavg1_2d_aer_Nx.20160619.nc4',\n",
       "       'MERRA2_400.tavg1_2d_aer_Nx.20160620.nc4',\n",
       "       'MERRA2_400.tavg1_2d_aer_Nx.20160621.nc4',\n",
       "       'MERRA2_400.tavg1_2d_aer_Nx.20160622.nc4',\n",
       "       'MERRA2_400.tavg1_2d_aer_Nx.20160623.nc4',\n",
       "       'MERRA2_400.tavg1_2d_aer_Nx.20160624.nc4',\n",
       "       'MERRA2_400.tavg1_2d_aer_Nx.20160625.nc4',\n",
       "       'MERRA2_400.tavg1_2d_aer_Nx.20160626.nc4',\n",
       "       'MERRA2_400.tavg1_2d_aer_Nx.20160627.nc4',\n",
       "       'MERRA2_400.tavg1_2d_aer_Nx.20160628.nc4',\n",
       "       'MERRA2_400.tavg1_2d_aer_Nx.20160629.nc4',\n",
       "       'MERRA2_400.tavg1_2d_aer_Nx.20160630.nc4',\n",
       "       'MERRA2_400.tavg1_2d_aer_Nx.20160701.nc4',\n",
       "       'MERRA2_400.tavg1_2d_aer_Nx.20160702.nc4',\n",
       "       'MERRA2_400.tavg1_2d_aer_Nx.20160703.nc4',\n",
       "       'MERRA2_400.tavg1_2d_aer_Nx.20160704.nc4',\n",
       "       'MERRA2_400.tavg1_2d_aer_Nx.20160705.nc4',\n",
       "       'MERRA2_400.tavg1_2d_aer_Nx.20160706.nc4',\n",
       "       'MERRA2_400.tavg1_2d_aer_Nx.20160707.nc4',\n",
       "       'MERRA2_400.tavg1_2d_aer_Nx.20160708.nc4',\n",
       "       'MERRA2_400.tavg1_2d_aer_Nx.20160709.nc4',\n",
       "       'MERRA2_400.tavg1_2d_aer_Nx.20160710.nc4',\n",
       "       'MERRA2_400.tavg1_2d_aer_Nx.20160711.nc4',\n",
       "       'MERRA2_400.tavg1_2d_aer_Nx.20160712.nc4',\n",
       "       'MERRA2_400.tavg1_2d_aer_Nx.20160713.nc4',\n",
       "       'MERRA2_400.tavg1_2d_aer_Nx.20160714.nc4',\n",
       "       'MERRA2_400.tavg1_2d_aer_Nx.20160715.nc4',\n",
       "       'MERRA2_400.tavg1_2d_aer_Nx.20160716.nc4',\n",
       "       'MERRA2_400.tavg1_2d_aer_Nx.20160717.nc4',\n",
       "       'MERRA2_400.tavg1_2d_aer_Nx.20160718.nc4',\n",
       "       'MERRA2_400.tavg1_2d_aer_Nx.20160719.nc4',\n",
       "       'MERRA2_400.tavg1_2d_aer_Nx.20160720.nc4',\n",
       "       'MERRA2_400.tavg1_2d_aer_Nx.20160721.nc4',\n",
       "       'MERRA2_400.tavg1_2d_aer_Nx.20160722.nc4',\n",
       "       'MERRA2_400.tavg1_2d_aer_Nx.20160723.nc4',\n",
       "       'MERRA2_400.tavg1_2d_aer_Nx.20160724.nc4',\n",
       "       'MERRA2_400.tavg1_2d_aer_Nx.20160725.nc4',\n",
       "       'MERRA2_400.tavg1_2d_aer_Nx.20160726.nc4',\n",
       "       'MERRA2_400.tavg1_2d_aer_Nx.20160727.nc4',\n",
       "       'MERRA2_400.tavg1_2d_aer_Nx.20160728.nc4',\n",
       "       'MERRA2_400.tavg1_2d_aer_Nx.20160729.nc4',\n",
       "       'MERRA2_400.tavg1_2d_aer_Nx.20160730.nc4',\n",
       "       'MERRA2_400.tavg1_2d_aer_Nx.20160731.nc4',\n",
       "       'MERRA2_400.tavg1_2d_aer_Nx.20160801.nc4',\n",
       "       'MERRA2_400.tavg1_2d_aer_Nx.20160802.nc4',\n",
       "       'MERRA2_400.tavg1_2d_aer_Nx.20160803.nc4',\n",
       "       'MERRA2_400.tavg1_2d_aer_Nx.20160804.nc4',\n",
       "       'MERRA2_400.tavg1_2d_aer_Nx.20160805.nc4',\n",
       "       'MERRA2_400.tavg1_2d_aer_Nx.20160806.nc4',\n",
       "       'MERRA2_400.tavg1_2d_aer_Nx.20160807.nc4',\n",
       "       'MERRA2_400.tavg1_2d_aer_Nx.20160808.nc4',\n",
       "       'MERRA2_400.tavg1_2d_aer_Nx.20160809.nc4',\n",
       "       'MERRA2_400.tavg1_2d_aer_Nx.20160810.nc4',\n",
       "       'MERRA2_400.tavg1_2d_aer_Nx.20160811.nc4',\n",
       "       'MERRA2_400.tavg1_2d_aer_Nx.20160812.nc4',\n",
       "       'MERRA2_400.tavg1_2d_aer_Nx.20160813.nc4',\n",
       "       'MERRA2_400.tavg1_2d_aer_Nx.20160814.nc4',\n",
       "       'MERRA2_400.tavg1_2d_aer_Nx.20160815.nc4',\n",
       "       'MERRA2_400.tavg1_2d_aer_Nx.20160816.nc4',\n",
       "       'MERRA2_400.tavg1_2d_aer_Nx.20160817.nc4',\n",
       "       'MERRA2_400.tavg1_2d_aer_Nx.20160818.nc4',\n",
       "       'MERRA2_400.tavg1_2d_aer_Nx.20160819.nc4',\n",
       "       'MERRA2_400.tavg1_2d_aer_Nx.20160820.nc4',\n",
       "       'MERRA2_400.tavg1_2d_aer_Nx.20160821.nc4',\n",
       "       'MERRA2_400.tavg1_2d_aer_Nx.20160822.nc4',\n",
       "       'MERRA2_400.tavg1_2d_aer_Nx.20160823.nc4',\n",
       "       'MERRA2_400.tavg1_2d_aer_Nx.20160824.nc4',\n",
       "       'MERRA2_400.tavg1_2d_aer_Nx.20160825.nc4',\n",
       "       'MERRA2_400.tavg1_2d_aer_Nx.20160826.nc4',\n",
       "       'MERRA2_400.tavg1_2d_aer_Nx.20160827.nc4',\n",
       "       'MERRA2_400.tavg1_2d_aer_Nx.20160828.nc4',\n",
       "       'MERRA2_400.tavg1_2d_aer_Nx.20160829.nc4',\n",
       "       'MERRA2_400.tavg1_2d_aer_Nx.20160830.nc4',\n",
       "       'MERRA2_400.tavg1_2d_aer_Nx.20160831.nc4',\n",
       "       'MERRA2_400.tavg1_2d_aer_Nx.20160901.nc4',\n",
       "       'MERRA2_400.tavg1_2d_aer_Nx.20160902.nc4',\n",
       "       'MERRA2_400.tavg1_2d_aer_Nx.20160903.nc4',\n",
       "       'MERRA2_400.tavg1_2d_aer_Nx.20160904.nc4',\n",
       "       'MERRA2_400.tavg1_2d_aer_Nx.20160905.nc4',\n",
       "       'MERRA2_400.tavg1_2d_aer_Nx.20160906.nc4',\n",
       "       'MERRA2_400.tavg1_2d_aer_Nx.20160907.nc4',\n",
       "       'MERRA2_400.tavg1_2d_aer_Nx.20160908.nc4',\n",
       "       'MERRA2_400.tavg1_2d_aer_Nx.20160909.nc4',\n",
       "       'MERRA2_400.tavg1_2d_aer_Nx.20160910.nc4',\n",
       "       'MERRA2_400.tavg1_2d_aer_Nx.20160911.nc4',\n",
       "       'MERRA2_400.tavg1_2d_aer_Nx.20160912.nc4',\n",
       "       'MERRA2_400.tavg1_2d_aer_Nx.20160913.nc4',\n",
       "       'MERRA2_400.tavg1_2d_aer_Nx.20160914.nc4',\n",
       "       'MERRA2_400.tavg1_2d_aer_Nx.20160915.nc4',\n",
       "       'MERRA2_400.tavg1_2d_aer_Nx.20160916.nc4',\n",
       "       'MERRA2_400.tavg1_2d_aer_Nx.20160917.nc4',\n",
       "       'MERRA2_400.tavg1_2d_aer_Nx.20160918.nc4',\n",
       "       'MERRA2_400.tavg1_2d_aer_Nx.20160919.nc4',\n",
       "       'MERRA2_400.tavg1_2d_aer_Nx.20160920.nc4',\n",
       "       'MERRA2_400.tavg1_2d_aer_Nx.20160921.nc4',\n",
       "       'MERRA2_400.tavg1_2d_aer_Nx.20160922.nc4',\n",
       "       'MERRA2_400.tavg1_2d_aer_Nx.20160923.nc4',\n",
       "       'MERRA2_400.tavg1_2d_aer_Nx.20160924.nc4',\n",
       "       'MERRA2_400.tavg1_2d_aer_Nx.20160925.nc4',\n",
       "       'MERRA2_400.tavg1_2d_aer_Nx.20160926.nc4',\n",
       "       'MERRA2_400.tavg1_2d_aer_Nx.20160927.nc4',\n",
       "       'MERRA2_400.tavg1_2d_aer_Nx.20160928.nc4',\n",
       "       'MERRA2_400.tavg1_2d_aer_Nx.20160929.nc4',\n",
       "       'MERRA2_400.tavg1_2d_aer_Nx.20160930.nc4',\n",
       "       'MERRA2_400.tavg1_2d_aer_Nx.20161001.nc4',\n",
       "       'MERRA2_400.tavg1_2d_aer_Nx.20161002.nc4',\n",
       "       'MERRA2_400.tavg1_2d_aer_Nx.20161003.nc4',\n",
       "       'MERRA2_400.tavg1_2d_aer_Nx.20161004.nc4',\n",
       "       'MERRA2_400.tavg1_2d_aer_Nx.20161005.nc4',\n",
       "       'MERRA2_400.tavg1_2d_aer_Nx.20161006.nc4',\n",
       "       'MERRA2_400.tavg1_2d_aer_Nx.20161007.nc4',\n",
       "       'MERRA2_400.tavg1_2d_aer_Nx.20161008.nc4',\n",
       "       'MERRA2_400.tavg1_2d_aer_Nx.20161009.nc4',\n",
       "       'MERRA2_400.tavg1_2d_aer_Nx.20161010.nc4',\n",
       "       'MERRA2_400.tavg1_2d_aer_Nx.20161011.nc4',\n",
       "       'MERRA2_400.tavg1_2d_aer_Nx.20161012.nc4',\n",
       "       'MERRA2_400.tavg1_2d_aer_Nx.20161013.nc4',\n",
       "       'MERRA2_400.tavg1_2d_aer_Nx.20161014.nc4',\n",
       "       'MERRA2_400.tavg1_2d_aer_Nx.20161015.nc4',\n",
       "       'MERRA2_400.tavg1_2d_aer_Nx.20161016.nc4',\n",
       "       'MERRA2_400.tavg1_2d_aer_Nx.20161017.nc4',\n",
       "       'MERRA2_400.tavg1_2d_aer_Nx.20161018.nc4',\n",
       "       'MERRA2_400.tavg1_2d_aer_Nx.20161019.nc4',\n",
       "       'MERRA2_400.tavg1_2d_aer_Nx.20161020.nc4',\n",
       "       'MERRA2_400.tavg1_2d_aer_Nx.20161021.nc4',\n",
       "       'MERRA2_400.tavg1_2d_aer_Nx.20161022.nc4',\n",
       "       'MERRA2_400.tavg1_2d_aer_Nx.20161023.nc4',\n",
       "       'MERRA2_400.tavg1_2d_aer_Nx.20161024.nc4',\n",
       "       'MERRA2_400.tavg1_2d_aer_Nx.20161025.nc4',\n",
       "       'MERRA2_400.tavg1_2d_aer_Nx.20161026.nc4',\n",
       "       'MERRA2_400.tavg1_2d_aer_Nx.20161027.nc4',\n",
       "       'MERRA2_400.tavg1_2d_aer_Nx.20161028.nc4',\n",
       "       'MERRA2_400.tavg1_2d_aer_Nx.20161029.nc4',\n",
       "       'MERRA2_400.tavg1_2d_aer_Nx.20161030.nc4',\n",
       "       'MERRA2_400.tavg1_2d_aer_Nx.20161031.nc4',\n",
       "       'MERRA2_400.tavg1_2d_aer_Nx.20161101.nc4',\n",
       "       'MERRA2_400.tavg1_2d_aer_Nx.20161102.nc4',\n",
       "       'MERRA2_400.tavg1_2d_aer_Nx.20161103.nc4',\n",
       "       'MERRA2_400.tavg1_2d_aer_Nx.20161104.nc4',\n",
       "       'MERRA2_400.tavg1_2d_aer_Nx.20161105.nc4',\n",
       "       'MERRA2_400.tavg1_2d_aer_Nx.20161106.nc4',\n",
       "       'MERRA2_400.tavg1_2d_aer_Nx.20161107.nc4',\n",
       "       'MERRA2_400.tavg1_2d_aer_Nx.20161108.nc4',\n",
       "       'MERRA2_400.tavg1_2d_aer_Nx.20161109.nc4',\n",
       "       'MERRA2_400.tavg1_2d_aer_Nx.20161110.nc4',\n",
       "       'MERRA2_400.tavg1_2d_aer_Nx.20161111.nc4',\n",
       "       'MERRA2_400.tavg1_2d_aer_Nx.20161112.nc4',\n",
       "       'MERRA2_400.tavg1_2d_aer_Nx.20161113.nc4',\n",
       "       'MERRA2_400.tavg1_2d_aer_Nx.20161114.nc4',\n",
       "       'MERRA2_400.tavg1_2d_aer_Nx.20161115.nc4',\n",
       "       'MERRA2_400.tavg1_2d_aer_Nx.20161116.nc4',\n",
       "       'MERRA2_400.tavg1_2d_aer_Nx.20161117.nc4',\n",
       "       'MERRA2_400.tavg1_2d_aer_Nx.20161118.nc4',\n",
       "       'MERRA2_400.tavg1_2d_aer_Nx.20161119.nc4',\n",
       "       'MERRA2_400.tavg1_2d_aer_Nx.20161120.nc4',\n",
       "       'MERRA2_400.tavg1_2d_aer_Nx.20161121.nc4',\n",
       "       'MERRA2_400.tavg1_2d_aer_Nx.20161122.nc4',\n",
       "       'MERRA2_400.tavg1_2d_aer_Nx.20161123.nc4',\n",
       "       'MERRA2_400.tavg1_2d_aer_Nx.20161124.nc4',\n",
       "       'MERRA2_400.tavg1_2d_aer_Nx.20161125.nc4',\n",
       "       'MERRA2_400.tavg1_2d_aer_Nx.20161126.nc4',\n",
       "       'MERRA2_400.tavg1_2d_aer_Nx.20161127.nc4',\n",
       "       'MERRA2_400.tavg1_2d_aer_Nx.20161128.nc4',\n",
       "       'MERRA2_400.tavg1_2d_aer_Nx.20161129.nc4',\n",
       "       'MERRA2_400.tavg1_2d_aer_Nx.20161130.nc4'], \n",
       "      dtype='|S39')"
      ]
     },
     "execution_count": 66,
     "metadata": {},
     "output_type": "execute_result"
    }
   ],
   "source": [
    "nc4_files2"
   ]
  },
  {
   "cell_type": "markdown",
   "metadata": {},
   "source": [
    "### 2.4) Sort files by increasing time"
   ]
  },
  {
   "cell_type": "code",
   "execution_count": 67,
   "metadata": {
    "collapsed": false
   },
   "outputs": [],
   "source": [
    "nc4_files=np.sort(nc4_files2)"
   ]
  },
  {
   "cell_type": "markdown",
   "metadata": {},
   "source": [
    "### 2.5) Build the full filename before reading"
   ]
  },
  {
   "cell_type": "code",
   "execution_count": 68,
   "metadata": {
    "collapsed": false
   },
   "outputs": [],
   "source": [
    "NBFILES=len(nc4_files)\n",
    "full_nc4files=[]\n",
    "\n",
    "for file in nc4_files:\n",
    "    fname = os.path.join(path, file)\n",
    "    full_nc4files.append(fname)  "
   ]
  },
  {
   "cell_type": "markdown",
   "metadata": {},
   "source": [
    "## 3)  Extract data and write them into pandas dataset and time series\n",
    "--------------------------------------------------------------------------------------"
   ]
  },
  {
   "cell_type": "code",
   "execution_count": 69,
   "metadata": {
    "collapsed": false
   },
   "outputs": [
    {
     "name": "stdout",
     "output_type": "stream",
     "text": [
      "start_time =  ['2016-01-01 00:30:00']\n",
      "start_time =  ['2016-01-02 00:30:00']\n",
      "start_time =  ['2016-01-03 00:30:00']\n",
      "start_time =  ['2016-01-04 00:30:00']\n",
      "start_time =  ['2016-01-05 00:30:00']\n",
      "start_time =  ['2016-01-06 00:30:00']\n",
      "start_time =  ['2016-01-07 00:30:00']\n",
      "start_time =  ['2016-01-08 00:30:00']\n",
      "start_time =  ['2016-07-08 00:30:00']\n",
      "start_time =  ['2016-07-09 00:30:00']\n",
      "start_time =  ['2016-07-10 00:30:00']\n",
      "start_time =  ['2016-07-11 00:30:00']\n",
      "start_time =  ['2016-07-12 00:30:00']\n",
      "start_time =  ['2016-07-13 00:30:00']\n",
      "start_time =  ['2016-07-14 00:30:00']\n",
      "start_time =  ['2016-07-15 00:30:00']\n",
      "start_time =  ['2016-07-16 00:30:00']\n",
      "start_time =  ['2016-07-17 00:30:00']\n",
      "start_time =  ['2016-07-18 00:30:00']\n",
      "start_time =  ['2016-07-19 00:30:00']\n",
      "start_time =  ['2016-07-20 00:30:00']\n",
      "start_time =  ['2016-07-21 00:30:00']\n",
      "start_time =  ['2016-07-22 00:30:00']\n",
      "start_time =  ['2016-07-23 00:30:00']\n",
      "start_time =  ['2016-07-24 00:30:00']\n",
      "start_time =  ['2016-07-25 00:30:00']\n",
      "start_time =  ['2016-07-26 00:30:00']\n",
      "start_time =  ['2016-07-27 00:30:00']\n",
      "start_time =  ['2016-07-28 00:30:00']\n",
      "start_time =  ['2016-07-29 00:30:00']\n",
      "start_time =  ['2016-07-30 00:30:00']\n",
      "start_time =  ['2016-07-31 00:30:00']\n",
      "start_time =  ['2016-08-01 00:30:00']\n",
      "start_time =  ['2016-02-03 00:30:00']\n",
      "start_time =  ['2016-02-04 00:30:00']\n",
      "start_time =  ['2016-08-04 00:30:00']\n",
      "start_time =  ['2016-02-06 00:30:00']\n",
      "start_time =  ['2016-02-07 00:30:00']\n",
      "start_time =  ['2016-08-07 00:30:00']\n",
      "start_time =  ['2016-02-09 00:30:00']\n",
      "start_time =  ['2016-08-09 00:30:00']\n",
      "start_time =  ['2016-08-10 00:30:00']\n",
      "start_time =  ['2016-08-11 00:30:00']\n",
      "start_time =  ['2016-08-12 00:30:00']\n",
      "start_time =  ['2016-02-14 00:30:00']\n",
      "start_time =  ['2016-02-15 00:30:00']\n",
      "start_time =  ['2016-02-16 00:30:00']\n",
      "start_time =  ['2016-02-17 00:30:00']\n",
      "start_time =  ['2016-08-17 00:30:00']\n",
      "start_time =  ['2016-08-18 00:30:00']\n",
      "start_time =  ['2016-02-20 00:30:00']\n",
      "start_time =  ['2016-08-20 00:30:00']\n",
      "start_time =  ['2016-08-21 00:30:00']\n",
      "start_time =  ['2016-08-22 00:30:00']\n",
      "start_time =  ['2016-02-24 00:30:00']\n",
      "start_time =  ['2016-02-25 00:30:00']\n",
      "start_time =  ['2016-02-26 00:30:00']\n",
      "start_time =  ['2016-02-27 00:30:00']\n",
      "start_time =  ['2016-02-28 00:30:00']\n",
      "start_time =  ['2016-02-29 00:30:00']\n",
      "start_time =  ['2016-03-01 00:30:00']\n",
      "start_time =  ['2016-03-02 00:30:00']\n",
      "start_time =  ['2016-03-03 00:30:00']\n",
      "start_time =  ['2016-03-04 00:30:00']\n",
      "start_time =  ['2016-09-02 00:30:00']\n",
      "start_time =  ['2016-09-03 00:30:00']\n",
      "start_time =  ['2016-03-07 00:30:00']\n",
      "start_time =  ['2016-03-08 00:30:00']\n",
      "start_time =  ['2016-03-09 00:30:00']\n",
      "start_time =  ['2016-03-10 00:30:00']\n",
      "start_time =  ['2016-03-11 00:30:00']\n",
      "start_time =  ['2016-09-09 00:30:00']\n",
      "start_time =  ['2016-09-10 00:30:00']\n",
      "start_time =  ['2016-09-11 00:30:00']\n",
      "start_time =  ['2016-09-12 00:30:00']\n",
      "start_time =  ['2016-09-13 00:30:00']\n",
      "start_time =  ['2016-09-14 00:30:00']\n",
      "start_time =  ['2016-09-15 00:30:00']\n",
      "start_time =  ['2016-03-19 00:30:00']\n",
      "start_time =  ['2016-03-20 00:30:00']\n",
      "start_time =  ['2016-03-21 00:30:00']\n",
      "start_time =  ['2016-03-22 00:30:00']\n",
      "start_time =  ['2016-03-23 00:30:00']\n",
      "start_time =  ['2016-03-24 00:30:00']\n",
      "start_time =  ['2016-10-31 00:30:00']\n",
      "start_time =  ['2016-03-26 00:30:00']\n",
      "start_time =  ['2016-03-27 00:30:00']\n",
      "start_time =  ['2016-03-28 00:30:00']\n",
      "start_time =  ['2016-03-29 00:30:00']\n",
      "start_time =  ['2016-03-30 00:30:00']\n",
      "start_time =  ['2016-03-31 00:30:00']\n",
      "start_time =  ['2016-04-01 00:30:00']\n",
      "start_time =  ['2016-04-02 00:30:00']\n",
      "start_time =  ['2016-04-03 00:30:00']\n",
      "start_time =  ['2016-04-04 00:30:00']\n",
      "start_time =  ['2016-04-05 00:30:00']\n",
      "start_time =  ['2016-04-06 00:30:00']\n",
      "start_time =  ['2016-04-07 00:30:00']\n",
      "start_time =  ['2016-04-08 00:30:00']\n",
      "start_time =  ['2016-04-09 00:30:00']\n",
      "start_time =  ['2016-04-10 00:30:00']\n",
      "start_time =  ['2016-04-11 00:30:00']\n",
      "start_time =  ['2016-04-12 00:30:00']\n",
      "start_time =  ['2016-04-13 00:30:00']\n",
      "start_time =  ['2016-04-14 00:30:00']\n",
      "start_time =  ['2016-04-15 00:30:00']\n",
      "start_time =  ['2016-04-16 00:30:00']\n",
      "start_time =  ['2016-04-17 00:30:00']\n",
      "start_time =  ['2016-04-18 00:30:00']\n",
      "start_time =  ['2016-04-19 00:30:00']\n",
      "start_time =  ['2016-04-20 00:30:00']\n",
      "start_time =  ['2016-04-21 00:30:00']\n",
      "start_time =  ['2016-04-22 00:30:00']\n",
      "start_time =  ['2016-04-23 00:30:00']\n",
      "start_time =  ['2016-04-24 00:30:00']\n",
      "start_time =  ['2016-04-25 00:30:00']\n",
      "start_time =  ['2016-04-26 00:30:00']\n",
      "start_time =  ['2016-04-27 00:30:00']\n",
      "start_time =  ['2016-04-28 00:30:00']\n",
      "start_time =  ['2016-04-29 00:30:00']\n",
      "start_time =  ['2016-04-30 00:30:00']\n",
      "start_time =  ['2016-05-01 00:30:00']\n",
      "start_time =  ['2016-05-02 00:30:00']\n",
      "start_time =  ['2016-05-03 00:30:00']\n",
      "start_time =  ['2016-05-04 00:30:00']\n",
      "start_time =  ['2016-05-05 00:30:00']\n",
      "start_time =  ['2016-05-06 00:30:00']\n",
      "start_time =  ['2016-05-07 00:30:00']\n",
      "start_time =  ['2016-05-08 00:30:00']\n",
      "start_time =  ['2016-05-09 00:30:00']\n",
      "start_time =  ['2016-05-10 00:30:00']\n",
      "start_time =  ['2016-05-11 00:30:00']\n",
      "start_time =  ['2016-05-12 00:30:00']\n",
      "start_time =  ['2016-05-13 00:30:00']\n",
      "start_time =  ['2016-05-14 00:30:00']\n",
      "start_time =  ['2016-05-15 00:30:00']\n",
      "start_time =  ['2016-05-16 00:30:00']\n",
      "start_time =  ['2016-05-17 00:30:00']\n",
      "start_time =  ['2016-05-18 00:30:00']\n",
      "start_time =  ['2016-05-19 00:30:00']\n",
      "start_time =  ['2016-05-20 00:30:00']\n",
      "start_time =  ['2016-05-21 00:30:00']\n",
      "start_time =  ['2016-05-22 00:30:00']\n",
      "start_time =  ['2016-05-23 00:30:00']\n",
      "start_time =  ['2016-05-24 00:30:00']\n",
      "start_time =  ['2016-05-25 00:30:00']\n",
      "start_time =  ['2016-05-26 00:30:00']\n",
      "start_time =  ['2016-05-27 00:30:00']\n",
      "start_time =  ['2016-05-28 00:30:00']\n",
      "start_time =  ['2016-05-29 00:30:00']\n",
      "start_time =  ['2016-05-30 00:30:00']\n",
      "start_time =  ['2016-05-31 00:30:00']\n",
      "start_time =  ['2016-06-01 00:30:00']\n",
      "start_time =  ['2016-06-02 00:30:00']\n",
      "start_time =  ['2016-06-03 00:30:00']\n",
      "start_time =  ['2016-06-04 00:30:00']\n",
      "start_time =  ['2016-06-05 00:30:00']\n",
      "start_time =  ['2016-06-06 00:30:00']\n",
      "start_time =  ['2016-06-07 00:30:00']\n",
      "start_time =  ['2016-06-08 00:30:00']\n",
      "start_time =  ['2016-06-09 00:30:00']\n",
      "start_time =  ['2016-06-10 00:30:00']\n",
      "start_time =  ['2016-06-11 00:30:00']\n",
      "start_time =  ['2016-06-12 00:30:00']\n",
      "start_time =  ['2016-06-13 00:30:00']\n",
      "start_time =  ['2016-06-14 00:30:00']\n",
      "start_time =  ['2016-06-15 00:30:00']\n",
      "start_time =  ['2016-06-16 00:30:00']\n",
      "start_time =  ['2016-06-17 00:30:00']\n",
      "start_time =  ['2016-06-18 00:30:00']\n",
      "start_time =  ['2016-06-19 00:30:00']\n",
      "start_time =  ['2016-06-20 00:30:00']\n",
      "start_time =  ['2016-06-21 00:30:00']\n",
      "start_time =  ['2016-06-22 00:30:00']\n",
      "start_time =  ['2016-06-23 00:30:00']\n",
      "start_time =  ['2016-06-24 00:30:00']\n",
      "start_time =  ['2016-06-25 00:30:00']\n",
      "start_time =  ['2016-06-26 00:30:00']\n",
      "start_time =  ['2016-06-27 00:30:00']\n",
      "start_time =  ['2016-06-28 00:30:00']\n",
      "start_time =  ['2016-06-29 00:30:00']\n",
      "start_time =  ['2016-06-30 00:30:00']\n",
      "start_time =  ['2016-07-01 00:30:00']\n",
      "start_time =  ['2016-07-02 00:30:00']\n",
      "start_time =  ['2016-07-03 00:30:00']\n",
      "start_time =  ['2016-07-04 00:30:00']\n",
      "start_time =  ['2016-07-05 00:30:00']\n",
      "start_time =  ['2016-07-06 00:30:00']\n",
      "start_time =  ['2016-07-07 00:30:00']\n",
      "start_time =  ['2016-07-08 00:30:00']\n",
      "start_time =  ['2016-07-09 00:30:00']\n",
      "start_time =  ['2016-07-10 00:30:00']\n",
      "start_time =  ['2016-07-11 00:30:00']\n",
      "start_time =  ['2016-07-12 00:30:00']\n",
      "start_time =  ['2016-07-13 00:30:00']\n",
      "start_time =  ['2016-07-14 00:30:00']\n",
      "start_time =  ['2016-07-15 00:30:00']\n",
      "start_time =  ['2016-07-16 00:30:00']\n",
      "start_time =  ['2016-07-17 00:30:00']\n",
      "start_time =  ['2016-07-18 00:30:00']\n",
      "start_time =  ['2016-07-19 00:30:00']\n",
      "start_time =  ['2016-07-20 00:30:00']\n",
      "start_time =  ['2016-07-21 00:30:00']\n",
      "start_time =  ['2016-07-22 00:30:00']\n",
      "start_time =  ['2016-07-23 00:30:00']\n",
      "start_time =  ['2016-07-24 00:30:00']\n",
      "start_time =  ['2016-07-25 00:30:00']\n",
      "start_time =  ['2016-07-26 00:30:00']\n",
      "start_time =  ['2016-07-27 00:30:00']\n",
      "start_time =  ['2016-07-28 00:30:00']\n",
      "start_time =  ['2016-07-29 00:30:00']\n",
      "start_time =  ['2016-07-30 00:30:00']\n",
      "start_time =  ['2016-07-31 00:30:00']\n",
      "start_time =  ['2016-08-01 00:30:00']\n",
      "start_time =  ['2016-08-02 00:30:00']\n",
      "start_time =  ['2016-08-03 00:30:00']\n",
      "start_time =  ['2016-08-04 00:30:00']\n",
      "start_time =  ['2016-08-05 00:30:00']\n",
      "start_time =  ['2016-08-06 00:30:00']\n",
      "start_time =  ['2016-08-07 00:30:00']\n",
      "start_time =  ['2016-08-08 00:30:00']\n",
      "start_time =  ['2016-08-09 00:30:00']\n",
      "start_time =  ['2016-08-10 00:30:00']\n",
      "start_time =  ['2016-08-11 00:30:00']\n",
      "start_time =  ['2016-08-12 00:30:00']\n",
      "start_time =  ['2016-08-13 00:30:00']\n",
      "start_time =  ['2016-08-14 00:30:00']\n",
      "start_time =  ['2016-08-15 00:30:00']\n",
      "start_time =  ['2016-08-16 00:30:00']\n",
      "start_time =  ['2016-08-17 00:30:00']\n",
      "start_time =  ['2016-08-18 00:30:00']\n",
      "start_time =  ['2016-08-19 00:30:00']\n",
      "start_time =  ['2016-08-20 00:30:00']\n",
      "start_time =  ['2016-08-21 00:30:00']\n",
      "start_time =  ['2016-08-22 00:30:00']\n",
      "start_time =  ['2016-08-23 00:30:00']\n",
      "start_time =  ['2016-08-24 00:30:00']\n",
      "start_time =  ['2016-08-25 00:30:00']\n",
      "start_time =  ['2016-08-26 00:30:00']\n",
      "start_time =  ['2016-08-27 00:30:00']\n",
      "start_time =  ['2016-08-28 00:30:00']\n",
      "start_time =  ['2016-08-29 00:30:00']\n",
      "start_time =  ['2016-08-30 00:30:00']\n",
      "start_time =  ['2016-08-31 00:30:00']\n",
      "start_time =  ['2016-09-01 00:30:00']\n",
      "start_time =  ['2016-09-02 00:30:00']\n",
      "start_time =  ['2016-09-03 00:30:00']\n",
      "start_time =  ['2016-09-04 00:30:00']\n",
      "start_time =  ['2016-09-05 00:30:00']\n",
      "start_time =  ['2016-09-06 00:30:00']\n",
      "start_time =  ['2016-09-07 00:30:00']\n",
      "start_time =  ['2016-09-08 00:30:00']\n",
      "start_time =  ['2016-09-09 00:30:00']\n",
      "start_time =  ['2016-09-10 00:30:00']\n",
      "start_time =  ['2016-09-11 00:30:00']\n",
      "start_time =  ['2016-09-12 00:30:00']\n",
      "start_time =  ['2016-09-13 00:30:00']\n",
      "start_time =  ['2016-09-14 00:30:00']\n",
      "start_time =  ['2016-09-15 00:30:00']\n",
      "start_time =  ['2016-09-16 00:30:00']\n",
      "start_time =  ['2016-09-17 00:30:00']\n",
      "start_time =  ['2016-09-18 00:30:00']\n",
      "start_time =  ['2016-09-19 00:30:00']\n",
      "start_time =  ['2016-09-20 00:30:00']\n",
      "start_time =  ['2016-09-21 00:30:00']\n",
      "start_time =  ['2016-09-22 00:30:00']\n",
      "start_time =  ['2016-09-23 00:30:00']\n",
      "start_time =  ['2016-09-24 00:30:00']\n",
      "start_time =  ['2016-09-25 00:30:00']\n",
      "start_time =  ['2016-09-26 00:30:00']\n",
      "start_time =  ['2016-09-27 00:30:00']\n",
      "start_time =  ['2016-09-28 00:30:00']\n",
      "start_time =  ['2016-09-29 00:30:00']\n",
      "start_time =  ['2016-09-30 00:30:00']\n",
      "start_time =  ['2016-10-01 00:30:00']\n",
      "start_time =  ['2016-10-02 00:30:00']\n",
      "start_time =  ['2016-10-03 00:30:00']\n",
      "start_time =  ['2016-10-04 00:30:00']\n",
      "start_time =  ['2016-10-05 00:30:00']\n",
      "start_time =  ['2016-10-06 00:30:00']\n",
      "start_time =  ['2016-10-07 00:30:00']\n",
      "start_time =  ['2016-10-08 00:30:00']\n",
      "start_time =  ['2016-10-09 00:30:00']\n",
      "start_time =  ['2016-10-10 00:30:00']\n",
      "start_time =  ['2016-10-11 00:30:00']\n",
      "start_time =  ['2016-10-12 00:30:00']\n",
      "start_time =  ['2016-10-13 00:30:00']\n",
      "start_time =  ['2016-10-14 00:30:00']\n",
      "start_time =  ['2016-10-15 00:30:00']\n",
      "start_time =  ['2016-10-16 00:30:00']\n",
      "start_time =  ['2016-10-17 00:30:00']\n",
      "start_time =  ['2016-10-18 00:30:00']\n",
      "start_time =  ['2016-10-19 00:30:00']\n",
      "start_time =  ['2016-10-20 00:30:00']\n",
      "start_time =  ['2016-10-21 00:30:00']\n",
      "start_time =  ['2016-10-22 00:30:00']\n",
      "start_time =  ['2016-10-23 00:30:00']\n",
      "start_time =  ['2016-10-24 00:30:00']\n",
      "start_time =  ['2016-10-25 00:30:00']\n",
      "start_time =  ['2016-10-26 00:30:00']\n",
      "start_time =  ['2016-10-27 00:30:00']\n",
      "start_time =  ['2016-10-28 00:30:00']\n",
      "start_time =  ['2016-10-29 00:30:00']\n",
      "start_time =  ['2016-10-30 00:30:00']\n",
      "start_time =  ['2016-10-31 00:30:00']\n",
      "start_time =  ['2016-11-01 00:30:00']\n",
      "start_time =  ['2016-11-02 00:30:00']\n",
      "start_time =  ['2016-11-03 00:30:00']\n",
      "start_time =  ['2016-11-04 00:30:00']\n",
      "start_time =  ['2016-11-05 00:30:00']\n",
      "start_time =  ['2016-11-06 00:30:00']\n",
      "start_time =  ['2016-11-07 00:30:00']\n",
      "start_time =  ['2016-11-08 00:30:00']\n",
      "start_time =  ['2016-11-09 00:30:00']\n",
      "start_time =  ['2016-11-10 00:30:00']\n",
      "start_time =  ['2016-11-11 00:30:00']\n",
      "start_time =  ['2016-11-12 00:30:00']\n",
      "start_time =  ['2016-11-13 00:30:00']\n",
      "start_time =  ['2016-11-14 00:30:00']\n",
      "start_time =  ['2016-11-15 00:30:00']\n",
      "start_time =  ['2016-11-16 00:30:00']\n",
      "start_time =  ['2016-11-17 00:30:00']\n",
      "start_time =  ['2016-11-18 00:30:00']\n",
      "start_time =  ['2016-11-19 00:30:00']\n",
      "start_time =  ['2016-11-20 00:30:00']\n",
      "start_time =  ['2016-11-21 00:30:00']\n",
      "start_time =  ['2016-11-22 00:30:00']\n",
      "start_time =  ['2016-11-23 00:30:00']\n",
      "start_time =  ['2016-11-24 00:30:00']\n",
      "start_time =  ['2016-11-25 00:30:00']\n",
      "start_time =  ['2016-11-26 00:30:00']\n",
      "start_time =  ['2016-11-27 00:30:00']\n",
      "start_time =  ['2016-11-28 00:30:00']\n",
      "start_time =  ['2016-11-29 00:30:00']\n",
      "start_time =  ['2016-11-30 00:30:00']\n"
     ]
    }
   ],
   "source": [
    "ts0=[]  # intermediate data series\n",
    "ts1=[]\n",
    "ts2=[]\n",
    "\n",
    "\n",
    "df_tavg1_2d_aer_Nx=[] # final pandas dataset for all atmospheric quantities\n",
    "\n",
    "for file in full_nc4files: # loop on data file of each day of the month\n",
    "    \n",
    "    #Retrieve 1D parameters longitude, latitude, time\n",
    "    (m_lat,m_un_lat,m_nm_lat) = merra2.Get1DData(file,'lat') # latitude (array, unit, name)\n",
    "    m_latitude = m_lat[:]\n",
    "    (m_lon,m_un_lon,m_nm_lon) = merra2.Get1DData(file,'lon') # longitude(array, unit, name)\n",
    "    m_longitude = m_lon[:]\n",
    "    (m_tim,m_un_tim,m_nm_tim)= merra2.Get1DData(file,'time') # time (array, unit, name)\n",
    "    m_time=m_tim[:]\n",
    "       \n",
    "    NbDataPerFile=m_time.shape[0] # number of data sample per file\n",
    "    #start_time = re.findall(\"^minutes since[ ]([0-9.].+[0-9.].+[0-9.].+)[ ]00:00:00$\",m_un_tim) # extract start time\n",
    "    start_time = re.findall(\"^minutes since[ ]([0-9.].+[0-9.].+[0-9.].+)\",m_un_tim) # extract start time\n",
    "    \n",
    "    #print 'start_time = ', start_time\n",
    "    time_rng = pd.date_range(start_time[0], periods=NbDataPerFile, freq='H') # one data per hour\n",
    "    \n",
    "    print 'start_time = ', start_time\n",
    "    \n",
    "    m_X,m_Y=np.meshgrid(m_longitude,m_latitude) # build meash-grid in longitude and latitude\n",
    "    (sel_long, sel_lat)=merra2.GetBinIndex(m_X,m_Y,loc[0],loc[1]) # get bin in longitude and latitude for the site  \n",
    "    \n",
    " \n",
    "    # loop\n",
    "    for index in range(NB_DATAFIELDS):\n",
    "        (m_data,m_unit,m_longname)=merra2.GetGeoRefData(file,DATA_TAG[index]) # 3D array : time x longitude x latitude  \n",
    "        dt=m_data[:,sel_lat,sel_long]\n",
    "        if index==0:\n",
    "            ts0 = pd.Series(dt, index=time_rng)\n",
    "        elif index==1:\n",
    "            ts1 = pd.Series(dt, index=time_rng)\n",
    "        elif index==2:\n",
    "            ts2 = pd.Series(dt, index=time_rng)\n",
    "\n",
    "            \n",
    "        #clf_timeseries.append(ts)\n",
    "        # Create the dataframe\n",
    "    df = pd.DataFrame({DATA_TAG[0]: ts0, \n",
    "                       DATA_TAG[1]: ts1,\n",
    "                       DATA_TAG[2]: ts2 }, index=time_rng)\n",
    "    df_tavg1_2d_aer_Nx.append(df)  \n",
    "    "
   ]
  },
  {
   "cell_type": "markdown",
   "metadata": {},
   "source": [
    "### Concatenation"
   ]
  },
  {
   "cell_type": "code",
   "execution_count": 70,
   "metadata": {
    "collapsed": false
   },
   "outputs": [],
   "source": [
    "df_tavg1_2d_aer_Nx=pd.concat(df_tavg1_2d_aer_Nx)"
   ]
  },
  {
   "cell_type": "code",
   "execution_count": 71,
   "metadata": {
    "collapsed": false
   },
   "outputs": [
    {
     "name": "stdout",
     "output_type": "stream",
     "text": [
      "<class 'pandas.core.frame.DataFrame'>\n",
      "DatetimeIndex: 8040 entries, 2016-01-01 00:30:00 to 2016-11-30 23:30:00\n",
      "Data columns (total 3 columns):\n",
      "TOTANGSTR    8040 non-null float32\n",
      "TOTEXTTAU    8040 non-null float32\n",
      "TOTSCATAU    8040 non-null float32\n",
      "dtypes: float32(3)\n",
      "memory usage: 157.0 KB\n"
     ]
    }
   ],
   "source": [
    "df_tavg1_2d_aer_Nx.info()"
   ]
  },
  {
   "cell_type": "markdown",
   "metadata": {},
   "source": [
    "## 4) Plot the time dependence of time series and dataset"
   ]
  },
  {
   "cell_type": "markdown",
   "metadata": {},
   "source": [
    "####  Fill information on years and months from the filenames"
   ]
  },
  {
   "cell_type": "code",
   "execution_count": 72,
   "metadata": {
    "collapsed": true
   },
   "outputs": [],
   "source": [
    "def PlotTimeSeries(index,figfile):\n",
    "    plt.figure(figsize=(20,5))\n",
    "    df_tavg1_2d_aer_Nx[DATA_TAG[index]].plot(lw=3,color='red')\n",
    "    plt.xlabel('time')\n",
    "    plt.ylabel(DATA_TAG[index])\n",
    "    title= \"Hourly {} at {} in 2016\".format(DATA_TITLE[index],OBS_NAME)\n",
    "    plt.title(title,fontsize=15)\n",
    "    plt.suptitle('NASA GMAO GES (MERRA-2)', y=1.02, fontsize=13)\n",
    "    plt.grid(True)\n",
    "    plt.savefig(figfile)"
   ]
  },
  {
   "cell_type": "markdown",
   "metadata": {},
   "source": [
    "### 4.1) Angstrom"
   ]
  },
  {
   "cell_type": "code",
   "execution_count": 73,
   "metadata": {
    "collapsed": false
   },
   "outputs": [
    {
     "data": {
      "image/png": "[encoded data removed]",
      "text/plain": [
       "<matplotlib.figure.Figure at 0x10b950150>"
      ]
     },
     "metadata": {},
     "output_type": "display_data"
    }
   ],
   "source": [
    "PlotTimeSeries(0,figfile_aer_angstr)"
   ]
  },
  {
   "cell_type": "markdown",
   "metadata": {},
   "source": [
    "###  4.2)  Aerosols extinction"
   ]
  },
  {
   "cell_type": "code",
   "execution_count": 74,
   "metadata": {
    "collapsed": false
   },
   "outputs": [
    {
     "data": {
      "image/png": "[encoded data removed]",
      "text/plain": [
       "<matplotlib.figure.Figure at 0x1111cfe90>"
      ]
     },
     "metadata": {},
     "output_type": "display_data"
    }
   ],
   "source": [
    "PlotTimeSeries(1,figfile_aer_extinct)"
   ]
  },
  {
   "cell_type": "markdown",
   "metadata": {},
   "source": [
    "### 4.3) Aerosols scattering"
   ]
  },
  {
   "cell_type": "code",
   "execution_count": 75,
   "metadata": {
    "collapsed": false
   },
   "outputs": [
    {
     "data": {
      "image/png": "[encoded data removed]",
      "text/plain": [
       "<matplotlib.figure.Figure at 0x111385f90>"
      ]
     },
     "metadata": {},
     "output_type": "display_data"
    }
   ],
   "source": [
    "PlotTimeSeries(2,figfile_aer_scatter)"
   ]
  },
  {
   "cell_type": "markdown",
   "metadata": {},
   "source": [
    "## 5) Output"
   ]
  },
  {
   "cell_type": "code",
   "execution_count": 76,
   "metadata": {
    "collapsed": false
   },
   "outputs": [
    {
     "data": {
      "text/html": [
       "<div>\n",
       "<table border=\"1\" class=\"dataframe\">\n",
       "  <thead>\n",
       "    <tr style=\"text-align: right;\">\n",
       "      <th></th>\n",
       "      <th>TOTANGSTR</th>\n",
       "      <th>TOTEXTTAU</th>\n",
       "      <th>TOTSCATAU</th>\n",
       "    </tr>\n",
       "  </thead>\n",
       "  <tbody>\n",
       "    <tr>\n",
       "      <th>count</th>\n",
       "      <td>8040.000000</td>\n",
       "      <td>8040.000000</td>\n",
       "      <td>8040.000000</td>\n",
       "    </tr>\n",
       "    <tr>\n",
       "      <th>mean</th>\n",
       "      <td>1.401557</td>\n",
       "      <td>0.039881</td>\n",
       "      <td>0.037571</td>\n",
       "    </tr>\n",
       "    <tr>\n",
       "      <th>std</th>\n",
       "      <td>0.122406</td>\n",
       "      <td>0.021550</td>\n",
       "      <td>0.021085</td>\n",
       "    </tr>\n",
       "    <tr>\n",
       "      <th>min</th>\n",
       "      <td>0.762541</td>\n",
       "      <td>0.007128</td>\n",
       "      <td>0.006281</td>\n",
       "    </tr>\n",
       "    <tr>\n",
       "      <th>25%</th>\n",
       "      <td>1.318853</td>\n",
       "      <td>0.025247</td>\n",
       "      <td>0.023443</td>\n",
       "    </tr>\n",
       "    <tr>\n",
       "      <th>50%</th>\n",
       "      <td>1.406375</td>\n",
       "      <td>0.034890</td>\n",
       "      <td>0.032612</td>\n",
       "    </tr>\n",
       "    <tr>\n",
       "      <th>75%</th>\n",
       "      <td>1.486127</td>\n",
       "      <td>0.049027</td>\n",
       "      <td>0.046177</td>\n",
       "    </tr>\n",
       "    <tr>\n",
       "      <th>max</th>\n",
       "      <td>1.831648</td>\n",
       "      <td>0.244926</td>\n",
       "      <td>0.243346</td>\n",
       "    </tr>\n",
       "  </tbody>\n",
       "</table>\n",
       "</div>"
      ],
      "text/plain": [
       "         TOTANGSTR    TOTEXTTAU    TOTSCATAU\n",
       "count  8040.000000  8040.000000  8040.000000\n",
       "mean      1.401557     0.039881     0.037571\n",
       "std       0.122406     0.021550     0.021085\n",
       "min       0.762541     0.007128     0.006281\n",
       "25%       1.318853     0.025247     0.023443\n",
       "50%       1.406375     0.034890     0.032612\n",
       "75%       1.486127     0.049027     0.046177\n",
       "max       1.831648     0.244926     0.243346"
      ]
     },
     "execution_count": 76,
     "metadata": {},
     "output_type": "execute_result"
    }
   ],
   "source": [
    "df_tavg1_2d_aer_Nx.index.name='time'\n",
    "df_tavg1_2d_aer_Nx.describe()"
   ]
  },
  {
   "cell_type": "code",
   "execution_count": null,
   "metadata": {
    "collapsed": true
   },
   "outputs": [],
   "source": []
  },
  {
   "cell_type": "markdown",
   "metadata": {
    "collapsed": true
   },
   "source": [
    "## 5)  Save dataset  in file pandas (csv)\n",
    "----------------------------------------"
   ]
  },
  {
   "cell_type": "code",
   "execution_count": 77,
   "metadata": {
    "collapsed": false
   },
   "outputs": [],
   "source": [
    "dataset=df_tavg1_2d_aer_Nx"
   ]
  },
  {
   "cell_type": "code",
   "execution_count": 78,
   "metadata": {
    "collapsed": false
   },
   "outputs": [],
   "source": [
    "dataset.index.name='time'"
   ]
  },
  {
   "cell_type": "code",
   "execution_count": null,
   "metadata": {
    "collapsed": true
   },
   "outputs": [],
   "source": []
  },
  {
   "cell_type": "code",
   "execution_count": 79,
   "metadata": {
    "collapsed": false
   },
   "outputs": [
    {
     "data": {
      "text/html": [
       "<div>\n",
       "<table border=\"1\" class=\"dataframe\">\n",
       "  <thead>\n",
       "    <tr style=\"text-align: right;\">\n",
       "      <th></th>\n",
       "      <th>TOTANGSTR</th>\n",
       "      <th>TOTEXTTAU</th>\n",
       "      <th>TOTSCATAU</th>\n",
       "    </tr>\n",
       "  </thead>\n",
       "  <tbody>\n",
       "    <tr>\n",
       "      <th>count</th>\n",
       "      <td>8040.000000</td>\n",
       "      <td>8040.000000</td>\n",
       "      <td>8040.000000</td>\n",
       "    </tr>\n",
       "    <tr>\n",
       "      <th>mean</th>\n",
       "      <td>1.401557</td>\n",
       "      <td>0.039881</td>\n",
       "      <td>0.037571</td>\n",
       "    </tr>\n",
       "    <tr>\n",
       "      <th>std</th>\n",
       "      <td>0.122406</td>\n",
       "      <td>0.021550</td>\n",
       "      <td>0.021085</td>\n",
       "    </tr>\n",
       "    <tr>\n",
       "      <th>min</th>\n",
       "      <td>0.762541</td>\n",
       "      <td>0.007128</td>\n",
       "      <td>0.006281</td>\n",
       "    </tr>\n",
       "    <tr>\n",
       "      <th>25%</th>\n",
       "      <td>1.318853</td>\n",
       "      <td>0.025247</td>\n",
       "      <td>0.023443</td>\n",
       "    </tr>\n",
       "    <tr>\n",
       "      <th>50%</th>\n",
       "      <td>1.406375</td>\n",
       "      <td>0.034890</td>\n",
       "      <td>0.032612</td>\n",
       "    </tr>\n",
       "    <tr>\n",
       "      <th>75%</th>\n",
       "      <td>1.486127</td>\n",
       "      <td>0.049027</td>\n",
       "      <td>0.046177</td>\n",
       "    </tr>\n",
       "    <tr>\n",
       "      <th>max</th>\n",
       "      <td>1.831648</td>\n",
       "      <td>0.244926</td>\n",
       "      <td>0.243346</td>\n",
       "    </tr>\n",
       "  </tbody>\n",
       "</table>\n",
       "</div>"
      ],
      "text/plain": [
       "         TOTANGSTR    TOTEXTTAU    TOTSCATAU\n",
       "count  8040.000000  8040.000000  8040.000000\n",
       "mean      1.401557     0.039881     0.037571\n",
       "std       0.122406     0.021550     0.021085\n",
       "min       0.762541     0.007128     0.006281\n",
       "25%       1.318853     0.025247     0.023443\n",
       "50%       1.406375     0.034890     0.032612\n",
       "75%       1.486127     0.049027     0.046177\n",
       "max       1.831648     0.244926     0.243346"
      ]
     },
     "execution_count": 79,
     "metadata": {},
     "output_type": "execute_result"
    }
   ],
   "source": [
    "dataset.describe()"
   ]
  },
  {
   "cell_type": "code",
   "execution_count": 80,
   "metadata": {
    "collapsed": false
   },
   "outputs": [
    {
     "data": {
      "text/html": [
       "<div>\n",
       "<table border=\"1\" class=\"dataframe\">\n",
       "  <thead>\n",
       "    <tr style=\"text-align: right;\">\n",
       "      <th></th>\n",
       "      <th>TOTANGSTR</th>\n",
       "      <th>TOTEXTTAU</th>\n",
       "      <th>TOTSCATAU</th>\n",
       "    </tr>\n",
       "    <tr>\n",
       "      <th>time</th>\n",
       "      <th></th>\n",
       "      <th></th>\n",
       "      <th></th>\n",
       "    </tr>\n",
       "  </thead>\n",
       "  <tbody>\n",
       "    <tr>\n",
       "      <th>2016-01-01 00:30:00</th>\n",
       "      <td>1.294816</td>\n",
       "      <td>0.049054</td>\n",
       "      <td>0.046173</td>\n",
       "    </tr>\n",
       "    <tr>\n",
       "      <th>2016-01-01 01:30:00</th>\n",
       "      <td>1.337044</td>\n",
       "      <td>0.040491</td>\n",
       "      <td>0.037803</td>\n",
       "    </tr>\n",
       "    <tr>\n",
       "      <th>2016-01-01 02:30:00</th>\n",
       "      <td>1.318956</td>\n",
       "      <td>0.041026</td>\n",
       "      <td>0.038471</td>\n",
       "    </tr>\n",
       "    <tr>\n",
       "      <th>2016-01-01 03:30:00</th>\n",
       "      <td>1.303654</td>\n",
       "      <td>0.041627</td>\n",
       "      <td>0.039161</td>\n",
       "    </tr>\n",
       "    <tr>\n",
       "      <th>2016-01-01 04:30:00</th>\n",
       "      <td>1.322863</td>\n",
       "      <td>0.038109</td>\n",
       "      <td>0.035734</td>\n",
       "    </tr>\n",
       "  </tbody>\n",
       "</table>\n",
       "</div>"
      ],
      "text/plain": [
       "                     TOTANGSTR  TOTEXTTAU  TOTSCATAU\n",
       "time                                                \n",
       "2016-01-01 00:30:00   1.294816   0.049054   0.046173\n",
       "2016-01-01 01:30:00   1.337044   0.040491   0.037803\n",
       "2016-01-01 02:30:00   1.318956   0.041026   0.038471\n",
       "2016-01-01 03:30:00   1.303654   0.041627   0.039161\n",
       "2016-01-01 04:30:00   1.322863   0.038109   0.035734"
      ]
     },
     "execution_count": 80,
     "metadata": {},
     "output_type": "execute_result"
    }
   ],
   "source": [
    "dataset.head()"
   ]
  },
  {
   "cell_type": "code",
   "execution_count": 81,
   "metadata": {
    "collapsed": true
   },
   "outputs": [],
   "source": [
    "dataset.to_csv(pandas_filename)"
   ]
  },
  {
   "cell_type": "code",
   "execution_count": 82,
   "metadata": {
    "collapsed": true
   },
   "outputs": [],
   "source": [
    "saved_dataset=pd.read_csv(pandas_filename)"
   ]
  },
  {
   "cell_type": "code",
   "execution_count": 83,
   "metadata": {
    "collapsed": false
   },
   "outputs": [
    {
     "data": {
      "text/html": [
       "<div>\n",
       "<table border=\"1\" class=\"dataframe\">\n",
       "  <thead>\n",
       "    <tr style=\"text-align: right;\">\n",
       "      <th></th>\n",
       "      <th>time</th>\n",
       "      <th>TOTANGSTR</th>\n",
       "      <th>TOTEXTTAU</th>\n",
       "      <th>TOTSCATAU</th>\n",
       "    </tr>\n",
       "  </thead>\n",
       "  <tbody>\n",
       "    <tr>\n",
       "      <th>0</th>\n",
       "      <td>2016-01-01 00:30:00</td>\n",
       "      <td>1.294816</td>\n",
       "      <td>0.049054</td>\n",
       "      <td>0.046173</td>\n",
       "    </tr>\n",
       "    <tr>\n",
       "      <th>1</th>\n",
       "      <td>2016-01-01 01:30:00</td>\n",
       "      <td>1.337044</td>\n",
       "      <td>0.040491</td>\n",
       "      <td>0.037803</td>\n",
       "    </tr>\n",
       "    <tr>\n",
       "      <th>2</th>\n",
       "      <td>2016-01-01 02:30:00</td>\n",
       "      <td>1.318956</td>\n",
       "      <td>0.041026</td>\n",
       "      <td>0.038471</td>\n",
       "    </tr>\n",
       "    <tr>\n",
       "      <th>3</th>\n",
       "      <td>2016-01-01 03:30:00</td>\n",
       "      <td>1.303654</td>\n",
       "      <td>0.041627</td>\n",
       "      <td>0.039161</td>\n",
       "    </tr>\n",
       "    <tr>\n",
       "      <th>4</th>\n",
       "      <td>2016-01-01 04:30:00</td>\n",
       "      <td>1.322863</td>\n",
       "      <td>0.038109</td>\n",
       "      <td>0.035734</td>\n",
       "    </tr>\n",
       "  </tbody>\n",
       "</table>\n",
       "</div>"
      ],
      "text/plain": [
       "                  time  TOTANGSTR  TOTEXTTAU  TOTSCATAU\n",
       "0  2016-01-01 00:30:00   1.294816   0.049054   0.046173\n",
       "1  2016-01-01 01:30:00   1.337044   0.040491   0.037803\n",
       "2  2016-01-01 02:30:00   1.318956   0.041026   0.038471\n",
       "3  2016-01-01 03:30:00   1.303654   0.041627   0.039161\n",
       "4  2016-01-01 04:30:00   1.322863   0.038109   0.035734"
      ]
     },
     "execution_count": 83,
     "metadata": {},
     "output_type": "execute_result"
    }
   ],
   "source": [
    "saved_dataset.head()"
   ]
  },
  {
   "cell_type": "markdown",
   "metadata": {},
   "source": [
    "## 6) Convert dataset into a table and then save in a fits file\n",
    "--------------------------------------------------------------------------"
   ]
  },
  {
   "cell_type": "code",
   "execution_count": 84,
   "metadata": {
    "collapsed": true
   },
   "outputs": [],
   "source": [
    "table = Table.from_pandas(saved_dataset)"
   ]
  },
  {
   "cell_type": "code",
   "execution_count": 85,
   "metadata": {
    "collapsed": false
   },
   "outputs": [
    {
     "data": {
      "text/html": [
       "&lt;Table length=8040&gt;\n",
       "<table id=\"table4583872272\" class=\"table-striped table-bordered table-condensed\">\n",
       "<thead><tr><th>time</th><th>TOTANGSTR</th><th>TOTEXTTAU</th><th>TOTSCATAU</th></tr></thead>\n",
       "<thead><tr><th>str19</th><th>float64</th><th>float64</th><th>float64</th></tr></thead>\n",
       "<tr><td>2016-01-01 00:30:00</td><td>1.29481554031</td><td>0.0490536391735</td><td>0.0461727231741</td></tr>\n",
       "<tr><td>2016-01-01 01:30:00</td><td>1.33704447746</td><td>0.0404907725751</td><td>0.0378025062382</td></tr>\n",
       "<tr><td>2016-01-01 02:30:00</td><td>1.31895601749</td><td>0.0410256944597</td><td>0.0384707711637</td></tr>\n",
       "<tr><td>2016-01-01 03:30:00</td><td>1.30365383625</td><td>0.0416267924011</td><td>0.0391610488296</td></tr>\n",
       "<tr><td>2016-01-01 04:30:00</td><td>1.32286345959</td><td>0.0381093099713</td><td>0.0357341840863</td></tr>\n",
       "<tr><td>2016-01-01 05:30:00</td><td>1.3419533968</td><td>0.0347169563174</td><td>0.0324350595474</td></tr>\n",
       "<tr><td>2016-01-01 06:30:00</td><td>1.38041889668</td><td>0.0297972410917</td><td>0.0276272855699</td></tr>\n",
       "<tr><td>2016-01-01 07:30:00</td><td>1.38927042484</td><td>0.0272019393742</td><td>0.0250876881182</td></tr>\n",
       "<tr><td>2016-01-01 08:30:00</td><td>1.40117526054</td><td>0.0257669333369</td><td>0.0236376393586</td></tr>\n",
       "<tr><td>2016-01-01 09:30:00</td><td>1.41968369484</td><td>0.0245630256832</td><td>0.0224255770445</td></tr>\n",
       "<tr><td>...</td><td>...</td><td>...</td><td>...</td></tr>\n",
       "<tr><td>2016-11-30 14:30:00</td><td>1.45115482807</td><td>0.0340207442641</td><td>0.0312475655228</td></tr>\n",
       "<tr><td>2016-11-30 15:30:00</td><td>1.04424655437</td><td>0.0597710758448</td><td>0.0550346374512</td></tr>\n",
       "<tr><td>2016-11-30 16:30:00</td><td>1.03942346573</td><td>0.0593018122017</td><td>0.0547367595136</td></tr>\n",
       "<tr><td>2016-11-30 17:30:00</td><td>1.05539894104</td><td>0.0598597042263</td><td>0.0553954355419</td></tr>\n",
       "<tr><td>2016-11-30 18:30:00</td><td>1.14272761345</td><td>0.0653896555305</td><td>0.0605863556266</td></tr>\n",
       "<tr><td>2016-11-30 19:30:00</td><td>1.14544224739</td><td>0.0678604543209</td><td>0.0630703121424</td></tr>\n",
       "<tr><td>2016-11-30 20:30:00</td><td>1.17554187775</td><td>0.069573149085</td><td>0.0647646039724</td></tr>\n",
       "<tr><td>2016-11-30 21:30:00</td><td>1.21383631229</td><td>0.0689014568925</td><td>0.0641478002071</td></tr>\n",
       "<tr><td>2016-11-30 22:30:00</td><td>1.24669313431</td><td>0.0662231817842</td><td>0.0616560876369</td></tr>\n",
       "<tr><td>2016-11-30 23:30:00</td><td>1.26849591732</td><td>0.0621992461383</td><td>0.057865511626</td></tr>\n",
       "</table>"
      ],
      "text/plain": [
       "<Table length=8040>\n",
       "        time          TOTANGSTR      TOTEXTTAU       TOTSCATAU   \n",
       "       str19           float64        float64         float64    \n",
       "------------------- ------------- --------------- ---------------\n",
       "2016-01-01 00:30:00 1.29481554031 0.0490536391735 0.0461727231741\n",
       "2016-01-01 01:30:00 1.33704447746 0.0404907725751 0.0378025062382\n",
       "2016-01-01 02:30:00 1.31895601749 0.0410256944597 0.0384707711637\n",
       "2016-01-01 03:30:00 1.30365383625 0.0416267924011 0.0391610488296\n",
       "2016-01-01 04:30:00 1.32286345959 0.0381093099713 0.0357341840863\n",
       "2016-01-01 05:30:00  1.3419533968 0.0347169563174 0.0324350595474\n",
       "2016-01-01 06:30:00 1.38041889668 0.0297972410917 0.0276272855699\n",
       "2016-01-01 07:30:00 1.38927042484 0.0272019393742 0.0250876881182\n",
       "2016-01-01 08:30:00 1.40117526054 0.0257669333369 0.0236376393586\n",
       "2016-01-01 09:30:00 1.41968369484 0.0245630256832 0.0224255770445\n",
       "                ...           ...             ...             ...\n",
       "2016-11-30 14:30:00 1.45115482807 0.0340207442641 0.0312475655228\n",
       "2016-11-30 15:30:00 1.04424655437 0.0597710758448 0.0550346374512\n",
       "2016-11-30 16:30:00 1.03942346573 0.0593018122017 0.0547367595136\n",
       "2016-11-30 17:30:00 1.05539894104 0.0598597042263 0.0553954355419\n",
       "2016-11-30 18:30:00 1.14272761345 0.0653896555305 0.0605863556266\n",
       "2016-11-30 19:30:00 1.14544224739 0.0678604543209 0.0630703121424\n",
       "2016-11-30 20:30:00 1.17554187775  0.069573149085 0.0647646039724\n",
       "2016-11-30 21:30:00 1.21383631229 0.0689014568925 0.0641478002071\n",
       "2016-11-30 22:30:00 1.24669313431 0.0662231817842 0.0616560876369\n",
       "2016-11-30 23:30:00 1.26849591732 0.0621992461383  0.057865511626"
      ]
     },
     "execution_count": 85,
     "metadata": {},
     "output_type": "execute_result"
    }
   ],
   "source": [
    "table"
   ]
  },
  {
   "cell_type": "code",
   "execution_count": 86,
   "metadata": {
    "collapsed": false
   },
   "outputs": [],
   "source": [
    "table.write(fits_filename,format='fits',overwrite=True)"
   ]
  },
  {
   "cell_type": "code",
   "execution_count": null,
   "metadata": {
    "collapsed": true
   },
   "outputs": [],
   "source": []
  }
 ],
 "metadata": {
  "anaconda-cloud": {},
  "kernelspec": {
   "display_name": "Python [default]",
   "language": "python",
   "name": "python2"
  },
  "language_info": {
   "codemirror_mode": {
    "name": "ipython",
    "version": 2
   },
   "file_extension": ".py",
   "mimetype": "text/x-python",
   "name": "python",
   "nbconvert_exporter": "python",
   "pygments_lexer": "ipython2",
   "version": "2.7.12"
  }
 },
 "nbformat": 4,
 "nbformat_minor": 0
}
