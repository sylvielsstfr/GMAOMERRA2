{
 "cells": [
  {
   "cell_type": "markdown",
   "id": "70537854-d0fb-40b8-8106-45f5df15a90a",
   "metadata": {},
   "source": [
    "# Data from Jeremy\n",
    "\n",
    "November 2022\n",
    "\n",
    "\n",
    "- last update December 5th 2022"
   ]
  },
  {
   "cell_type": "markdown",
   "id": "256ac3cb-5686-4cdf-8cf5-cd9e25a23c97",
   "metadata": {},
   "source": [
    "   voici mes slides et la base de données des fit atmosphériques. Elle est au format csv et s'ouvre bien avec pandas. Il y a beaucoup de paramètres en double, comme l'eau PWV, car soit ce paramètre à été obtenu en ajustant un spectre sur un spectre, soit directement le spectrogramme via le forward model.  Les premiers ont des titres de colonnes en _y et les seconds en _x (c'est pandas qui a choisi...). Pour faire les plots PWV(t) de la présentation, je filtre les bonnes données comme ceci :\n",
    "\n",
    "    filters = set(df[\"FILTER\"])\n",
    "\n",
    "    for filt in filters:\n",
    "        indices = (df[\"FILTER\"]==filt) & (df[\"chi2_y\"]<20) & (df[\"chi2_x\"]<20) & (df[\"reso [pix]\"]<5) & (df[\"reso [pix]_err\"]<5)\n",
    "\n",
    "    où \"reso [pix]\" est le noyau gaussien par lequel je convolue les spectres (pas les spectrogrammes)\n",
    "\n",
    "    Voilà je pense que vous savez tout, \n"
   ]
  },
  {
   "cell_type": "code",
   "execution_count": 1,
   "id": "e5ad0521-544f-4d30-bab3-a55e2a7bf8d5",
   "metadata": {},
   "outputs": [],
   "source": [
    "import pandas as pd\n",
    "import os"
   ]
  },
  {
   "cell_type": "code",
   "execution_count": 2,
   "id": "c074c335-33cc-43d8-92fc-dacfd29e43d9",
   "metadata": {},
   "outputs": [],
   "source": [
    "path=\"/sps/lsst/groups/auxtel/MERRA2/auxtel/jeremy_Nov2022/data_jeremy\"\n",
    "#path=\"data/data_jeremy\"\n",
    "filename=\"auxtel_atmosphere_2022.csv\"\n",
    "filename_out=\"auxtel_atmosphere_2022.hdf\""
   ]
  },
  {
   "cell_type": "code",
   "execution_count": 3,
   "id": "92688d7f-088e-4b7f-b951-61804b8aef19",
   "metadata": {},
   "outputs": [
    {
     "name": "stdout",
     "output_type": "stream",
     "text": [
      "auxtel_atmosphere_2022.csv  jneveu_spectractor_sitcom.pdf\n"
     ]
    }
   ],
   "source": [
    "! ls $path"
   ]
  },
  {
   "cell_type": "code",
   "execution_count": 4,
   "id": "1de2736c-061f-47fe-8345-4e0ae9de4fcf",
   "metadata": {},
   "outputs": [],
   "source": [
    "fullfilename=os.path.join(path,filename)"
   ]
  },
  {
   "cell_type": "code",
   "execution_count": 5,
   "id": "4ca822ab-11b6-4270-bbfb-a34d5b3e5d5f",
   "metadata": {},
   "outputs": [],
   "source": [
    "df=pd.read_csv(fullfilename)"
   ]
  },
  {
   "cell_type": "code",
   "execution_count": 6,
   "id": "542d5141-f47a-40bf-b412-78a857b45ad6",
   "metadata": {},
   "outputs": [
    {
     "data": {
      "text/html": [
       "<div>\n",
       "<style scoped>\n",
       "    .dataframe tbody tr th:only-of-type {\n",
       "        vertical-align: middle;\n",
       "    }\n",
       "\n",
       "    .dataframe tbody tr th {\n",
       "        vertical-align: top;\n",
       "    }\n",
       "\n",
       "    .dataframe thead th {\n",
       "        text-align: right;\n",
       "    }\n",
       "</style>\n",
       "<table border=\"1\" class=\"dataframe\">\n",
       "  <thead>\n",
       "    <tr style=\"text-align: right;\">\n",
       "      <th></th>\n",
       "      <th>DATE-OBS</th>\n",
       "      <th>SIMPLE</th>\n",
       "      <th>BITPIX</th>\n",
       "      <th>NAXIS</th>\n",
       "      <th>NAXIS1</th>\n",
       "      <th>NAXIS2</th>\n",
       "      <th>EXTEND</th>\n",
       "      <th>DATE</th>\n",
       "      <th>MJD</th>\n",
       "      <th>CCD_MANU</th>\n",
       "      <th>...</th>\n",
       "      <th>eta_gauss_1_err</th>\n",
       "      <th>eta_gauss_2</th>\n",
       "      <th>eta_gauss_2_err</th>\n",
       "      <th>stddev_0</th>\n",
       "      <th>stddev_0_err</th>\n",
       "      <th>stddev_1</th>\n",
       "      <th>stddev_1_err</th>\n",
       "      <th>stddev_2</th>\n",
       "      <th>stddev_2_err</th>\n",
       "      <th>filename</th>\n",
       "    </tr>\n",
       "  </thead>\n",
       "  <tbody>\n",
       "    <tr>\n",
       "      <th>0</th>\n",
       "      <td>2022-06-29 01:30:09.184</td>\n",
       "      <td>True</td>\n",
       "      <td>-64</td>\n",
       "      <td>2</td>\n",
       "      <td>694</td>\n",
       "      <td>3</td>\n",
       "      <td>True</td>\n",
       "      <td>2022-06-29T01:30:09.184</td>\n",
       "      <td>59759.062606</td>\n",
       "      <td>ITL</td>\n",
       "      <td>...</td>\n",
       "      <td>0.010</td>\n",
       "      <td>-0.270</td>\n",
       "      <td>0.010</td>\n",
       "      <td>1.162</td>\n",
       "      <td>0.004</td>\n",
       "      <td>-0.253</td>\n",
       "      <td>0.009</td>\n",
       "      <td>-0.160</td>\n",
       "      <td>0.010</td>\n",
       "      <td>outputs/FELH0600~holo4_003/20220628/exposure_2...</td>\n",
       "    </tr>\n",
       "    <tr>\n",
       "      <th>1</th>\n",
       "      <td>2022-06-29 01:30:52.191</td>\n",
       "      <td>True</td>\n",
       "      <td>-64</td>\n",
       "      <td>2</td>\n",
       "      <td>694</td>\n",
       "      <td>3</td>\n",
       "      <td>True</td>\n",
       "      <td>2022-06-29T01:30:52.191</td>\n",
       "      <td>59759.063104</td>\n",
       "      <td>ITL</td>\n",
       "      <td>...</td>\n",
       "      <td>0.010</td>\n",
       "      <td>0.290</td>\n",
       "      <td>0.010</td>\n",
       "      <td>1.009</td>\n",
       "      <td>0.003</td>\n",
       "      <td>NaN</td>\n",
       "      <td>NaN</td>\n",
       "      <td>NaN</td>\n",
       "      <td>NaN</td>\n",
       "      <td>outputs/FELH0600~holo4_003/20220628/exposure_2...</td>\n",
       "    </tr>\n",
       "    <tr>\n",
       "      <th>2</th>\n",
       "      <td>2022-06-29 01:31:35.094</td>\n",
       "      <td>True</td>\n",
       "      <td>-64</td>\n",
       "      <td>2</td>\n",
       "      <td>694</td>\n",
       "      <td>3</td>\n",
       "      <td>True</td>\n",
       "      <td>2022-06-29T01:31:35.094</td>\n",
       "      <td>59759.063601</td>\n",
       "      <td>ITL</td>\n",
       "      <td>...</td>\n",
       "      <td>0.008</td>\n",
       "      <td>-0.150</td>\n",
       "      <td>0.010</td>\n",
       "      <td>1.231</td>\n",
       "      <td>0.004</td>\n",
       "      <td>-0.195</td>\n",
       "      <td>0.007</td>\n",
       "      <td>-0.049</td>\n",
       "      <td>0.009</td>\n",
       "      <td>outputs/FELH0600~holo4_003/20220628/exposure_2...</td>\n",
       "    </tr>\n",
       "    <tr>\n",
       "      <th>3</th>\n",
       "      <td>2022-06-29 01:48:02.467</td>\n",
       "      <td>True</td>\n",
       "      <td>-64</td>\n",
       "      <td>2</td>\n",
       "      <td>694</td>\n",
       "      <td>3</td>\n",
       "      <td>True</td>\n",
       "      <td>2022-06-29T01:48:02.467</td>\n",
       "      <td>59759.075029</td>\n",
       "      <td>ITL</td>\n",
       "      <td>...</td>\n",
       "      <td>0.007</td>\n",
       "      <td>-0.135</td>\n",
       "      <td>0.010</td>\n",
       "      <td>0.953</td>\n",
       "      <td>0.003</td>\n",
       "      <td>-0.211</td>\n",
       "      <td>0.005</td>\n",
       "      <td>-0.019</td>\n",
       "      <td>0.006</td>\n",
       "      <td>outputs/FELH0600~holo4_003/20220628/exposure_2...</td>\n",
       "    </tr>\n",
       "    <tr>\n",
       "      <th>4</th>\n",
       "      <td>2022-06-29 01:48:45.479</td>\n",
       "      <td>True</td>\n",
       "      <td>-64</td>\n",
       "      <td>2</td>\n",
       "      <td>694</td>\n",
       "      <td>3</td>\n",
       "      <td>True</td>\n",
       "      <td>2022-06-29T01:48:45.479</td>\n",
       "      <td>59759.075526</td>\n",
       "      <td>ITL</td>\n",
       "      <td>...</td>\n",
       "      <td>0.010</td>\n",
       "      <td>0.105</td>\n",
       "      <td>0.009</td>\n",
       "      <td>1.185</td>\n",
       "      <td>0.003</td>\n",
       "      <td>NaN</td>\n",
       "      <td>NaN</td>\n",
       "      <td>NaN</td>\n",
       "      <td>NaN</td>\n",
       "      <td>outputs/FELH0600~holo4_003/20220628/exposure_2...</td>\n",
       "    </tr>\n",
       "  </tbody>\n",
       "</table>\n",
       "<p>5 rows × 222 columns</p>\n",
       "</div>"
      ],
      "text/plain": [
       "                  DATE-OBS  SIMPLE  BITPIX  NAXIS  NAXIS1  NAXIS2  EXTEND  \\\n",
       "0  2022-06-29 01:30:09.184    True     -64      2     694       3    True   \n",
       "1  2022-06-29 01:30:52.191    True     -64      2     694       3    True   \n",
       "2  2022-06-29 01:31:35.094    True     -64      2     694       3    True   \n",
       "3  2022-06-29 01:48:02.467    True     -64      2     694       3    True   \n",
       "4  2022-06-29 01:48:45.479    True     -64      2     694       3    True   \n",
       "\n",
       "                      DATE           MJD CCD_MANU  ... eta_gauss_1_err  \\\n",
       "0  2022-06-29T01:30:09.184  59759.062606      ITL  ...           0.010   \n",
       "1  2022-06-29T01:30:52.191  59759.063104      ITL  ...           0.010   \n",
       "2  2022-06-29T01:31:35.094  59759.063601      ITL  ...           0.008   \n",
       "3  2022-06-29T01:48:02.467  59759.075029      ITL  ...           0.007   \n",
       "4  2022-06-29T01:48:45.479  59759.075526      ITL  ...           0.010   \n",
       "\n",
       "  eta_gauss_2 eta_gauss_2_err  stddev_0  stddev_0_err stddev_1  stddev_1_err  \\\n",
       "0      -0.270           0.010     1.162         0.004   -0.253         0.009   \n",
       "1       0.290           0.010     1.009         0.003      NaN           NaN   \n",
       "2      -0.150           0.010     1.231         0.004   -0.195         0.007   \n",
       "3      -0.135           0.010     0.953         0.003   -0.211         0.005   \n",
       "4       0.105           0.009     1.185         0.003      NaN           NaN   \n",
       "\n",
       "   stddev_2  stddev_2_err                                           filename  \n",
       "0    -0.160         0.010  outputs/FELH0600~holo4_003/20220628/exposure_2...  \n",
       "1       NaN           NaN  outputs/FELH0600~holo4_003/20220628/exposure_2...  \n",
       "2    -0.049         0.009  outputs/FELH0600~holo4_003/20220628/exposure_2...  \n",
       "3    -0.019         0.006  outputs/FELH0600~holo4_003/20220628/exposure_2...  \n",
       "4       NaN           NaN  outputs/FELH0600~holo4_003/20220628/exposure_2...  \n",
       "\n",
       "[5 rows x 222 columns]"
      ]
     },
     "execution_count": 6,
     "metadata": {},
     "output_type": "execute_result"
    }
   ],
   "source": [
    "df.head()"
   ]
  },
  {
   "cell_type": "code",
   "execution_count": 7,
   "id": "3ae8c65d-3b60-49a5-96d2-8e2cc416495c",
   "metadata": {},
   "outputs": [],
   "source": [
    "#df.to_hdf(filename_out,'df', mode='w')"
   ]
  },
  {
   "cell_type": "code",
   "execution_count": 8,
   "id": "7d874830-25a5-451a-b83e-a56b5c22fb5c",
   "metadata": {},
   "outputs": [
    {
     "name": "stdout",
     "output_type": "stream",
     "text": [
      "DATE-OBS\n",
      "SIMPLE\n",
      "BITPIX\n",
      "NAXIS\n",
      "NAXIS1\n",
      "NAXIS2\n",
      "EXTEND\n",
      "DATE\n",
      "MJD\n",
      "CCD_MANU\n",
      "CCD_TYPE\n",
      "TESTTYPE\n",
      "IMGTYPE\n",
      "TEMP_SET\n",
      "EXPTIME\n",
      "FILENAME\n",
      "BINX\n",
      "BINY\n",
      "CCDGAIN\n",
      "CCDNOISE\n",
      "MJD-OBS\n",
      "DATE-TRG\n",
      "MJD-TRG\n",
      "IMAGETAG\n",
      "CCDSLOT\n",
      "RAFTBAY\n",
      "FIRMWARE\n",
      "PLATFORM\n",
      "CONTNUM\n",
      "DAQVERS\n",
      "DAQPART\n",
      "DAQFOLD\n",
      "OBSANNOT\n",
      "OBSID\n",
      "CAMCODE\n",
      "CONTRLLR\n",
      "DAYOBS\n",
      "SEQNUM\n",
      "HEADVER\n",
      "INSTRUME\n",
      "TELESCOP\n",
      "TSTAND\n",
      "SEQFILE\n",
      "SEQNAME\n",
      "SEQCKSUM\n",
      "LSST_NUM\n",
      "CCD_SERN\n",
      "REBNAME\n",
      "RAFTNAME\n",
      "DARKTIME\n",
      "DATE-BEG\n",
      "MJD-BEG\n",
      "DATE-END\n",
      "MJD-END\n",
      "FPVERS\n",
      "IHVERS\n",
      "STUTTER ROWS\n",
      "STUTTER DELAY\n",
      "STUTTER NSHIFTS\n",
      "OBS-LONG\n",
      "OBS-LAT\n",
      "OBS-ELEV\n",
      "OBSGEO-X\n",
      "OBSGEO-Y\n",
      "OBSGEO-Z\n",
      "RA\n",
      "DEC\n",
      "RASTART\n",
      "DECSTART\n",
      "RAEND\n",
      "DECEND\n",
      "ROTPA\n",
      "ROTCOORD\n",
      "HASTART\n",
      "ELSTART\n",
      "AZSTART\n",
      "AMSTART\n",
      "HAEND\n",
      "ELEND\n",
      "AZEND\n",
      "AMEND\n",
      "TRACKSYS\n",
      "FOCUSZ\n",
      "OBJECT\n",
      "SIMULATE ATMCS\n",
      "SIMULATE ATHEXAPOD\n",
      "SIMULATE ATPNEUMATICS\n",
      "SIMULATE ATDOME\n",
      "SIMULATE ATSPECTROGRAPH\n",
      "GROUPID\n",
      "INSTPORT\n",
      "ATM3PORT\n",
      "DOMEAZ\n",
      "SHUTLOWR\n",
      "SHUTUPPR\n",
      "GRATING\n",
      "GRATBAND\n",
      "GRATSLOT\n",
      "AIRTEMP\n",
      "PRESSURE\n",
      "HUMIDITY\n",
      "WINDSPD\n",
      "WINDDIR\n",
      "SEEING\n",
      "LINSPOS\n",
      "TIMESYS\n",
      "CURINDEX\n",
      "MAXINDEX\n",
      "PROGRAM\n",
      "REASON\n",
      "FILTBAND\n",
      "FILTER\n",
      "FILTPOS\n",
      "FILTSLOT\n",
      "SHUTTIME\n",
      "FACILITY\n",
      "CCDTEMP\n",
      "CHECKSUM\n",
      "CHANNEL\n",
      "CCDSUM\n",
      "DATASEC\n",
      "DETSEC\n",
      "DETSIZE\n",
      "DTV1\n",
      "DTV2\n",
      "DTM1_1\n",
      "DTM2_2\n",
      "DTM1_2\n",
      "DTM2_1\n",
      "CTYPE1A\n",
      "CTYPE2A\n",
      "CRPIX1A\n",
      "CRPIX2A\n",
      "CRVAL1A\n",
      "CRVAL2A\n",
      "INHERIT\n",
      "DATASUM\n",
      "ASTRO METADATA FIX MODIFIED\n",
      "ASTRO METADATA FIX DATE\n",
      "ASTRO METADATA FIX VERSION\n",
      "HA\n",
      "CAM_ROT\n",
      "PARANGLE\n",
      "AIRMASS\n",
      "OUTTEMP\n",
      "OUTPRESS\n",
      "OUTHUM\n",
      "CCDREBIN\n",
      "TARGET\n",
      "REDSHIFT\n",
      "ROTANGLE\n",
      "D2CCD\n",
      "TARGETX\n",
      "TARGETY\n",
      "LBDA_REF\n",
      "PIXSHIFT\n",
      "PSF_REG\n",
      "TRACE_R\n",
      "CHI2_FIT\n",
      "A2_FIT\n",
      "AM_FIT\n",
      "MEANFWHM\n",
      "REBIN\n",
      "filename_x\n",
      "chi2_x\n",
      "chi2_err_x\n",
      "A1_x\n",
      "A1_err_x\n",
      "ozone\n",
      "ozone_err\n",
      "PWV\n",
      "PWV_err\n",
      "VAOD_x\n",
      "VAOD_err_x\n",
      "reso [pix]\n",
      "reso [pix]_err\n",
      "D_CCD [mm]_x\n",
      "D_CCD [mm]_err_x\n",
      "filename_y\n",
      "chi2_y\n",
      "chi2_err_y\n",
      "A1_y\n",
      "A1_err_y\n",
      "ozone [db]\n",
      "ozone [db]_err\n",
      "PWV [mm]\n",
      "PWV [mm]_err\n",
      "VAOD_y\n",
      "VAOD_err_y\n",
      "D_CCD [mm]_y\n",
      "D_CCD [mm]_err_y\n",
      "y_c_0\n",
      "y_c_0_err\n",
      "y_c_1\n",
      "y_c_1_err\n",
      "y_c_2\n",
      "y_c_2_err\n",
      "gamma_0\n",
      "gamma_0_err\n",
      "gamma_1\n",
      "gamma_1_err\n",
      "gamma_2\n",
      "gamma_2_err\n",
      "alpha_0\n",
      "alpha_0_err\n",
      "alpha_1\n",
      "alpha_1_err\n",
      "alpha_2\n",
      "alpha_2_err\n",
      "eta_gauss_0\n",
      "eta_gauss_0_err\n",
      "eta_gauss_1\n",
      "eta_gauss_1_err\n",
      "eta_gauss_2\n",
      "eta_gauss_2_err\n",
      "stddev_0\n",
      "stddev_0_err\n",
      "stddev_1\n",
      "stddev_1_err\n",
      "stddev_2\n",
      "stddev_2_err\n",
      "filename\n"
     ]
    }
   ],
   "source": [
    "for name in df.columns:\n",
    "    print(name)"
   ]
  },
  {
   "cell_type": "code",
   "execution_count": 9,
   "id": "1a62db26-a562-4dab-abd9-601c90efa88e",
   "metadata": {},
   "outputs": [],
   "source": [
    "filters = set(df[\"FILTER\"])\n",
    "\n",
    "all_filters = []\n",
    "all_indexes = []\n",
    "\n",
    "for filt in filters:\n",
    "    all_filters.append(filt)\n",
    "    indices = (df[\"FILTER\"]==filt) & (df[\"chi2_y\"]<20) & (df[\"chi2_x\"]<20) & (df[\"reso [pix]\"]<5) & (df[\"reso [pix]_err\"]<5)\n",
    "    all_indexes.append(indices)\n",
    "  "
   ]
  },
  {
   "cell_type": "markdown",
   "id": "cb6915f0-48c0-472c-b216-4a630eaa01eb",
   "metadata": {},
   "source": [
    "## Choose the filter"
   ]
  },
  {
   "cell_type": "code",
   "execution_count": 10,
   "id": "22ce71c0-8f07-4f4f-816f-c68eb520a2d1",
   "metadata": {},
   "outputs": [
    {
     "data": {
      "text/plain": [
       "[nan, 'empty_1', 'FELH0600']"
      ]
     },
     "execution_count": 10,
     "metadata": {},
     "output_type": "execute_result"
    }
   ],
   "source": [
    "all_filters"
   ]
  },
  {
   "cell_type": "code",
   "execution_count": 11,
   "id": "61792164-e73d-4618-a43a-21e47621c0ce",
   "metadata": {},
   "outputs": [],
   "source": [
    "filter_index=2"
   ]
  },
  {
   "cell_type": "code",
   "execution_count": 12,
   "id": "23ece036-5fe0-49c9-8d2a-d8123ba76b70",
   "metadata": {},
   "outputs": [],
   "source": [
    "df=df.loc[all_indexes[filter_index]]"
   ]
  },
  {
   "cell_type": "code",
   "execution_count": 13,
   "id": "06566cfe-30d4-4042-b088-58cf694310fe",
   "metadata": {},
   "outputs": [],
   "source": [
    "my_format = '%Y-%m-%d %H:%M:%S'"
   ]
  },
  {
   "cell_type": "code",
   "execution_count": 14,
   "id": "349b6335-a8d8-461c-a2db-2b49c9d326d0",
   "metadata": {},
   "outputs": [],
   "source": [
    "df_extract = df[[\"DATE-OBS\",\"ozone\",\"ozone_err\",\"PWV\",\"PWV_err\",\"VAOD_x\",\"VAOD_err_x\",\"VAOD_y\",\"VAOD_err_y\"]] "
   ]
  },
  {
   "cell_type": "code",
   "execution_count": 15,
   "id": "7b02883f-cba2-49fb-a5a4-5f556b8f81a8",
   "metadata": {},
   "outputs": [
    {
     "name": "stderr",
     "output_type": "stream",
     "text": [
      "/scratch/users/d/dagoret/ipykernel_17497/1975219338.py:1: SettingWithCopyWarning: \n",
      "A value is trying to be set on a copy of a slice from a DataFrame.\n",
      "Try using .loc[row_indexer,col_indexer] = value instead\n",
      "\n",
      "See the caveats in the documentation: https://pandas.pydata.org/pandas-docs/stable/user_guide/indexing.html#returning-a-view-versus-a-copy\n",
      "  df_extract[\"time\"] = [ pd.to_datetime(thedatetime,format=my_format) for thedatetime in df_extract['DATE-OBS'].values]\n"
     ]
    }
   ],
   "source": [
    "df_extract[\"time\"] = [ pd.to_datetime(thedatetime,format=my_format) for thedatetime in df_extract['DATE-OBS'].values]"
   ]
  },
  {
   "cell_type": "code",
   "execution_count": 16,
   "id": "22372d48-5e85-4441-96a4-d2e1631d517c",
   "metadata": {},
   "outputs": [
    {
     "name": "stderr",
     "output_type": "stream",
     "text": [
      "/scratch/users/d/dagoret/ipykernel_17497/2786045103.py:1: SettingWithCopyWarning: \n",
      "A value is trying to be set on a copy of a slice from a DataFrame\n",
      "\n",
      "See the caveats in the documentation: https://pandas.pydata.org/pandas-docs/stable/user_guide/indexing.html#returning-a-view-versus-a-copy\n",
      "  df_extract.sort_values(by='time', inplace=True)\n"
     ]
    }
   ],
   "source": [
    "df_extract.sort_values(by='time', inplace=True)"
   ]
  },
  {
   "cell_type": "code",
   "execution_count": 17,
   "id": "b4ca40bd-b065-434b-a2c7-b6a25eda6c19",
   "metadata": {},
   "outputs": [],
   "source": [
    "df_extract.set_index(['time'],inplace=True)"
   ]
  },
  {
   "cell_type": "code",
   "execution_count": 18,
   "id": "385a2edd-c5df-44a0-87b0-af7ac5def0c0",
   "metadata": {},
   "outputs": [
    {
     "data": {
      "text/html": [
       "<div>\n",
       "<style scoped>\n",
       "    .dataframe tbody tr th:only-of-type {\n",
       "        vertical-align: middle;\n",
       "    }\n",
       "\n",
       "    .dataframe tbody tr th {\n",
       "        vertical-align: top;\n",
       "    }\n",
       "\n",
       "    .dataframe thead th {\n",
       "        text-align: right;\n",
       "    }\n",
       "</style>\n",
       "<table border=\"1\" class=\"dataframe\">\n",
       "  <thead>\n",
       "    <tr style=\"text-align: right;\">\n",
       "      <th></th>\n",
       "      <th>DATE-OBS</th>\n",
       "      <th>ozone</th>\n",
       "      <th>ozone_err</th>\n",
       "      <th>PWV</th>\n",
       "      <th>PWV_err</th>\n",
       "      <th>VAOD_x</th>\n",
       "      <th>VAOD_err_x</th>\n",
       "      <th>VAOD_y</th>\n",
       "      <th>VAOD_err_y</th>\n",
       "    </tr>\n",
       "    <tr>\n",
       "      <th>time</th>\n",
       "      <th></th>\n",
       "      <th></th>\n",
       "      <th></th>\n",
       "      <th></th>\n",
       "      <th></th>\n",
       "      <th></th>\n",
       "      <th></th>\n",
       "      <th></th>\n",
       "      <th></th>\n",
       "    </tr>\n",
       "  </thead>\n",
       "  <tbody>\n",
       "    <tr>\n",
       "      <th>2022-06-29 01:30:09.184</th>\n",
       "      <td>2022-06-29 01:30:09.184</td>\n",
       "      <td>134.0</td>\n",
       "      <td>167.0</td>\n",
       "      <td>3.8</td>\n",
       "      <td>0.3</td>\n",
       "      <td>0.06</td>\n",
       "      <td>0.06</td>\n",
       "      <td>0.000</td>\n",
       "      <td>0.009</td>\n",
       "    </tr>\n",
       "    <tr>\n",
       "      <th>2022-06-29 01:30:52.191</th>\n",
       "      <td>2022-06-29 01:30:52.191</td>\n",
       "      <td>375.0</td>\n",
       "      <td>164.0</td>\n",
       "      <td>4.3</td>\n",
       "      <td>0.3</td>\n",
       "      <td>0.00</td>\n",
       "      <td>0.05</td>\n",
       "      <td>0.000</td>\n",
       "      <td>0.008</td>\n",
       "    </tr>\n",
       "    <tr>\n",
       "      <th>2022-06-29 01:31:35.094</th>\n",
       "      <td>2022-06-29 01:31:35.094</td>\n",
       "      <td>354.0</td>\n",
       "      <td>162.0</td>\n",
       "      <td>3.6</td>\n",
       "      <td>0.2</td>\n",
       "      <td>0.00</td>\n",
       "      <td>0.05</td>\n",
       "      <td>0.000</td>\n",
       "      <td>0.008</td>\n",
       "    </tr>\n",
       "    <tr>\n",
       "      <th>2022-06-29 01:48:02.467</th>\n",
       "      <td>2022-06-29 01:48:02.467</td>\n",
       "      <td>365.0</td>\n",
       "      <td>164.0</td>\n",
       "      <td>3.4</td>\n",
       "      <td>0.2</td>\n",
       "      <td>0.00</td>\n",
       "      <td>0.05</td>\n",
       "      <td>0.000</td>\n",
       "      <td>0.009</td>\n",
       "    </tr>\n",
       "    <tr>\n",
       "      <th>2022-06-29 01:48:45.479</th>\n",
       "      <td>2022-06-29 01:48:45.479</td>\n",
       "      <td>310.0</td>\n",
       "      <td>166.0</td>\n",
       "      <td>4.1</td>\n",
       "      <td>0.3</td>\n",
       "      <td>0.00</td>\n",
       "      <td>0.05</td>\n",
       "      <td>0.000</td>\n",
       "      <td>0.008</td>\n",
       "    </tr>\n",
       "    <tr>\n",
       "      <th>...</th>\n",
       "      <td>...</td>\n",
       "      <td>...</td>\n",
       "      <td>...</td>\n",
       "      <td>...</td>\n",
       "      <td>...</td>\n",
       "      <td>...</td>\n",
       "      <td>...</td>\n",
       "      <td>...</td>\n",
       "      <td>...</td>\n",
       "    </tr>\n",
       "    <tr>\n",
       "      <th>2022-07-01 05:51:27.918</th>\n",
       "      <td>2022-07-01 05:51:27.918</td>\n",
       "      <td>214.0</td>\n",
       "      <td>96.0</td>\n",
       "      <td>3.2</td>\n",
       "      <td>0.2</td>\n",
       "      <td>0.00</td>\n",
       "      <td>0.03</td>\n",
       "      <td>0.000</td>\n",
       "      <td>0.005</td>\n",
       "    </tr>\n",
       "    <tr>\n",
       "      <th>2022-07-01 06:11:54.773</th>\n",
       "      <td>2022-07-01 06:11:54.773</td>\n",
       "      <td>231.0</td>\n",
       "      <td>84.0</td>\n",
       "      <td>2.8</td>\n",
       "      <td>0.2</td>\n",
       "      <td>0.00</td>\n",
       "      <td>0.03</td>\n",
       "      <td>0.000</td>\n",
       "      <td>0.005</td>\n",
       "    </tr>\n",
       "    <tr>\n",
       "      <th>2022-07-01 06:12:37.759</th>\n",
       "      <td>2022-07-01 06:12:37.759</td>\n",
       "      <td>100.0</td>\n",
       "      <td>90.0</td>\n",
       "      <td>2.4</td>\n",
       "      <td>0.1</td>\n",
       "      <td>0.10</td>\n",
       "      <td>0.03</td>\n",
       "      <td>0.003</td>\n",
       "      <td>0.004</td>\n",
       "    </tr>\n",
       "    <tr>\n",
       "      <th>2022-07-01 06:33:42.188</th>\n",
       "      <td>2022-07-01 06:33:42.188</td>\n",
       "      <td>252.0</td>\n",
       "      <td>97.0</td>\n",
       "      <td>3.1</td>\n",
       "      <td>0.2</td>\n",
       "      <td>0.00</td>\n",
       "      <td>0.03</td>\n",
       "      <td>0.000</td>\n",
       "      <td>0.004</td>\n",
       "    </tr>\n",
       "    <tr>\n",
       "      <th>2022-07-01 06:34:25.190</th>\n",
       "      <td>2022-07-01 06:34:25.190</td>\n",
       "      <td>300.0</td>\n",
       "      <td>100.0</td>\n",
       "      <td>3.6</td>\n",
       "      <td>0.2</td>\n",
       "      <td>0.00</td>\n",
       "      <td>0.03</td>\n",
       "      <td>0.000</td>\n",
       "      <td>0.003</td>\n",
       "    </tr>\n",
       "  </tbody>\n",
       "</table>\n",
       "<p>121 rows × 9 columns</p>\n",
       "</div>"
      ],
      "text/plain": [
       "                                        DATE-OBS  ozone  ozone_err  PWV  \\\n",
       "time                                                                      \n",
       "2022-06-29 01:30:09.184  2022-06-29 01:30:09.184  134.0      167.0  3.8   \n",
       "2022-06-29 01:30:52.191  2022-06-29 01:30:52.191  375.0      164.0  4.3   \n",
       "2022-06-29 01:31:35.094  2022-06-29 01:31:35.094  354.0      162.0  3.6   \n",
       "2022-06-29 01:48:02.467  2022-06-29 01:48:02.467  365.0      164.0  3.4   \n",
       "2022-06-29 01:48:45.479  2022-06-29 01:48:45.479  310.0      166.0  4.1   \n",
       "...                                          ...    ...        ...  ...   \n",
       "2022-07-01 05:51:27.918  2022-07-01 05:51:27.918  214.0       96.0  3.2   \n",
       "2022-07-01 06:11:54.773  2022-07-01 06:11:54.773  231.0       84.0  2.8   \n",
       "2022-07-01 06:12:37.759  2022-07-01 06:12:37.759  100.0       90.0  2.4   \n",
       "2022-07-01 06:33:42.188  2022-07-01 06:33:42.188  252.0       97.0  3.1   \n",
       "2022-07-01 06:34:25.190  2022-07-01 06:34:25.190  300.0      100.0  3.6   \n",
       "\n",
       "                         PWV_err  VAOD_x  VAOD_err_x  VAOD_y  VAOD_err_y  \n",
       "time                                                                      \n",
       "2022-06-29 01:30:09.184      0.3    0.06        0.06   0.000       0.009  \n",
       "2022-06-29 01:30:52.191      0.3    0.00        0.05   0.000       0.008  \n",
       "2022-06-29 01:31:35.094      0.2    0.00        0.05   0.000       0.008  \n",
       "2022-06-29 01:48:02.467      0.2    0.00        0.05   0.000       0.009  \n",
       "2022-06-29 01:48:45.479      0.3    0.00        0.05   0.000       0.008  \n",
       "...                          ...     ...         ...     ...         ...  \n",
       "2022-07-01 05:51:27.918      0.2    0.00        0.03   0.000       0.005  \n",
       "2022-07-01 06:11:54.773      0.2    0.00        0.03   0.000       0.005  \n",
       "2022-07-01 06:12:37.759      0.1    0.10        0.03   0.003       0.004  \n",
       "2022-07-01 06:33:42.188      0.2    0.00        0.03   0.000       0.004  \n",
       "2022-07-01 06:34:25.190      0.2    0.00        0.03   0.000       0.003  \n",
       "\n",
       "[121 rows x 9 columns]"
      ]
     },
     "execution_count": 18,
     "metadata": {},
     "output_type": "execute_result"
    }
   ],
   "source": [
    "df_extract"
   ]
  },
  {
   "cell_type": "markdown",
   "id": "ea14bcd1-e890-4b43-9ce1-59491bc5e9a8",
   "metadata": {},
   "source": [
    "## Precipitable water vapor"
   ]
  },
  {
   "cell_type": "code",
   "execution_count": 19,
   "id": "89582480-fbc6-4db6-b678-b17e95bcdd67",
   "metadata": {},
   "outputs": [
    {
     "data": {
      "text/plain": [
       "<AxesSubplot:xlabel='time'>"
      ]
     },
     "execution_count": 19,
     "metadata": {},
     "output_type": "execute_result"
    },
    {
     "data": {
      "image/png": "[encoded data removed]",
      "text/plain": [
       "<Figure size 1000x400 with 1 Axes>"
      ]
     },
     "metadata": {},
     "output_type": "display_data"
    }
   ],
   "source": [
    "df_extract.plot(y='PWV',yerr=\"PWV_err\",marker='o',lw=0,color='blue',ms=5,ecolor=\"k\",elinewidth=1,capsize = 1, capthick = 1,figsize=(10,4))\n",
    "#df_extract.plot(y='PWV',yerr=\"PWV_err\",marker='o',lw=0,color='blue',ecolor=\"k\",elinewidth=1,figsize=(10,4))\n",
    "#OR \n",
    "#plt.plot(data.index, data.amount)"
   ]
  },
  {
   "cell_type": "code",
   "execution_count": 20,
   "id": "ce54817b-5f65-4420-9ae7-911209f8f20c",
   "metadata": {},
   "outputs": [],
   "source": [
    "#from datetime import datetime\n",
    "#t1 = pd.DatetimeIndex(data='2022-03-00 00:00:00', '%Y-%m-%d %H:%M:%S')\n",
    "#t2 = datetime.strptime('2022-04-00 00:00:00', '%Y-%m-%d %H:%M:%S')\n",
    "#t1 = '2022-03-01 00:00:00'\n",
    "#t2 = '2022-04-01 00:00:00'\n",
    "#mask = (df_extract.index > t1) & (df_extract.index < t2)"
   ]
  },
  {
   "cell_type": "code",
   "execution_count": 21,
   "id": "0c62528f-a7e3-49d5-bd21-48b32a089b54",
   "metadata": {},
   "outputs": [],
   "source": [
    "#df_extract_march = df_extract.loc[mask]"
   ]
  },
  {
   "cell_type": "code",
   "execution_count": 22,
   "id": "8e1d3cd6-e2c3-4195-a228-fc218bdb9520",
   "metadata": {},
   "outputs": [],
   "source": [
    "#df_extract_march.plot(y='PWV',marker='o',lw=0,color='blue',figsize=(10,3))"
   ]
  },
  {
   "cell_type": "markdown",
   "id": "48fc96f9-a8b1-41fd-b08e-edd3484f6eb2",
   "metadata": {},
   "source": [
    "## Aerosols"
   ]
  },
  {
   "cell_type": "code",
   "execution_count": 23,
   "id": "dca42eac-8c9d-4f60-ae88-9eedc5949a09",
   "metadata": {},
   "outputs": [
    {
     "data": {
      "text/plain": [
       "<AxesSubplot:xlabel='time'>"
      ]
     },
     "execution_count": 23,
     "metadata": {},
     "output_type": "execute_result"
    },
    {
     "data": {
      "image/png": "[encoded data removed]",
      "text/plain": [
       "<Figure size 1000x400 with 1 Axes>"
      ]
     },
     "metadata": {},
     "output_type": "display_data"
    }
   ],
   "source": [
    "df_extract.plot(y='VAOD_x',yerr='VAOD_err_x',marker='o',lw=0,color='blue',ms=5,figsize=(10,4),ylim=(0,.1),ecolor=\"k\",elinewidth=1,capsize = 1, capthick = 1)\n",
    "\n",
    "#OR \n",
    "#plt.plot(data.index, data.amount)"
   ]
  },
  {
   "cell_type": "markdown",
   "id": "33ef31a3-e534-4e83-bba0-6624df17441d",
   "metadata": {},
   "source": [
    "## Ozone"
   ]
  },
  {
   "cell_type": "code",
   "execution_count": 24,
   "id": "56b6c29a-4fbf-4bda-8c7c-c70978c353f4",
   "metadata": {},
   "outputs": [
    {
     "data": {
      "text/plain": [
       "<AxesSubplot:xlabel='time'>"
      ]
     },
     "execution_count": 24,
     "metadata": {},
     "output_type": "execute_result"
    },
    {
     "data": {
      "image/png": "[encoded data removed]",
      "text/plain": [
       "<Figure size 1000x400 with 1 Axes>"
      ]
     },
     "metadata": {},
     "output_type": "display_data"
    }
   ],
   "source": [
    "df_extract.plot(y='ozone',yerr=\"ozone_err\",marker='o',lw=0,ecolor=\"k\",color='blue',ms=5,elinewidth=1,capsize = 1, capthick = 1,figsize=(10,4))"
   ]
  },
  {
   "cell_type": "code",
   "execution_count": null,
   "id": "eb788e06-feab-4609-b3e9-b093611c96db",
   "metadata": {},
   "outputs": [],
   "source": []
  }
 ],
 "metadata": {
  "kernelspec": {
   "display_name": "anaconda3_py39_auxtel",
   "language": "python",
   "name": "anaconda3_py39_auxtel"
  },
  "language_info": {
   "codemirror_mode": {
    "name": "ipython",
    "version": 3
   },
   "file_extension": ".py",
   "mimetype": "text/x-python",
   "name": "python",
   "nbconvert_exporter": "python",
   "pygments_lexer": "ipython3",
   "version": "3.9.13"
  }
 },
 "nbformat": 4,
 "nbformat_minor": 5
}
