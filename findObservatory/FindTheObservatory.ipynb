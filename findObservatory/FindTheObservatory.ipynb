{
 "cells": [
  {
   "cell_type": "markdown",
   "id": "965483f5-3e45-470d-900c-b286209f27ca",
   "metadata": {},
   "source": [
    "# Find the observatory"
   ]
  },
  {
   "cell_type": "code",
   "execution_count": null,
   "id": "6283ba44-cbeb-4e5a-8b58-986346023cc9",
   "metadata": {},
   "outputs": [],
   "source": [
    "from astropy.coordinates import EarthLocation"
   ]
  },
  {
   "cell_type": "code",
   "execution_count": null,
   "id": "e710634f-7e60-4f67-90d5-7640e0674c7d",
   "metadata": {},
   "outputs": [],
   "source": [
    "EarthLocation.get_site_names()"
   ]
  },
  {
   "cell_type": "markdown",
   "id": "befb03a9-8eaf-4b21-a51c-ca8158867300",
   "metadata": {},
   "source": [
    "33°21′26″N 116°51′35″W Edit this at Wikidata"
   ]
  },
  {
   "cell_type": "code",
   "execution_count": null,
   "id": "6a18edb5-c21b-488c-a488-053c623e3150",
   "metadata": {},
   "outputs": [],
   "source": [
    "obs = EarthLocation.of_site('Palomar')"
   ]
  },
  {
   "cell_type": "code",
   "execution_count": null,
   "id": "2adf90dd-885a-42d4-8290-3d277cd26130",
   "metadata": {},
   "outputs": [],
   "source": [
    "obs.to_geodetic().lon.deg"
   ]
  },
  {
   "cell_type": "code",
   "execution_count": null,
   "id": "f741b5ec-4e23-4b77-9a17-2c4b8de39d9d",
   "metadata": {},
   "outputs": [],
   "source": [
    "obs.to_geodetic().lat.deg"
   ]
  },
  {
   "cell_type": "code",
   "execution_count": null,
   "id": "95047b83-eadc-4c40-9f0e-339f8c6ac2e6",
   "metadata": {},
   "outputs": [],
   "source": [
    "obs.height"
   ]
  },
  {
   "cell_type": "code",
   "execution_count": null,
   "id": "0323bb48-bc8c-4844-8d8a-aa5e26b5f1ba",
   "metadata": {},
   "outputs": [],
   "source": []
  }
 ],
 "metadata": {
  "kernelspec": {
   "display_name": "anaconda2025-py311",
   "language": "python",
   "name": "anaconda2025-py311"
  },
  "language_info": {
   "codemirror_mode": {
    "name": "ipython",
    "version": 3
   },
   "file_extension": ".py",
   "mimetype": "text/x-python",
   "name": "python",
   "nbconvert_exporter": "python",
   "pygments_lexer": "ipython3",
   "version": "3.11.11"
  }
 },
 "nbformat": 4,
 "nbformat_minor": 5
}
